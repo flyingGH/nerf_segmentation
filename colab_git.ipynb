{
 "cells": [
  {
   "cell_type": "code",
   "execution_count": null,
   "metadata": {},
   "outputs": [],
   "source": [
    "from google.colab import drive\n",
    "import os\n",
    "\n",
    "# set path to project folder\n",
    "# gdrive_path='/content/gdrive/MyDrive/1-university/masters/2-semester/in2390_adl4cv/nerf_segmentation/' # Luca's Path\n",
    "gdrive_path='/content/gdrive/MyDrive/Uni/adl4vc/nerf_segmentation/' # Luis' Path\n",
    "\n",
    "# mount Google Drive\n",
    "drive.mount('/content/gdrive', force_remount=True)\n",
    "\n",
    "# navigate to Google Drive folder\n",
    "os.chdir(gdrive_path)\n",
    "\n",
    "# check that we are in the right folder\n",
    "print(sorted(os.listdir()))"
   ]
  },
  {
   "cell_type": "markdown",
   "metadata": {},
   "source": [
    "Setup your git username, email and personal access token (as password), then you can clone from this notebook "
   ]
  },
  {
   "cell_type": "code",
   "execution_count": null,
   "metadata": {},
   "outputs": [],
   "source": [
    "!git config user.name \"your_username\"\n",
    "!git config user.email \"your@email.com\"\n",
    "!git config user.password \"your_password\""
   ]
  },
  {
   "cell_type": "markdown",
   "metadata": {},
   "source": [
    "Check if remote is configured correctly"
   ]
  },
  {
   "cell_type": "code",
   "execution_count": null,
   "metadata": {},
   "outputs": [],
   "source": [
    "!git remote -v"
   ]
  }
 ],
 "metadata": {
  "language_info": {
   "name": "python"
  }
 },
 "nbformat": 4,
 "nbformat_minor": 2
}
