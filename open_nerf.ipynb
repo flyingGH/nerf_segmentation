{
  "cells": [
    {
      "cell_type": "markdown",
      "metadata": {
        "id": "view-in-github",
        "colab_type": "text"
      },
      "source": [
        "<a href=\"https://colab.research.google.com/github/Luca-Wiehe/nerf_segmentation/blob/main/open_nerf.ipynb\" target=\"_parent\"><img src=\"https://colab.research.google.com/assets/colab-badge.svg\" alt=\"Open In Colab\"/></a>"
      ]
    },
    {
      "cell_type": "markdown",
      "source": [
        "# Running OpenNeRF"
      ],
      "metadata": {
        "id": "bW14QirblCde"
      }
    },
    {
      "cell_type": "code",
      "execution_count": null,
      "metadata": {
        "colab": {
          "base_uri": "https://localhost:8080/"
        },
        "id": "dHqQyxdiMpkp",
        "outputId": "615698d3-8e30-4f78-8d87-477e5aa2db1e"
      },
      "outputs": [
        {
          "output_type": "stream",
          "name": "stdout",
          "text": [
            "Mounted at /content/gdrive\n",
            "['.git', 'README.md', 'data', 'data_loader.ipynb', 'example_arrows', 'gitignore', 'open_nerf.ipynb']\n"
          ]
        }
      ],
      "source": [
        "from google.colab import drive\n",
        "import os\n",
        "\n",
        "# set path to project folder\n",
        "# gdrive_path='/content/gdrive/MyDrive/1-university/masters/2-semester/in2390_adl4cv/nerf_segmentation/' # Luca's Path\n",
        "gdrive_path='/content/gdrive/MyDrive/Uni/adl4vc/nerf_segmentation/' # Luis' Path\n",
        "\n",
        "# mount Google Drive\n",
        "drive.mount('/content/gdrive', force_remount=True)\n",
        "\n",
        "# navigate to Google Drive folder\n",
        "os.chdir(gdrive_path)\n",
        "\n",
        "# check that we are in the right folder\n",
        "print(sorted(os.listdir()))"
      ]
    },
    {
      "cell_type": "markdown",
      "source": [
        "Folder Structure in Colab:\n",
        "```\n",
        "adl4vc  \n",
        "|_ nerf_segmentation  \n",
        "    |_ data  \n",
        "        |_ lerf  \n",
        "        |_ replica  \n",
        "|_ opennerf\n",
        "```\n",
        "\n"
      ],
      "metadata": {
        "id": "mkMa8gJh6I8y"
      }
    },
    {
      "cell_type": "markdown",
      "source": [
        "Installing Requirements, building wheels for tinycudann takes a while (for me ~19 min). Note that you need to be connected to a GPU for a correct installation"
      ],
      "metadata": {
        "id": "8-DVUrDQSFZY"
      }
    },
    {
      "cell_type": "code",
      "source": [
        "!python -m pip install --upgrade pip\n",
        "!python -m pip install pytorch==2.1.2 torchvision==0.16.2 torchaudio==2.1.2 pytorch-cuda=12.1 -c pytorch -c nvidia\n",
        "!python -m pip install ninja git+https://github.com/NVlabs/tiny-cuda-nn/#subdirectory=bindings/torch"
      ],
      "metadata": {
        "id": "7zNv8UyFQh2q"
      },
      "execution_count": null,
      "outputs": []
    },
    {
      "cell_type": "markdown",
      "source": [
        "Installing OpenNerf in this directory (ca 4 min)"
      ],
      "metadata": {
        "id": "kyOmWgnkCncF"
      }
    },
    {
      "cell_type": "code",
      "source": [
        "%cd /content/gdrive/MyDrive/Uni/adl4vc/opennerf\n",
        "!python -m pip install -e .\n",
        "!ns-install-cli\n",
        "%cd /content/gdrive/MyDrive/Uni/adl4vc/nerf_segmentation"
      ],
      "metadata": {
        "id": "W_-_-74xB-sm"
      },
      "execution_count": null,
      "outputs": []
    },
    {
      "cell_type": "markdown",
      "source": [
        "Check if opennerf is in the options of the next cells outputs, this means the installation should be correct"
      ],
      "metadata": {
        "id": "4U893nXIZrb8"
      }
    },
    {
      "cell_type": "code",
      "source": [
        "!ns-train --help"
      ],
      "metadata": {
        "id": "-CUkUQt5TLn0"
      },
      "execution_count": null,
      "outputs": []
    },
    {
      "cell_type": "markdown",
      "source": [
        "Now train opennerf on the preprocessed (!) replica dataset\n",
        "\n",
        "If you do not have it on your machine already, check out the visual_data.ipynb and run the provided function to preprocess"
      ],
      "metadata": {
        "id": "5NFg37qKi3KB"
      }
    },
    {
      "cell_type": "code",
      "source": [
        "!ns-train opennerf --data /content/gdrive/MyDrive/Uni/adl4vc/nerf_segmentation/data/nerfstudio_/replica_office0"
      ],
      "metadata": {
        "id": "PQjXQPZ8ErX7"
      },
      "execution_count": null,
      "outputs": []
    },
    {
      "cell_type": "code",
      "source": [
        "#!ns-viewer --load-config /content/gdrive/MyDrive/Uni/adl4vc/nerf_segmentation/data/outputs/replica/opennerf/2024-05-10_151552/config.yml"
      ],
      "metadata": {
        "id": "fnZEwhU5E-6q"
      },
      "execution_count": null,
      "outputs": []
    }
  ],
  "metadata": {
    "language_info": {
      "name": "python"
    },
    "colab": {
      "provenance": [],
      "gpuType": "T4",
      "include_colab_link": true
    },
    "kernelspec": {
      "name": "python3",
      "display_name": "Python 3"
    },
    "accelerator": "GPU"
  },
  "nbformat": 4,
  "nbformat_minor": 0
}