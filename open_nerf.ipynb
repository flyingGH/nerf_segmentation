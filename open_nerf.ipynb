{
  "cells": [
    {
      "cell_type": "markdown",
      "metadata": {
        "id": "view-in-github",
        "colab_type": "text"
      },
      "source": [
        "<a href=\"https://colab.research.google.com/github/Luca-Wiehe/nerf_segmentation/blob/main/open_nerf.ipynb\" target=\"_parent\"><img src=\"https://colab.research.google.com/assets/colab-badge.svg\" alt=\"Open In Colab\"/></a>"
      ]
    },
    {
      "cell_type": "code",
      "execution_count": 4,
      "metadata": {
        "colab": {
          "base_uri": "https://localhost:8080/"
        },
        "id": "dHqQyxdiMpkp",
        "outputId": "ce0fdbd6-d1b0-4459-bdeb-ba01c1de0b19"
      },
      "outputs": [
        {
          "output_type": "stream",
          "name": "stdout",
          "text": [
            "Mounted at /content/gdrive\n",
            "['.git', 'README.md', 'data', 'data_loader.ipynb', 'gitignore', 'open_nerf.ipynb']\n"
          ]
        }
      ],
      "source": [
        "from google.colab import drive\n",
        "import os\n",
        "\n",
        "# set path to project folder\n",
        "# gdrive_path='/content/gdrive/MyDrive/1-university/masters/2-semester/in2390_adl4cv/nerf_segmentation/' # Luca's Path\n",
        "gdrive_path='/content/gdrive/MyDrive/Uni/adl4vc/nerf_segmentation/' # Luis' Path\n",
        "\n",
        "# mount Google Drive\n",
        "drive.mount('/content/gdrive', force_remount=True)\n",
        "\n",
        "# navigate to Google Drive folder\n",
        "os.chdir(gdrive_path)\n",
        "\n",
        "# check that we are in the right folder\n",
        "print(sorted(os.listdir()))"
      ]
    },
    {
      "cell_type": "markdown",
      "source": [
        "Folder Structure in Colab:\n",
        "```\n",
        "adl4vc  \n",
        "|_ nerf_segmentation  \n",
        "    |_ data  \n",
        "        |_ lerf  \n",
        "        |_ replica  \n",
        "|_ opennerf\n",
        "```\n",
        "\n"
      ],
      "metadata": {
        "id": "mkMa8gJh6I8y"
      }
    },
    {
      "cell_type": "markdown",
      "source": [
        "Installing Requirements, building wheels for tinycudann takes a while (for me ~19 min)"
      ],
      "metadata": {
        "id": "8-DVUrDQSFZY"
      }
    },
    {
      "cell_type": "code",
      "source": [
        "!python -m pip install --upgrade pip\n",
        "!python -m pip install pytorch==2.1.2 torchvision==0.16.2 torchaudio==2.1.2 pytorch-cuda=12.1 -c pytorch -c nvidia\n",
        "!python -m pip install ninja git+https://github.com/NVlabs/tiny-cuda-nn/#subdirectory=bindings/torch"
      ],
      "metadata": {
        "colab": {
          "base_uri": "https://localhost:8080/"
        },
        "id": "7zNv8UyFQh2q",
        "outputId": "c911dba5-5267-4894-dd03-00af5ed21214"
      },
      "execution_count": 5,
      "outputs": [
        {
          "output_type": "stream",
          "name": "stdout",
          "text": [
            "Requirement already satisfied: pip in /usr/local/lib/python3.10/dist-packages (23.1.2)\n",
            "Collecting pip\n",
            "  Downloading pip-24.0-py3-none-any.whl (2.1 MB)\n",
            "\u001b[2K     \u001b[90m━━━━━━━━━━━━━━━━━━━━━━━━━━━━━━━━━━━━━━━━\u001b[0m \u001b[32m2.1/2.1 MB\u001b[0m \u001b[31m12.4 MB/s\u001b[0m eta \u001b[36m0:00:00\u001b[0m\n",
            "\u001b[?25hInstalling collected packages: pip\n",
            "  Attempting uninstall: pip\n",
            "    Found existing installation: pip 23.1.2\n",
            "    Uninstalling pip-23.1.2:\n",
            "      Successfully uninstalled pip-23.1.2\n",
            "Successfully installed pip-24.0\n",
            "\u001b[31mERROR: Could not open requirements file: [Errno 2] No such file or directory: 'pytorch'\u001b[0m\u001b[31m\n",
            "\u001b[0mCollecting git+https://github.com/NVlabs/tiny-cuda-nn/#subdirectory=bindings/torch\n",
            "  Cloning https://github.com/NVlabs/tiny-cuda-nn/ to /tmp/pip-req-build-ducdx7t6\n",
            "  Running command git clone --filter=blob:none --quiet https://github.com/NVlabs/tiny-cuda-nn/ /tmp/pip-req-build-ducdx7t6\n",
            "  Resolved https://github.com/NVlabs/tiny-cuda-nn/ to commit 2ec562e853e6f482b5d09168705205f46358fb39\n",
            "  Running command git submodule update --init --recursive -q\n",
            "  \u001b[1;31merror\u001b[0m: \u001b[1msubprocess-exited-with-error\u001b[0m\n",
            "  \n",
            "  \u001b[31m×\u001b[0m \u001b[32mpython setup.py egg_info\u001b[0m did not run successfully.\n",
            "  \u001b[31m│\u001b[0m exit code: \u001b[1;36m1\u001b[0m\n",
            "  \u001b[31m╰─>\u001b[0m See above for output.\n",
            "  \n",
            "  \u001b[1;35mnote\u001b[0m: This error originates from a subprocess, and is likely not a problem with pip.\n",
            "  Preparing metadata (setup.py) ... \u001b[?25l\u001b[?25herror\n",
            "\u001b[1;31merror\u001b[0m: \u001b[1mmetadata-generation-failed\u001b[0m\n",
            "\n",
            "\u001b[31m×\u001b[0m Encountered error while generating package metadata.\n",
            "\u001b[31m╰─>\u001b[0m See above for output.\n",
            "\n",
            "\u001b[1;35mnote\u001b[0m: This is an issue with the package mentioned above, not pip.\n",
            "\u001b[1;36mhint\u001b[0m: See above for details.\n"
          ]
        }
      ]
    },
    {
      "cell_type": "code",
      "source": [
        "!python -m pip install open3d\n",
        "!python -m pip install nerfstudio\n",
        "!python -m pip install pyviz3d"
      ],
      "metadata": {
        "colab": {
          "base_uri": "https://localhost:8080/"
        },
        "id": "OYip5Ao1V2Gq",
        "outputId": "612bd70e-a03f-4692-db93-a7a0d49f8308"
      },
      "execution_count": 6,
      "outputs": [
        {
          "output_type": "stream",
          "name": "stdout",
          "text": [
            "Collecting open3d\n",
            "  Downloading open3d-0.18.0-cp310-cp310-manylinux_2_27_x86_64.whl.metadata (4.2 kB)\n",
            "Requirement already satisfied: numpy>=1.18.0 in /usr/local/lib/python3.10/dist-packages (from open3d) (1.25.2)\n",
            "Collecting dash>=2.6.0 (from open3d)\n",
            "  Downloading dash-2.16.1-py3-none-any.whl.metadata (10 kB)\n",
            "Requirement already satisfied: werkzeug>=2.2.3 in /usr/local/lib/python3.10/dist-packages (from open3d) (3.0.2)\n",
            "Requirement already satisfied: nbformat>=5.7.0 in /usr/local/lib/python3.10/dist-packages (from open3d) (5.10.4)\n",
            "Collecting configargparse (from open3d)\n",
            "  Downloading ConfigArgParse-1.7-py3-none-any.whl.metadata (23 kB)\n",
            "Collecting ipywidgets>=8.0.4 (from open3d)\n",
            "  Downloading ipywidgets-8.1.2-py3-none-any.whl.metadata (2.4 kB)\n",
            "Collecting addict (from open3d)\n",
            "  Downloading addict-2.4.0-py3-none-any.whl.metadata (1.0 kB)\n",
            "Requirement already satisfied: pillow>=9.3.0 in /usr/local/lib/python3.10/dist-packages (from open3d) (9.4.0)\n",
            "Requirement already satisfied: matplotlib>=3 in /usr/local/lib/python3.10/dist-packages (from open3d) (3.7.1)\n",
            "Requirement already satisfied: pandas>=1.0 in /usr/local/lib/python3.10/dist-packages (from open3d) (2.0.3)\n",
            "Requirement already satisfied: pyyaml>=5.4.1 in /usr/local/lib/python3.10/dist-packages (from open3d) (6.0.1)\n",
            "Requirement already satisfied: scikit-learn>=0.21 in /usr/local/lib/python3.10/dist-packages (from open3d) (1.2.2)\n",
            "Requirement already satisfied: tqdm in /usr/local/lib/python3.10/dist-packages (from open3d) (4.66.2)\n",
            "Collecting pyquaternion (from open3d)\n",
            "  Downloading pyquaternion-0.9.9-py3-none-any.whl.metadata (1.4 kB)\n",
            "Requirement already satisfied: Flask<3.1,>=1.0.4 in /usr/local/lib/python3.10/dist-packages (from dash>=2.6.0->open3d) (2.2.5)\n",
            "Requirement already satisfied: plotly>=5.0.0 in /usr/local/lib/python3.10/dist-packages (from dash>=2.6.0->open3d) (5.15.0)\n",
            "Collecting dash-html-components==2.0.0 (from dash>=2.6.0->open3d)\n",
            "  Downloading dash_html_components-2.0.0-py3-none-any.whl.metadata (3.8 kB)\n",
            "Collecting dash-core-components==2.0.0 (from dash>=2.6.0->open3d)\n",
            "  Downloading dash_core_components-2.0.0-py3-none-any.whl.metadata (2.9 kB)\n",
            "Collecting dash-table==5.0.0 (from dash>=2.6.0->open3d)\n",
            "  Downloading dash_table-5.0.0-py3-none-any.whl.metadata (2.4 kB)\n",
            "Requirement already satisfied: importlib-metadata in /usr/local/lib/python3.10/dist-packages (from dash>=2.6.0->open3d) (7.1.0)\n",
            "Requirement already satisfied: typing-extensions>=4.1.1 in /usr/local/lib/python3.10/dist-packages (from dash>=2.6.0->open3d) (4.11.0)\n",
            "Requirement already satisfied: requests in /usr/local/lib/python3.10/dist-packages (from dash>=2.6.0->open3d) (2.31.0)\n",
            "Collecting retrying (from dash>=2.6.0->open3d)\n",
            "  Downloading retrying-1.3.4-py3-none-any.whl.metadata (6.9 kB)\n",
            "Requirement already satisfied: nest-asyncio in /usr/local/lib/python3.10/dist-packages (from dash>=2.6.0->open3d) (1.6.0)\n",
            "Requirement already satisfied: setuptools in /usr/local/lib/python3.10/dist-packages (from dash>=2.6.0->open3d) (67.7.2)\n",
            "Collecting comm>=0.1.3 (from ipywidgets>=8.0.4->open3d)\n",
            "  Downloading comm-0.2.2-py3-none-any.whl.metadata (3.7 kB)\n",
            "Requirement already satisfied: ipython>=6.1.0 in /usr/local/lib/python3.10/dist-packages (from ipywidgets>=8.0.4->open3d) (7.34.0)\n",
            "Requirement already satisfied: traitlets>=4.3.1 in /usr/local/lib/python3.10/dist-packages (from ipywidgets>=8.0.4->open3d) (5.7.1)\n",
            "Collecting widgetsnbextension~=4.0.10 (from ipywidgets>=8.0.4->open3d)\n",
            "  Downloading widgetsnbextension-4.0.10-py3-none-any.whl.metadata (1.6 kB)\n",
            "Requirement already satisfied: jupyterlab-widgets~=3.0.10 in /usr/local/lib/python3.10/dist-packages (from ipywidgets>=8.0.4->open3d) (3.0.10)\n",
            "Requirement already satisfied: contourpy>=1.0.1 in /usr/local/lib/python3.10/dist-packages (from matplotlib>=3->open3d) (1.2.1)\n",
            "Requirement already satisfied: cycler>=0.10 in /usr/local/lib/python3.10/dist-packages (from matplotlib>=3->open3d) (0.12.1)\n",
            "Requirement already satisfied: fonttools>=4.22.0 in /usr/local/lib/python3.10/dist-packages (from matplotlib>=3->open3d) (4.51.0)\n",
            "Requirement already satisfied: kiwisolver>=1.0.1 in /usr/local/lib/python3.10/dist-packages (from matplotlib>=3->open3d) (1.4.5)\n",
            "Requirement already satisfied: packaging>=20.0 in /usr/local/lib/python3.10/dist-packages (from matplotlib>=3->open3d) (24.0)\n",
            "Requirement already satisfied: pyparsing>=2.3.1 in /usr/local/lib/python3.10/dist-packages (from matplotlib>=3->open3d) (3.1.2)\n",
            "Requirement already satisfied: python-dateutil>=2.7 in /usr/local/lib/python3.10/dist-packages (from matplotlib>=3->open3d) (2.8.2)\n",
            "Requirement already satisfied: fastjsonschema>=2.15 in /usr/local/lib/python3.10/dist-packages (from nbformat>=5.7.0->open3d) (2.19.1)\n",
            "Requirement already satisfied: jsonschema>=2.6 in /usr/local/lib/python3.10/dist-packages (from nbformat>=5.7.0->open3d) (4.19.2)\n",
            "Requirement already satisfied: jupyter-core!=5.0.*,>=4.12 in /usr/local/lib/python3.10/dist-packages (from nbformat>=5.7.0->open3d) (5.7.2)\n",
            "Requirement already satisfied: pytz>=2020.1 in /usr/local/lib/python3.10/dist-packages (from pandas>=1.0->open3d) (2023.4)\n",
            "Requirement already satisfied: tzdata>=2022.1 in /usr/local/lib/python3.10/dist-packages (from pandas>=1.0->open3d) (2024.1)\n",
            "Requirement already satisfied: scipy>=1.3.2 in /usr/local/lib/python3.10/dist-packages (from scikit-learn>=0.21->open3d) (1.11.4)\n",
            "Requirement already satisfied: joblib>=1.1.1 in /usr/local/lib/python3.10/dist-packages (from scikit-learn>=0.21->open3d) (1.4.0)\n",
            "Requirement already satisfied: threadpoolctl>=2.0.0 in /usr/local/lib/python3.10/dist-packages (from scikit-learn>=0.21->open3d) (3.4.0)\n",
            "Requirement already satisfied: MarkupSafe>=2.1.1 in /usr/local/lib/python3.10/dist-packages (from werkzeug>=2.2.3->open3d) (2.1.5)\n",
            "Requirement already satisfied: Jinja2>=3.0 in /usr/local/lib/python3.10/dist-packages (from Flask<3.1,>=1.0.4->dash>=2.6.0->open3d) (3.1.3)\n",
            "Requirement already satisfied: itsdangerous>=2.0 in /usr/local/lib/python3.10/dist-packages (from Flask<3.1,>=1.0.4->dash>=2.6.0->open3d) (2.2.0)\n",
            "Requirement already satisfied: click>=8.0 in /usr/local/lib/python3.10/dist-packages (from Flask<3.1,>=1.0.4->dash>=2.6.0->open3d) (8.1.7)\n",
            "Collecting jedi>=0.16 (from ipython>=6.1.0->ipywidgets>=8.0.4->open3d)\n",
            "  Downloading jedi-0.19.1-py2.py3-none-any.whl.metadata (22 kB)\n",
            "Requirement already satisfied: decorator in /usr/local/lib/python3.10/dist-packages (from ipython>=6.1.0->ipywidgets>=8.0.4->open3d) (4.4.2)\n",
            "Requirement already satisfied: pickleshare in /usr/local/lib/python3.10/dist-packages (from ipython>=6.1.0->ipywidgets>=8.0.4->open3d) (0.7.5)\n",
            "Requirement already satisfied: prompt-toolkit!=3.0.0,!=3.0.1,<3.1.0,>=2.0.0 in /usr/local/lib/python3.10/dist-packages (from ipython>=6.1.0->ipywidgets>=8.0.4->open3d) (3.0.43)\n",
            "Requirement already satisfied: pygments in /usr/local/lib/python3.10/dist-packages (from ipython>=6.1.0->ipywidgets>=8.0.4->open3d) (2.16.1)\n",
            "Requirement already satisfied: backcall in /usr/local/lib/python3.10/dist-packages (from ipython>=6.1.0->ipywidgets>=8.0.4->open3d) (0.2.0)\n",
            "Requirement already satisfied: matplotlib-inline in /usr/local/lib/python3.10/dist-packages (from ipython>=6.1.0->ipywidgets>=8.0.4->open3d) (0.1.7)\n",
            "Requirement already satisfied: pexpect>4.3 in /usr/local/lib/python3.10/dist-packages (from ipython>=6.1.0->ipywidgets>=8.0.4->open3d) (4.9.0)\n",
            "Requirement already satisfied: attrs>=22.2.0 in /usr/local/lib/python3.10/dist-packages (from jsonschema>=2.6->nbformat>=5.7.0->open3d) (23.2.0)\n",
            "Requirement already satisfied: jsonschema-specifications>=2023.03.6 in /usr/local/lib/python3.10/dist-packages (from jsonschema>=2.6->nbformat>=5.7.0->open3d) (2023.12.1)\n",
            "Requirement already satisfied: referencing>=0.28.4 in /usr/local/lib/python3.10/dist-packages (from jsonschema>=2.6->nbformat>=5.7.0->open3d) (0.35.0)\n",
            "Requirement already satisfied: rpds-py>=0.7.1 in /usr/local/lib/python3.10/dist-packages (from jsonschema>=2.6->nbformat>=5.7.0->open3d) (0.18.0)\n",
            "Requirement already satisfied: platformdirs>=2.5 in /usr/local/lib/python3.10/dist-packages (from jupyter-core!=5.0.*,>=4.12->nbformat>=5.7.0->open3d) (4.2.1)\n",
            "Requirement already satisfied: tenacity>=6.2.0 in /usr/local/lib/python3.10/dist-packages (from plotly>=5.0.0->dash>=2.6.0->open3d) (8.2.3)\n",
            "Requirement already satisfied: six>=1.5 in /usr/local/lib/python3.10/dist-packages (from python-dateutil>=2.7->matplotlib>=3->open3d) (1.16.0)\n",
            "Requirement already satisfied: zipp>=0.5 in /usr/local/lib/python3.10/dist-packages (from importlib-metadata->dash>=2.6.0->open3d) (3.18.1)\n",
            "Requirement already satisfied: charset-normalizer<4,>=2 in /usr/local/lib/python3.10/dist-packages (from requests->dash>=2.6.0->open3d) (3.3.2)\n",
            "Requirement already satisfied: idna<4,>=2.5 in /usr/local/lib/python3.10/dist-packages (from requests->dash>=2.6.0->open3d) (3.7)\n",
            "Requirement already satisfied: urllib3<3,>=1.21.1 in /usr/local/lib/python3.10/dist-packages (from requests->dash>=2.6.0->open3d) (2.0.7)\n",
            "Requirement already satisfied: certifi>=2017.4.17 in /usr/local/lib/python3.10/dist-packages (from requests->dash>=2.6.0->open3d) (2024.2.2)\n",
            "Requirement already satisfied: parso<0.9.0,>=0.8.3 in /usr/local/lib/python3.10/dist-packages (from jedi>=0.16->ipython>=6.1.0->ipywidgets>=8.0.4->open3d) (0.8.4)\n",
            "Requirement already satisfied: ptyprocess>=0.5 in /usr/local/lib/python3.10/dist-packages (from pexpect>4.3->ipython>=6.1.0->ipywidgets>=8.0.4->open3d) (0.7.0)\n",
            "Requirement already satisfied: wcwidth in /usr/local/lib/python3.10/dist-packages (from prompt-toolkit!=3.0.0,!=3.0.1,<3.1.0,>=2.0.0->ipython>=6.1.0->ipywidgets>=8.0.4->open3d) (0.2.13)\n",
            "Downloading open3d-0.18.0-cp310-cp310-manylinux_2_27_x86_64.whl (399.7 MB)\n",
            "\u001b[2K   \u001b[90m━━━━━━━━━━━━━━━━━━━━━━━━━━━━━━━━━━━━━━━━\u001b[0m \u001b[32m399.7/399.7 MB\u001b[0m \u001b[31m3.6 MB/s\u001b[0m eta \u001b[36m0:00:00\u001b[0m\n",
            "\u001b[?25hDownloading dash-2.16.1-py3-none-any.whl (10.2 MB)\n",
            "\u001b[2K   \u001b[90m━━━━━━━━━━━━━━━━━━━━━━━━━━━━━━━━━━━━━━━━\u001b[0m \u001b[32m10.2/10.2 MB\u001b[0m \u001b[31m72.4 MB/s\u001b[0m eta \u001b[36m0:00:00\u001b[0m\n",
            "\u001b[?25hDownloading dash_core_components-2.0.0-py3-none-any.whl (3.8 kB)\n",
            "Downloading dash_html_components-2.0.0-py3-none-any.whl (4.1 kB)\n",
            "Downloading dash_table-5.0.0-py3-none-any.whl (3.9 kB)\n",
            "Downloading ipywidgets-8.1.2-py3-none-any.whl (139 kB)\n",
            "\u001b[2K   \u001b[90m━━━━━━━━━━━━━━━━━━━━━━━━━━━━━━━━━━━━━━━━\u001b[0m \u001b[32m139.4/139.4 kB\u001b[0m \u001b[31m9.8 MB/s\u001b[0m eta \u001b[36m0:00:00\u001b[0m\n",
            "\u001b[?25hDownloading addict-2.4.0-py3-none-any.whl (3.8 kB)\n",
            "Downloading ConfigArgParse-1.7-py3-none-any.whl (25 kB)\n",
            "Downloading pyquaternion-0.9.9-py3-none-any.whl (14 kB)\n",
            "Downloading comm-0.2.2-py3-none-any.whl (7.2 kB)\n",
            "Downloading widgetsnbextension-4.0.10-py3-none-any.whl (2.3 MB)\n",
            "\u001b[2K   \u001b[90m━━━━━━━━━━━━━━━━━━━━━━━━━━━━━━━━━━━━━━━━\u001b[0m \u001b[32m2.3/2.3 MB\u001b[0m \u001b[31m51.9 MB/s\u001b[0m eta \u001b[36m0:00:00\u001b[0m\n",
            "\u001b[?25hDownloading retrying-1.3.4-py3-none-any.whl (11 kB)\n",
            "Downloading jedi-0.19.1-py2.py3-none-any.whl (1.6 MB)\n",
            "\u001b[2K   \u001b[90m━━━━━━━━━━━━━━━━━━━━━━━━━━━━━━━━━━━━━━━━\u001b[0m \u001b[32m1.6/1.6 MB\u001b[0m \u001b[31m52.1 MB/s\u001b[0m eta \u001b[36m0:00:00\u001b[0m\n",
            "\u001b[?25hInstalling collected packages: dash-table, dash-html-components, dash-core-components, addict, widgetsnbextension, retrying, pyquaternion, jedi, configargparse, comm, ipywidgets, dash, open3d\n",
            "  Attempting uninstall: widgetsnbextension\n",
            "    Found existing installation: widgetsnbextension 3.6.6\n",
            "    Uninstalling widgetsnbextension-3.6.6:\n",
            "      Successfully uninstalled widgetsnbextension-3.6.6\n",
            "  Attempting uninstall: ipywidgets\n",
            "    Found existing installation: ipywidgets 7.7.1\n",
            "    Uninstalling ipywidgets-7.7.1:\n",
            "      Successfully uninstalled ipywidgets-7.7.1\n",
            "Successfully installed addict-2.4.0 comm-0.2.2 configargparse-1.7 dash-2.16.1 dash-core-components-2.0.0 dash-html-components-2.0.0 dash-table-5.0.0 ipywidgets-8.1.2 jedi-0.19.1 open3d-0.18.0 pyquaternion-0.9.9 retrying-1.3.4 widgetsnbextension-4.0.10\n",
            "\u001b[33mWARNING: Running pip as the 'root' user can result in broken permissions and conflicting behaviour with the system package manager. It is recommended to use a virtual environment instead: https://pip.pypa.io/warnings/venv\u001b[0m\u001b[33m\n",
            "\u001b[0mCollecting nerfstudio\n",
            "  Downloading nerfstudio-1.0.3-py3-none-any.whl.metadata (23 kB)\n",
            "Requirement already satisfied: appdirs>=1.4 in /usr/local/lib/python3.10/dist-packages (from nerfstudio) (1.4.4)\n",
            "Collecting av>=9.2.0 (from nerfstudio)\n",
            "  Downloading av-12.0.0-cp310-cp310-manylinux_2_17_x86_64.manylinux2014_x86_64.whl.metadata (4.6 kB)\n",
            "Collecting awscli>=1.31.10 (from nerfstudio)\n",
            "  Downloading awscli-1.32.95-py3-none-any.whl.metadata (11 kB)\n",
            "Collecting comet-ml>=3.33.8 (from nerfstudio)\n",
            "  Downloading comet_ml-3.41.0-py3-none-any.whl.metadata (4.0 kB)\n",
            "Requirement already satisfied: cryptography>=38 in /usr/local/lib/python3.10/dist-packages (from nerfstudio) (42.0.5)\n",
            "Collecting tyro>=0.6.6 (from nerfstudio)\n",
            "  Downloading tyro-0.8.3-py3-none-any.whl.metadata (7.9 kB)\n",
            "Requirement already satisfied: gdown>=4.6.0 in /usr/local/lib/python3.10/dist-packages (from nerfstudio) (5.1.0)\n",
            "Collecting ninja>=1.10 (from nerfstudio)\n",
            "  Downloading ninja-1.11.1.1-py2.py3-none-manylinux1_x86_64.manylinux_2_5_x86_64.whl.metadata (5.3 kB)\n",
            "Requirement already satisfied: h5py>=2.9.0 in /usr/local/lib/python3.10/dist-packages (from nerfstudio) (3.9.0)\n",
            "Requirement already satisfied: imageio>=2.21.1 in /usr/local/lib/python3.10/dist-packages (from nerfstudio) (2.31.6)\n",
            "Requirement already satisfied: ipywidgets>=7.6 in /usr/local/lib/python3.10/dist-packages (from nerfstudio) (8.1.2)\n",
            "Collecting jaxtyping>=0.2.15 (from nerfstudio)\n",
            "  Downloading jaxtyping-0.2.28-py3-none-any.whl.metadata (6.4 kB)\n",
            "Collecting jupyterlab>=3.3.4 (from nerfstudio)\n",
            "  Downloading jupyterlab-4.1.8-py3-none-any.whl.metadata (16 kB)\n",
            "Requirement already satisfied: matplotlib>=3.6.0 in /usr/local/lib/python3.10/dist-packages (from nerfstudio) (3.7.1)\n",
            "Collecting mediapy>=1.1.0 (from nerfstudio)\n",
            "  Downloading mediapy-1.2.0-py3-none-any.whl.metadata (4.8 kB)\n",
            "Requirement already satisfied: msgpack>=1.0.4 in /usr/local/lib/python3.10/dist-packages (from nerfstudio) (1.0.8)\n",
            "Collecting msgpack-numpy>=0.4.8 (from nerfstudio)\n",
            "  Downloading msgpack_numpy-0.4.8-py2.py3-none-any.whl.metadata (5.0 kB)\n",
            "Collecting nerfacc==0.5.2 (from nerfstudio)\n",
            "  Downloading nerfacc-0.5.2-py3-none-any.whl.metadata (877 bytes)\n",
            "Requirement already satisfied: open3d>=0.16.0 in /usr/local/lib/python3.10/dist-packages (from nerfstudio) (0.18.0)\n",
            "Requirement already satisfied: opencv-python==4.8.0.76 in /usr/local/lib/python3.10/dist-packages (from nerfstudio) (4.8.0.76)\n",
            "Collecting Pillow>=10.3.0 (from nerfstudio)\n",
            "  Downloading pillow-10.3.0-cp310-cp310-manylinux_2_28_x86_64.whl.metadata (9.2 kB)\n",
            "Requirement already satisfied: plotly>=5.7.0 in /usr/local/lib/python3.10/dist-packages (from nerfstudio) (5.15.0)\n",
            "Requirement already satisfied: protobuf!=3.20.0,<=3.20.3 in /usr/local/lib/python3.10/dist-packages (from nerfstudio) (3.20.3)\n",
            "Collecting pyngrok>=5.1.0 (from nerfstudio)\n",
            "  Downloading pyngrok-7.1.6-py3-none-any.whl.metadata (7.4 kB)\n",
            "Collecting python-socketio>=5.7.1 (from nerfstudio)\n",
            "  Downloading python_socketio-5.11.2-py3-none-any.whl.metadata (3.2 kB)\n",
            "Requirement already satisfied: pyquaternion>=0.9.9 in /usr/local/lib/python3.10/dist-packages (from nerfstudio) (0.9.9)\n",
            "Requirement already satisfied: requests in /usr/local/lib/python3.10/dist-packages (from nerfstudio) (2.31.0)\n",
            "Requirement already satisfied: rich>=12.5.1 in /usr/local/lib/python3.10/dist-packages (from nerfstudio) (13.7.1)\n",
            "Requirement already satisfied: scikit-image>=0.19.3 in /usr/local/lib/python3.10/dist-packages (from nerfstudio) (0.19.3)\n",
            "Collecting splines==0.3.0 (from nerfstudio)\n",
            "  Downloading splines-0.3.0-py3-none-any.whl.metadata (1.5 kB)\n",
            "Requirement already satisfied: tensorboard>=2.13.0 in /usr/local/lib/python3.10/dist-packages (from nerfstudio) (2.15.2)\n",
            "Requirement already satisfied: torch>=1.13.1 in /usr/local/lib/python3.10/dist-packages (from nerfstudio) (2.2.1+cu121)\n",
            "Requirement already satisfied: torchvision>=0.14.1 in /usr/local/lib/python3.10/dist-packages (from nerfstudio) (0.17.1+cu121)\n",
            "Collecting torchmetrics>=1.0.1 (from torchmetrics[image]>=1.0.1->nerfstudio)\n",
            "  Downloading torchmetrics-1.3.2-py3-none-any.whl.metadata (19 kB)\n",
            "Requirement already satisfied: typing-extensions>=4.4.0 in /usr/local/lib/python3.10/dist-packages (from nerfstudio) (4.11.0)\n",
            "Collecting viser==0.1.26 (from nerfstudio)\n",
            "  Downloading viser-0.1.26-py3-none-any.whl.metadata (4.7 kB)\n",
            "Collecting nuscenes-devkit>=1.1.1 (from nerfstudio)\n",
            "  Downloading nuscenes_devkit-1.1.11-py3-none-any.whl.metadata (15 kB)\n",
            "Collecting wandb>=0.13.3 (from nerfstudio)\n",
            "  Downloading wandb-0.16.6-py3-none-any.whl.metadata (10 kB)\n",
            "Collecting xatlas (from nerfstudio)\n",
            "  Downloading xatlas-0.0.9-cp310-cp310-manylinux_2_17_x86_64.manylinux2014_x86_64.whl.metadata (4.9 kB)\n",
            "Collecting trimesh>=3.20.2 (from nerfstudio)\n",
            "  Downloading trimesh-4.3.2-py3-none-any.whl.metadata (18 kB)\n",
            "Collecting timm==0.6.7 (from nerfstudio)\n",
            "  Downloading timm-0.6.7-py3-none-any.whl.metadata (33 kB)\n",
            "Collecting gsplat>=0.1.9 (from nerfstudio)\n",
            "  Downloading gsplat-0.1.11-py3-none-any.whl.metadata (955 bytes)\n",
            "Collecting pytorch-msssim (from nerfstudio)\n",
            "  Downloading pytorch_msssim-1.0.0-py3-none-any.whl.metadata (8.0 kB)\n",
            "Collecting pathos (from nerfstudio)\n",
            "  Downloading pathos-0.3.2-py3-none-any.whl.metadata (11 kB)\n",
            "Requirement already satisfied: packaging in /usr/local/lib/python3.10/dist-packages (from nerfstudio) (24.0)\n",
            "Collecting rawpy>=0.18.1 (from nerfstudio)\n",
            "  Downloading rawpy-0.20.0-cp310-cp310-manylinux_2_17_x86_64.manylinux2014_x86_64.whl.metadata (6.0 kB)\n",
            "Collecting pymeshlab>=2022.2.post2 (from nerfstudio)\n",
            "  Downloading pymeshlab-2023.12.post1-cp310-cp310-manylinux_2_31_x86_64.whl.metadata (3.7 kB)\n",
            "Requirement already satisfied: numpy>=1.21.2 in /usr/local/lib/python3.10/dist-packages (from opencv-python==4.8.0.76->nerfstudio) (1.25.2)\n",
            "Collecting websockets>=10.4 (from viser==0.1.26->nerfstudio)\n",
            "  Downloading websockets-12.0-cp310-cp310-manylinux_2_5_x86_64.manylinux1_x86_64.manylinux_2_17_x86_64.manylinux2014_x86_64.whl.metadata (6.6 kB)\n",
            "Collecting pyliblzfse>=0.4.1 (from viser==0.1.26->nerfstudio)\n",
            "  Downloading pyliblzfse-0.4.1.tar.gz (47 kB)\n",
            "\u001b[2K     \u001b[90m━━━━━━━━━━━━━━━━━━━━━━━━━━━━━━━━━━━━━━━━\u001b[0m \u001b[32m47.7/47.7 kB\u001b[0m \u001b[31m3.8 MB/s\u001b[0m eta \u001b[36m0:00:00\u001b[0m\n",
            "\u001b[?25h  Preparing metadata (setup.py) ... \u001b[?25l\u001b[?25hdone\n",
            "Requirement already satisfied: scipy>=1.7.3 in /usr/local/lib/python3.10/dist-packages (from viser==0.1.26->nerfstudio) (1.11.4)\n",
            "Requirement already satisfied: tqdm>=4.0.0 in /usr/local/lib/python3.10/dist-packages (from viser==0.1.26->nerfstudio) (4.66.2)\n",
            "Collecting nodeenv>=1.8.0 (from viser==0.1.26->nerfstudio)\n",
            "  Downloading nodeenv-1.8.0-py2.py3-none-any.whl.metadata (21 kB)\n",
            "Requirement already satisfied: psutil>=5.9.5 in /usr/local/lib/python3.10/dist-packages (from viser==0.1.26->nerfstudio) (5.9.5)\n",
            "Collecting yourdfpy>=0.0.53 (from viser==0.1.26->nerfstudio)\n",
            "  Downloading yourdfpy-0.0.56-py3-none-any.whl.metadata (9.1 kB)\n",
            "Collecting botocore==1.34.95 (from awscli>=1.31.10->nerfstudio)\n",
            "  Downloading botocore-1.34.95-py3-none-any.whl.metadata (5.7 kB)\n",
            "Collecting docutils<0.17,>=0.10 (from awscli>=1.31.10->nerfstudio)\n",
            "  Downloading docutils-0.16-py2.py3-none-any.whl.metadata (2.7 kB)\n",
            "Collecting s3transfer<0.11.0,>=0.10.0 (from awscli>=1.31.10->nerfstudio)\n",
            "  Downloading s3transfer-0.10.1-py3-none-any.whl.metadata (1.7 kB)\n",
            "Requirement already satisfied: PyYAML<6.1,>=3.10 in /usr/local/lib/python3.10/dist-packages (from awscli>=1.31.10->nerfstudio) (6.0.1)\n",
            "Collecting colorama<0.4.7,>=0.2.5 (from awscli>=1.31.10->nerfstudio)\n",
            "  Downloading colorama-0.4.6-py2.py3-none-any.whl.metadata (17 kB)\n",
            "Collecting rsa<4.8,>=3.1.2 (from awscli>=1.31.10->nerfstudio)\n",
            "  Downloading rsa-4.7.2-py3-none-any.whl.metadata (3.6 kB)\n",
            "Collecting jmespath<2.0.0,>=0.7.1 (from botocore==1.34.95->awscli>=1.31.10->nerfstudio)\n",
            "  Downloading jmespath-1.0.1-py3-none-any.whl.metadata (7.6 kB)\n",
            "Requirement already satisfied: python-dateutil<3.0.0,>=2.1 in /usr/local/lib/python3.10/dist-packages (from botocore==1.34.95->awscli>=1.31.10->nerfstudio) (2.8.2)\n",
            "Requirement already satisfied: urllib3!=2.2.0,<3,>=1.25.4 in /usr/local/lib/python3.10/dist-packages (from botocore==1.34.95->awscli>=1.31.10->nerfstudio) (2.0.7)\n",
            "Collecting everett<3.2.0,>=1.0.1 (from everett[ini]<3.2.0,>=1.0.1->comet-ml>=3.33.8->nerfstudio)\n",
            "  Downloading everett-3.1.0-py2.py3-none-any.whl.metadata (17 kB)\n",
            "Requirement already satisfied: jsonschema!=3.1.0,>=2.6.0 in /usr/local/lib/python3.10/dist-packages (from comet-ml>=3.33.8->nerfstudio) (4.19.2)\n",
            "Collecting python-box<7.0.0 (from comet-ml>=3.33.8->nerfstudio)\n",
            "  Downloading python_box-6.1.0-cp310-cp310-manylinux_2_17_x86_64.manylinux2014_x86_64.whl.metadata (7.8 kB)\n",
            "Collecting requests-toolbelt>=0.8.0 (from comet-ml>=3.33.8->nerfstudio)\n",
            "  Downloading requests_toolbelt-1.0.0-py2.py3-none-any.whl.metadata (14 kB)\n",
            "Collecting semantic-version>=2.8.0 (from comet-ml>=3.33.8->nerfstudio)\n",
            "  Downloading semantic_version-2.10.0-py2.py3-none-any.whl.metadata (9.7 kB)\n",
            "Collecting sentry-sdk>=1.1.0 (from comet-ml>=3.33.8->nerfstudio)\n",
            "  Downloading sentry_sdk-2.0.1-py2.py3-none-any.whl.metadata (9.9 kB)\n",
            "Collecting simplejson (from comet-ml>=3.33.8->nerfstudio)\n",
            "  Downloading simplejson-3.19.2-cp310-cp310-manylinux_2_5_x86_64.manylinux1_x86_64.manylinux_2_17_x86_64.manylinux2014_x86_64.whl.metadata (3.1 kB)\n",
            "Requirement already satisfied: six in /usr/local/lib/python3.10/dist-packages (from comet-ml>=3.33.8->nerfstudio) (1.16.0)\n",
            "Collecting websocket-client<1.4.0,>=0.55.0 (from comet-ml>=3.33.8->nerfstudio)\n",
            "  Downloading websocket_client-1.3.3-py3-none-any.whl.metadata (6.9 kB)\n",
            "Requirement already satisfied: wrapt>=1.11.2 in /usr/local/lib/python3.10/dist-packages (from comet-ml>=3.33.8->nerfstudio) (1.14.1)\n",
            "Collecting wurlitzer>=1.0.2 (from comet-ml>=3.33.8->nerfstudio)\n",
            "  Downloading wurlitzer-3.1.0-py3-none-any.whl.metadata (2.5 kB)\n",
            "Collecting dulwich!=0.20.33,>=0.20.6 (from comet-ml>=3.33.8->nerfstudio)\n",
            "  Downloading dulwich-0.22.1-cp310-cp310-manylinux_2_17_x86_64.manylinux2014_x86_64.whl.metadata (4.4 kB)\n",
            "Requirement already satisfied: cffi>=1.12 in /usr/local/lib/python3.10/dist-packages (from cryptography>=38->nerfstudio) (1.16.0)\n",
            "Requirement already satisfied: beautifulsoup4 in /usr/local/lib/python3.10/dist-packages (from gdown>=4.6.0->nerfstudio) (4.12.3)\n",
            "Requirement already satisfied: filelock in /usr/local/lib/python3.10/dist-packages (from gdown>=4.6.0->nerfstudio) (3.13.4)\n",
            "INFO: pip is looking at multiple versions of imageio to determine which version is compatible with other requirements. This could take a while.\n",
            "Collecting imageio>=2.21.1 (from nerfstudio)\n",
            "  Downloading imageio-2.34.1-py3-none-any.whl.metadata (4.9 kB)\n",
            "Requirement already satisfied: comm>=0.1.3 in /usr/local/lib/python3.10/dist-packages (from ipywidgets>=7.6->nerfstudio) (0.2.2)\n",
            "Requirement already satisfied: ipython>=6.1.0 in /usr/local/lib/python3.10/dist-packages (from ipywidgets>=7.6->nerfstudio) (7.34.0)\n",
            "Requirement already satisfied: traitlets>=4.3.1 in /usr/local/lib/python3.10/dist-packages (from ipywidgets>=7.6->nerfstudio) (5.7.1)\n",
            "Requirement already satisfied: widgetsnbextension~=4.0.10 in /usr/local/lib/python3.10/dist-packages (from ipywidgets>=7.6->nerfstudio) (4.0.10)\n",
            "Requirement already satisfied: jupyterlab-widgets~=3.0.10 in /usr/local/lib/python3.10/dist-packages (from ipywidgets>=7.6->nerfstudio) (3.0.10)\n",
            "Collecting typeguard==2.13.3 (from jaxtyping>=0.2.15->nerfstudio)\n",
            "  Downloading typeguard-2.13.3-py3-none-any.whl.metadata (3.6 kB)\n",
            "Collecting async-lru>=1.0.0 (from jupyterlab>=3.3.4->nerfstudio)\n",
            "  Downloading async_lru-2.0.4-py3-none-any.whl.metadata (4.5 kB)\n",
            "Collecting httpx>=0.25.0 (from jupyterlab>=3.3.4->nerfstudio)\n",
            "  Downloading httpx-0.27.0-py3-none-any.whl.metadata (7.2 kB)\n",
            "Collecting ipykernel>=6.5.0 (from jupyterlab>=3.3.4->nerfstudio)\n",
            "  Downloading ipykernel-6.29.4-py3-none-any.whl.metadata (6.3 kB)\n",
            "Requirement already satisfied: jinja2>=3.0.3 in /usr/local/lib/python3.10/dist-packages (from jupyterlab>=3.3.4->nerfstudio) (3.1.3)\n",
            "Requirement already satisfied: jupyter-core in /usr/local/lib/python3.10/dist-packages (from jupyterlab>=3.3.4->nerfstudio) (5.7.2)\n",
            "Collecting jupyter-lsp>=2.0.0 (from jupyterlab>=3.3.4->nerfstudio)\n",
            "  Downloading jupyter_lsp-2.2.5-py3-none-any.whl.metadata (1.8 kB)\n",
            "Collecting jupyter-server<3,>=2.4.0 (from jupyterlab>=3.3.4->nerfstudio)\n",
            "  Downloading jupyter_server-2.14.0-py3-none-any.whl.metadata (8.4 kB)\n",
            "Collecting jupyterlab-server<3,>=2.27.1 (from jupyterlab>=3.3.4->nerfstudio)\n",
            "  Downloading jupyterlab_server-2.27.1-py3-none-any.whl.metadata (5.9 kB)\n",
            "Requirement already satisfied: notebook-shim>=0.2 in /usr/local/lib/python3.10/dist-packages (from jupyterlab>=3.3.4->nerfstudio) (0.2.4)\n",
            "Requirement already satisfied: tomli>=1.2.2 in /usr/local/lib/python3.10/dist-packages (from jupyterlab>=3.3.4->nerfstudio) (2.0.1)\n",
            "Requirement already satisfied: tornado>=6.2.0 in /usr/local/lib/python3.10/dist-packages (from jupyterlab>=3.3.4->nerfstudio) (6.3.3)\n",
            "Requirement already satisfied: contourpy>=1.0.1 in /usr/local/lib/python3.10/dist-packages (from matplotlib>=3.6.0->nerfstudio) (1.2.1)\n",
            "Requirement already satisfied: cycler>=0.10 in /usr/local/lib/python3.10/dist-packages (from matplotlib>=3.6.0->nerfstudio) (0.12.1)\n",
            "Requirement already satisfied: fonttools>=4.22.0 in /usr/local/lib/python3.10/dist-packages (from matplotlib>=3.6.0->nerfstudio) (4.51.0)\n",
            "Requirement already satisfied: kiwisolver>=1.0.1 in /usr/local/lib/python3.10/dist-packages (from matplotlib>=3.6.0->nerfstudio) (1.4.5)\n",
            "Requirement already satisfied: pyparsing>=2.3.1 in /usr/local/lib/python3.10/dist-packages (from matplotlib>=3.6.0->nerfstudio) (3.1.2)\n",
            "Requirement already satisfied: cachetools in /usr/local/lib/python3.10/dist-packages (from nuscenes-devkit>=1.1.1->nerfstudio) (5.3.3)\n",
            "Collecting descartes (from nuscenes-devkit>=1.1.1->nerfstudio)\n",
            "  Downloading descartes-1.1.0-py3-none-any.whl.metadata (2.4 kB)\n",
            "Collecting fire (from nuscenes-devkit>=1.1.1->nerfstudio)\n",
            "  Downloading fire-0.6.0.tar.gz (88 kB)\n",
            "\u001b[2K     \u001b[90m━━━━━━━━━━━━━━━━━━━━━━━━━━━━━━━━━━━━━━━━\u001b[0m \u001b[32m88.4/88.4 kB\u001b[0m \u001b[31m7.1 MB/s\u001b[0m eta \u001b[36m0:00:00\u001b[0m\n",
            "\u001b[?25h  Preparing metadata (setup.py) ... \u001b[?25l\u001b[?25hdone\n",
            "INFO: pip is looking at multiple versions of nuscenes-devkit to determine which version is compatible with other requirements. This could take a while.\n",
            "Collecting nuscenes-devkit>=1.1.1 (from nerfstudio)\n",
            "  Downloading nuscenes_devkit-1.1.10-py3-none-any.whl.metadata (15 kB)\n",
            "Collecting jupyter (from nuscenes-devkit>=1.1.1->nerfstudio)\n",
            "  Downloading jupyter-1.0.0-py2.py3-none-any.whl.metadata (995 bytes)\n",
            "Collecting nuscenes-devkit>=1.1.1 (from nerfstudio)\n",
            "  Downloading nuscenes_devkit-1.1.9-py3-none-any.whl.metadata (14 kB)\n",
            "Requirement already satisfied: scikit-learn in /usr/local/lib/python3.10/dist-packages (from nuscenes-devkit>=1.1.1->nerfstudio) (1.2.2)\n",
            "Requirement already satisfied: Shapely in /usr/local/lib/python3.10/dist-packages (from nuscenes-devkit>=1.1.1->nerfstudio) (2.0.4)\n",
            "Requirement already satisfied: pycocotools>=2.0.1 in /usr/local/lib/python3.10/dist-packages (from nuscenes-devkit>=1.1.1->nerfstudio) (2.0.7)\n",
            "Requirement already satisfied: dash>=2.6.0 in /usr/local/lib/python3.10/dist-packages (from open3d>=0.16.0->nerfstudio) (2.16.1)\n",
            "Requirement already satisfied: werkzeug>=2.2.3 in /usr/local/lib/python3.10/dist-packages (from open3d>=0.16.0->nerfstudio) (3.0.2)\n",
            "Requirement already satisfied: nbformat>=5.7.0 in /usr/local/lib/python3.10/dist-packages (from open3d>=0.16.0->nerfstudio) (5.10.4)\n",
            "Requirement already satisfied: configargparse in /usr/local/lib/python3.10/dist-packages (from open3d>=0.16.0->nerfstudio) (1.7)\n",
            "Requirement already satisfied: addict in /usr/local/lib/python3.10/dist-packages (from open3d>=0.16.0->nerfstudio) (2.4.0)\n",
            "Requirement already satisfied: pandas>=1.0 in /usr/local/lib/python3.10/dist-packages (from open3d>=0.16.0->nerfstudio) (2.0.3)\n",
            "Requirement already satisfied: tenacity>=6.2.0 in /usr/local/lib/python3.10/dist-packages (from plotly>=5.7.0->nerfstudio) (8.2.3)\n",
            "Requirement already satisfied: bidict>=0.21.0 in /usr/local/lib/python3.10/dist-packages (from python-socketio>=5.7.1->nerfstudio) (0.23.1)\n",
            "Collecting python-engineio>=4.8.0 (from python-socketio>=5.7.1->nerfstudio)\n",
            "  Downloading python_engineio-4.9.0-py3-none-any.whl.metadata (2.2 kB)\n",
            "Requirement already satisfied: charset-normalizer<4,>=2 in /usr/local/lib/python3.10/dist-packages (from requests->nerfstudio) (3.3.2)\n",
            "Requirement already satisfied: idna<4,>=2.5 in /usr/local/lib/python3.10/dist-packages (from requests->nerfstudio) (3.7)\n",
            "Requirement already satisfied: certifi>=2017.4.17 in /usr/local/lib/python3.10/dist-packages (from requests->nerfstudio) (2024.2.2)\n",
            "Requirement already satisfied: markdown-it-py>=2.2.0 in /usr/local/lib/python3.10/dist-packages (from rich>=12.5.1->nerfstudio) (3.0.0)\n",
            "Requirement already satisfied: pygments<3.0.0,>=2.13.0 in /usr/local/lib/python3.10/dist-packages (from rich>=12.5.1->nerfstudio) (2.16.1)\n",
            "Requirement already satisfied: networkx>=2.2 in /usr/local/lib/python3.10/dist-packages (from scikit-image>=0.19.3->nerfstudio) (3.3)\n",
            "Requirement already satisfied: tifffile>=2019.7.26 in /usr/local/lib/python3.10/dist-packages (from scikit-image>=0.19.3->nerfstudio) (2024.4.24)\n",
            "Requirement already satisfied: PyWavelets>=1.1.1 in /usr/local/lib/python3.10/dist-packages (from scikit-image>=0.19.3->nerfstudio) (1.6.0)\n",
            "Requirement already satisfied: absl-py>=0.4 in /usr/local/lib/python3.10/dist-packages (from tensorboard>=2.13.0->nerfstudio) (1.4.0)\n",
            "Requirement already satisfied: grpcio>=1.48.2 in /usr/local/lib/python3.10/dist-packages (from tensorboard>=2.13.0->nerfstudio) (1.62.2)\n",
            "Requirement already satisfied: google-auth<3,>=1.6.3 in /usr/local/lib/python3.10/dist-packages (from tensorboard>=2.13.0->nerfstudio) (2.27.0)\n",
            "Requirement already satisfied: google-auth-oauthlib<2,>=0.5 in /usr/local/lib/python3.10/dist-packages (from tensorboard>=2.13.0->nerfstudio) (1.2.0)\n",
            "Requirement already satisfied: markdown>=2.6.8 in /usr/local/lib/python3.10/dist-packages (from tensorboard>=2.13.0->nerfstudio) (3.6)\n",
            "Requirement already satisfied: setuptools>=41.0.0 in /usr/local/lib/python3.10/dist-packages (from tensorboard>=2.13.0->nerfstudio) (67.7.2)\n",
            "Requirement already satisfied: tensorboard-data-server<0.8.0,>=0.7.0 in /usr/local/lib/python3.10/dist-packages (from tensorboard>=2.13.0->nerfstudio) (0.7.2)\n",
            "Requirement already satisfied: sympy in /usr/local/lib/python3.10/dist-packages (from torch>=1.13.1->nerfstudio) (1.12)\n",
            "Requirement already satisfied: fsspec in /usr/local/lib/python3.10/dist-packages (from torch>=1.13.1->nerfstudio) (2023.6.0)\n",
            "Collecting nvidia-cuda-nvrtc-cu12==12.1.105 (from torch>=1.13.1->nerfstudio)\n",
            "  Downloading nvidia_cuda_nvrtc_cu12-12.1.105-py3-none-manylinux1_x86_64.whl.metadata (1.5 kB)\n",
            "Collecting nvidia-cuda-runtime-cu12==12.1.105 (from torch>=1.13.1->nerfstudio)\n",
            "  Downloading nvidia_cuda_runtime_cu12-12.1.105-py3-none-manylinux1_x86_64.whl.metadata (1.5 kB)\n",
            "Collecting nvidia-cuda-cupti-cu12==12.1.105 (from torch>=1.13.1->nerfstudio)\n",
            "  Downloading nvidia_cuda_cupti_cu12-12.1.105-py3-none-manylinux1_x86_64.whl.metadata (1.6 kB)\n",
            "Collecting nvidia-cudnn-cu12==8.9.2.26 (from torch>=1.13.1->nerfstudio)\n",
            "  Downloading nvidia_cudnn_cu12-8.9.2.26-py3-none-manylinux1_x86_64.whl.metadata (1.6 kB)\n",
            "Collecting nvidia-cublas-cu12==12.1.3.1 (from torch>=1.13.1->nerfstudio)\n",
            "  Downloading nvidia_cublas_cu12-12.1.3.1-py3-none-manylinux1_x86_64.whl.metadata (1.5 kB)\n",
            "Collecting nvidia-cufft-cu12==11.0.2.54 (from torch>=1.13.1->nerfstudio)\n",
            "  Downloading nvidia_cufft_cu12-11.0.2.54-py3-none-manylinux1_x86_64.whl.metadata (1.5 kB)\n",
            "Collecting nvidia-curand-cu12==10.3.2.106 (from torch>=1.13.1->nerfstudio)\n",
            "  Downloading nvidia_curand_cu12-10.3.2.106-py3-none-manylinux1_x86_64.whl.metadata (1.5 kB)\n",
            "Collecting nvidia-cusolver-cu12==11.4.5.107 (from torch>=1.13.1->nerfstudio)\n",
            "  Downloading nvidia_cusolver_cu12-11.4.5.107-py3-none-manylinux1_x86_64.whl.metadata (1.6 kB)\n",
            "Collecting nvidia-cusparse-cu12==12.1.0.106 (from torch>=1.13.1->nerfstudio)\n",
            "  Downloading nvidia_cusparse_cu12-12.1.0.106-py3-none-manylinux1_x86_64.whl.metadata (1.6 kB)\n",
            "Collecting nvidia-nccl-cu12==2.19.3 (from torch>=1.13.1->nerfstudio)\n",
            "  Downloading nvidia_nccl_cu12-2.19.3-py3-none-manylinux1_x86_64.whl.metadata (1.8 kB)\n",
            "Collecting nvidia-nvtx-cu12==12.1.105 (from torch>=1.13.1->nerfstudio)\n",
            "  Downloading nvidia_nvtx_cu12-12.1.105-py3-none-manylinux1_x86_64.whl.metadata (1.7 kB)\n",
            "Requirement already satisfied: triton==2.2.0 in /usr/local/lib/python3.10/dist-packages (from torch>=1.13.1->nerfstudio) (2.2.0)\n",
            "Collecting nvidia-nvjitlink-cu12 (from nvidia-cusolver-cu12==11.4.5.107->torch>=1.13.1->nerfstudio)\n",
            "  Downloading nvidia_nvjitlink_cu12-12.4.127-py3-none-manylinux2014_x86_64.whl.metadata (1.5 kB)\n",
            "Collecting lightning-utilities>=0.8.0 (from torchmetrics>=1.0.1->torchmetrics[image]>=1.0.1->nerfstudio)\n",
            "  Downloading lightning_utilities-0.11.2-py3-none-any.whl.metadata (4.7 kB)\n",
            "Collecting torch-fidelity<=0.4.0 (from torchmetrics[image]>=1.0.1->nerfstudio)\n",
            "  Downloading torch_fidelity-0.3.0-py3-none-any.whl.metadata (2.0 kB)\n",
            "Requirement already satisfied: docstring-parser>=0.14.1 in /usr/local/lib/python3.10/dist-packages (from tyro>=0.6.6->nerfstudio) (0.16)\n",
            "Collecting shtab>=1.5.6 (from tyro>=0.6.6->nerfstudio)\n",
            "  Downloading shtab-1.7.1-py3-none-any.whl.metadata (7.3 kB)\n",
            "Requirement already satisfied: Click!=8.0.0,>=7.1 in /usr/local/lib/python3.10/dist-packages (from wandb>=0.13.3->nerfstudio) (8.1.7)\n",
            "Collecting GitPython!=3.1.29,>=1.0.0 (from wandb>=0.13.3->nerfstudio)\n",
            "  Downloading GitPython-3.1.43-py3-none-any.whl.metadata (13 kB)\n",
            "Collecting docker-pycreds>=0.4.0 (from wandb>=0.13.3->nerfstudio)\n",
            "  Downloading docker_pycreds-0.4.0-py2.py3-none-any.whl.metadata (1.8 kB)\n",
            "Collecting setproctitle (from wandb>=0.13.3->nerfstudio)\n",
            "  Downloading setproctitle-1.3.3-cp310-cp310-manylinux_2_5_x86_64.manylinux1_x86_64.manylinux_2_17_x86_64.manylinux2014_x86_64.whl.metadata (9.9 kB)\n",
            "Collecting ppft>=1.7.6.8 (from pathos->nerfstudio)\n",
            "  Downloading ppft-1.7.6.8-py3-none-any.whl.metadata (12 kB)\n",
            "Collecting dill>=0.3.8 (from pathos->nerfstudio)\n",
            "  Downloading dill-0.3.8-py3-none-any.whl.metadata (10 kB)\n",
            "Collecting pox>=0.3.4 (from pathos->nerfstudio)\n",
            "  Downloading pox-0.3.4-py3-none-any.whl.metadata (8.0 kB)\n",
            "Collecting multiprocess>=0.70.16 (from pathos->nerfstudio)\n",
            "  Downloading multiprocess-0.70.16-py310-none-any.whl.metadata (7.2 kB)\n",
            "Requirement already satisfied: pycparser in /usr/local/lib/python3.10/dist-packages (from cffi>=1.12->cryptography>=38->nerfstudio) (2.22)\n",
            "Requirement already satisfied: Flask<3.1,>=1.0.4 in /usr/local/lib/python3.10/dist-packages (from dash>=2.6.0->open3d>=0.16.0->nerfstudio) (2.2.5)\n",
            "Requirement already satisfied: dash-html-components==2.0.0 in /usr/local/lib/python3.10/dist-packages (from dash>=2.6.0->open3d>=0.16.0->nerfstudio) (2.0.0)\n",
            "Requirement already satisfied: dash-core-components==2.0.0 in /usr/local/lib/python3.10/dist-packages (from dash>=2.6.0->open3d>=0.16.0->nerfstudio) (2.0.0)\n",
            "Requirement already satisfied: dash-table==5.0.0 in /usr/local/lib/python3.10/dist-packages (from dash>=2.6.0->open3d>=0.16.0->nerfstudio) (5.0.0)\n",
            "Requirement already satisfied: importlib-metadata in /usr/local/lib/python3.10/dist-packages (from dash>=2.6.0->open3d>=0.16.0->nerfstudio) (7.1.0)\n",
            "Requirement already satisfied: retrying in /usr/local/lib/python3.10/dist-packages (from dash>=2.6.0->open3d>=0.16.0->nerfstudio) (1.3.4)\n",
            "Requirement already satisfied: nest-asyncio in /usr/local/lib/python3.10/dist-packages (from dash>=2.6.0->open3d>=0.16.0->nerfstudio) (1.6.0)\n",
            "Collecting configobj (from everett[ini]<3.2.0,>=1.0.1->comet-ml>=3.33.8->nerfstudio)\n",
            "  Downloading configobj-5.0.8-py2.py3-none-any.whl.metadata (3.4 kB)\n",
            "Collecting gitdb<5,>=4.0.1 (from GitPython!=3.1.29,>=1.0.0->wandb>=0.13.3->nerfstudio)\n",
            "  Downloading gitdb-4.0.11-py3-none-any.whl.metadata (1.2 kB)\n",
            "Requirement already satisfied: pyasn1-modules>=0.2.1 in /usr/local/lib/python3.10/dist-packages (from google-auth<3,>=1.6.3->tensorboard>=2.13.0->nerfstudio) (0.4.0)\n",
            "Requirement already satisfied: requests-oauthlib>=0.7.0 in /usr/local/lib/python3.10/dist-packages (from google-auth-oauthlib<2,>=0.5->tensorboard>=2.13.0->nerfstudio) (1.3.1)\n",
            "Requirement already satisfied: anyio in /usr/local/lib/python3.10/dist-packages (from httpx>=0.25.0->jupyterlab>=3.3.4->nerfstudio) (3.7.1)\n",
            "Collecting httpcore==1.* (from httpx>=0.25.0->jupyterlab>=3.3.4->nerfstudio)\n",
            "  Downloading httpcore-1.0.5-py3-none-any.whl.metadata (20 kB)\n",
            "Requirement already satisfied: sniffio in /usr/local/lib/python3.10/dist-packages (from httpx>=0.25.0->jupyterlab>=3.3.4->nerfstudio) (1.3.1)\n",
            "Collecting h11<0.15,>=0.13 (from httpcore==1.*->httpx>=0.25.0->jupyterlab>=3.3.4->nerfstudio)\n",
            "  Downloading h11-0.14.0-py3-none-any.whl.metadata (8.2 kB)\n",
            "Requirement already satisfied: debugpy>=1.6.5 in /usr/local/lib/python3.10/dist-packages (from ipykernel>=6.5.0->jupyterlab>=3.3.4->nerfstudio) (1.6.6)\n",
            "Requirement already satisfied: jupyter-client>=6.1.12 in /usr/local/lib/python3.10/dist-packages (from ipykernel>=6.5.0->jupyterlab>=3.3.4->nerfstudio) (6.1.12)\n",
            "Requirement already satisfied: matplotlib-inline>=0.1 in /usr/local/lib/python3.10/dist-packages (from ipykernel>=6.5.0->jupyterlab>=3.3.4->nerfstudio) (0.1.7)\n",
            "Requirement already satisfied: pyzmq>=24 in /usr/local/lib/python3.10/dist-packages (from ipykernel>=6.5.0->jupyterlab>=3.3.4->nerfstudio) (24.0.1)\n",
            "Requirement already satisfied: jedi>=0.16 in /usr/local/lib/python3.10/dist-packages (from ipython>=6.1.0->ipywidgets>=7.6->nerfstudio) (0.19.1)\n",
            "Requirement already satisfied: decorator in /usr/local/lib/python3.10/dist-packages (from ipython>=6.1.0->ipywidgets>=7.6->nerfstudio) (4.4.2)\n",
            "Requirement already satisfied: pickleshare in /usr/local/lib/python3.10/dist-packages (from ipython>=6.1.0->ipywidgets>=7.6->nerfstudio) (0.7.5)\n",
            "Requirement already satisfied: prompt-toolkit!=3.0.0,!=3.0.1,<3.1.0,>=2.0.0 in /usr/local/lib/python3.10/dist-packages (from ipython>=6.1.0->ipywidgets>=7.6->nerfstudio) (3.0.43)\n",
            "Requirement already satisfied: backcall in /usr/local/lib/python3.10/dist-packages (from ipython>=6.1.0->ipywidgets>=7.6->nerfstudio) (0.2.0)\n",
            "Requirement already satisfied: pexpect>4.3 in /usr/local/lib/python3.10/dist-packages (from ipython>=6.1.0->ipywidgets>=7.6->nerfstudio) (4.9.0)\n",
            "Requirement already satisfied: MarkupSafe>=2.0 in /usr/local/lib/python3.10/dist-packages (from jinja2>=3.0.3->jupyterlab>=3.3.4->nerfstudio) (2.1.5)\n",
            "Requirement already satisfied: attrs>=22.2.0 in /usr/local/lib/python3.10/dist-packages (from jsonschema!=3.1.0,>=2.6.0->comet-ml>=3.33.8->nerfstudio) (23.2.0)\n",
            "Requirement already satisfied: jsonschema-specifications>=2023.03.6 in /usr/local/lib/python3.10/dist-packages (from jsonschema!=3.1.0,>=2.6.0->comet-ml>=3.33.8->nerfstudio) (2023.12.1)\n",
            "Requirement already satisfied: referencing>=0.28.4 in /usr/local/lib/python3.10/dist-packages (from jsonschema!=3.1.0,>=2.6.0->comet-ml>=3.33.8->nerfstudio) (0.35.0)\n",
            "Requirement already satisfied: rpds-py>=0.7.1 in /usr/local/lib/python3.10/dist-packages (from jsonschema!=3.1.0,>=2.6.0->comet-ml>=3.33.8->nerfstudio) (0.18.0)\n",
            "Requirement already satisfied: platformdirs>=2.5 in /usr/local/lib/python3.10/dist-packages (from jupyter-core->jupyterlab>=3.3.4->nerfstudio) (4.2.1)\n",
            "Requirement already satisfied: argon2-cffi>=21.1 in /usr/local/lib/python3.10/dist-packages (from jupyter-server<3,>=2.4.0->jupyterlab>=3.3.4->nerfstudio) (23.1.0)\n",
            "Collecting jupyter-client>=6.1.12 (from ipykernel>=6.5.0->jupyterlab>=3.3.4->nerfstudio)\n",
            "  Downloading jupyter_client-8.6.1-py3-none-any.whl.metadata (8.3 kB)\n",
            "Collecting jupyter-events>=0.9.0 (from jupyter-server<3,>=2.4.0->jupyterlab>=3.3.4->nerfstudio)\n",
            "  Downloading jupyter_events-0.10.0-py3-none-any.whl.metadata (5.9 kB)\n",
            "Collecting jupyter-server-terminals>=0.4.4 (from jupyter-server<3,>=2.4.0->jupyterlab>=3.3.4->nerfstudio)\n",
            "  Downloading jupyter_server_terminals-0.5.3-py3-none-any.whl.metadata (5.6 kB)\n",
            "Requirement already satisfied: nbconvert>=6.4.4 in /usr/local/lib/python3.10/dist-packages (from jupyter-server<3,>=2.4.0->jupyterlab>=3.3.4->nerfstudio) (6.5.4)\n",
            "Collecting overrides>=5.0 (from jupyter-server<3,>=2.4.0->jupyterlab>=3.3.4->nerfstudio)\n",
            "  Downloading overrides-7.7.0-py3-none-any.whl.metadata (5.8 kB)\n",
            "Requirement already satisfied: prometheus-client>=0.9 in /usr/local/lib/python3.10/dist-packages (from jupyter-server<3,>=2.4.0->jupyterlab>=3.3.4->nerfstudio) (0.20.0)\n",
            "Requirement already satisfied: send2trash>=1.8.2 in /usr/local/lib/python3.10/dist-packages (from jupyter-server<3,>=2.4.0->jupyterlab>=3.3.4->nerfstudio) (1.8.3)\n",
            "Requirement already satisfied: terminado>=0.8.3 in /usr/local/lib/python3.10/dist-packages (from jupyter-server<3,>=2.4.0->jupyterlab>=3.3.4->nerfstudio) (0.18.1)\n",
            "INFO: pip is looking at multiple versions of jupyter-server to determine which version is compatible with other requirements. This could take a while.\n",
            "Collecting jupyter-server<3,>=2.4.0 (from jupyterlab>=3.3.4->nerfstudio)\n",
            "  Downloading jupyter_server-2.13.0-py3-none-any.whl.metadata (8.4 kB)\n",
            "Requirement already satisfied: babel>=2.10 in /usr/local/lib/python3.10/dist-packages (from jupyterlab-server<3,>=2.27.1->jupyterlab>=3.3.4->nerfstudio) (2.14.0)\n",
            "Collecting json5>=0.9.0 (from jupyterlab-server<3,>=2.27.1->jupyterlab>=3.3.4->nerfstudio)\n",
            "  Downloading json5-0.9.25-py3-none-any.whl.metadata (30 kB)\n",
            "Requirement already satisfied: mdurl~=0.1 in /usr/local/lib/python3.10/dist-packages (from markdown-it-py>=2.2.0->rich>=12.5.1->nerfstudio) (0.1.2)\n",
            "Requirement already satisfied: fastjsonschema>=2.15 in /usr/local/lib/python3.10/dist-packages (from nbformat>=5.7.0->open3d>=0.16.0->nerfstudio) (2.19.1)\n",
            "Requirement already satisfied: pytz>=2020.1 in /usr/local/lib/python3.10/dist-packages (from pandas>=1.0->open3d>=0.16.0->nerfstudio) (2023.4)\n",
            "Requirement already satisfied: tzdata>=2022.1 in /usr/local/lib/python3.10/dist-packages (from pandas>=1.0->open3d>=0.16.0->nerfstudio) (2024.1)\n",
            "Collecting simple-websocket>=0.10.0 (from python-engineio>=4.8.0->python-socketio>=5.7.1->nerfstudio)\n",
            "  Downloading simple_websocket-1.0.0-py3-none-any.whl.metadata (1.3 kB)\n",
            "Requirement already satisfied: pyasn1>=0.1.3 in /usr/local/lib/python3.10/dist-packages (from rsa<4.8,>=3.1.2->awscli>=1.31.10->nerfstudio) (0.6.0)\n",
            "Requirement already satisfied: joblib>=1.1.1 in /usr/local/lib/python3.10/dist-packages (from scikit-learn->nuscenes-devkit>=1.1.1->nerfstudio) (1.4.0)\n",
            "Requirement already satisfied: threadpoolctl>=2.0.0 in /usr/local/lib/python3.10/dist-packages (from scikit-learn->nuscenes-devkit>=1.1.1->nerfstudio) (3.4.0)\n",
            "Requirement already satisfied: lxml in /usr/local/lib/python3.10/dist-packages (from yourdfpy>=0.0.53->viser==0.1.26->nerfstudio) (4.9.4)\n",
            "Requirement already satisfied: soupsieve>1.2 in /usr/local/lib/python3.10/dist-packages (from beautifulsoup4->gdown>=4.6.0->nerfstudio) (2.5)\n",
            "Requirement already satisfied: termcolor in /usr/local/lib/python3.10/dist-packages (from fire->nuscenes-devkit>=1.1.1->nerfstudio) (2.4.0)\n",
            "Requirement already satisfied: notebook in /usr/local/lib/python3.10/dist-packages (from jupyter->nuscenes-devkit>=1.1.1->nerfstudio) (6.5.5)\n",
            "Collecting qtconsole (from jupyter->nuscenes-devkit>=1.1.1->nerfstudio)\n",
            "  Downloading qtconsole-5.5.1-py3-none-any.whl.metadata (5.1 kB)\n",
            "Requirement already satisfied: jupyter-console in /usr/local/lib/python3.10/dist-packages (from jupyter->nuscenes-devkit>=1.1.1->nerfstudio) (6.1.0)\n",
            "Requirement already satisfied: PySocks!=1.5.7,>=1.5.6 in /usr/local/lib/python3.10/dist-packages (from requests[socks]->gdown>=4.6.0->nerfstudio) (1.7.1)\n",
            "Requirement already satisfied: mpmath>=0.19 in /usr/local/lib/python3.10/dist-packages (from sympy->torch>=1.13.1->nerfstudio) (1.3.0)\n",
            "Requirement already satisfied: exceptiongroup in /usr/local/lib/python3.10/dist-packages (from anyio->httpx>=0.25.0->jupyterlab>=3.3.4->nerfstudio) (1.2.1)\n",
            "Requirement already satisfied: itsdangerous>=2.0 in /usr/local/lib/python3.10/dist-packages (from Flask<3.1,>=1.0.4->dash>=2.6.0->open3d>=0.16.0->nerfstudio) (2.2.0)\n",
            "Collecting smmap<6,>=3.0.1 (from gitdb<5,>=4.0.1->GitPython!=3.1.29,>=1.0.0->wandb>=0.13.3->nerfstudio)\n",
            "  Downloading smmap-5.0.1-py3-none-any.whl.metadata (4.3 kB)\n",
            "Requirement already satisfied: parso<0.9.0,>=0.8.3 in /usr/local/lib/python3.10/dist-packages (from jedi>=0.16->ipython>=6.1.0->ipywidgets>=7.6->nerfstudio) (0.8.4)\n",
            "Collecting python-json-logger>=2.0.4 (from jupyter-events>=0.9.0->jupyter-server<3,>=2.4.0->jupyterlab>=3.3.4->nerfstudio)\n",
            "  Downloading python_json_logger-2.0.7-py3-none-any.whl.metadata (6.5 kB)\n",
            "Collecting rfc3339-validator (from jupyter-events>=0.9.0->jupyter-server<3,>=2.4.0->jupyterlab>=3.3.4->nerfstudio)\n",
            "  Downloading rfc3339_validator-0.1.4-py2.py3-none-any.whl.metadata (1.5 kB)\n",
            "Collecting rfc3986-validator>=0.1.1 (from jupyter-events>=0.9.0->jupyter-server<3,>=2.4.0->jupyterlab>=3.3.4->nerfstudio)\n",
            "  Downloading rfc3986_validator-0.1.1-py2.py3-none-any.whl.metadata (1.7 kB)\n",
            "Requirement already satisfied: bleach in /usr/local/lib/python3.10/dist-packages (from nbconvert>=6.4.4->jupyter-server<3,>=2.4.0->jupyterlab>=3.3.4->nerfstudio) (6.1.0)\n",
            "Requirement already satisfied: defusedxml in /usr/local/lib/python3.10/dist-packages (from nbconvert>=6.4.4->jupyter-server<3,>=2.4.0->jupyterlab>=3.3.4->nerfstudio) (0.7.1)\n",
            "Requirement already satisfied: entrypoints>=0.2.2 in /usr/local/lib/python3.10/dist-packages (from nbconvert>=6.4.4->jupyter-server<3,>=2.4.0->jupyterlab>=3.3.4->nerfstudio) (0.4)\n",
            "Requirement already satisfied: jupyterlab-pygments in /usr/local/lib/python3.10/dist-packages (from nbconvert>=6.4.4->jupyter-server<3,>=2.4.0->jupyterlab>=3.3.4->nerfstudio) (0.3.0)\n",
            "Requirement already satisfied: mistune<2,>=0.8.1 in /usr/local/lib/python3.10/dist-packages (from nbconvert>=6.4.4->jupyter-server<3,>=2.4.0->jupyterlab>=3.3.4->nerfstudio) (0.8.4)\n",
            "Requirement already satisfied: nbclient>=0.5.0 in /usr/local/lib/python3.10/dist-packages (from nbconvert>=6.4.4->jupyter-server<3,>=2.4.0->jupyterlab>=3.3.4->nerfstudio) (0.10.0)\n",
            "Requirement already satisfied: pandocfilters>=1.4.1 in /usr/local/lib/python3.10/dist-packages (from nbconvert>=6.4.4->jupyter-server<3,>=2.4.0->jupyterlab>=3.3.4->nerfstudio) (1.5.1)\n",
            "Requirement already satisfied: tinycss2 in /usr/local/lib/python3.10/dist-packages (from nbconvert>=6.4.4->jupyter-server<3,>=2.4.0->jupyterlab>=3.3.4->nerfstudio) (1.3.0)\n",
            "Requirement already satisfied: ptyprocess>=0.5 in /usr/local/lib/python3.10/dist-packages (from pexpect>4.3->ipython>=6.1.0->ipywidgets>=7.6->nerfstudio) (0.7.0)\n",
            "Requirement already satisfied: wcwidth in /usr/local/lib/python3.10/dist-packages (from prompt-toolkit!=3.0.0,!=3.0.1,<3.1.0,>=2.0.0->ipython>=6.1.0->ipywidgets>=7.6->nerfstudio) (0.2.13)\n",
            "Requirement already satisfied: oauthlib>=3.0.0 in /usr/local/lib/python3.10/dist-packages (from requests-oauthlib>=0.7.0->google-auth-oauthlib<2,>=0.5->tensorboard>=2.13.0->nerfstudio) (3.2.2)\n",
            "Collecting wsproto (from simple-websocket>=0.10.0->python-engineio>=4.8.0->python-socketio>=5.7.1->nerfstudio)\n",
            "  Downloading wsproto-1.2.0-py3-none-any.whl.metadata (5.6 kB)\n",
            "Collecting colorlog (from trimesh[easy]>=3.11.2->yourdfpy>=0.0.53->viser==0.1.26->nerfstudio)\n",
            "  Downloading colorlog-6.8.2-py3-none-any.whl.metadata (10 kB)\n",
            "Collecting mapbox-earcut (from trimesh[easy]>=3.11.2->yourdfpy>=0.0.53->viser==0.1.26->nerfstudio)\n",
            "  Downloading mapbox_earcut-1.0.1-cp310-cp310-manylinux_2_17_x86_64.manylinux2014_x86_64.whl.metadata (2.0 kB)\n",
            "Requirement already satisfied: chardet in /usr/local/lib/python3.10/dist-packages (from trimesh[easy]>=3.11.2->yourdfpy>=0.0.53->viser==0.1.26->nerfstudio) (5.2.0)\n",
            "Collecting svg.path (from trimesh[easy]>=3.11.2->yourdfpy>=0.0.53->viser==0.1.26->nerfstudio)\n",
            "  Downloading svg.path-6.3-py2.py3-none-any.whl.metadata (13 kB)\n",
            "Collecting pycollada (from trimesh[easy]>=3.11.2->yourdfpy>=0.0.53->viser==0.1.26->nerfstudio)\n",
            "  Downloading pycollada-0.8.tar.gz (108 kB)\n",
            "\u001b[2K     \u001b[90m━━━━━━━━━━━━━━━━━━━━━━━━━━━━━━━━━━━━━━━━\u001b[0m \u001b[32m108.1/108.1 kB\u001b[0m \u001b[31m9.0 MB/s\u001b[0m eta \u001b[36m0:00:00\u001b[0m\n",
            "\u001b[?25h  Preparing metadata (setup.py) ... \u001b[?25l\u001b[?25hdone\n",
            "Collecting xxhash (from trimesh[easy]>=3.11.2->yourdfpy>=0.0.53->viser==0.1.26->nerfstudio)\n",
            "  Downloading xxhash-3.4.1-cp310-cp310-manylinux_2_17_x86_64.manylinux2014_x86_64.whl.metadata (12 kB)\n",
            "Collecting rtree (from trimesh[easy]>=3.11.2->yourdfpy>=0.0.53->viser==0.1.26->nerfstudio)\n",
            "  Downloading Rtree-1.2.0-py3-none-manylinux2014_x86_64.manylinux_2_17_x86_64.whl.metadata (2.1 kB)\n",
            "Collecting embreex (from trimesh[easy]>=3.11.2->yourdfpy>=0.0.53->viser==0.1.26->nerfstudio)\n",
            "  Downloading embreex-2.17.7.post4-cp310-cp310-manylinux_2_28_x86_64.whl.metadata (3.0 kB)\n",
            "Collecting vhacdx (from trimesh[easy]>=3.11.2->yourdfpy>=0.0.53->viser==0.1.26->nerfstudio)\n",
            "  Downloading vhacdx-0.0.6-cp310-cp310-manylinux_2_17_x86_64.manylinux2014_x86_64.whl.metadata (1.1 kB)\n",
            "Requirement already satisfied: argon2-cffi-bindings in /usr/local/lib/python3.10/dist-packages (from argon2-cffi>=21.1->jupyter-server<3,>=2.4.0->jupyterlab>=3.3.4->nerfstudio) (21.2.0)\n",
            "Requirement already satisfied: zipp>=0.5 in /usr/local/lib/python3.10/dist-packages (from importlib-metadata->dash>=2.6.0->open3d>=0.16.0->nerfstudio) (3.18.1)\n",
            "Collecting jupyter-client>=6.1.12 (from ipykernel>=6.5.0->jupyterlab>=3.3.4->nerfstudio)\n",
            "  Downloading jupyter_client-7.4.9-py3-none-any.whl.metadata (8.5 kB)\n",
            "Requirement already satisfied: ipython-genutils in /usr/local/lib/python3.10/dist-packages (from notebook->jupyter->nuscenes-devkit>=1.1.1->nerfstudio) (0.2.0)\n",
            "Requirement already satisfied: nbclassic>=0.4.7 in /usr/local/lib/python3.10/dist-packages (from notebook->jupyter->nuscenes-devkit>=1.1.1->nerfstudio) (1.0.0)\n",
            "Collecting qtpy>=2.4.0 (from qtconsole->jupyter->nuscenes-devkit>=1.1.1->nerfstudio)\n",
            "  Downloading QtPy-2.4.1-py3-none-any.whl.metadata (12 kB)\n",
            "Collecting fqdn (from jsonschema[format-nongpl]>=4.18.0->jupyter-events>=0.9.0->jupyter-server<3,>=2.4.0->jupyterlab>=3.3.4->nerfstudio)\n",
            "  Downloading fqdn-1.5.1-py3-none-any.whl.metadata (1.4 kB)\n",
            "Collecting isoduration (from jsonschema[format-nongpl]>=4.18.0->jupyter-events>=0.9.0->jupyter-server<3,>=2.4.0->jupyterlab>=3.3.4->nerfstudio)\n",
            "  Downloading isoduration-20.11.0-py3-none-any.whl.metadata (5.7 kB)\n",
            "Collecting jsonpointer>1.13 (from jsonschema[format-nongpl]>=4.18.0->jupyter-events>=0.9.0->jupyter-server<3,>=2.4.0->jupyterlab>=3.3.4->nerfstudio)\n",
            "  Downloading jsonpointer-2.4-py2.py3-none-any.whl.metadata (2.5 kB)\n",
            "Collecting uri-template (from jsonschema[format-nongpl]>=4.18.0->jupyter-events>=0.9.0->jupyter-server<3,>=2.4.0->jupyterlab>=3.3.4->nerfstudio)\n",
            "  Downloading uri_template-1.3.0-py3-none-any.whl.metadata (8.8 kB)\n",
            "Requirement already satisfied: webcolors>=1.11 in /usr/local/lib/python3.10/dist-packages (from jsonschema[format-nongpl]>=4.18.0->jupyter-events>=0.9.0->jupyter-server<3,>=2.4.0->jupyterlab>=3.3.4->nerfstudio) (1.13)\n",
            "Requirement already satisfied: webencodings in /usr/local/lib/python3.10/dist-packages (from bleach->nbconvert>=6.4.4->jupyter-server<3,>=2.4.0->jupyterlab>=3.3.4->nerfstudio) (0.5.1)\n",
            "Collecting arrow>=0.15.0 (from isoduration->jsonschema[format-nongpl]>=4.18.0->jupyter-events>=0.9.0->jupyter-server<3,>=2.4.0->jupyterlab>=3.3.4->nerfstudio)\n",
            "  Downloading arrow-1.3.0-py3-none-any.whl.metadata (7.5 kB)\n",
            "Collecting types-python-dateutil>=2.8.10 (from arrow>=0.15.0->isoduration->jsonschema[format-nongpl]>=4.18.0->jupyter-events>=0.9.0->jupyter-server<3,>=2.4.0->jupyterlab>=3.3.4->nerfstudio)\n",
            "  Downloading types_python_dateutil-2.9.0.20240316-py3-none-any.whl.metadata (1.8 kB)\n",
            "Downloading nerfstudio-1.0.3-py3-none-any.whl (565 kB)\n",
            "\u001b[2K   \u001b[90m━━━━━━━━━━━━━━━━━━━━━━━━━━━━━━━━━━━━━━━━\u001b[0m \u001b[32m565.4/565.4 kB\u001b[0m \u001b[31m24.7 MB/s\u001b[0m eta \u001b[36m0:00:00\u001b[0m\n",
            "\u001b[?25hDownloading nerfacc-0.5.2-py3-none-any.whl (55 kB)\n",
            "\u001b[2K   \u001b[90m━━━━━━━━━━━━━━━━━━━━━━━━━━━━━━━━━━━━━━━━\u001b[0m \u001b[32m55.5/55.5 kB\u001b[0m \u001b[31m4.5 MB/s\u001b[0m eta \u001b[36m0:00:00\u001b[0m\n",
            "\u001b[?25hDownloading splines-0.3.0-py3-none-any.whl (17 kB)\n",
            "Downloading timm-0.6.7-py3-none-any.whl (509 kB)\n",
            "\u001b[2K   \u001b[90m━━━━━━━━━━━━━━━━━━━━━━━━━━━━━━━━━━━━━━━━\u001b[0m \u001b[32m510.0/510.0 kB\u001b[0m \u001b[31m32.0 MB/s\u001b[0m eta \u001b[36m0:00:00\u001b[0m\n",
            "\u001b[?25hDownloading viser-0.1.26-py3-none-any.whl (2.8 MB)\n",
            "\u001b[2K   \u001b[90m━━━━━━━━━━━━━━━━━━━━━━━━━━━━━━━━━━━━━━━━\u001b[0m \u001b[32m2.8/2.8 MB\u001b[0m \u001b[31m51.4 MB/s\u001b[0m eta \u001b[36m0:00:00\u001b[0m\n",
            "\u001b[?25hDownloading av-12.0.0-cp310-cp310-manylinux_2_17_x86_64.manylinux2014_x86_64.whl (33.8 MB)\n",
            "\u001b[2K   \u001b[90m━━━━━━━━━━━━━━━━━━━━━━━━━━━━━━━━━━━━━━━━\u001b[0m \u001b[32m33.8/33.8 MB\u001b[0m \u001b[31m32.2 MB/s\u001b[0m eta \u001b[36m0:00:00\u001b[0m\n",
            "\u001b[?25hDownloading awscli-1.32.95-py3-none-any.whl (4.4 MB)\n",
            "\u001b[2K   \u001b[90m━━━━━━━━━━━━━━━━━━━━━━━━━━━━━━━━━━━━━━━━\u001b[0m \u001b[32m4.4/4.4 MB\u001b[0m \u001b[31m51.1 MB/s\u001b[0m eta \u001b[36m0:00:00\u001b[0m\n",
            "\u001b[?25hDownloading botocore-1.34.95-py3-none-any.whl (12.2 MB)\n",
            "\u001b[2K   \u001b[90m━━━━━━━━━━━━━━━━━━━━━━━━━━━━━━━━━━━━━━━━\u001b[0m \u001b[32m12.2/12.2 MB\u001b[0m \u001b[31m53.9 MB/s\u001b[0m eta \u001b[36m0:00:00\u001b[0m\n",
            "\u001b[?25hDownloading comet_ml-3.41.0-py3-none-any.whl (648 kB)\n",
            "\u001b[2K   \u001b[90m━━━━━━━━━━━━━━━━━━━━━━━━━━━━━━━━━━━━━━━━\u001b[0m \u001b[32m648.9/648.9 kB\u001b[0m \u001b[31m34.4 MB/s\u001b[0m eta \u001b[36m0:00:00\u001b[0m\n",
            "\u001b[?25hDownloading gsplat-0.1.11-py3-none-any.whl (6.0 MB)\n",
            "\u001b[2K   \u001b[90m━━━━━━━━━━━━━━━━━━━━━━━━━━━━━━━━━━━━━━━━\u001b[0m \u001b[32m6.0/6.0 MB\u001b[0m \u001b[31m63.0 MB/s\u001b[0m eta \u001b[36m0:00:00\u001b[0m\n",
            "\u001b[?25hDownloading imageio-2.34.1-py3-none-any.whl (313 kB)\n",
            "\u001b[2K   \u001b[90m━━━━━━━━━━━━━━━━━━━━━━━━━━━━━━━━━━━━━━━━\u001b[0m \u001b[32m313.5/313.5 kB\u001b[0m \u001b[31m20.1 MB/s\u001b[0m eta \u001b[36m0:00:00\u001b[0m\n",
            "\u001b[?25hDownloading jaxtyping-0.2.28-py3-none-any.whl (40 kB)\n",
            "\u001b[2K   \u001b[90m━━━━━━━━━━━━━━━━━━━━━━━━━━━━━━━━━━━━━━━━\u001b[0m \u001b[32m40.7/40.7 kB\u001b[0m \u001b[31m2.6 MB/s\u001b[0m eta \u001b[36m0:00:00\u001b[0m\n",
            "\u001b[?25hDownloading typeguard-2.13.3-py3-none-any.whl (17 kB)\n",
            "Downloading jupyterlab-4.1.8-py3-none-any.whl (11.4 MB)\n",
            "\u001b[2K   \u001b[90m━━━━━━━━━━━━━━━━━━━━━━━━━━━━━━━━━━━━━━━━\u001b[0m \u001b[32m11.4/11.4 MB\u001b[0m \u001b[31m58.2 MB/s\u001b[0m eta \u001b[36m0:00:00\u001b[0m\n",
            "\u001b[?25hDownloading mediapy-1.2.0-py3-none-any.whl (25 kB)\n",
            "Downloading msgpack_numpy-0.4.8-py2.py3-none-any.whl (6.9 kB)\n",
            "Downloading ninja-1.11.1.1-py2.py3-none-manylinux1_x86_64.manylinux_2_5_x86_64.whl (307 kB)\n",
            "\u001b[2K   \u001b[90m━━━━━━━━━━━━━━━━━━━━━━━━━━━━━━━━━━━━━━━━\u001b[0m \u001b[32m307.2/307.2 kB\u001b[0m \u001b[31m18.8 MB/s\u001b[0m eta \u001b[36m0:00:00\u001b[0m\n",
            "\u001b[?25hDownloading nuscenes_devkit-1.1.9-py3-none-any.whl (312 kB)\n",
            "\u001b[2K   \u001b[90m━━━━━━━━━━━━━━━━━━━━━━━━━━━━━━━━━━━━━━━━\u001b[0m \u001b[32m312.6/312.6 kB\u001b[0m \u001b[31m20.2 MB/s\u001b[0m eta \u001b[36m0:00:00\u001b[0m\n",
            "\u001b[?25hDownloading pillow-10.3.0-cp310-cp310-manylinux_2_28_x86_64.whl (4.5 MB)\n",
            "\u001b[2K   \u001b[90m━━━━━━━━━━━━━━━━━━━━━━━━━━━━━━━━━━━━━━━━\u001b[0m \u001b[32m4.5/4.5 MB\u001b[0m \u001b[31m55.3 MB/s\u001b[0m eta \u001b[36m0:00:00\u001b[0m\n",
            "\u001b[?25hDownloading pymeshlab-2023.12.post1-cp310-cp310-manylinux_2_31_x86_64.whl (98.0 MB)\n",
            "\u001b[2K   \u001b[90m━━━━━━━━━━━━━━━━━━━━━━━━━━━━━━━━━━━━━━━━\u001b[0m \u001b[32m98.0/98.0 MB\u001b[0m \u001b[31m9.1 MB/s\u001b[0m eta \u001b[36m0:00:00\u001b[0m\n",
            "\u001b[?25hDownloading pyngrok-7.1.6-py3-none-any.whl (22 kB)\n",
            "Downloading python_socketio-5.11.2-py3-none-any.whl (75 kB)\n",
            "\u001b[2K   \u001b[90m━━━━━━━━━━━━━━━━━━━━━━━━━━━━━━━━━━━━━━━━\u001b[0m \u001b[32m75.7/75.7 kB\u001b[0m \u001b[31m5.1 MB/s\u001b[0m eta \u001b[36m0:00:00\u001b[0m\n",
            "\u001b[?25hDownloading rawpy-0.20.0-cp310-cp310-manylinux_2_17_x86_64.manylinux2014_x86_64.whl (1.9 MB)\n",
            "\u001b[2K   \u001b[90m━━━━━━━━━━━━━━━━━━━━━━━━━━━━━━━━━━━━━━━━\u001b[0m \u001b[32m1.9/1.9 MB\u001b[0m \u001b[31m69.3 MB/s\u001b[0m eta \u001b[36m0:00:00\u001b[0m\n",
            "\u001b[?25hDownloading nvidia_cublas_cu12-12.1.3.1-py3-none-manylinux1_x86_64.whl (410.6 MB)\n",
            "\u001b[2K   \u001b[90m━━━━━━━━━━━━━━━━━━━━━━━━━━━━━━━━━━━━━━━━\u001b[0m \u001b[32m410.6/410.6 MB\u001b[0m \u001b[31m3.3 MB/s\u001b[0m eta \u001b[36m0:00:00\u001b[0m\n",
            "\u001b[?25hDownloading nvidia_cuda_cupti_cu12-12.1.105-py3-none-manylinux1_x86_64.whl (14.1 MB)\n",
            "\u001b[2K   \u001b[90m━━━━━━━━━━━━━━━━━━━━━━━━━━━━━━━━━━━━━━━━\u001b[0m \u001b[32m14.1/14.1 MB\u001b[0m \u001b[31m61.7 MB/s\u001b[0m eta \u001b[36m0:00:00\u001b[0m\n",
            "\u001b[?25hDownloading nvidia_cuda_nvrtc_cu12-12.1.105-py3-none-manylinux1_x86_64.whl (23.7 MB)\n",
            "\u001b[2K   \u001b[90m━━━━━━━━━━━━━━━━━━━━━━━━━━━━━━━━━━━━━━━━\u001b[0m \u001b[32m23.7/23.7 MB\u001b[0m \u001b[31m45.8 MB/s\u001b[0m eta \u001b[36m0:00:00\u001b[0m\n",
            "\u001b[?25hDownloading nvidia_cuda_runtime_cu12-12.1.105-py3-none-manylinux1_x86_64.whl (823 kB)\n",
            "\u001b[2K   \u001b[90m━━━━━━━━━━━━━━━━━━━━━━━━━━━━━━━━━━━━━━━━\u001b[0m \u001b[32m823.6/823.6 kB\u001b[0m \u001b[31m33.7 MB/s\u001b[0m eta \u001b[36m0:00:00\u001b[0m\n",
            "\u001b[?25hDownloading nvidia_cudnn_cu12-8.9.2.26-py3-none-manylinux1_x86_64.whl (731.7 MB)\n",
            "\u001b[2K   \u001b[90m━━━━━━━━━━━━━━━━━━━━━━━━━━━━━━━━━━━━━━━━\u001b[0m \u001b[32m731.7/731.7 MB\u001b[0m \u001b[31m2.8 MB/s\u001b[0m eta \u001b[36m0:00:00\u001b[0m\n",
            "\u001b[?25hDownloading nvidia_cufft_cu12-11.0.2.54-py3-none-manylinux1_x86_64.whl (121.6 MB)\n",
            "\u001b[2K   \u001b[90m━━━━━━━━━━━━━━━━━━━━━━━━━━━━━━━━━━━━━━━━\u001b[0m \u001b[32m121.6/121.6 MB\u001b[0m \u001b[31m7.4 MB/s\u001b[0m eta \u001b[36m0:00:00\u001b[0m\n",
            "\u001b[?25hDownloading nvidia_curand_cu12-10.3.2.106-py3-none-manylinux1_x86_64.whl (56.5 MB)\n",
            "\u001b[2K   \u001b[90m━━━━━━━━━━━━━━━━━━━━━━━━━━━━━━━━━━━━━━━━\u001b[0m \u001b[32m56.5/56.5 MB\u001b[0m \u001b[31m12.0 MB/s\u001b[0m eta \u001b[36m0:00:00\u001b[0m\n",
            "\u001b[?25hDownloading nvidia_cusolver_cu12-11.4.5.107-py3-none-manylinux1_x86_64.whl (124.2 MB)\n",
            "\u001b[2K   \u001b[90m━━━━━━━━━━━━━━━━━━━━━━━━━━━━━━━━━━━━━━━━\u001b[0m \u001b[32m124.2/124.2 MB\u001b[0m \u001b[31m6.6 MB/s\u001b[0m eta \u001b[36m0:00:00\u001b[0m\n",
            "\u001b[?25hDownloading nvidia_cusparse_cu12-12.1.0.106-py3-none-manylinux1_x86_64.whl (196.0 MB)\n",
            "\u001b[2K   \u001b[90m━━━━━━━━━━━━━━━━━━━━━━━━━━━━━━━━━━━━━━━━\u001b[0m \u001b[32m196.0/196.0 MB\u001b[0m \u001b[31m5.8 MB/s\u001b[0m eta \u001b[36m0:00:00\u001b[0m\n",
            "\u001b[?25hDownloading nvidia_nccl_cu12-2.19.3-py3-none-manylinux1_x86_64.whl (166.0 MB)\n",
            "\u001b[2K   \u001b[90m━━━━━━━━━━━━━━━━━━━━━━━━━━━━━━━━━━━━━━━━\u001b[0m \u001b[32m166.0/166.0 MB\u001b[0m \u001b[31m6.8 MB/s\u001b[0m eta \u001b[36m0:00:00\u001b[0m\n",
            "\u001b[?25hDownloading nvidia_nvtx_cu12-12.1.105-py3-none-manylinux1_x86_64.whl (99 kB)\n",
            "\u001b[2K   \u001b[90m━━━━━━━━━━━━━━━━━━━━━━━━━━━━━━━━━━━━━━━━\u001b[0m \u001b[32m99.1/99.1 kB\u001b[0m \u001b[31m8.2 MB/s\u001b[0m eta \u001b[36m0:00:00\u001b[0m\n",
            "\u001b[?25hDownloading torchmetrics-1.3.2-py3-none-any.whl (841 kB)\n",
            "\u001b[2K   \u001b[90m━━━━━━━━━━━━━━━━━━━━━━━━━━━━━━━━━━━━━━━━\u001b[0m \u001b[32m841.5/841.5 kB\u001b[0m \u001b[31m44.2 MB/s\u001b[0m eta \u001b[36m0:00:00\u001b[0m\n",
            "\u001b[?25hDownloading trimesh-4.3.2-py3-none-any.whl (693 kB)\n",
            "\u001b[2K   \u001b[90m━━━━━━━━━━━━━━━━━━━━━━━━━━━━━━━━━━━━━━━━\u001b[0m \u001b[32m693.9/693.9 kB\u001b[0m \u001b[31m41.2 MB/s\u001b[0m eta \u001b[36m0:00:00\u001b[0m\n",
            "\u001b[?25hDownloading tyro-0.8.3-py3-none-any.whl (102 kB)\n",
            "\u001b[2K   \u001b[90m━━━━━━━━━━━━━━━━━━━━━━━━━━━━━━━━━━━━━━━━\u001b[0m \u001b[32m102.0/102.0 kB\u001b[0m \u001b[31m8.5 MB/s\u001b[0m eta \u001b[36m0:00:00\u001b[0m\n",
            "\u001b[?25hDownloading wandb-0.16.6-py3-none-any.whl (2.2 MB)\n",
            "\u001b[2K   \u001b[90m━━━━━━━━━━━━━━━━━━━━━━━━━━━━━━━━━━━━━━━━\u001b[0m \u001b[32m2.2/2.2 MB\u001b[0m \u001b[31m74.3 MB/s\u001b[0m eta \u001b[36m0:00:00\u001b[0m\n",
            "\u001b[?25hDownloading pathos-0.3.2-py3-none-any.whl (82 kB)\n",
            "\u001b[2K   \u001b[90m━━━━━━━━━━━━━━━━━━━━━━━━━━━━━━━━━━━━━━━━\u001b[0m \u001b[32m82.1/82.1 kB\u001b[0m \u001b[31m6.8 MB/s\u001b[0m eta \u001b[36m0:00:00\u001b[0m\n",
            "\u001b[?25hDownloading pytorch_msssim-1.0.0-py3-none-any.whl (7.7 kB)\n",
            "Downloading xatlas-0.0.9-cp310-cp310-manylinux_2_17_x86_64.manylinux2014_x86_64.whl (230 kB)\n",
            "\u001b[2K   \u001b[90m━━━━━━━━━━━━━━━━━━━━━━━━━━━━━━━━━━━━━━━━\u001b[0m \u001b[32m230.1/230.1 kB\u001b[0m \u001b[31m13.7 MB/s\u001b[0m eta \u001b[36m0:00:00\u001b[0m\n",
            "\u001b[?25hDownloading async_lru-2.0.4-py3-none-any.whl (6.1 kB)\n",
            "Downloading colorama-0.4.6-py2.py3-none-any.whl (25 kB)\n",
            "Downloading dill-0.3.8-py3-none-any.whl (116 kB)\n",
            "\u001b[2K   \u001b[90m━━━━━━━━━━━━━━━━━━━━━━━━━━━━━━━━━━━━━━━━\u001b[0m \u001b[32m116.3/116.3 kB\u001b[0m \u001b[31m9.9 MB/s\u001b[0m eta \u001b[36m0:00:00\u001b[0m\n",
            "\u001b[?25hDownloading docker_pycreds-0.4.0-py2.py3-none-any.whl (9.0 kB)\n",
            "Downloading docutils-0.16-py2.py3-none-any.whl (548 kB)\n",
            "\u001b[2K   \u001b[90m━━━━━━━━━━━━━━━━━━━━━━━━━━━━━━━━━━━━━━━━\u001b[0m \u001b[32m548.2/548.2 kB\u001b[0m \u001b[31m35.9 MB/s\u001b[0m eta \u001b[36m0:00:00\u001b[0m\n",
            "\u001b[?25hDownloading dulwich-0.22.1-cp310-cp310-manylinux_2_17_x86_64.manylinux2014_x86_64.whl (979 kB)\n",
            "\u001b[2K   \u001b[90m━━━━━━━━━━━━━━━━━━━━━━━━━━━━━━━━━━━━━━━━\u001b[0m \u001b[32m979.1/979.1 kB\u001b[0m \u001b[31m49.9 MB/s\u001b[0m eta \u001b[36m0:00:00\u001b[0m\n",
            "\u001b[?25hDownloading everett-3.1.0-py2.py3-none-any.whl (35 kB)\n",
            "Downloading GitPython-3.1.43-py3-none-any.whl (207 kB)\n",
            "\u001b[2K   \u001b[90m━━━━━━━━━━━━━━━━━━━━━━━━━━━━━━━━━━━━━━━━\u001b[0m \u001b[32m207.3/207.3 kB\u001b[0m \u001b[31m17.0 MB/s\u001b[0m eta \u001b[36m0:00:00\u001b[0m\n",
            "\u001b[?25hDownloading httpx-0.27.0-py3-none-any.whl (75 kB)\n",
            "\u001b[2K   \u001b[90m━━━━━━━━━━━━━━━━━━━━━━━━━━━━━━━━━━━━━━━━\u001b[0m \u001b[32m75.6/75.6 kB\u001b[0m \u001b[31m6.2 MB/s\u001b[0m eta \u001b[36m0:00:00\u001b[0m\n",
            "\u001b[?25hDownloading httpcore-1.0.5-py3-none-any.whl (77 kB)\n",
            "\u001b[2K   \u001b[90m━━━━━━━━━━━━━━━━━━━━━━━━━━━━━━━━━━━━━━━━\u001b[0m \u001b[32m77.9/77.9 kB\u001b[0m \u001b[31m6.6 MB/s\u001b[0m eta \u001b[36m0:00:00\u001b[0m\n",
            "\u001b[?25hDownloading ipykernel-6.29.4-py3-none-any.whl (117 kB)\n",
            "\u001b[2K   \u001b[90m━━━━━━━━━━━━━━━━━━━━━━━━━━━━━━━━━━━━━━━━\u001b[0m \u001b[32m117.1/117.1 kB\u001b[0m \u001b[31m9.0 MB/s\u001b[0m eta \u001b[36m0:00:00\u001b[0m\n",
            "\u001b[?25hDownloading jupyter_lsp-2.2.5-py3-none-any.whl (69 kB)\n",
            "\u001b[2K   \u001b[90m━━━━━━━━━━━━━━━━━━━━━━━━━━━━━━━━━━━━━━━━\u001b[0m \u001b[32m69.1/69.1 kB\u001b[0m \u001b[31m5.8 MB/s\u001b[0m eta \u001b[36m0:00:00\u001b[0m\n",
            "\u001b[?25hDownloading jupyter_server-2.13.0-py3-none-any.whl (383 kB)\n",
            "\u001b[2K   \u001b[90m━━━━━━━━━━━━━━━━━━━━━━━━━━━━━━━━━━━━━━━━\u001b[0m \u001b[32m383.2/383.2 kB\u001b[0m \u001b[31m24.2 MB/s\u001b[0m eta \u001b[36m0:00:00\u001b[0m\n",
            "\u001b[?25hDownloading jupyterlab_server-2.27.1-py3-none-any.whl (59 kB)\n",
            "\u001b[2K   \u001b[90m━━━━━━━━━━━━━━━━━━━━━━━━━━━━━━━━━━━━━━━━\u001b[0m \u001b[32m59.3/59.3 kB\u001b[0m \u001b[31m4.3 MB/s\u001b[0m eta \u001b[36m0:00:00\u001b[0m\n",
            "\u001b[?25hDownloading lightning_utilities-0.11.2-py3-none-any.whl (26 kB)\n",
            "Downloading multiprocess-0.70.16-py310-none-any.whl (134 kB)\n",
            "\u001b[2K   \u001b[90m━━━━━━━━━━━━━━━━━━━━━━━━━━━━━━━━━━━━━━━━\u001b[0m \u001b[32m134.8/134.8 kB\u001b[0m \u001b[31m11.1 MB/s\u001b[0m eta \u001b[36m0:00:00\u001b[0m\n",
            "\u001b[?25hDownloading nodeenv-1.8.0-py2.py3-none-any.whl (22 kB)\n",
            "Downloading pox-0.3.4-py3-none-any.whl (29 kB)\n",
            "Downloading ppft-1.7.6.8-py3-none-any.whl (56 kB)\n",
            "\u001b[2K   \u001b[90m━━━━━━━━━━━━━━━━━━━━━━━━━━━━━━━━━━━━━━━━\u001b[0m \u001b[32m56.8/56.8 kB\u001b[0m \u001b[31m4.7 MB/s\u001b[0m eta \u001b[36m0:00:00\u001b[0m\n",
            "\u001b[?25hDownloading python_box-6.1.0-cp310-cp310-manylinux_2_17_x86_64.manylinux2014_x86_64.whl (3.3 MB)\n",
            "\u001b[2K   \u001b[90m━━━━━━━━━━━━━━━━━━━━━━━━━━━━━━━━━━━━━━━━\u001b[0m \u001b[32m3.3/3.3 MB\u001b[0m \u001b[31m83.4 MB/s\u001b[0m eta \u001b[36m0:00:00\u001b[0m\n",
            "\u001b[?25hDownloading python_engineio-4.9.0-py3-none-any.whl (57 kB)\n",
            "\u001b[2K   \u001b[90m━━━━━━━━━━━━━━━━━━━━━━━━━━━━━━━━━━━━━━━━\u001b[0m \u001b[32m57.5/57.5 kB\u001b[0m \u001b[31m4.2 MB/s\u001b[0m eta \u001b[36m0:00:00\u001b[0m\n",
            "\u001b[?25hDownloading requests_toolbelt-1.0.0-py2.py3-none-any.whl (54 kB)\n",
            "\u001b[2K   \u001b[90m━━━━━━━━━━━━━━━━━━━━━━━━━━━━━━━━━━━━━━━━\u001b[0m \u001b[32m54.5/54.5 kB\u001b[0m \u001b[31m4.2 MB/s\u001b[0m eta \u001b[36m0:00:00\u001b[0m\n",
            "\u001b[?25hDownloading rsa-4.7.2-py3-none-any.whl (34 kB)\n",
            "Downloading s3transfer-0.10.1-py3-none-any.whl (82 kB)\n",
            "\u001b[2K   \u001b[90m━━━━━━━━━━━━━━━━━━━━━━━━━━━━━━━━━━━━━━━━\u001b[0m \u001b[32m82.2/82.2 kB\u001b[0m \u001b[31m7.2 MB/s\u001b[0m eta \u001b[36m0:00:00\u001b[0m\n",
            "\u001b[?25hDownloading semantic_version-2.10.0-py2.py3-none-any.whl (15 kB)\n",
            "Downloading sentry_sdk-2.0.1-py2.py3-none-any.whl (266 kB)\n",
            "\u001b[2K   \u001b[90m━━━━━━━━━━━━━━━━━━━━━━━━━━━━━━━━━━━━━━━━\u001b[0m \u001b[32m266.8/266.8 kB\u001b[0m \u001b[31m19.2 MB/s\u001b[0m eta \u001b[36m0:00:00\u001b[0m\n",
            "\u001b[?25hDownloading shtab-1.7.1-py3-none-any.whl (14 kB)\n",
            "Downloading torch_fidelity-0.3.0-py3-none-any.whl (37 kB)\n",
            "Downloading websocket_client-1.3.3-py3-none-any.whl (54 kB)\n",
            "\u001b[2K   \u001b[90m━━━━━━━━━━━━━━━━━━━━━━━━━━━━━━━━━━━━━━━━\u001b[0m \u001b[32m54.3/54.3 kB\u001b[0m \u001b[31m4.8 MB/s\u001b[0m eta \u001b[36m0:00:00\u001b[0m\n",
            "\u001b[?25hDownloading websockets-12.0-cp310-cp310-manylinux_2_5_x86_64.manylinux1_x86_64.manylinux_2_17_x86_64.manylinux2014_x86_64.whl (130 kB)\n",
            "\u001b[2K   \u001b[90m━━━━━━━━━━━━━━━━━━━━━━━━━━━━━━━━━━━━━━━━\u001b[0m \u001b[32m130.2/130.2 kB\u001b[0m \u001b[31m11.3 MB/s\u001b[0m eta \u001b[36m0:00:00\u001b[0m\n",
            "\u001b[?25hDownloading wurlitzer-3.1.0-py3-none-any.whl (8.4 kB)\n",
            "Downloading yourdfpy-0.0.56-py3-none-any.whl (22 kB)\n",
            "Downloading descartes-1.1.0-py3-none-any.whl (5.8 kB)\n",
            "Downloading jupyter-1.0.0-py2.py3-none-any.whl (2.7 kB)\n",
            "Downloading setproctitle-1.3.3-cp310-cp310-manylinux_2_5_x86_64.manylinux1_x86_64.manylinux_2_17_x86_64.manylinux2014_x86_64.whl (30 kB)\n",
            "Downloading simplejson-3.19.2-cp310-cp310-manylinux_2_5_x86_64.manylinux1_x86_64.manylinux_2_17_x86_64.manylinux2014_x86_64.whl (137 kB)\n",
            "\u001b[2K   \u001b[90m━━━━━━━━━━━━━━━━━━━━━━━━━━━━━━━━━━━━━━━━\u001b[0m \u001b[32m137.9/137.9 kB\u001b[0m \u001b[31m11.3 MB/s\u001b[0m eta \u001b[36m0:00:00\u001b[0m\n",
            "\u001b[?25hDownloading gitdb-4.0.11-py3-none-any.whl (62 kB)\n",
            "\u001b[2K   \u001b[90m━━━━━━━━━━━━━━━━━━━━━━━━━━━━━━━━━━━━━━━━\u001b[0m \u001b[32m62.7/62.7 kB\u001b[0m \u001b[31m4.9 MB/s\u001b[0m eta \u001b[36m0:00:00\u001b[0m\n",
            "\u001b[?25hDownloading jmespath-1.0.1-py3-none-any.whl (20 kB)\n",
            "Downloading json5-0.9.25-py3-none-any.whl (30 kB)\n",
            "Downloading jupyter_events-0.10.0-py3-none-any.whl (18 kB)\n",
            "Downloading simple_websocket-1.0.0-py3-none-any.whl (13 kB)\n",
            "Downloading configobj-5.0.8-py2.py3-none-any.whl (36 kB)\n",
            "Downloading jupyter_server_terminals-0.5.3-py3-none-any.whl (13 kB)\n",
            "Downloading jupyter_client-7.4.9-py3-none-any.whl (133 kB)\n",
            "\u001b[2K   \u001b[90m━━━━━━━━━━━━━━━━━━━━━━━━━━━━━━━━━━━━━━━━\u001b[0m \u001b[32m133.5/133.5 kB\u001b[0m \u001b[31m10.7 MB/s\u001b[0m eta \u001b[36m0:00:00\u001b[0m\n",
            "\u001b[?25hDownloading nvidia_nvjitlink_cu12-12.4.127-py3-none-manylinux2014_x86_64.whl (21.1 MB)\n",
            "\u001b[2K   \u001b[90m━━━━━━━━━━━━━━━━━━━━━━━━━━━━━━━━━━━━━━━━\u001b[0m \u001b[32m21.1/21.1 MB\u001b[0m \u001b[31m74.2 MB/s\u001b[0m eta \u001b[36m0:00:00\u001b[0m\n",
            "\u001b[?25hDownloading overrides-7.7.0-py3-none-any.whl (17 kB)\n",
            "Downloading qtconsole-5.5.1-py3-none-any.whl (123 kB)\n",
            "\u001b[2K   \u001b[90m━━━━━━━━━━━━━━━━━━━━━━━━━━━━━━━━━━━━━━━━\u001b[0m \u001b[32m123.4/123.4 kB\u001b[0m \u001b[31m10.3 MB/s\u001b[0m eta \u001b[36m0:00:00\u001b[0m\n",
            "\u001b[?25hDownloading h11-0.14.0-py3-none-any.whl (58 kB)\n",
            "\u001b[2K   \u001b[90m━━━━━━━━━━━━━━━━━━━━━━━━━━━━━━━━━━━━━━━━\u001b[0m \u001b[32m58.3/58.3 kB\u001b[0m \u001b[31m4.7 MB/s\u001b[0m eta \u001b[36m0:00:00\u001b[0m\n",
            "\u001b[?25hDownloading python_json_logger-2.0.7-py3-none-any.whl (8.1 kB)\n",
            "Downloading QtPy-2.4.1-py3-none-any.whl (93 kB)\n",
            "\u001b[2K   \u001b[90m━━━━━━━━━━━━━━━━━━━━━━━━━━━━━━━━━━━━━━━━\u001b[0m \u001b[32m93.5/93.5 kB\u001b[0m \u001b[31m8.7 MB/s\u001b[0m eta \u001b[36m0:00:00\u001b[0m\n",
            "\u001b[?25hDownloading rfc3986_validator-0.1.1-py2.py3-none-any.whl (4.2 kB)\n",
            "Downloading smmap-5.0.1-py3-none-any.whl (24 kB)\n",
            "Downloading colorlog-6.8.2-py3-none-any.whl (11 kB)\n",
            "Downloading embreex-2.17.7.post4-cp310-cp310-manylinux_2_28_x86_64.whl (17.0 MB)\n",
            "\u001b[2K   \u001b[90m━━━━━━━━━━━━━━━━━━━━━━━━━━━━━━━━━━━━━━━━\u001b[0m \u001b[32m17.0/17.0 MB\u001b[0m \u001b[31m71.5 MB/s\u001b[0m eta \u001b[36m0:00:00\u001b[0m\n",
            "\u001b[?25hDownloading mapbox_earcut-1.0.1-cp310-cp310-manylinux_2_17_x86_64.manylinux2014_x86_64.whl (104 kB)\n",
            "\u001b[2K   \u001b[90m━━━━━━━━━━━━━━━━━━━━━━━━━━━━━━━━━━━━━━━━\u001b[0m \u001b[32m104.9/104.9 kB\u001b[0m \u001b[31m8.5 MB/s\u001b[0m eta \u001b[36m0:00:00\u001b[0m\n",
            "\u001b[?25hDownloading rfc3339_validator-0.1.4-py2.py3-none-any.whl (3.5 kB)\n",
            "Downloading Rtree-1.2.0-py3-none-manylinux2014_x86_64.manylinux_2_17_x86_64.whl (535 kB)\n",
            "\u001b[2K   \u001b[90m━━━━━━━━━━━━━━━━━━━━━━━━━━━━━━━━━━━━━━━━\u001b[0m \u001b[32m535.2/535.2 kB\u001b[0m \u001b[31m31.4 MB/s\u001b[0m eta \u001b[36m0:00:00\u001b[0m\n",
            "\u001b[?25hDownloading svg.path-6.3-py2.py3-none-any.whl (16 kB)\n",
            "Downloading vhacdx-0.0.6-cp310-cp310-manylinux_2_17_x86_64.manylinux2014_x86_64.whl (206 kB)\n",
            "\u001b[2K   \u001b[90m━━━━━━━━━━━━━━━━━━━━━━━━━━━━━━━━━━━━━━━━\u001b[0m \u001b[32m206.8/206.8 kB\u001b[0m \u001b[31m16.5 MB/s\u001b[0m eta \u001b[36m0:00:00\u001b[0m\n",
            "\u001b[?25hDownloading wsproto-1.2.0-py3-none-any.whl (24 kB)\n",
            "Downloading xxhash-3.4.1-cp310-cp310-manylinux_2_17_x86_64.manylinux2014_x86_64.whl (194 kB)\n",
            "\u001b[2K   \u001b[90m━━━━━━━━━━━━━━━━━━━━━━━━━━━━━━━━━━━━━━━━\u001b[0m \u001b[32m194.1/194.1 kB\u001b[0m \u001b[31m15.8 MB/s\u001b[0m eta \u001b[36m0:00:00\u001b[0m\n",
            "\u001b[?25hDownloading jsonpointer-2.4-py2.py3-none-any.whl (7.8 kB)\n",
            "Downloading fqdn-1.5.1-py3-none-any.whl (9.1 kB)\n",
            "Downloading isoduration-20.11.0-py3-none-any.whl (11 kB)\n",
            "Downloading uri_template-1.3.0-py3-none-any.whl (11 kB)\n",
            "Downloading arrow-1.3.0-py3-none-any.whl (66 kB)\n",
            "\u001b[2K   \u001b[90m━━━━━━━━━━━━━━━━━━━━━━━━━━━━━━━━━━━━━━━━\u001b[0m \u001b[32m66.4/66.4 kB\u001b[0m \u001b[31m5.4 MB/s\u001b[0m eta \u001b[36m0:00:00\u001b[0m\n",
            "\u001b[?25hDownloading types_python_dateutil-2.9.0.20240316-py3-none-any.whl (9.7 kB)\n",
            "Building wheels for collected packages: pyliblzfse, fire, pycollada\n",
            "  Building wheel for pyliblzfse (setup.py) ... \u001b[?25l\u001b[?25hdone\n",
            "  Created wheel for pyliblzfse: filename=pyliblzfse-0.4.1-cp310-cp310-linux_x86_64.whl size=87490 sha256=c7422f27a0895742c453b8030438ca8c3376f752c125f788e5420d8abe5e30ac\n",
            "  Stored in directory: /root/.cache/pip/wheels/d7/a5/02/524ce466ad3c940403767bfe54e967d4070fc88cf6d56ce323\n",
            "  Building wheel for fire (setup.py) ... \u001b[?25l\u001b[?25hdone\n",
            "  Created wheel for fire: filename=fire-0.6.0-py2.py3-none-any.whl size=117029 sha256=1fe864604cda20ff92dcd587bc27dda57439c425fe8fd8e04b5721a53418729f\n",
            "  Stored in directory: /root/.cache/pip/wheels/d6/6d/5d/5b73fa0f46d01a793713f8859201361e9e581ced8c75e5c6a3\n",
            "  Building wheel for pycollada (setup.py) ... \u001b[?25l\u001b[?25hdone\n",
            "  Created wheel for pycollada: filename=pycollada-0.8-py3-none-any.whl size=127515 sha256=c9ed601e9a4958c835e8f02e155b848a7e348f71d51c9ae42008d95e133ed5fc\n",
            "  Stored in directory: /root/.cache/pip/wheels/11/92/79/6e8add42e1e207a97d435169cdc705e0a5dd6fb182f4368f3d\n",
            "Successfully built pyliblzfse fire pycollada\n",
            "Installing collected packages: pyliblzfse, ninja, everett, xxhash, xatlas, wurlitzer, websockets, websocket-client, vhacdx, uri-template, types-python-dateutil, typeguard, trimesh, svg.path, splines, smmap, simplejson, shtab, setproctitle, sentry-sdk, semantic-version, rtree, rsa, rfc3986-validator, rfc3339-validator, rawpy, qtpy, python-json-logger, python-box, pyngrok, pymeshlab, ppft, pox, Pillow, overrides, nvidia-nvtx-cu12, nvidia-nvjitlink-cu12, nvidia-nccl-cu12, nvidia-curand-cu12, nvidia-cufft-cu12, nvidia-cuda-runtime-cu12, nvidia-cuda-nvrtc-cu12, nvidia-cuda-cupti-cu12, nvidia-cublas-cu12, nodeenv, msgpack-numpy, mapbox-earcut, lightning-utilities, jsonpointer, json5, jmespath, h11, fqdn, fire, embreex, dulwich, docutils, docker-pycreds, dill, configobj, colorlog, colorama, av, async-lru, wsproto, requests-toolbelt, pycollada, nvidia-cusparse-cu12, nvidia-cudnn-cu12, multiprocess, jupyter-server-terminals, jupyter-client, jaxtyping, imageio, httpcore, gitdb, botocore, arrow, tyro, simple-websocket, s3transfer, pathos, nvidia-cusolver-cu12, mediapy, isoduration, ipykernel, httpx, GitPython, descartes, wandb, qtconsole, python-engineio, comet-ml, awscli, yourdfpy, torchmetrics, pytorch-msssim, python-socketio, nerfacc, jupyter-events, gsplat, viser, torch-fidelity, timm, jupyter-server, jupyterlab-server, jupyter-lsp, jupyterlab, jupyter, nuscenes-devkit, nerfstudio\n",
            "  Attempting uninstall: websocket-client\n",
            "    Found existing installation: websocket-client 1.8.0\n",
            "    Uninstalling websocket-client-1.8.0:\n",
            "      Successfully uninstalled websocket-client-1.8.0\n",
            "  Attempting uninstall: rsa\n",
            "    Found existing installation: rsa 4.9\n",
            "    Uninstalling rsa-4.9:\n",
            "      Successfully uninstalled rsa-4.9\n",
            "  Attempting uninstall: python-box\n",
            "    Found existing installation: python-box 7.1.1\n",
            "    Uninstalling python-box-7.1.1:\n",
            "      Successfully uninstalled python-box-7.1.1\n",
            "  Attempting uninstall: Pillow\n",
            "    Found existing installation: Pillow 9.4.0\n",
            "    Uninstalling Pillow-9.4.0:\n",
            "      Successfully uninstalled Pillow-9.4.0\n",
            "  Attempting uninstall: docutils\n",
            "    Found existing installation: docutils 0.18.1\n",
            "    Uninstalling docutils-0.18.1:\n",
            "      Successfully uninstalled docutils-0.18.1\n",
            "  Attempting uninstall: jupyter-client\n",
            "    Found existing installation: jupyter-client 6.1.12\n",
            "    Uninstalling jupyter-client-6.1.12:\n",
            "      Successfully uninstalled jupyter-client-6.1.12\n",
            "  Attempting uninstall: imageio\n",
            "    Found existing installation: imageio 2.31.6\n",
            "    Uninstalling imageio-2.31.6:\n",
            "      Successfully uninstalled imageio-2.31.6\n",
            "  Attempting uninstall: ipykernel\n",
            "    Found existing installation: ipykernel 5.5.6\n",
            "    Uninstalling ipykernel-5.5.6:\n",
            "      Successfully uninstalled ipykernel-5.5.6\n",
            "  Attempting uninstall: jupyter-server\n",
            "    Found existing installation: jupyter-server 1.24.0\n",
            "    Uninstalling jupyter-server-1.24.0:\n",
            "      Successfully uninstalled jupyter-server-1.24.0\n",
            "\u001b[31mERROR: pip's dependency resolver does not currently take into account all the packages that are installed. This behaviour is the source of the following dependency conflicts.\n",
            "google-colab 1.0.0 requires ipykernel==5.5.6, but you have ipykernel 6.29.4 which is incompatible.\u001b[0m\u001b[31m\n",
            "\u001b[0mSuccessfully installed GitPython-3.1.43 Pillow-10.3.0 arrow-1.3.0 async-lru-2.0.4 av-12.0.0 awscli-1.32.95 botocore-1.34.95 colorama-0.4.6 colorlog-6.8.2 comet-ml-3.41.0 configobj-5.0.8 descartes-1.1.0 dill-0.3.8 docker-pycreds-0.4.0 docutils-0.16 dulwich-0.22.1 embreex-2.17.7.post4 everett-3.1.0 fire-0.6.0 fqdn-1.5.1 gitdb-4.0.11 gsplat-0.1.11 h11-0.14.0 httpcore-1.0.5 httpx-0.27.0 imageio-2.34.1 ipykernel-6.29.4 isoduration-20.11.0 jaxtyping-0.2.28 jmespath-1.0.1 json5-0.9.25 jsonpointer-2.4 jupyter-1.0.0 jupyter-client-7.4.9 jupyter-events-0.10.0 jupyter-lsp-2.2.5 jupyter-server-2.13.0 jupyter-server-terminals-0.5.3 jupyterlab-4.1.8 jupyterlab-server-2.27.1 lightning-utilities-0.11.2 mapbox-earcut-1.0.1 mediapy-1.2.0 msgpack-numpy-0.4.8 multiprocess-0.70.16 nerfacc-0.5.2 nerfstudio-1.0.3 ninja-1.11.1.1 nodeenv-1.8.0 nuscenes-devkit-1.1.9 nvidia-cublas-cu12-12.1.3.1 nvidia-cuda-cupti-cu12-12.1.105 nvidia-cuda-nvrtc-cu12-12.1.105 nvidia-cuda-runtime-cu12-12.1.105 nvidia-cudnn-cu12-8.9.2.26 nvidia-cufft-cu12-11.0.2.54 nvidia-curand-cu12-10.3.2.106 nvidia-cusolver-cu12-11.4.5.107 nvidia-cusparse-cu12-12.1.0.106 nvidia-nccl-cu12-2.19.3 nvidia-nvjitlink-cu12-12.4.127 nvidia-nvtx-cu12-12.1.105 overrides-7.7.0 pathos-0.3.2 pox-0.3.4 ppft-1.7.6.8 pycollada-0.8 pyliblzfse-0.4.1 pymeshlab-2023.12.post1 pyngrok-7.1.6 python-box-6.1.0 python-engineio-4.9.0 python-json-logger-2.0.7 python-socketio-5.11.2 pytorch-msssim-1.0.0 qtconsole-5.5.1 qtpy-2.4.1 rawpy-0.20.0 requests-toolbelt-1.0.0 rfc3339-validator-0.1.4 rfc3986-validator-0.1.1 rsa-4.7.2 rtree-1.2.0 s3transfer-0.10.1 semantic-version-2.10.0 sentry-sdk-2.0.1 setproctitle-1.3.3 shtab-1.7.1 simple-websocket-1.0.0 simplejson-3.19.2 smmap-5.0.1 splines-0.3.0 svg.path-6.3 timm-0.6.7 torch-fidelity-0.3.0 torchmetrics-1.3.2 trimesh-4.3.2 typeguard-2.13.3 types-python-dateutil-2.9.0.20240316 tyro-0.8.3 uri-template-1.3.0 vhacdx-0.0.6 viser-0.1.26 wandb-0.16.6 websocket-client-1.3.3 websockets-12.0 wsproto-1.2.0 wurlitzer-3.1.0 xatlas-0.0.9 xxhash-3.4.1 yourdfpy-0.0.56\n",
            "\u001b[33mWARNING: Running pip as the 'root' user can result in broken permissions and conflicting behaviour with the system package manager. It is recommended to use a virtual environment instead: https://pip.pypa.io/warnings/venv\u001b[0m\u001b[33m\n",
            "\u001b[0mCollecting pyviz3d\n",
            "  Downloading pyviz3d-0.3.0-py3-none-any.whl.metadata (6.3 kB)\n",
            "Requirement already satisfied: numpy in /usr/local/lib/python3.10/dist-packages (from pyviz3d) (1.25.2)\n",
            "Downloading pyviz3d-0.3.0-py3-none-any.whl (98 kB)\n",
            "\u001b[2K   \u001b[90m━━━━━━━━━━━━━━━━━━━━━━━━━━━━━━━━━━━━━━━━\u001b[0m \u001b[32m98.6/98.6 kB\u001b[0m \u001b[31m2.4 MB/s\u001b[0m eta \u001b[36m0:00:00\u001b[0m\n",
            "\u001b[?25hInstalling collected packages: pyviz3d\n",
            "Successfully installed pyviz3d-0.3.0\n",
            "\u001b[33mWARNING: Running pip as the 'root' user can result in broken permissions and conflicting behaviour with the system package manager. It is recommended to use a virtual environment instead: https://pip.pypa.io/warnings/venv\u001b[0m\u001b[33m\n",
            "\u001b[0m"
          ]
        }
      ]
    },
    {
      "cell_type": "code",
      "source": [
        "!python -m pip install -e /content/gdrive/MyDrive/Uni/adl4vc/opennerf"
      ],
      "metadata": {
        "colab": {
          "base_uri": "https://localhost:8080/"
        },
        "id": "zvfbf_zIJCwG",
        "outputId": "dcc5c029-466d-46a6-feb8-f18bfce3bca9"
      },
      "execution_count": 7,
      "outputs": [
        {
          "output_type": "stream",
          "name": "stdout",
          "text": [
            "Obtaining file:///content/gdrive/MyDrive/Uni/adl4vc/opennerf\n",
            "  Installing build dependencies ... \u001b[?25l\u001b[?25hdone\n",
            "  Checking if build backend supports build_editable ... \u001b[?25l\u001b[?25hdone\n",
            "  Getting requirements to build editable ... \u001b[?25l\u001b[?25hdone\n",
            "  Installing backend dependencies ... \u001b[?25l\u001b[?25hdone\n",
            "  Preparing editable metadata (pyproject.toml) ... \u001b[?25l\u001b[?25hdone\n",
            "Collecting clip@ git+https://github.com/openai/CLIP.git (from opennerf==0.1.0)\n",
            "  Cloning https://github.com/openai/CLIP.git to /tmp/pip-install-t830rkt2/clip_435d4f76bae54edca5e0da826e82e05d\n",
            "  Running command git clone --filter=blob:none --quiet https://github.com/openai/CLIP.git /tmp/pip-install-t830rkt2/clip_435d4f76bae54edca5e0da826e82e05d\n",
            "  Resolved https://github.com/openai/CLIP.git to commit a1d071733d7111c9c014f024669f959182114e33\n",
            "  Preparing metadata (setup.py) ... \u001b[?25l\u001b[?25hdone\n",
            "Collecting open-clip-torch (from opennerf==0.1.0)\n",
            "  Downloading open_clip_torch-2.24.0-py3-none-any.whl.metadata (30 kB)\n",
            "Requirement already satisfied: nerfstudio>=0.3.1 in /usr/local/lib/python3.10/dist-packages (from opennerf==0.1.0) (1.0.3)\n",
            "Requirement already satisfied: tensorflow in /usr/local/lib/python3.10/dist-packages (from opennerf==0.1.0) (2.15.0)\n",
            "Requirement already satisfied: appdirs>=1.4 in /usr/local/lib/python3.10/dist-packages (from nerfstudio>=0.3.1->opennerf==0.1.0) (1.4.4)\n",
            "Requirement already satisfied: av>=9.2.0 in /usr/local/lib/python3.10/dist-packages (from nerfstudio>=0.3.1->opennerf==0.1.0) (12.0.0)\n",
            "Requirement already satisfied: awscli>=1.31.10 in /usr/local/lib/python3.10/dist-packages (from nerfstudio>=0.3.1->opennerf==0.1.0) (1.32.95)\n",
            "Requirement already satisfied: comet-ml>=3.33.8 in /usr/local/lib/python3.10/dist-packages (from nerfstudio>=0.3.1->opennerf==0.1.0) (3.41.0)\n",
            "Requirement already satisfied: cryptography>=38 in /usr/local/lib/python3.10/dist-packages (from nerfstudio>=0.3.1->opennerf==0.1.0) (42.0.5)\n",
            "Requirement already satisfied: tyro>=0.6.6 in /usr/local/lib/python3.10/dist-packages (from nerfstudio>=0.3.1->opennerf==0.1.0) (0.8.3)\n",
            "Requirement already satisfied: gdown>=4.6.0 in /usr/local/lib/python3.10/dist-packages (from nerfstudio>=0.3.1->opennerf==0.1.0) (5.1.0)\n",
            "Requirement already satisfied: ninja>=1.10 in /usr/local/lib/python3.10/dist-packages (from nerfstudio>=0.3.1->opennerf==0.1.0) (1.11.1.1)\n",
            "Requirement already satisfied: h5py>=2.9.0 in /usr/local/lib/python3.10/dist-packages (from nerfstudio>=0.3.1->opennerf==0.1.0) (3.9.0)\n",
            "Requirement already satisfied: imageio>=2.21.1 in /usr/local/lib/python3.10/dist-packages (from nerfstudio>=0.3.1->opennerf==0.1.0) (2.34.1)\n",
            "Requirement already satisfied: ipywidgets>=7.6 in /usr/local/lib/python3.10/dist-packages (from nerfstudio>=0.3.1->opennerf==0.1.0) (8.1.2)\n",
            "Requirement already satisfied: jaxtyping>=0.2.15 in /usr/local/lib/python3.10/dist-packages (from nerfstudio>=0.3.1->opennerf==0.1.0) (0.2.28)\n",
            "Requirement already satisfied: jupyterlab>=3.3.4 in /usr/local/lib/python3.10/dist-packages (from nerfstudio>=0.3.1->opennerf==0.1.0) (4.1.8)\n",
            "Requirement already satisfied: matplotlib>=3.6.0 in /usr/local/lib/python3.10/dist-packages (from nerfstudio>=0.3.1->opennerf==0.1.0) (3.7.1)\n",
            "Requirement already satisfied: mediapy>=1.1.0 in /usr/local/lib/python3.10/dist-packages (from nerfstudio>=0.3.1->opennerf==0.1.0) (1.2.0)\n",
            "Requirement already satisfied: msgpack>=1.0.4 in /usr/local/lib/python3.10/dist-packages (from nerfstudio>=0.3.1->opennerf==0.1.0) (1.0.8)\n",
            "Requirement already satisfied: msgpack-numpy>=0.4.8 in /usr/local/lib/python3.10/dist-packages (from nerfstudio>=0.3.1->opennerf==0.1.0) (0.4.8)\n",
            "Requirement already satisfied: nerfacc==0.5.2 in /usr/local/lib/python3.10/dist-packages (from nerfstudio>=0.3.1->opennerf==0.1.0) (0.5.2)\n",
            "Requirement already satisfied: open3d>=0.16.0 in /usr/local/lib/python3.10/dist-packages (from nerfstudio>=0.3.1->opennerf==0.1.0) (0.18.0)\n",
            "Requirement already satisfied: opencv-python==4.8.0.76 in /usr/local/lib/python3.10/dist-packages (from nerfstudio>=0.3.1->opennerf==0.1.0) (4.8.0.76)\n",
            "Requirement already satisfied: Pillow>=10.3.0 in /usr/local/lib/python3.10/dist-packages (from nerfstudio>=0.3.1->opennerf==0.1.0) (10.3.0)\n",
            "Requirement already satisfied: plotly>=5.7.0 in /usr/local/lib/python3.10/dist-packages (from nerfstudio>=0.3.1->opennerf==0.1.0) (5.15.0)\n",
            "Requirement already satisfied: protobuf!=3.20.0,<=3.20.3 in /usr/local/lib/python3.10/dist-packages (from nerfstudio>=0.3.1->opennerf==0.1.0) (3.20.3)\n",
            "Requirement already satisfied: pyngrok>=5.1.0 in /usr/local/lib/python3.10/dist-packages (from nerfstudio>=0.3.1->opennerf==0.1.0) (7.1.6)\n",
            "Requirement already satisfied: python-socketio>=5.7.1 in /usr/local/lib/python3.10/dist-packages (from nerfstudio>=0.3.1->opennerf==0.1.0) (5.11.2)\n",
            "Requirement already satisfied: pyquaternion>=0.9.9 in /usr/local/lib/python3.10/dist-packages (from nerfstudio>=0.3.1->opennerf==0.1.0) (0.9.9)\n",
            "Requirement already satisfied: requests in /usr/local/lib/python3.10/dist-packages (from nerfstudio>=0.3.1->opennerf==0.1.0) (2.31.0)\n",
            "Requirement already satisfied: rich>=12.5.1 in /usr/local/lib/python3.10/dist-packages (from nerfstudio>=0.3.1->opennerf==0.1.0) (13.7.1)\n",
            "Requirement already satisfied: scikit-image>=0.19.3 in /usr/local/lib/python3.10/dist-packages (from nerfstudio>=0.3.1->opennerf==0.1.0) (0.19.3)\n",
            "Requirement already satisfied: splines==0.3.0 in /usr/local/lib/python3.10/dist-packages (from nerfstudio>=0.3.1->opennerf==0.1.0) (0.3.0)\n",
            "Requirement already satisfied: tensorboard>=2.13.0 in /usr/local/lib/python3.10/dist-packages (from nerfstudio>=0.3.1->opennerf==0.1.0) (2.15.2)\n",
            "Requirement already satisfied: torch>=1.13.1 in /usr/local/lib/python3.10/dist-packages (from nerfstudio>=0.3.1->opennerf==0.1.0) (2.2.1+cu121)\n",
            "Requirement already satisfied: torchvision>=0.14.1 in /usr/local/lib/python3.10/dist-packages (from nerfstudio>=0.3.1->opennerf==0.1.0) (0.17.1+cu121)\n",
            "Requirement already satisfied: torchmetrics>=1.0.1 in /usr/local/lib/python3.10/dist-packages (from torchmetrics[image]>=1.0.1->nerfstudio>=0.3.1->opennerf==0.1.0) (1.3.2)\n",
            "Requirement already satisfied: typing-extensions>=4.4.0 in /usr/local/lib/python3.10/dist-packages (from nerfstudio>=0.3.1->opennerf==0.1.0) (4.11.0)\n",
            "Requirement already satisfied: viser==0.1.26 in /usr/local/lib/python3.10/dist-packages (from nerfstudio>=0.3.1->opennerf==0.1.0) (0.1.26)\n",
            "Requirement already satisfied: nuscenes-devkit>=1.1.1 in /usr/local/lib/python3.10/dist-packages (from nerfstudio>=0.3.1->opennerf==0.1.0) (1.1.9)\n",
            "Requirement already satisfied: wandb>=0.13.3 in /usr/local/lib/python3.10/dist-packages (from nerfstudio>=0.3.1->opennerf==0.1.0) (0.16.6)\n",
            "Requirement already satisfied: xatlas in /usr/local/lib/python3.10/dist-packages (from nerfstudio>=0.3.1->opennerf==0.1.0) (0.0.9)\n",
            "Requirement already satisfied: trimesh>=3.20.2 in /usr/local/lib/python3.10/dist-packages (from nerfstudio>=0.3.1->opennerf==0.1.0) (4.3.2)\n",
            "Requirement already satisfied: timm==0.6.7 in /usr/local/lib/python3.10/dist-packages (from nerfstudio>=0.3.1->opennerf==0.1.0) (0.6.7)\n",
            "Requirement already satisfied: gsplat>=0.1.9 in /usr/local/lib/python3.10/dist-packages (from nerfstudio>=0.3.1->opennerf==0.1.0) (0.1.11)\n",
            "Requirement already satisfied: pytorch-msssim in /usr/local/lib/python3.10/dist-packages (from nerfstudio>=0.3.1->opennerf==0.1.0) (1.0.0)\n",
            "Requirement already satisfied: pathos in /usr/local/lib/python3.10/dist-packages (from nerfstudio>=0.3.1->opennerf==0.1.0) (0.3.2)\n",
            "Requirement already satisfied: packaging in /usr/local/lib/python3.10/dist-packages (from nerfstudio>=0.3.1->opennerf==0.1.0) (24.0)\n",
            "Requirement already satisfied: rawpy>=0.18.1 in /usr/local/lib/python3.10/dist-packages (from nerfstudio>=0.3.1->opennerf==0.1.0) (0.20.0)\n",
            "Requirement already satisfied: pymeshlab>=2022.2.post2 in /usr/local/lib/python3.10/dist-packages (from nerfstudio>=0.3.1->opennerf==0.1.0) (2023.12.post1)\n",
            "Requirement already satisfied: numpy>=1.21.2 in /usr/local/lib/python3.10/dist-packages (from opencv-python==4.8.0.76->nerfstudio>=0.3.1->opennerf==0.1.0) (1.25.2)\n",
            "Requirement already satisfied: websockets>=10.4 in /usr/local/lib/python3.10/dist-packages (from viser==0.1.26->nerfstudio>=0.3.1->opennerf==0.1.0) (12.0)\n",
            "Requirement already satisfied: pyliblzfse>=0.4.1 in /usr/local/lib/python3.10/dist-packages (from viser==0.1.26->nerfstudio>=0.3.1->opennerf==0.1.0) (0.4.1)\n",
            "Requirement already satisfied: scipy>=1.7.3 in /usr/local/lib/python3.10/dist-packages (from viser==0.1.26->nerfstudio>=0.3.1->opennerf==0.1.0) (1.11.4)\n",
            "Requirement already satisfied: tqdm>=4.0.0 in /usr/local/lib/python3.10/dist-packages (from viser==0.1.26->nerfstudio>=0.3.1->opennerf==0.1.0) (4.66.2)\n",
            "Requirement already satisfied: nodeenv>=1.8.0 in /usr/local/lib/python3.10/dist-packages (from viser==0.1.26->nerfstudio>=0.3.1->opennerf==0.1.0) (1.8.0)\n",
            "Requirement already satisfied: psutil>=5.9.5 in /usr/local/lib/python3.10/dist-packages (from viser==0.1.26->nerfstudio>=0.3.1->opennerf==0.1.0) (5.9.5)\n",
            "Requirement already satisfied: yourdfpy>=0.0.53 in /usr/local/lib/python3.10/dist-packages (from viser==0.1.26->nerfstudio>=0.3.1->opennerf==0.1.0) (0.0.56)\n",
            "Collecting ftfy (from clip@ git+https://github.com/openai/CLIP.git->opennerf==0.1.0)\n",
            "  Downloading ftfy-6.2.0-py3-none-any.whl.metadata (7.3 kB)\n",
            "Requirement already satisfied: regex in /usr/local/lib/python3.10/dist-packages (from clip@ git+https://github.com/openai/CLIP.git->opennerf==0.1.0) (2023.12.25)\n",
            "Requirement already satisfied: huggingface-hub in /usr/local/lib/python3.10/dist-packages (from open-clip-torch->opennerf==0.1.0) (0.20.3)\n",
            "Requirement already satisfied: sentencepiece in /usr/local/lib/python3.10/dist-packages (from open-clip-torch->opennerf==0.1.0) (0.1.99)\n",
            "Requirement already satisfied: absl-py>=1.0.0 in /usr/local/lib/python3.10/dist-packages (from tensorflow->opennerf==0.1.0) (1.4.0)\n",
            "Requirement already satisfied: astunparse>=1.6.0 in /usr/local/lib/python3.10/dist-packages (from tensorflow->opennerf==0.1.0) (1.6.3)\n",
            "Requirement already satisfied: flatbuffers>=23.5.26 in /usr/local/lib/python3.10/dist-packages (from tensorflow->opennerf==0.1.0) (24.3.25)\n",
            "Requirement already satisfied: gast!=0.5.0,!=0.5.1,!=0.5.2,>=0.2.1 in /usr/local/lib/python3.10/dist-packages (from tensorflow->opennerf==0.1.0) (0.5.4)\n",
            "Requirement already satisfied: google-pasta>=0.1.1 in /usr/local/lib/python3.10/dist-packages (from tensorflow->opennerf==0.1.0) (0.2.0)\n",
            "Requirement already satisfied: libclang>=13.0.0 in /usr/local/lib/python3.10/dist-packages (from tensorflow->opennerf==0.1.0) (18.1.1)\n",
            "Requirement already satisfied: ml-dtypes~=0.2.0 in /usr/local/lib/python3.10/dist-packages (from tensorflow->opennerf==0.1.0) (0.2.0)\n",
            "Requirement already satisfied: opt-einsum>=2.3.2 in /usr/local/lib/python3.10/dist-packages (from tensorflow->opennerf==0.1.0) (3.3.0)\n",
            "Requirement already satisfied: setuptools in /usr/local/lib/python3.10/dist-packages (from tensorflow->opennerf==0.1.0) (67.7.2)\n",
            "Requirement already satisfied: six>=1.12.0 in /usr/local/lib/python3.10/dist-packages (from tensorflow->opennerf==0.1.0) (1.16.0)\n",
            "Requirement already satisfied: termcolor>=1.1.0 in /usr/local/lib/python3.10/dist-packages (from tensorflow->opennerf==0.1.0) (2.4.0)\n",
            "Requirement already satisfied: wrapt<1.15,>=1.11.0 in /usr/local/lib/python3.10/dist-packages (from tensorflow->opennerf==0.1.0) (1.14.1)\n",
            "Requirement already satisfied: tensorflow-io-gcs-filesystem>=0.23.1 in /usr/local/lib/python3.10/dist-packages (from tensorflow->opennerf==0.1.0) (0.36.0)\n",
            "Requirement already satisfied: grpcio<2.0,>=1.24.3 in /usr/local/lib/python3.10/dist-packages (from tensorflow->opennerf==0.1.0) (1.62.2)\n",
            "Requirement already satisfied: tensorflow-estimator<2.16,>=2.15.0 in /usr/local/lib/python3.10/dist-packages (from tensorflow->opennerf==0.1.0) (2.15.0)\n",
            "Requirement already satisfied: keras<2.16,>=2.15.0 in /usr/local/lib/python3.10/dist-packages (from tensorflow->opennerf==0.1.0) (2.15.0)\n",
            "Requirement already satisfied: wheel<1.0,>=0.23.0 in /usr/local/lib/python3.10/dist-packages (from astunparse>=1.6.0->tensorflow->opennerf==0.1.0) (0.43.0)\n",
            "Requirement already satisfied: botocore==1.34.95 in /usr/local/lib/python3.10/dist-packages (from awscli>=1.31.10->nerfstudio>=0.3.1->opennerf==0.1.0) (1.34.95)\n",
            "Requirement already satisfied: docutils<0.17,>=0.10 in /usr/local/lib/python3.10/dist-packages (from awscli>=1.31.10->nerfstudio>=0.3.1->opennerf==0.1.0) (0.16)\n",
            "Requirement already satisfied: s3transfer<0.11.0,>=0.10.0 in /usr/local/lib/python3.10/dist-packages (from awscli>=1.31.10->nerfstudio>=0.3.1->opennerf==0.1.0) (0.10.1)\n",
            "Requirement already satisfied: PyYAML<6.1,>=3.10 in /usr/local/lib/python3.10/dist-packages (from awscli>=1.31.10->nerfstudio>=0.3.1->opennerf==0.1.0) (6.0.1)\n",
            "Requirement already satisfied: colorama<0.4.7,>=0.2.5 in /usr/local/lib/python3.10/dist-packages (from awscli>=1.31.10->nerfstudio>=0.3.1->opennerf==0.1.0) (0.4.6)\n",
            "Requirement already satisfied: rsa<4.8,>=3.1.2 in /usr/local/lib/python3.10/dist-packages (from awscli>=1.31.10->nerfstudio>=0.3.1->opennerf==0.1.0) (4.7.2)\n",
            "Requirement already satisfied: jmespath<2.0.0,>=0.7.1 in /usr/local/lib/python3.10/dist-packages (from botocore==1.34.95->awscli>=1.31.10->nerfstudio>=0.3.1->opennerf==0.1.0) (1.0.1)\n",
            "Requirement already satisfied: python-dateutil<3.0.0,>=2.1 in /usr/local/lib/python3.10/dist-packages (from botocore==1.34.95->awscli>=1.31.10->nerfstudio>=0.3.1->opennerf==0.1.0) (2.8.2)\n",
            "Requirement already satisfied: urllib3!=2.2.0,<3,>=1.25.4 in /usr/local/lib/python3.10/dist-packages (from botocore==1.34.95->awscli>=1.31.10->nerfstudio>=0.3.1->opennerf==0.1.0) (2.0.7)\n",
            "Requirement already satisfied: everett<3.2.0,>=1.0.1 in /usr/local/lib/python3.10/dist-packages (from everett[ini]<3.2.0,>=1.0.1->comet-ml>=3.33.8->nerfstudio>=0.3.1->opennerf==0.1.0) (3.1.0)\n",
            "Requirement already satisfied: jsonschema!=3.1.0,>=2.6.0 in /usr/local/lib/python3.10/dist-packages (from comet-ml>=3.33.8->nerfstudio>=0.3.1->opennerf==0.1.0) (4.19.2)\n",
            "Requirement already satisfied: python-box<7.0.0 in /usr/local/lib/python3.10/dist-packages (from comet-ml>=3.33.8->nerfstudio>=0.3.1->opennerf==0.1.0) (6.1.0)\n",
            "Requirement already satisfied: requests-toolbelt>=0.8.0 in /usr/local/lib/python3.10/dist-packages (from comet-ml>=3.33.8->nerfstudio>=0.3.1->opennerf==0.1.0) (1.0.0)\n",
            "Requirement already satisfied: semantic-version>=2.8.0 in /usr/local/lib/python3.10/dist-packages (from comet-ml>=3.33.8->nerfstudio>=0.3.1->opennerf==0.1.0) (2.10.0)\n",
            "Requirement already satisfied: sentry-sdk>=1.1.0 in /usr/local/lib/python3.10/dist-packages (from comet-ml>=3.33.8->nerfstudio>=0.3.1->opennerf==0.1.0) (2.0.1)\n",
            "Requirement already satisfied: simplejson in /usr/local/lib/python3.10/dist-packages (from comet-ml>=3.33.8->nerfstudio>=0.3.1->opennerf==0.1.0) (3.19.2)\n",
            "Requirement already satisfied: websocket-client<1.4.0,>=0.55.0 in /usr/local/lib/python3.10/dist-packages (from comet-ml>=3.33.8->nerfstudio>=0.3.1->opennerf==0.1.0) (1.3.3)\n",
            "Requirement already satisfied: wurlitzer>=1.0.2 in /usr/local/lib/python3.10/dist-packages (from comet-ml>=3.33.8->nerfstudio>=0.3.1->opennerf==0.1.0) (3.1.0)\n",
            "Requirement already satisfied: dulwich!=0.20.33,>=0.20.6 in /usr/local/lib/python3.10/dist-packages (from comet-ml>=3.33.8->nerfstudio>=0.3.1->opennerf==0.1.0) (0.22.1)\n",
            "Requirement already satisfied: cffi>=1.12 in /usr/local/lib/python3.10/dist-packages (from cryptography>=38->nerfstudio>=0.3.1->opennerf==0.1.0) (1.16.0)\n",
            "Requirement already satisfied: beautifulsoup4 in /usr/local/lib/python3.10/dist-packages (from gdown>=4.6.0->nerfstudio>=0.3.1->opennerf==0.1.0) (4.12.3)\n",
            "Requirement already satisfied: filelock in /usr/local/lib/python3.10/dist-packages (from gdown>=4.6.0->nerfstudio>=0.3.1->opennerf==0.1.0) (3.13.4)\n",
            "Requirement already satisfied: comm>=0.1.3 in /usr/local/lib/python3.10/dist-packages (from ipywidgets>=7.6->nerfstudio>=0.3.1->opennerf==0.1.0) (0.2.2)\n",
            "Requirement already satisfied: ipython>=6.1.0 in /usr/local/lib/python3.10/dist-packages (from ipywidgets>=7.6->nerfstudio>=0.3.1->opennerf==0.1.0) (7.34.0)\n",
            "Requirement already satisfied: traitlets>=4.3.1 in /usr/local/lib/python3.10/dist-packages (from ipywidgets>=7.6->nerfstudio>=0.3.1->opennerf==0.1.0) (5.7.1)\n",
            "Requirement already satisfied: widgetsnbextension~=4.0.10 in /usr/local/lib/python3.10/dist-packages (from ipywidgets>=7.6->nerfstudio>=0.3.1->opennerf==0.1.0) (4.0.10)\n",
            "Requirement already satisfied: jupyterlab-widgets~=3.0.10 in /usr/local/lib/python3.10/dist-packages (from ipywidgets>=7.6->nerfstudio>=0.3.1->opennerf==0.1.0) (3.0.10)\n",
            "Requirement already satisfied: typeguard==2.13.3 in /usr/local/lib/python3.10/dist-packages (from jaxtyping>=0.2.15->nerfstudio>=0.3.1->opennerf==0.1.0) (2.13.3)\n",
            "Requirement already satisfied: async-lru>=1.0.0 in /usr/local/lib/python3.10/dist-packages (from jupyterlab>=3.3.4->nerfstudio>=0.3.1->opennerf==0.1.0) (2.0.4)\n",
            "Requirement already satisfied: httpx>=0.25.0 in /usr/local/lib/python3.10/dist-packages (from jupyterlab>=3.3.4->nerfstudio>=0.3.1->opennerf==0.1.0) (0.27.0)\n",
            "Requirement already satisfied: ipykernel>=6.5.0 in /usr/local/lib/python3.10/dist-packages (from jupyterlab>=3.3.4->nerfstudio>=0.3.1->opennerf==0.1.0) (6.29.4)\n",
            "Requirement already satisfied: jinja2>=3.0.3 in /usr/local/lib/python3.10/dist-packages (from jupyterlab>=3.3.4->nerfstudio>=0.3.1->opennerf==0.1.0) (3.1.3)\n",
            "Requirement already satisfied: jupyter-core in /usr/local/lib/python3.10/dist-packages (from jupyterlab>=3.3.4->nerfstudio>=0.3.1->opennerf==0.1.0) (5.7.2)\n",
            "Requirement already satisfied: jupyter-lsp>=2.0.0 in /usr/local/lib/python3.10/dist-packages (from jupyterlab>=3.3.4->nerfstudio>=0.3.1->opennerf==0.1.0) (2.2.5)\n",
            "Requirement already satisfied: jupyter-server<3,>=2.4.0 in /usr/local/lib/python3.10/dist-packages (from jupyterlab>=3.3.4->nerfstudio>=0.3.1->opennerf==0.1.0) (2.13.0)\n",
            "Requirement already satisfied: jupyterlab-server<3,>=2.27.1 in /usr/local/lib/python3.10/dist-packages (from jupyterlab>=3.3.4->nerfstudio>=0.3.1->opennerf==0.1.0) (2.27.1)\n",
            "Requirement already satisfied: notebook-shim>=0.2 in /usr/local/lib/python3.10/dist-packages (from jupyterlab>=3.3.4->nerfstudio>=0.3.1->opennerf==0.1.0) (0.2.4)\n",
            "Requirement already satisfied: tomli>=1.2.2 in /usr/local/lib/python3.10/dist-packages (from jupyterlab>=3.3.4->nerfstudio>=0.3.1->opennerf==0.1.0) (2.0.1)\n",
            "Requirement already satisfied: tornado>=6.2.0 in /usr/local/lib/python3.10/dist-packages (from jupyterlab>=3.3.4->nerfstudio>=0.3.1->opennerf==0.1.0) (6.3.3)\n",
            "Requirement already satisfied: contourpy>=1.0.1 in /usr/local/lib/python3.10/dist-packages (from matplotlib>=3.6.0->nerfstudio>=0.3.1->opennerf==0.1.0) (1.2.1)\n",
            "Requirement already satisfied: cycler>=0.10 in /usr/local/lib/python3.10/dist-packages (from matplotlib>=3.6.0->nerfstudio>=0.3.1->opennerf==0.1.0) (0.12.1)\n",
            "Requirement already satisfied: fonttools>=4.22.0 in /usr/local/lib/python3.10/dist-packages (from matplotlib>=3.6.0->nerfstudio>=0.3.1->opennerf==0.1.0) (4.51.0)\n",
            "Requirement already satisfied: kiwisolver>=1.0.1 in /usr/local/lib/python3.10/dist-packages (from matplotlib>=3.6.0->nerfstudio>=0.3.1->opennerf==0.1.0) (1.4.5)\n",
            "Requirement already satisfied: pyparsing>=2.3.1 in /usr/local/lib/python3.10/dist-packages (from matplotlib>=3.6.0->nerfstudio>=0.3.1->opennerf==0.1.0) (3.1.2)\n",
            "Requirement already satisfied: cachetools in /usr/local/lib/python3.10/dist-packages (from nuscenes-devkit>=1.1.1->nerfstudio>=0.3.1->opennerf==0.1.0) (5.3.3)\n",
            "Requirement already satisfied: descartes in /usr/local/lib/python3.10/dist-packages (from nuscenes-devkit>=1.1.1->nerfstudio>=0.3.1->opennerf==0.1.0) (1.1.0)\n",
            "Requirement already satisfied: fire in /usr/local/lib/python3.10/dist-packages (from nuscenes-devkit>=1.1.1->nerfstudio>=0.3.1->opennerf==0.1.0) (0.6.0)\n",
            "Requirement already satisfied: jupyter in /usr/local/lib/python3.10/dist-packages (from nuscenes-devkit>=1.1.1->nerfstudio>=0.3.1->opennerf==0.1.0) (1.0.0)\n",
            "Requirement already satisfied: scikit-learn in /usr/local/lib/python3.10/dist-packages (from nuscenes-devkit>=1.1.1->nerfstudio>=0.3.1->opennerf==0.1.0) (1.2.2)\n",
            "Requirement already satisfied: Shapely in /usr/local/lib/python3.10/dist-packages (from nuscenes-devkit>=1.1.1->nerfstudio>=0.3.1->opennerf==0.1.0) (2.0.4)\n",
            "Requirement already satisfied: pycocotools>=2.0.1 in /usr/local/lib/python3.10/dist-packages (from nuscenes-devkit>=1.1.1->nerfstudio>=0.3.1->opennerf==0.1.0) (2.0.7)\n",
            "Requirement already satisfied: dash>=2.6.0 in /usr/local/lib/python3.10/dist-packages (from open3d>=0.16.0->nerfstudio>=0.3.1->opennerf==0.1.0) (2.16.1)\n",
            "Requirement already satisfied: werkzeug>=2.2.3 in /usr/local/lib/python3.10/dist-packages (from open3d>=0.16.0->nerfstudio>=0.3.1->opennerf==0.1.0) (3.0.2)\n",
            "Requirement already satisfied: nbformat>=5.7.0 in /usr/local/lib/python3.10/dist-packages (from open3d>=0.16.0->nerfstudio>=0.3.1->opennerf==0.1.0) (5.10.4)\n",
            "Requirement already satisfied: configargparse in /usr/local/lib/python3.10/dist-packages (from open3d>=0.16.0->nerfstudio>=0.3.1->opennerf==0.1.0) (1.7)\n",
            "Requirement already satisfied: addict in /usr/local/lib/python3.10/dist-packages (from open3d>=0.16.0->nerfstudio>=0.3.1->opennerf==0.1.0) (2.4.0)\n",
            "Requirement already satisfied: pandas>=1.0 in /usr/local/lib/python3.10/dist-packages (from open3d>=0.16.0->nerfstudio>=0.3.1->opennerf==0.1.0) (2.0.3)\n",
            "Requirement already satisfied: tenacity>=6.2.0 in /usr/local/lib/python3.10/dist-packages (from plotly>=5.7.0->nerfstudio>=0.3.1->opennerf==0.1.0) (8.2.3)\n",
            "Requirement already satisfied: bidict>=0.21.0 in /usr/local/lib/python3.10/dist-packages (from python-socketio>=5.7.1->nerfstudio>=0.3.1->opennerf==0.1.0) (0.23.1)\n",
            "Requirement already satisfied: python-engineio>=4.8.0 in /usr/local/lib/python3.10/dist-packages (from python-socketio>=5.7.1->nerfstudio>=0.3.1->opennerf==0.1.0) (4.9.0)\n",
            "Requirement already satisfied: charset-normalizer<4,>=2 in /usr/local/lib/python3.10/dist-packages (from requests->nerfstudio>=0.3.1->opennerf==0.1.0) (3.3.2)\n",
            "Requirement already satisfied: idna<4,>=2.5 in /usr/local/lib/python3.10/dist-packages (from requests->nerfstudio>=0.3.1->opennerf==0.1.0) (3.7)\n",
            "Requirement already satisfied: certifi>=2017.4.17 in /usr/local/lib/python3.10/dist-packages (from requests->nerfstudio>=0.3.1->opennerf==0.1.0) (2024.2.2)\n",
            "Requirement already satisfied: markdown-it-py>=2.2.0 in /usr/local/lib/python3.10/dist-packages (from rich>=12.5.1->nerfstudio>=0.3.1->opennerf==0.1.0) (3.0.0)\n",
            "Requirement already satisfied: pygments<3.0.0,>=2.13.0 in /usr/local/lib/python3.10/dist-packages (from rich>=12.5.1->nerfstudio>=0.3.1->opennerf==0.1.0) (2.16.1)\n",
            "Requirement already satisfied: networkx>=2.2 in /usr/local/lib/python3.10/dist-packages (from scikit-image>=0.19.3->nerfstudio>=0.3.1->opennerf==0.1.0) (3.3)\n",
            "Requirement already satisfied: tifffile>=2019.7.26 in /usr/local/lib/python3.10/dist-packages (from scikit-image>=0.19.3->nerfstudio>=0.3.1->opennerf==0.1.0) (2024.4.24)\n",
            "Requirement already satisfied: PyWavelets>=1.1.1 in /usr/local/lib/python3.10/dist-packages (from scikit-image>=0.19.3->nerfstudio>=0.3.1->opennerf==0.1.0) (1.6.0)\n",
            "Requirement already satisfied: google-auth<3,>=1.6.3 in /usr/local/lib/python3.10/dist-packages (from tensorboard>=2.13.0->nerfstudio>=0.3.1->opennerf==0.1.0) (2.27.0)\n",
            "Requirement already satisfied: google-auth-oauthlib<2,>=0.5 in /usr/local/lib/python3.10/dist-packages (from tensorboard>=2.13.0->nerfstudio>=0.3.1->opennerf==0.1.0) (1.2.0)\n",
            "Requirement already satisfied: markdown>=2.6.8 in /usr/local/lib/python3.10/dist-packages (from tensorboard>=2.13.0->nerfstudio>=0.3.1->opennerf==0.1.0) (3.6)\n",
            "Requirement already satisfied: tensorboard-data-server<0.8.0,>=0.7.0 in /usr/local/lib/python3.10/dist-packages (from tensorboard>=2.13.0->nerfstudio>=0.3.1->opennerf==0.1.0) (0.7.2)\n",
            "Requirement already satisfied: sympy in /usr/local/lib/python3.10/dist-packages (from torch>=1.13.1->nerfstudio>=0.3.1->opennerf==0.1.0) (1.12)\n",
            "Requirement already satisfied: fsspec in /usr/local/lib/python3.10/dist-packages (from torch>=1.13.1->nerfstudio>=0.3.1->opennerf==0.1.0) (2023.6.0)\n",
            "Requirement already satisfied: nvidia-cuda-nvrtc-cu12==12.1.105 in /usr/local/lib/python3.10/dist-packages (from torch>=1.13.1->nerfstudio>=0.3.1->opennerf==0.1.0) (12.1.105)\n",
            "Requirement already satisfied: nvidia-cuda-runtime-cu12==12.1.105 in /usr/local/lib/python3.10/dist-packages (from torch>=1.13.1->nerfstudio>=0.3.1->opennerf==0.1.0) (12.1.105)\n",
            "Requirement already satisfied: nvidia-cuda-cupti-cu12==12.1.105 in /usr/local/lib/python3.10/dist-packages (from torch>=1.13.1->nerfstudio>=0.3.1->opennerf==0.1.0) (12.1.105)\n",
            "Requirement already satisfied: nvidia-cudnn-cu12==8.9.2.26 in /usr/local/lib/python3.10/dist-packages (from torch>=1.13.1->nerfstudio>=0.3.1->opennerf==0.1.0) (8.9.2.26)\n",
            "Requirement already satisfied: nvidia-cublas-cu12==12.1.3.1 in /usr/local/lib/python3.10/dist-packages (from torch>=1.13.1->nerfstudio>=0.3.1->opennerf==0.1.0) (12.1.3.1)\n",
            "Requirement already satisfied: nvidia-cufft-cu12==11.0.2.54 in /usr/local/lib/python3.10/dist-packages (from torch>=1.13.1->nerfstudio>=0.3.1->opennerf==0.1.0) (11.0.2.54)\n",
            "Requirement already satisfied: nvidia-curand-cu12==10.3.2.106 in /usr/local/lib/python3.10/dist-packages (from torch>=1.13.1->nerfstudio>=0.3.1->opennerf==0.1.0) (10.3.2.106)\n",
            "Requirement already satisfied: nvidia-cusolver-cu12==11.4.5.107 in /usr/local/lib/python3.10/dist-packages (from torch>=1.13.1->nerfstudio>=0.3.1->opennerf==0.1.0) (11.4.5.107)\n",
            "Requirement already satisfied: nvidia-cusparse-cu12==12.1.0.106 in /usr/local/lib/python3.10/dist-packages (from torch>=1.13.1->nerfstudio>=0.3.1->opennerf==0.1.0) (12.1.0.106)\n",
            "Requirement already satisfied: nvidia-nccl-cu12==2.19.3 in /usr/local/lib/python3.10/dist-packages (from torch>=1.13.1->nerfstudio>=0.3.1->opennerf==0.1.0) (2.19.3)\n",
            "Requirement already satisfied: nvidia-nvtx-cu12==12.1.105 in /usr/local/lib/python3.10/dist-packages (from torch>=1.13.1->nerfstudio>=0.3.1->opennerf==0.1.0) (12.1.105)\n",
            "Requirement already satisfied: triton==2.2.0 in /usr/local/lib/python3.10/dist-packages (from torch>=1.13.1->nerfstudio>=0.3.1->opennerf==0.1.0) (2.2.0)\n",
            "Requirement already satisfied: nvidia-nvjitlink-cu12 in /usr/local/lib/python3.10/dist-packages (from nvidia-cusolver-cu12==11.4.5.107->torch>=1.13.1->nerfstudio>=0.3.1->opennerf==0.1.0) (12.4.127)\n",
            "Requirement already satisfied: lightning-utilities>=0.8.0 in /usr/local/lib/python3.10/dist-packages (from torchmetrics>=1.0.1->torchmetrics[image]>=1.0.1->nerfstudio>=0.3.1->opennerf==0.1.0) (0.11.2)\n",
            "Requirement already satisfied: torch-fidelity<=0.4.0 in /usr/local/lib/python3.10/dist-packages (from torchmetrics[image]>=1.0.1->nerfstudio>=0.3.1->opennerf==0.1.0) (0.3.0)\n",
            "Requirement already satisfied: docstring-parser>=0.14.1 in /usr/local/lib/python3.10/dist-packages (from tyro>=0.6.6->nerfstudio>=0.3.1->opennerf==0.1.0) (0.16)\n",
            "Requirement already satisfied: shtab>=1.5.6 in /usr/local/lib/python3.10/dist-packages (from tyro>=0.6.6->nerfstudio>=0.3.1->opennerf==0.1.0) (1.7.1)\n",
            "Requirement already satisfied: Click!=8.0.0,>=7.1 in /usr/local/lib/python3.10/dist-packages (from wandb>=0.13.3->nerfstudio>=0.3.1->opennerf==0.1.0) (8.1.7)\n",
            "Requirement already satisfied: GitPython!=3.1.29,>=1.0.0 in /usr/local/lib/python3.10/dist-packages (from wandb>=0.13.3->nerfstudio>=0.3.1->opennerf==0.1.0) (3.1.43)\n",
            "Requirement already satisfied: docker-pycreds>=0.4.0 in /usr/local/lib/python3.10/dist-packages (from wandb>=0.13.3->nerfstudio>=0.3.1->opennerf==0.1.0) (0.4.0)\n",
            "Requirement already satisfied: setproctitle in /usr/local/lib/python3.10/dist-packages (from wandb>=0.13.3->nerfstudio>=0.3.1->opennerf==0.1.0) (1.3.3)\n",
            "Requirement already satisfied: wcwidth<0.3.0,>=0.2.12 in /usr/local/lib/python3.10/dist-packages (from ftfy->clip@ git+https://github.com/openai/CLIP.git->opennerf==0.1.0) (0.2.13)\n",
            "Requirement already satisfied: ppft>=1.7.6.8 in /usr/local/lib/python3.10/dist-packages (from pathos->nerfstudio>=0.3.1->opennerf==0.1.0) (1.7.6.8)\n",
            "Requirement already satisfied: dill>=0.3.8 in /usr/local/lib/python3.10/dist-packages (from pathos->nerfstudio>=0.3.1->opennerf==0.1.0) (0.3.8)\n",
            "Requirement already satisfied: pox>=0.3.4 in /usr/local/lib/python3.10/dist-packages (from pathos->nerfstudio>=0.3.1->opennerf==0.1.0) (0.3.4)\n",
            "Requirement already satisfied: multiprocess>=0.70.16 in /usr/local/lib/python3.10/dist-packages (from pathos->nerfstudio>=0.3.1->opennerf==0.1.0) (0.70.16)\n",
            "Requirement already satisfied: pycparser in /usr/local/lib/python3.10/dist-packages (from cffi>=1.12->cryptography>=38->nerfstudio>=0.3.1->opennerf==0.1.0) (2.22)\n",
            "Requirement already satisfied: Flask<3.1,>=1.0.4 in /usr/local/lib/python3.10/dist-packages (from dash>=2.6.0->open3d>=0.16.0->nerfstudio>=0.3.1->opennerf==0.1.0) (2.2.5)\n",
            "Requirement already satisfied: dash-html-components==2.0.0 in /usr/local/lib/python3.10/dist-packages (from dash>=2.6.0->open3d>=0.16.0->nerfstudio>=0.3.1->opennerf==0.1.0) (2.0.0)\n",
            "Requirement already satisfied: dash-core-components==2.0.0 in /usr/local/lib/python3.10/dist-packages (from dash>=2.6.0->open3d>=0.16.0->nerfstudio>=0.3.1->opennerf==0.1.0) (2.0.0)\n",
            "Requirement already satisfied: dash-table==5.0.0 in /usr/local/lib/python3.10/dist-packages (from dash>=2.6.0->open3d>=0.16.0->nerfstudio>=0.3.1->opennerf==0.1.0) (5.0.0)\n",
            "Requirement already satisfied: importlib-metadata in /usr/local/lib/python3.10/dist-packages (from dash>=2.6.0->open3d>=0.16.0->nerfstudio>=0.3.1->opennerf==0.1.0) (7.1.0)\n",
            "Requirement already satisfied: retrying in /usr/local/lib/python3.10/dist-packages (from dash>=2.6.0->open3d>=0.16.0->nerfstudio>=0.3.1->opennerf==0.1.0) (1.3.4)\n",
            "Requirement already satisfied: nest-asyncio in /usr/local/lib/python3.10/dist-packages (from dash>=2.6.0->open3d>=0.16.0->nerfstudio>=0.3.1->opennerf==0.1.0) (1.6.0)\n",
            "Requirement already satisfied: configobj in /usr/local/lib/python3.10/dist-packages (from everett[ini]<3.2.0,>=1.0.1->comet-ml>=3.33.8->nerfstudio>=0.3.1->opennerf==0.1.0) (5.0.8)\n",
            "Requirement already satisfied: gitdb<5,>=4.0.1 in /usr/local/lib/python3.10/dist-packages (from GitPython!=3.1.29,>=1.0.0->wandb>=0.13.3->nerfstudio>=0.3.1->opennerf==0.1.0) (4.0.11)\n",
            "Requirement already satisfied: pyasn1-modules>=0.2.1 in /usr/local/lib/python3.10/dist-packages (from google-auth<3,>=1.6.3->tensorboard>=2.13.0->nerfstudio>=0.3.1->opennerf==0.1.0) (0.4.0)\n",
            "Requirement already satisfied: requests-oauthlib>=0.7.0 in /usr/local/lib/python3.10/dist-packages (from google-auth-oauthlib<2,>=0.5->tensorboard>=2.13.0->nerfstudio>=0.3.1->opennerf==0.1.0) (1.3.1)\n",
            "Requirement already satisfied: anyio in /usr/local/lib/python3.10/dist-packages (from httpx>=0.25.0->jupyterlab>=3.3.4->nerfstudio>=0.3.1->opennerf==0.1.0) (3.7.1)\n",
            "Requirement already satisfied: httpcore==1.* in /usr/local/lib/python3.10/dist-packages (from httpx>=0.25.0->jupyterlab>=3.3.4->nerfstudio>=0.3.1->opennerf==0.1.0) (1.0.5)\n",
            "Requirement already satisfied: sniffio in /usr/local/lib/python3.10/dist-packages (from httpx>=0.25.0->jupyterlab>=3.3.4->nerfstudio>=0.3.1->opennerf==0.1.0) (1.3.1)\n",
            "Requirement already satisfied: h11<0.15,>=0.13 in /usr/local/lib/python3.10/dist-packages (from httpcore==1.*->httpx>=0.25.0->jupyterlab>=3.3.4->nerfstudio>=0.3.1->opennerf==0.1.0) (0.14.0)\n",
            "Requirement already satisfied: debugpy>=1.6.5 in /usr/local/lib/python3.10/dist-packages (from ipykernel>=6.5.0->jupyterlab>=3.3.4->nerfstudio>=0.3.1->opennerf==0.1.0) (1.6.6)\n",
            "Requirement already satisfied: jupyter-client>=6.1.12 in /usr/local/lib/python3.10/dist-packages (from ipykernel>=6.5.0->jupyterlab>=3.3.4->nerfstudio>=0.3.1->opennerf==0.1.0) (7.4.9)\n",
            "Requirement already satisfied: matplotlib-inline>=0.1 in /usr/local/lib/python3.10/dist-packages (from ipykernel>=6.5.0->jupyterlab>=3.3.4->nerfstudio>=0.3.1->opennerf==0.1.0) (0.1.7)\n",
            "Requirement already satisfied: pyzmq>=24 in /usr/local/lib/python3.10/dist-packages (from ipykernel>=6.5.0->jupyterlab>=3.3.4->nerfstudio>=0.3.1->opennerf==0.1.0) (24.0.1)\n",
            "Requirement already satisfied: jedi>=0.16 in /usr/local/lib/python3.10/dist-packages (from ipython>=6.1.0->ipywidgets>=7.6->nerfstudio>=0.3.1->opennerf==0.1.0) (0.19.1)\n",
            "Requirement already satisfied: decorator in /usr/local/lib/python3.10/dist-packages (from ipython>=6.1.0->ipywidgets>=7.6->nerfstudio>=0.3.1->opennerf==0.1.0) (4.4.2)\n",
            "Requirement already satisfied: pickleshare in /usr/local/lib/python3.10/dist-packages (from ipython>=6.1.0->ipywidgets>=7.6->nerfstudio>=0.3.1->opennerf==0.1.0) (0.7.5)\n",
            "Requirement already satisfied: prompt-toolkit!=3.0.0,!=3.0.1,<3.1.0,>=2.0.0 in /usr/local/lib/python3.10/dist-packages (from ipython>=6.1.0->ipywidgets>=7.6->nerfstudio>=0.3.1->opennerf==0.1.0) (3.0.43)\n",
            "Requirement already satisfied: backcall in /usr/local/lib/python3.10/dist-packages (from ipython>=6.1.0->ipywidgets>=7.6->nerfstudio>=0.3.1->opennerf==0.1.0) (0.2.0)\n",
            "Requirement already satisfied: pexpect>4.3 in /usr/local/lib/python3.10/dist-packages (from ipython>=6.1.0->ipywidgets>=7.6->nerfstudio>=0.3.1->opennerf==0.1.0) (4.9.0)\n",
            "Requirement already satisfied: MarkupSafe>=2.0 in /usr/local/lib/python3.10/dist-packages (from jinja2>=3.0.3->jupyterlab>=3.3.4->nerfstudio>=0.3.1->opennerf==0.1.0) (2.1.5)\n",
            "Requirement already satisfied: attrs>=22.2.0 in /usr/local/lib/python3.10/dist-packages (from jsonschema!=3.1.0,>=2.6.0->comet-ml>=3.33.8->nerfstudio>=0.3.1->opennerf==0.1.0) (23.2.0)\n",
            "Requirement already satisfied: jsonschema-specifications>=2023.03.6 in /usr/local/lib/python3.10/dist-packages (from jsonschema!=3.1.0,>=2.6.0->comet-ml>=3.33.8->nerfstudio>=0.3.1->opennerf==0.1.0) (2023.12.1)\n",
            "Requirement already satisfied: referencing>=0.28.4 in /usr/local/lib/python3.10/dist-packages (from jsonschema!=3.1.0,>=2.6.0->comet-ml>=3.33.8->nerfstudio>=0.3.1->opennerf==0.1.0) (0.35.0)\n",
            "Requirement already satisfied: rpds-py>=0.7.1 in /usr/local/lib/python3.10/dist-packages (from jsonschema!=3.1.0,>=2.6.0->comet-ml>=3.33.8->nerfstudio>=0.3.1->opennerf==0.1.0) (0.18.0)\n",
            "Requirement already satisfied: platformdirs>=2.5 in /usr/local/lib/python3.10/dist-packages (from jupyter-core->jupyterlab>=3.3.4->nerfstudio>=0.3.1->opennerf==0.1.0) (4.2.1)\n",
            "Requirement already satisfied: argon2-cffi in /usr/local/lib/python3.10/dist-packages (from jupyter-server<3,>=2.4.0->jupyterlab>=3.3.4->nerfstudio>=0.3.1->opennerf==0.1.0) (23.1.0)\n",
            "Requirement already satisfied: jupyter-events>=0.9.0 in /usr/local/lib/python3.10/dist-packages (from jupyter-server<3,>=2.4.0->jupyterlab>=3.3.4->nerfstudio>=0.3.1->opennerf==0.1.0) (0.10.0)\n",
            "Requirement already satisfied: jupyter-server-terminals in /usr/local/lib/python3.10/dist-packages (from jupyter-server<3,>=2.4.0->jupyterlab>=3.3.4->nerfstudio>=0.3.1->opennerf==0.1.0) (0.5.3)\n",
            "Requirement already satisfied: nbconvert>=6.4.4 in /usr/local/lib/python3.10/dist-packages (from jupyter-server<3,>=2.4.0->jupyterlab>=3.3.4->nerfstudio>=0.3.1->opennerf==0.1.0) (6.5.4)\n",
            "Requirement already satisfied: overrides in /usr/local/lib/python3.10/dist-packages (from jupyter-server<3,>=2.4.0->jupyterlab>=3.3.4->nerfstudio>=0.3.1->opennerf==0.1.0) (7.7.0)\n",
            "Requirement already satisfied: prometheus-client in /usr/local/lib/python3.10/dist-packages (from jupyter-server<3,>=2.4.0->jupyterlab>=3.3.4->nerfstudio>=0.3.1->opennerf==0.1.0) (0.20.0)\n",
            "Requirement already satisfied: send2trash>=1.8.2 in /usr/local/lib/python3.10/dist-packages (from jupyter-server<3,>=2.4.0->jupyterlab>=3.3.4->nerfstudio>=0.3.1->opennerf==0.1.0) (1.8.3)\n",
            "Requirement already satisfied: terminado>=0.8.3 in /usr/local/lib/python3.10/dist-packages (from jupyter-server<3,>=2.4.0->jupyterlab>=3.3.4->nerfstudio>=0.3.1->opennerf==0.1.0) (0.18.1)\n",
            "Requirement already satisfied: babel>=2.10 in /usr/local/lib/python3.10/dist-packages (from jupyterlab-server<3,>=2.27.1->jupyterlab>=3.3.4->nerfstudio>=0.3.1->opennerf==0.1.0) (2.14.0)\n",
            "Requirement already satisfied: json5>=0.9.0 in /usr/local/lib/python3.10/dist-packages (from jupyterlab-server<3,>=2.27.1->jupyterlab>=3.3.4->nerfstudio>=0.3.1->opennerf==0.1.0) (0.9.25)\n",
            "Requirement already satisfied: mdurl~=0.1 in /usr/local/lib/python3.10/dist-packages (from markdown-it-py>=2.2.0->rich>=12.5.1->nerfstudio>=0.3.1->opennerf==0.1.0) (0.1.2)\n",
            "Requirement already satisfied: fastjsonschema>=2.15 in /usr/local/lib/python3.10/dist-packages (from nbformat>=5.7.0->open3d>=0.16.0->nerfstudio>=0.3.1->opennerf==0.1.0) (2.19.1)\n",
            "Requirement already satisfied: pytz>=2020.1 in /usr/local/lib/python3.10/dist-packages (from pandas>=1.0->open3d>=0.16.0->nerfstudio>=0.3.1->opennerf==0.1.0) (2023.4)\n",
            "Requirement already satisfied: tzdata>=2022.1 in /usr/local/lib/python3.10/dist-packages (from pandas>=1.0->open3d>=0.16.0->nerfstudio>=0.3.1->opennerf==0.1.0) (2024.1)\n",
            "Requirement already satisfied: simple-websocket>=0.10.0 in /usr/local/lib/python3.10/dist-packages (from python-engineio>=4.8.0->python-socketio>=5.7.1->nerfstudio>=0.3.1->opennerf==0.1.0) (1.0.0)\n",
            "Requirement already satisfied: pyasn1>=0.1.3 in /usr/local/lib/python3.10/dist-packages (from rsa<4.8,>=3.1.2->awscli>=1.31.10->nerfstudio>=0.3.1->opennerf==0.1.0) (0.6.0)\n",
            "Requirement already satisfied: joblib>=1.1.1 in /usr/local/lib/python3.10/dist-packages (from scikit-learn->nuscenes-devkit>=1.1.1->nerfstudio>=0.3.1->opennerf==0.1.0) (1.4.0)\n",
            "Requirement already satisfied: threadpoolctl>=2.0.0 in /usr/local/lib/python3.10/dist-packages (from scikit-learn->nuscenes-devkit>=1.1.1->nerfstudio>=0.3.1->opennerf==0.1.0) (3.4.0)\n",
            "Requirement already satisfied: lxml in /usr/local/lib/python3.10/dist-packages (from yourdfpy>=0.0.53->viser==0.1.26->nerfstudio>=0.3.1->opennerf==0.1.0) (4.9.4)\n",
            "Requirement already satisfied: soupsieve>1.2 in /usr/local/lib/python3.10/dist-packages (from beautifulsoup4->gdown>=4.6.0->nerfstudio>=0.3.1->opennerf==0.1.0) (2.5)\n",
            "Requirement already satisfied: notebook in /usr/local/lib/python3.10/dist-packages (from jupyter->nuscenes-devkit>=1.1.1->nerfstudio>=0.3.1->opennerf==0.1.0) (6.5.5)\n",
            "Requirement already satisfied: qtconsole in /usr/local/lib/python3.10/dist-packages (from jupyter->nuscenes-devkit>=1.1.1->nerfstudio>=0.3.1->opennerf==0.1.0) (5.5.1)\n",
            "Requirement already satisfied: jupyter-console in /usr/local/lib/python3.10/dist-packages (from jupyter->nuscenes-devkit>=1.1.1->nerfstudio>=0.3.1->opennerf==0.1.0) (6.1.0)\n",
            "Requirement already satisfied: PySocks!=1.5.7,>=1.5.6 in /usr/local/lib/python3.10/dist-packages (from requests[socks]->gdown>=4.6.0->nerfstudio>=0.3.1->opennerf==0.1.0) (1.7.1)\n",
            "Requirement already satisfied: mpmath>=0.19 in /usr/local/lib/python3.10/dist-packages (from sympy->torch>=1.13.1->nerfstudio>=0.3.1->opennerf==0.1.0) (1.3.0)\n",
            "Requirement already satisfied: exceptiongroup in /usr/local/lib/python3.10/dist-packages (from anyio->httpx>=0.25.0->jupyterlab>=3.3.4->nerfstudio>=0.3.1->opennerf==0.1.0) (1.2.1)\n",
            "Requirement already satisfied: itsdangerous>=2.0 in /usr/local/lib/python3.10/dist-packages (from Flask<3.1,>=1.0.4->dash>=2.6.0->open3d>=0.16.0->nerfstudio>=0.3.1->opennerf==0.1.0) (2.2.0)\n",
            "Requirement already satisfied: smmap<6,>=3.0.1 in /usr/local/lib/python3.10/dist-packages (from gitdb<5,>=4.0.1->GitPython!=3.1.29,>=1.0.0->wandb>=0.13.3->nerfstudio>=0.3.1->opennerf==0.1.0) (5.0.1)\n",
            "Requirement already satisfied: parso<0.9.0,>=0.8.3 in /usr/local/lib/python3.10/dist-packages (from jedi>=0.16->ipython>=6.1.0->ipywidgets>=7.6->nerfstudio>=0.3.1->opennerf==0.1.0) (0.8.4)\n",
            "Requirement already satisfied: entrypoints in /usr/local/lib/python3.10/dist-packages (from jupyter-client>=6.1.12->ipykernel>=6.5.0->jupyterlab>=3.3.4->nerfstudio>=0.3.1->opennerf==0.1.0) (0.4)\n",
            "Requirement already satisfied: python-json-logger>=2.0.4 in /usr/local/lib/python3.10/dist-packages (from jupyter-events>=0.9.0->jupyter-server<3,>=2.4.0->jupyterlab>=3.3.4->nerfstudio>=0.3.1->opennerf==0.1.0) (2.0.7)\n",
            "Requirement already satisfied: rfc3339-validator in /usr/local/lib/python3.10/dist-packages (from jupyter-events>=0.9.0->jupyter-server<3,>=2.4.0->jupyterlab>=3.3.4->nerfstudio>=0.3.1->opennerf==0.1.0) (0.1.4)\n",
            "Requirement already satisfied: rfc3986-validator>=0.1.1 in /usr/local/lib/python3.10/dist-packages (from jupyter-events>=0.9.0->jupyter-server<3,>=2.4.0->jupyterlab>=3.3.4->nerfstudio>=0.3.1->opennerf==0.1.0) (0.1.1)\n",
            "Requirement already satisfied: bleach in /usr/local/lib/python3.10/dist-packages (from nbconvert>=6.4.4->jupyter-server<3,>=2.4.0->jupyterlab>=3.3.4->nerfstudio>=0.3.1->opennerf==0.1.0) (6.1.0)\n",
            "Requirement already satisfied: defusedxml in /usr/local/lib/python3.10/dist-packages (from nbconvert>=6.4.4->jupyter-server<3,>=2.4.0->jupyterlab>=3.3.4->nerfstudio>=0.3.1->opennerf==0.1.0) (0.7.1)\n",
            "Requirement already satisfied: jupyterlab-pygments in /usr/local/lib/python3.10/dist-packages (from nbconvert>=6.4.4->jupyter-server<3,>=2.4.0->jupyterlab>=3.3.4->nerfstudio>=0.3.1->opennerf==0.1.0) (0.3.0)\n",
            "Requirement already satisfied: mistune<2,>=0.8.1 in /usr/local/lib/python3.10/dist-packages (from nbconvert>=6.4.4->jupyter-server<3,>=2.4.0->jupyterlab>=3.3.4->nerfstudio>=0.3.1->opennerf==0.1.0) (0.8.4)\n",
            "Requirement already satisfied: nbclient>=0.5.0 in /usr/local/lib/python3.10/dist-packages (from nbconvert>=6.4.4->jupyter-server<3,>=2.4.0->jupyterlab>=3.3.4->nerfstudio>=0.3.1->opennerf==0.1.0) (0.10.0)\n",
            "Requirement already satisfied: pandocfilters>=1.4.1 in /usr/local/lib/python3.10/dist-packages (from nbconvert>=6.4.4->jupyter-server<3,>=2.4.0->jupyterlab>=3.3.4->nerfstudio>=0.3.1->opennerf==0.1.0) (1.5.1)\n",
            "Requirement already satisfied: tinycss2 in /usr/local/lib/python3.10/dist-packages (from nbconvert>=6.4.4->jupyter-server<3,>=2.4.0->jupyterlab>=3.3.4->nerfstudio>=0.3.1->opennerf==0.1.0) (1.3.0)\n",
            "Requirement already satisfied: ptyprocess>=0.5 in /usr/local/lib/python3.10/dist-packages (from pexpect>4.3->ipython>=6.1.0->ipywidgets>=7.6->nerfstudio>=0.3.1->opennerf==0.1.0) (0.7.0)\n",
            "Requirement already satisfied: oauthlib>=3.0.0 in /usr/local/lib/python3.10/dist-packages (from requests-oauthlib>=0.7.0->google-auth-oauthlib<2,>=0.5->tensorboard>=2.13.0->nerfstudio>=0.3.1->opennerf==0.1.0) (3.2.2)\n",
            "Requirement already satisfied: wsproto in /usr/local/lib/python3.10/dist-packages (from simple-websocket>=0.10.0->python-engineio>=4.8.0->python-socketio>=5.7.1->nerfstudio>=0.3.1->opennerf==0.1.0) (1.2.0)\n",
            "Requirement already satisfied: colorlog in /usr/local/lib/python3.10/dist-packages (from trimesh[easy]>=3.11.2->yourdfpy>=0.0.53->viser==0.1.26->nerfstudio>=0.3.1->opennerf==0.1.0) (6.8.2)\n",
            "Requirement already satisfied: mapbox-earcut in /usr/local/lib/python3.10/dist-packages (from trimesh[easy]>=3.11.2->yourdfpy>=0.0.53->viser==0.1.26->nerfstudio>=0.3.1->opennerf==0.1.0) (1.0.1)\n",
            "Requirement already satisfied: chardet in /usr/local/lib/python3.10/dist-packages (from trimesh[easy]>=3.11.2->yourdfpy>=0.0.53->viser==0.1.26->nerfstudio>=0.3.1->opennerf==0.1.0) (5.2.0)\n",
            "Requirement already satisfied: svg.path in /usr/local/lib/python3.10/dist-packages (from trimesh[easy]>=3.11.2->yourdfpy>=0.0.53->viser==0.1.26->nerfstudio>=0.3.1->opennerf==0.1.0) (6.3)\n",
            "Requirement already satisfied: pycollada in /usr/local/lib/python3.10/dist-packages (from trimesh[easy]>=3.11.2->yourdfpy>=0.0.53->viser==0.1.26->nerfstudio>=0.3.1->opennerf==0.1.0) (0.8)\n",
            "Requirement already satisfied: xxhash in /usr/local/lib/python3.10/dist-packages (from trimesh[easy]>=3.11.2->yourdfpy>=0.0.53->viser==0.1.26->nerfstudio>=0.3.1->opennerf==0.1.0) (3.4.1)\n",
            "Requirement already satisfied: rtree in /usr/local/lib/python3.10/dist-packages (from trimesh[easy]>=3.11.2->yourdfpy>=0.0.53->viser==0.1.26->nerfstudio>=0.3.1->opennerf==0.1.0) (1.2.0)\n",
            "Requirement already satisfied: embreex in /usr/local/lib/python3.10/dist-packages (from trimesh[easy]>=3.11.2->yourdfpy>=0.0.53->viser==0.1.26->nerfstudio>=0.3.1->opennerf==0.1.0) (2.17.7.post4)\n",
            "Requirement already satisfied: vhacdx in /usr/local/lib/python3.10/dist-packages (from trimesh[easy]>=3.11.2->yourdfpy>=0.0.53->viser==0.1.26->nerfstudio>=0.3.1->opennerf==0.1.0) (0.0.6)\n",
            "Requirement already satisfied: argon2-cffi-bindings in /usr/local/lib/python3.10/dist-packages (from argon2-cffi->jupyter-server<3,>=2.4.0->jupyterlab>=3.3.4->nerfstudio>=0.3.1->opennerf==0.1.0) (21.2.0)\n",
            "Requirement already satisfied: zipp>=0.5 in /usr/local/lib/python3.10/dist-packages (from importlib-metadata->dash>=2.6.0->open3d>=0.16.0->nerfstudio>=0.3.1->opennerf==0.1.0) (3.18.1)\n",
            "Requirement already satisfied: ipython-genutils in /usr/local/lib/python3.10/dist-packages (from notebook->jupyter->nuscenes-devkit>=1.1.1->nerfstudio>=0.3.1->opennerf==0.1.0) (0.2.0)\n",
            "Requirement already satisfied: nbclassic>=0.4.7 in /usr/local/lib/python3.10/dist-packages (from notebook->jupyter->nuscenes-devkit>=1.1.1->nerfstudio>=0.3.1->opennerf==0.1.0) (1.0.0)\n",
            "Requirement already satisfied: qtpy>=2.4.0 in /usr/local/lib/python3.10/dist-packages (from qtconsole->jupyter->nuscenes-devkit>=1.1.1->nerfstudio>=0.3.1->opennerf==0.1.0) (2.4.1)\n",
            "Requirement already satisfied: fqdn in /usr/local/lib/python3.10/dist-packages (from jsonschema[format-nongpl]>=4.18.0->jupyter-events>=0.9.0->jupyter-server<3,>=2.4.0->jupyterlab>=3.3.4->nerfstudio>=0.3.1->opennerf==0.1.0) (1.5.1)\n",
            "Requirement already satisfied: isoduration in /usr/local/lib/python3.10/dist-packages (from jsonschema[format-nongpl]>=4.18.0->jupyter-events>=0.9.0->jupyter-server<3,>=2.4.0->jupyterlab>=3.3.4->nerfstudio>=0.3.1->opennerf==0.1.0) (20.11.0)\n",
            "Requirement already satisfied: jsonpointer>1.13 in /usr/local/lib/python3.10/dist-packages (from jsonschema[format-nongpl]>=4.18.0->jupyter-events>=0.9.0->jupyter-server<3,>=2.4.0->jupyterlab>=3.3.4->nerfstudio>=0.3.1->opennerf==0.1.0) (2.4)\n",
            "Requirement already satisfied: uri-template in /usr/local/lib/python3.10/dist-packages (from jsonschema[format-nongpl]>=4.18.0->jupyter-events>=0.9.0->jupyter-server<3,>=2.4.0->jupyterlab>=3.3.4->nerfstudio>=0.3.1->opennerf==0.1.0) (1.3.0)\n",
            "Requirement already satisfied: webcolors>=1.11 in /usr/local/lib/python3.10/dist-packages (from jsonschema[format-nongpl]>=4.18.0->jupyter-events>=0.9.0->jupyter-server<3,>=2.4.0->jupyterlab>=3.3.4->nerfstudio>=0.3.1->opennerf==0.1.0) (1.13)\n",
            "Requirement already satisfied: webencodings in /usr/local/lib/python3.10/dist-packages (from bleach->nbconvert>=6.4.4->jupyter-server<3,>=2.4.0->jupyterlab>=3.3.4->nerfstudio>=0.3.1->opennerf==0.1.0) (0.5.1)\n",
            "Requirement already satisfied: arrow>=0.15.0 in /usr/local/lib/python3.10/dist-packages (from isoduration->jsonschema[format-nongpl]>=4.18.0->jupyter-events>=0.9.0->jupyter-server<3,>=2.4.0->jupyterlab>=3.3.4->nerfstudio>=0.3.1->opennerf==0.1.0) (1.3.0)\n",
            "Requirement already satisfied: types-python-dateutil>=2.8.10 in /usr/local/lib/python3.10/dist-packages (from arrow>=0.15.0->isoduration->jsonschema[format-nongpl]>=4.18.0->jupyter-events>=0.9.0->jupyter-server<3,>=2.4.0->jupyterlab>=3.3.4->nerfstudio>=0.3.1->opennerf==0.1.0) (2.9.0.20240316)\n",
            "Downloading open_clip_torch-2.24.0-py3-none-any.whl (1.5 MB)\n",
            "\u001b[2K   \u001b[90m━━━━━━━━━━━━━━━━━━━━━━━━━━━━━━━━━━━━━━━━\u001b[0m \u001b[32m1.5/1.5 MB\u001b[0m \u001b[31m8.3 MB/s\u001b[0m eta \u001b[36m0:00:00\u001b[0m\n",
            "\u001b[?25hDownloading ftfy-6.2.0-py3-none-any.whl (54 kB)\n",
            "\u001b[2K   \u001b[90m━━━━━━━━━━━━━━━━━━━━━━━━━━━━━━━━━━━━━━━━\u001b[0m \u001b[32m54.4/54.4 kB\u001b[0m \u001b[31m4.5 MB/s\u001b[0m eta \u001b[36m0:00:00\u001b[0m\n",
            "\u001b[?25hBuilding wheels for collected packages: opennerf, clip\n",
            "  Building editable for opennerf (pyproject.toml) ... \u001b[?25l\u001b[?25hdone\n",
            "  Created wheel for opennerf: filename=opennerf-0.1.0-0.editable-py3-none-any.whl size=3747 sha256=8bb30fe38f85464853a45f14a0586361cb10248ea59083e16eff1f6f39f0c2f5\n",
            "  Stored in directory: /tmp/pip-ephem-wheel-cache-n4_2_mv5/wheels/0b/5f/b6/dd8dcfdc6724566926aae5ae063e624fddbe06cd7b264d9ad0\n",
            "  Building wheel for clip (setup.py) ... \u001b[?25l\u001b[?25hdone\n",
            "  Created wheel for clip: filename=clip-1.0-py3-none-any.whl size=1369499 sha256=5456f133a6100aa44cedeea36aa0f36832bce346674e8bed34cdb68815f96f68\n",
            "  Stored in directory: /tmp/pip-ephem-wheel-cache-n4_2_mv5/wheels/da/2b/4c/d6691fa9597aac8bb85d2ac13b112deb897d5b50f5ad9a37e4\n",
            "Successfully built opennerf clip\n",
            "Installing collected packages: ftfy, clip, open-clip-torch, opennerf\n",
            "Successfully installed clip-1.0 ftfy-6.2.0 open-clip-torch-2.24.0 opennerf-0.1.0\n",
            "\u001b[33mWARNING: Running pip as the 'root' user can result in broken permissions and conflicting behaviour with the system package manager. It is recommended to use a virtual environment instead: https://pip.pypa.io/warnings/venv\u001b[0m\u001b[33m\n",
            "\u001b[0m"
          ]
        }
      ]
    },
    {
      "cell_type": "code",
      "source": [
        "!ns-install-cli"
      ],
      "metadata": {
        "colab": {
          "base_uri": "https://localhost:8080/"
        },
        "id": "2oEoEGb4LLWB",
        "outputId": "3fcbcd64-2086-4cee-d8c0-a84649ae9b31"
      },
      "execution_count": 8,
      "outputs": [
        {
          "output_type": "stream",
          "name": "stdout",
          "text": [
            "\u001b[2;36m[10:43:28]\u001b[0m\u001b[2;36m \u001b[0m🤷 .zshrc not found, skipping.                                                                 \u001b]8;id=507518;file:///usr/local/lib/python3.10/dist-packages/nerfstudio/scripts/completions/install.py\u001b\\\u001b[2minstall.py\u001b[0m\u001b]8;;\u001b\\\u001b[2m:\u001b[0m\u001b]8;id=866406;file:///usr/local/lib/python3.10/dist-packages/nerfstudio/scripts/completions/install.py#369\u001b\\\u001b[2m369\u001b[0m\u001b]8;;\u001b\\\n",
            "\u001b[2;36m          \u001b[0m\u001b[2;36m \u001b[0m🔍 Found .bashrc!                                                                              \u001b]8;id=323852;file:///usr/local/lib/python3.10/dist-packages/nerfstudio/scripts/completions/install.py\u001b\\\u001b[2minstall.py\u001b[0m\u001b]8;;\u001b\\\u001b[2m:\u001b[0m\u001b]8;id=161950;file:///usr/local/lib/python3.10/dist-packages/nerfstudio/scripts/completions/install.py#371\u001b\\\u001b[2m371\u001b[0m\u001b]8;;\u001b\\\n",
            "\u001b[2K\u001b[2;36m[10:43:30]\u001b[0m\u001b[2;36m \u001b[0m✔ Wrote new completion to                                                                      \u001b]8;id=713923;file:///usr/local/lib/python3.10/dist-packages/nerfstudio/scripts/completions/install.py\u001b\\\u001b[2minstall.py\u001b[0m\u001b]8;;\u001b\\\u001b[2m:\u001b[0m\u001b]8;id=962494;file:///usr/local/lib/python3.10/dist-packages/nerfstudio/scripts/completions/install.py#133\u001b\\\u001b[2m133\u001b[0m\u001b]8;;\u001b\\\n",
            "\u001b[2;36m           \u001b[0m\u001b[35m/usr/local/lib/python3.10/dist-packages/nerfstudio/scripts/completions/bash/\u001b[0m\u001b[95m_ns-install-cli\u001b[0m!   \u001b[2m              \u001b[0m\n",
            "\u001b[2K\u001b[2;36m          \u001b[0m\u001b[2;36m \u001b[0m✔ Wrote new completion to                                                                      \u001b]8;id=280239;file:///usr/local/lib/python3.10/dist-packages/nerfstudio/scripts/completions/install.py\u001b\\\u001b[2minstall.py\u001b[0m\u001b]8;;\u001b\\\u001b[2m:\u001b[0m\u001b]8;id=858767;file:///usr/local/lib/python3.10/dist-packages/nerfstudio/scripts/completions/install.py#133\u001b\\\u001b[2m133\u001b[0m\u001b]8;;\u001b\\\n",
            "\u001b[2;36m           \u001b[0m\u001b[35m/usr/local/lib/python3.10/dist-packages/nerfstudio/scripts/completions/bash/\u001b[0m\u001b[95m_ns-dev-test\u001b[0m!      \u001b[2m              \u001b[0m\n",
            "\u001b[2K\u001b[2;36m[10:43:48]\u001b[0m\u001b[2;36m \u001b[0m✔ Wrote new completion to                                                                      \u001b]8;id=170084;file:///usr/local/lib/python3.10/dist-packages/nerfstudio/scripts/completions/install.py\u001b\\\u001b[2minstall.py\u001b[0m\u001b]8;;\u001b\\\u001b[2m:\u001b[0m\u001b]8;id=903097;file:///usr/local/lib/python3.10/dist-packages/nerfstudio/scripts/completions/install.py#133\u001b\\\u001b[2m133\u001b[0m\u001b]8;;\u001b\\\n",
            "\u001b[2;36m           \u001b[0m\u001b[35m/usr/local/lib/python3.10/dist-packages/nerfstudio/scripts/completions/bash/\u001b[0m\u001b[95m_ns-dev-sync-viser\u001b[0m \u001b[2m              \u001b[0m\n",
            "\u001b[2;36m           \u001b[0m\u001b[95m-message-defs\u001b[0m!                                                                                 \u001b[2m              \u001b[0m\n",
            "\u001b[2K\u001b[2;36m[10:43:51]\u001b[0m\u001b[2;36m \u001b[0m✔ Wrote new completion to                                                                      \u001b]8;id=840894;file:///usr/local/lib/python3.10/dist-packages/nerfstudio/scripts/completions/install.py\u001b\\\u001b[2minstall.py\u001b[0m\u001b]8;;\u001b\\\u001b[2m:\u001b[0m\u001b]8;id=840649;file:///usr/local/lib/python3.10/dist-packages/nerfstudio/scripts/completions/install.py#133\u001b\\\u001b[2m133\u001b[0m\u001b]8;;\u001b\\\n",
            "\u001b[2;36m           \u001b[0m\u001b[35m/usr/local/lib/python3.10/dist-packages/nerfstudio/scripts/completions/bash/\u001b[0m\u001b[95m_ns-process-data\u001b[0m!  \u001b[2m              \u001b[0m\n",
            "\u001b[2K\u001b[2;36m[10:44:19]\u001b[0m\u001b[2;36m \u001b[0m✔ Wrote new completion to                                                                      \u001b]8;id=58358;file:///usr/local/lib/python3.10/dist-packages/nerfstudio/scripts/completions/install.py\u001b\\\u001b[2minstall.py\u001b[0m\u001b]8;;\u001b\\\u001b[2m:\u001b[0m\u001b]8;id=710047;file:///usr/local/lib/python3.10/dist-packages/nerfstudio/scripts/completions/install.py#133\u001b\\\u001b[2m133\u001b[0m\u001b]8;;\u001b\\\n",
            "\u001b[2;36m           \u001b[0m\u001b[35m/usr/local/lib/python3.10/dist-packages/nerfstudio/scripts/completions/bash/\u001b[0m\u001b[95m_ns-download-data\u001b[0m! \u001b[2m              \u001b[0m\n",
            "\u001b[2K\u001b[2;36m[10:45:21]\u001b[0m\u001b[2;36m \u001b[0m✔ Wrote new completion to                                                                      \u001b]8;id=608956;file:///usr/local/lib/python3.10/dist-packages/nerfstudio/scripts/completions/install.py\u001b\\\u001b[2minstall.py\u001b[0m\u001b]8;;\u001b\\\u001b[2m:\u001b[0m\u001b]8;id=803387;file:///usr/local/lib/python3.10/dist-packages/nerfstudio/scripts/completions/install.py#133\u001b\\\u001b[2m133\u001b[0m\u001b]8;;\u001b\\\n",
            "\u001b[2;36m           \u001b[0m\u001b[35m/usr/local/lib/python3.10/dist-packages/nerfstudio/scripts/completions/bash/\u001b[0m\u001b[95m_ns-eval\u001b[0m!          \u001b[2m              \u001b[0m\n",
            "\u001b[2K\u001b[2;36m          \u001b[0m\u001b[2;36m \u001b[0m✔ Wrote new completion to                                                                      \u001b]8;id=305538;file:///usr/local/lib/python3.10/dist-packages/nerfstudio/scripts/completions/install.py\u001b\\\u001b[2minstall.py\u001b[0m\u001b]8;;\u001b\\\u001b[2m:\u001b[0m\u001b]8;id=683147;file:///usr/local/lib/python3.10/dist-packages/nerfstudio/scripts/completions/install.py#133\u001b\\\u001b[2m133\u001b[0m\u001b]8;;\u001b\\\n",
            "\u001b[2;36m           \u001b[0m\u001b[35m/usr/local/lib/python3.10/dist-packages/nerfstudio/scripts/completions/bash/\u001b[0m\u001b[95m_ns-train\u001b[0m!         \u001b[2m              \u001b[0m\n",
            "\u001b[2K\u001b[2;36m[10:45:22]\u001b[0m\u001b[2;36m \u001b[0m✔ Wrote new completion to                                                                      \u001b]8;id=447554;file:///usr/local/lib/python3.10/dist-packages/nerfstudio/scripts/completions/install.py\u001b\\\u001b[2minstall.py\u001b[0m\u001b]8;;\u001b\\\u001b[2m:\u001b[0m\u001b]8;id=780905;file:///usr/local/lib/python3.10/dist-packages/nerfstudio/scripts/completions/install.py#133\u001b\\\u001b[2m133\u001b[0m\u001b]8;;\u001b\\\n",
            "\u001b[2;36m           \u001b[0m\u001b[35m/usr/local/lib/python3.10/dist-packages/nerfstudio/scripts/completions/bash/\u001b[0m\u001b[95m_ns-render\u001b[0m!        \u001b[2m              \u001b[0m\n",
            "\u001b[2K\u001b[2;36m[10:45:24]\u001b[0m\u001b[2;36m \u001b[0m✔ Wrote new completion to                                                                      \u001b]8;id=433843;file:///usr/local/lib/python3.10/dist-packages/nerfstudio/scripts/completions/install.py\u001b\\\u001b[2minstall.py\u001b[0m\u001b]8;;\u001b\\\u001b[2m:\u001b[0m\u001b]8;id=191483;file:///usr/local/lib/python3.10/dist-packages/nerfstudio/scripts/completions/install.py#133\u001b\\\u001b[2m133\u001b[0m\u001b]8;;\u001b\\\n",
            "\u001b[2;36m           \u001b[0m\u001b[35m/usr/local/lib/python3.10/dist-packages/nerfstudio/scripts/completions/bash/\u001b[0m\u001b[95m_ns-viewer\u001b[0m!        \u001b[2m              \u001b[0m\n",
            "\u001b[2K\u001b[2;36m[10:45:26]\u001b[0m\u001b[2;36m \u001b[0m✔ Wrote new completion to                                                                      \u001b]8;id=962705;file:///usr/local/lib/python3.10/dist-packages/nerfstudio/scripts/completions/install.py\u001b\\\u001b[2minstall.py\u001b[0m\u001b]8;;\u001b\\\u001b[2m:\u001b[0m\u001b]8;id=788886;file:///usr/local/lib/python3.10/dist-packages/nerfstudio/scripts/completions/install.py#133\u001b\\\u001b[2m133\u001b[0m\u001b]8;;\u001b\\\n",
            "\u001b[2;36m           \u001b[0m\u001b[35m/usr/local/lib/python3.10/dist-packages/nerfstudio/scripts/completions/bash/\u001b[0m\u001b[95m_ns-export\u001b[0m!        \u001b[2m              \u001b[0m\n",
            "\u001b[2K\u001b[32m(     ●)\u001b[0m \u001b[1m✍  Generating completions...\u001b[0m\n",
            "\u001b[1A\u001b[2K\u001b[2;36m          \u001b[0m\u001b[2;36m \u001b[0m🙆 Completions installed to \u001b[35m/root/\u001b[0m\u001b[95m.bashrc.\u001b[0m Exciting! Open a new shell to try them out.         \u001b]8;id=687480;file:///usr/local/lib/python3.10/dist-packages/nerfstudio/scripts/completions/install.py\u001b\\\u001b[2minstall.py\u001b[0m\u001b]8;;\u001b\\\u001b[2m:\u001b[0m\u001b]8;id=905388;file:///usr/local/lib/python3.10/dist-packages/nerfstudio/scripts/completions/install.py#233\u001b\\\u001b[2m233\u001b[0m\u001b]8;;\u001b\\\n",
            "\u001b[1mAll done!\u001b[0m\n",
            "\u001b[0m"
          ]
        }
      ]
    },
    {
      "cell_type": "markdown",
      "source": [
        "# Methods from OpenNerf Repo"
      ],
      "metadata": {
        "id": "v3wYH20r5YRW"
      }
    },
    {
      "cell_type": "code",
      "source": [
        "from pathlib import Path\n",
        "from typing import Optional, List\n",
        "import numpy as np\n",
        "import json\n",
        "import open3d as o3d\n",
        "\n",
        "#import replica\n",
        "\n",
        "# import openreno.utils as utils\n",
        "\n",
        "from nerfstudio.process_data import process_data_utils, record3d_utils\n",
        "from nerfstudio.process_data.process_data_utils import CAMERA_MODELS\n",
        "\n",
        "def process_txt(filename):\n",
        "    with open(filename) as file:\n",
        "        lines = file.readlines()\n",
        "        lines = [line.rstrip() for line in lines]\n",
        "    return lines\n",
        "\n",
        "\n",
        "def process_replica(data: Path, output_dir: Path):\n",
        "    \"\"\"Process Replica data into a nerfstudio dataset.\n",
        "\n",
        "    This script does the following:\n",
        "\n",
        "    1. Scales images to a specified size.\n",
        "    2. Converts Record3D poses into the nerfstudio format.\n",
        "    \"\"\"\n",
        "\n",
        "    mesh_path = data / '..' / 'office0_mesh.ply'  # why do we need this?\n",
        "    scene_point_cloud = o3d.io.read_point_cloud(str(mesh_path))\n",
        "    verbose = True\n",
        "    num_downscales = 3\n",
        "    \"\"\"Number of times to downscale the images. Downscales by 2 each time. For example a value of 3\n",
        "        will downscale the images by 2x, 4x, and 8x.\"\"\"\n",
        "    max_dataset_size = 200\n",
        "    \"\"\"Max number of images to train on. If the dataset has more, images will be sampled approximately evenly. If -1,\n",
        "    use all images.\"\"\"\n",
        "\n",
        "    output_dir.mkdir(parents=True, exist_ok=True)\n",
        "    image_dir = output_dir / \"images\"\n",
        "    image_dir.mkdir(parents=True, exist_ok=True)\n",
        "\n",
        "    summary_log = []\n",
        "\n",
        "    replica_image_dir = data / \"results\"\n",
        "\n",
        "    if not replica_image_dir.exists():\n",
        "        raise ValueError(f\"Image directory {replica_image_dir} doesn't exist\")\n",
        "\n",
        "    replica_image_filenames = []\n",
        "    for f in replica_image_dir.iterdir():\n",
        "        if f.stem.startswith('frame'):  # removes possible duplicate images (for example, 123(3).jpg)\n",
        "            if f.suffix.lower() in [\".jpg\"]:\n",
        "                replica_image_filenames.append(f)\n",
        "\n",
        "    replica_image_filenames = sorted(replica_image_filenames)\n",
        "    num_images = len(replica_image_filenames)\n",
        "    idx = np.arange(num_images)\n",
        "    if max_dataset_size != -1 and num_images > max_dataset_size:\n",
        "        idx = np.round(np.linspace(0, num_images - 1, max_dataset_size)).astype(int)\n",
        "\n",
        "    replica_image_filenames = list(np.array(replica_image_filenames)[idx])\n",
        "\n",
        "    # Copy images to output directory\n",
        "    copied_image_paths = process_data_utils.copy_images_list(\n",
        "        replica_image_filenames,\n",
        "        image_dir=image_dir,\n",
        "        verbose=verbose,\n",
        "        num_downscales=num_downscales,\n",
        "    )\n",
        "    num_frames = len(copied_image_paths)\n",
        "\n",
        "    copied_image_paths = [Path(\"images/\" + copied_image_path.name) for copied_image_path in copied_image_paths]\n",
        "    summary_log.append(f\"Used {num_frames} images out of {num_images} total\")\n",
        "    if max_dataset_size > 0:\n",
        "        summary_log.append(\n",
        "            \"To change the size of the dataset add the argument [yellow]--max_dataset_size[/yellow] to \"\n",
        "            f\"larger than the current value ({max_dataset_size}), or -1 to use all images.\"\n",
        "        )\n",
        "\n",
        "    traj_path = data / \"traj.txt\"\n",
        "    replica_to_json(copied_image_paths, traj_path, output_dir, indices=idx, scene_point_cloud=scene_point_cloud)\n",
        "\n",
        "\n",
        "def replica_to_json(images_paths: List[Path], trajectory_txt: Path, output_dir: Path, indices: np.ndarray, scene_point_cloud) -> int:\n",
        "    \"\"\"Converts Replica's metadata and image paths to a JSON file.\n",
        "\n",
        "    Args:\n",
        "        images_paths: list if image paths.\n",
        "        traj_path: Path to the Replica trajectory file.\n",
        "        output_dir: Path to the output directory.\n",
        "        indices: Indices to sample the metadata_path. Should be the same length as images_paths.\n",
        "\n",
        "    Returns:\n",
        "        The number of registered images.\n",
        "    \"\"\"\n",
        "\n",
        "    assert len(images_paths) == len(indices)\n",
        "\n",
        "    # metadata_dict = io.load_from_json(metadata_path)\n",
        "    # poses_data = np.array(metadata_dict[\"poses\"])  # (N, 3, 4)\n",
        "\n",
        "    poses_data = process_txt(trajectory_txt)\n",
        "    poses_data = np.array(\n",
        "            [np.array(\n",
        "                [float(v) for v in p.split()]).reshape((4, 4)) for p in poses_data]\n",
        "        )\n",
        "    # NB: Record3D / scipy use \"scalar-last\" format quaternions (x y z w)\n",
        "    # https://fzheng.me/2017/11/12/quaternion_conventions_en/\n",
        "    # camera_to_worlds = np.concatenate(\n",
        "    #     [Rotation.from_quat(poses_data[:, :4]).as_matrix(), poses_data[:, 4:, None]],\n",
        "    #     axis=-1,\n",
        "    # ).astype(np.float32)\n",
        "\n",
        "    rot_x = np.eye(4)\n",
        "    a = np.pi\n",
        "    rot_x[1, 1] = np.cos(a)\n",
        "    rot_x[2, 2] = np.cos(a)\n",
        "    rot_x[1, 2] = -np.sin(a)\n",
        "    rot_x[2, 1] = np.sin(a)\n",
        "\n",
        "    camera_to_worlds = poses_data[indices] @ rot_x\n",
        "\n",
        "    import pyviz3d.visualizer as viz\n",
        "    v = viz.Visualizer()\n",
        "    for i in range(camera_to_worlds.shape[0]):\n",
        "        c2w = camera_to_worlds[i, 0:3, :]\n",
        "        origin = c2w @ np.array([0, 0, 0, 1])\n",
        "        v.add_arrow(f'{i};Arrow_1', start=origin, end=c2w @ np.array([0.1, 0.0, 0.0, 1]), color=np.array([255, 0, 0]), stroke_width=0.005, head_width=0.01)\n",
        "        v.add_arrow(f'{i};Arrow_2', start=origin, end=c2w @ np.array([0.0, 0.1, 0.0, 1]), color=np.array([0, 255, 0]), stroke_width=0.005, head_width=0.01)\n",
        "        v.add_arrow(f'{i};Arrow_3', start=origin, end=c2w @ np.array([0.0, 0.0, 0.1, 1]), color=np.array([0, 0, 255]), stroke_width=0.005, head_width=0.01)\n",
        "    v.add_points('scene', np.array(scene_point_cloud.points), np.array(scene_point_cloud.colors) * 255, np.array(scene_point_cloud.normals))\n",
        "    v.save('example_arrows')\n",
        "\n",
        "    frames = []\n",
        "    for i, im_path in enumerate(images_paths):\n",
        "        c2w = camera_to_worlds[i]\n",
        "        frame = {\n",
        "            \"file_path\": im_path.as_posix(),\n",
        "            \"transform_matrix\": c2w.tolist(),\n",
        "        }\n",
        "        frames.append(frame)\n",
        "\n",
        "    with open(trajectory_txt.parents[1] / 'cam_params.json') as file:\n",
        "        cam_params = json.load(file)\n",
        "\n",
        "    # Camera intrinsics\n",
        "    # K = np.array(metadata_dict[\"K\"]).reshape((3, 3)).T\n",
        "    focal_length = cam_params['camera']['fx']  # K[0, 0]\n",
        "\n",
        "    H = cam_params['camera']['h']\n",
        "    W = cam_params['camera']['w']\n",
        "\n",
        "    # TODO(akristoffersen): The metadata dict comes with principle points,\n",
        "    # but caused errors in image coord indexing. Should update once that is fixed.\n",
        "    cx, cy = W / 2.0, H / 2.0\n",
        "\n",
        "    out = {\n",
        "        \"fl_x\": focal_length,\n",
        "        \"fl_y\": focal_length,\n",
        "        \"cx\": cx,\n",
        "        \"cy\": cy,\n",
        "        \"w\": W,\n",
        "        \"h\": H,\n",
        "        \"camera_model\": CAMERA_MODELS[\"perspective\"].name,\n",
        "    }\n",
        "\n",
        "    out[\"frames\"] = frames\n",
        "\n",
        "    with open(output_dir / \"transforms.json\", \"w\", encoding=\"utf-8\") as f:\n",
        "        json.dump(out, f, indent=4)\n",
        "    return len(frames)\n",
        "\n",
        "\n",
        "def visualize_lerf_trajector(dir):\n",
        "\n",
        "    with open(dir / 'transforms.json') as f:\n",
        "        j = json.load(f)\n",
        "\n",
        "    import pyviz3d.visualizer as viz\n",
        "    v = viz.Visualizer()\n",
        "\n",
        "    for i, frame in enumerate(j['frames'][::1]):\n",
        "        c2w = np.array(frame['transform_matrix']).reshape(4,4)[0:3, :]\n",
        "        origin = c2w @ np.array([0, 0, 0, 1])\n",
        "        v.add_arrow(f'{i};Arrow_1', start=origin, end=c2w @ np.array([0.1, 0.0, 0.0, 1]), color=np.array([255, 0, 0]), stroke_width=0.005, head_width=0.01)\n",
        "        v.add_arrow(f'{i};Arrow_2', start=origin, end=c2w @ np.array([0.0, 0.1, 0.0, 1]), color=np.array([0, 255, 0]), stroke_width=0.005, head_width=0.01)\n",
        "        v.add_arrow(f'{i};Arrow_3', start=origin, end=c2w @ np.array([0.0, 0.0, 0.1, 1]), color=np.array([0, 0, 255]), stroke_width=0.005, head_width=0.01)\n",
        "    v.save(dir / 'visualization')"
      ],
      "metadata": {
        "id": "Zg9l1MFnVexY"
      },
      "execution_count": 10,
      "outputs": []
    },
    {
      "cell_type": "markdown",
      "source": [
        "# Visualizing Replica Dataset\n",
        "\n",
        "Download Replica dataset from wget https://cvg-data.inf.ethz.ch/nice-slam/data/Replica.zip\n",
        "\n"
      ],
      "metadata": {
        "id": "k1lYxF3y47vE"
      }
    },
    {
      "cell_type": "code",
      "source": [
        "scenes = ['office0'] #, 'office1', 'office2', 'office3', 'office4', 'room0', 'room1', 'room2',]"
      ],
      "metadata": {
        "id": "wCMj2t2E5UgL"
      },
      "execution_count": null,
      "outputs": []
    },
    {
      "cell_type": "code",
      "source": [
        "for scene in scenes:\n",
        "    data = f'/content/gdrive/MyDrive/Uni/adl4vc/nerf_segmentation/data/replica/{scene}'\n",
        "    output_dir = f'/content/gdrive/MyDrive/Uni/adl4vc/nerf_segmentation/data/nerfstudio_/replica_{scene}'\n",
        "    process_replica(Path(data), Path(output_dir))\n",
        "    #visualize_lerf_trajector(Path(output_dir))"
      ],
      "metadata": {
        "colab": {
          "base_uri": "https://localhost:8080/",
          "height": 1000
        },
        "id": "hUqavIUAXCaG",
        "outputId": "be3d0ead-6f32-45eb-9bae-0c296ca2da41"
      },
      "execution_count": 14,
      "outputs": [
        {
          "output_type": "display_data",
          "data": {
            "text/plain": [
              "\u001b[2;36m[11:17:38]\u001b[0m\u001b[2;36m \u001b[0mCopying image \u001b[1;36m1\u001b[0m of \u001b[1;36m200\u001b[0m\u001b[33m...\u001b[0m                                                           \u001b]8;id=886033;file:///usr/local/lib/python3.10/dist-packages/nerfstudio/process_data/process_data_utils.py\u001b\\\u001b[2mprocess_data_utils.py\u001b[0m\u001b]8;;\u001b\\\u001b[2m:\u001b[0m\u001b]8;id=283413;file:///usr/local/lib/python3.10/dist-packages/nerfstudio/process_data/process_data_utils.py#266\u001b\\\u001b[2m266\u001b[0m\u001b]8;;\u001b\\\n"
            ],
            "text/html": [
              "<pre style=\"white-space:pre;overflow-x:auto;line-height:normal;font-family:Menlo,'DejaVu Sans Mono',consolas,'Courier New',monospace\"><span style=\"color: #7fbfbf; text-decoration-color: #7fbfbf\">[11:17:38] </span>Copying image <span style=\"color: #008080; text-decoration-color: #008080; font-weight: bold\">1</span> of <span style=\"color: #008080; text-decoration-color: #008080; font-weight: bold\">200</span><span style=\"color: #808000; text-decoration-color: #808000\">...</span>                                                           <a href=\"file:///usr/local/lib/python3.10/dist-packages/nerfstudio/process_data/process_data_utils.py\" target=\"_blank\"><span style=\"color: #7f7f7f; text-decoration-color: #7f7f7f\">process_data_utils.py</span></a><span style=\"color: #7f7f7f; text-decoration-color: #7f7f7f\">:</span><a href=\"file:///usr/local/lib/python3.10/dist-packages/nerfstudio/process_data/process_data_utils.py#266\" target=\"_blank\"><span style=\"color: #7f7f7f; text-decoration-color: #7f7f7f\">266</span></a>\n",
              "</pre>\n"
            ]
          },
          "metadata": {}
        },
        {
          "output_type": "display_data",
          "data": {
            "text/plain": [
              "\u001b[2;36m[11:17:39]\u001b[0m\u001b[2;36m \u001b[0mCopying image \u001b[1;36m2\u001b[0m of \u001b[1;36m200\u001b[0m\u001b[33m...\u001b[0m                                                           \u001b]8;id=398241;file:///usr/local/lib/python3.10/dist-packages/nerfstudio/process_data/process_data_utils.py\u001b\\\u001b[2mprocess_data_utils.py\u001b[0m\u001b]8;;\u001b\\\u001b[2m:\u001b[0m\u001b]8;id=43608;file:///usr/local/lib/python3.10/dist-packages/nerfstudio/process_data/process_data_utils.py#266\u001b\\\u001b[2m266\u001b[0m\u001b]8;;\u001b\\\n"
            ],
            "text/html": [
              "<pre style=\"white-space:pre;overflow-x:auto;line-height:normal;font-family:Menlo,'DejaVu Sans Mono',consolas,'Courier New',monospace\"><span style=\"color: #7fbfbf; text-decoration-color: #7fbfbf\">[11:17:39] </span>Copying image <span style=\"color: #008080; text-decoration-color: #008080; font-weight: bold\">2</span> of <span style=\"color: #008080; text-decoration-color: #008080; font-weight: bold\">200</span><span style=\"color: #808000; text-decoration-color: #808000\">...</span>                                                           <a href=\"file:///usr/local/lib/python3.10/dist-packages/nerfstudio/process_data/process_data_utils.py\" target=\"_blank\"><span style=\"color: #7f7f7f; text-decoration-color: #7f7f7f\">process_data_utils.py</span></a><span style=\"color: #7f7f7f; text-decoration-color: #7f7f7f\">:</span><a href=\"file:///usr/local/lib/python3.10/dist-packages/nerfstudio/process_data/process_data_utils.py#266\" target=\"_blank\"><span style=\"color: #7f7f7f; text-decoration-color: #7f7f7f\">266</span></a>\n",
              "</pre>\n"
            ]
          },
          "metadata": {}
        },
        {
          "output_type": "display_data",
          "data": {
            "text/plain": [
              "\u001b[2;36m[11:17:40]\u001b[0m\u001b[2;36m \u001b[0mCopying image \u001b[1;36m3\u001b[0m of \u001b[1;36m200\u001b[0m\u001b[33m...\u001b[0m                                                           \u001b]8;id=99784;file:///usr/local/lib/python3.10/dist-packages/nerfstudio/process_data/process_data_utils.py\u001b\\\u001b[2mprocess_data_utils.py\u001b[0m\u001b]8;;\u001b\\\u001b[2m:\u001b[0m\u001b]8;id=524210;file:///usr/local/lib/python3.10/dist-packages/nerfstudio/process_data/process_data_utils.py#266\u001b\\\u001b[2m266\u001b[0m\u001b]8;;\u001b\\\n"
            ],
            "text/html": [
              "<pre style=\"white-space:pre;overflow-x:auto;line-height:normal;font-family:Menlo,'DejaVu Sans Mono',consolas,'Courier New',monospace\"><span style=\"color: #7fbfbf; text-decoration-color: #7fbfbf\">[11:17:40] </span>Copying image <span style=\"color: #008080; text-decoration-color: #008080; font-weight: bold\">3</span> of <span style=\"color: #008080; text-decoration-color: #008080; font-weight: bold\">200</span><span style=\"color: #808000; text-decoration-color: #808000\">...</span>                                                           <a href=\"file:///usr/local/lib/python3.10/dist-packages/nerfstudio/process_data/process_data_utils.py\" target=\"_blank\"><span style=\"color: #7f7f7f; text-decoration-color: #7f7f7f\">process_data_utils.py</span></a><span style=\"color: #7f7f7f; text-decoration-color: #7f7f7f\">:</span><a href=\"file:///usr/local/lib/python3.10/dist-packages/nerfstudio/process_data/process_data_utils.py#266\" target=\"_blank\"><span style=\"color: #7f7f7f; text-decoration-color: #7f7f7f\">266</span></a>\n",
              "</pre>\n"
            ]
          },
          "metadata": {}
        },
        {
          "output_type": "display_data",
          "data": {
            "text/plain": [
              "\u001b[2;36m          \u001b[0m\u001b[2;36m \u001b[0mCopying image \u001b[1;36m4\u001b[0m of \u001b[1;36m200\u001b[0m\u001b[33m...\u001b[0m                                                           \u001b]8;id=880949;file:///usr/local/lib/python3.10/dist-packages/nerfstudio/process_data/process_data_utils.py\u001b\\\u001b[2mprocess_data_utils.py\u001b[0m\u001b]8;;\u001b\\\u001b[2m:\u001b[0m\u001b]8;id=754347;file:///usr/local/lib/python3.10/dist-packages/nerfstudio/process_data/process_data_utils.py#266\u001b\\\u001b[2m266\u001b[0m\u001b]8;;\u001b\\\n"
            ],
            "text/html": [
              "<pre style=\"white-space:pre;overflow-x:auto;line-height:normal;font-family:Menlo,'DejaVu Sans Mono',consolas,'Courier New',monospace\"><span style=\"color: #7fbfbf; text-decoration-color: #7fbfbf\">           </span>Copying image <span style=\"color: #008080; text-decoration-color: #008080; font-weight: bold\">4</span> of <span style=\"color: #008080; text-decoration-color: #008080; font-weight: bold\">200</span><span style=\"color: #808000; text-decoration-color: #808000\">...</span>                                                           <a href=\"file:///usr/local/lib/python3.10/dist-packages/nerfstudio/process_data/process_data_utils.py\" target=\"_blank\"><span style=\"color: #7f7f7f; text-decoration-color: #7f7f7f\">process_data_utils.py</span></a><span style=\"color: #7f7f7f; text-decoration-color: #7f7f7f\">:</span><a href=\"file:///usr/local/lib/python3.10/dist-packages/nerfstudio/process_data/process_data_utils.py#266\" target=\"_blank\"><span style=\"color: #7f7f7f; text-decoration-color: #7f7f7f\">266</span></a>\n",
              "</pre>\n"
            ]
          },
          "metadata": {}
        },
        {
          "output_type": "display_data",
          "data": {
            "text/plain": [
              "\u001b[2;36m          \u001b[0m\u001b[2;36m \u001b[0mCopying image \u001b[1;36m5\u001b[0m of \u001b[1;36m200\u001b[0m\u001b[33m...\u001b[0m                                                           \u001b]8;id=937417;file:///usr/local/lib/python3.10/dist-packages/nerfstudio/process_data/process_data_utils.py\u001b\\\u001b[2mprocess_data_utils.py\u001b[0m\u001b]8;;\u001b\\\u001b[2m:\u001b[0m\u001b]8;id=684240;file:///usr/local/lib/python3.10/dist-packages/nerfstudio/process_data/process_data_utils.py#266\u001b\\\u001b[2m266\u001b[0m\u001b]8;;\u001b\\\n"
            ],
            "text/html": [
              "<pre style=\"white-space:pre;overflow-x:auto;line-height:normal;font-family:Menlo,'DejaVu Sans Mono',consolas,'Courier New',monospace\"><span style=\"color: #7fbfbf; text-decoration-color: #7fbfbf\">           </span>Copying image <span style=\"color: #008080; text-decoration-color: #008080; font-weight: bold\">5</span> of <span style=\"color: #008080; text-decoration-color: #008080; font-weight: bold\">200</span><span style=\"color: #808000; text-decoration-color: #808000\">...</span>                                                           <a href=\"file:///usr/local/lib/python3.10/dist-packages/nerfstudio/process_data/process_data_utils.py\" target=\"_blank\"><span style=\"color: #7f7f7f; text-decoration-color: #7f7f7f\">process_data_utils.py</span></a><span style=\"color: #7f7f7f; text-decoration-color: #7f7f7f\">:</span><a href=\"file:///usr/local/lib/python3.10/dist-packages/nerfstudio/process_data/process_data_utils.py#266\" target=\"_blank\"><span style=\"color: #7f7f7f; text-decoration-color: #7f7f7f\">266</span></a>\n",
              "</pre>\n"
            ]
          },
          "metadata": {}
        },
        {
          "output_type": "display_data",
          "data": {
            "text/plain": [
              "\u001b[2;36m[11:17:41]\u001b[0m\u001b[2;36m \u001b[0mCopying image \u001b[1;36m6\u001b[0m of \u001b[1;36m200\u001b[0m\u001b[33m...\u001b[0m                                                           \u001b]8;id=146984;file:///usr/local/lib/python3.10/dist-packages/nerfstudio/process_data/process_data_utils.py\u001b\\\u001b[2mprocess_data_utils.py\u001b[0m\u001b]8;;\u001b\\\u001b[2m:\u001b[0m\u001b]8;id=738827;file:///usr/local/lib/python3.10/dist-packages/nerfstudio/process_data/process_data_utils.py#266\u001b\\\u001b[2m266\u001b[0m\u001b]8;;\u001b\\\n"
            ],
            "text/html": [
              "<pre style=\"white-space:pre;overflow-x:auto;line-height:normal;font-family:Menlo,'DejaVu Sans Mono',consolas,'Courier New',monospace\"><span style=\"color: #7fbfbf; text-decoration-color: #7fbfbf\">[11:17:41] </span>Copying image <span style=\"color: #008080; text-decoration-color: #008080; font-weight: bold\">6</span> of <span style=\"color: #008080; text-decoration-color: #008080; font-weight: bold\">200</span><span style=\"color: #808000; text-decoration-color: #808000\">...</span>                                                           <a href=\"file:///usr/local/lib/python3.10/dist-packages/nerfstudio/process_data/process_data_utils.py\" target=\"_blank\"><span style=\"color: #7f7f7f; text-decoration-color: #7f7f7f\">process_data_utils.py</span></a><span style=\"color: #7f7f7f; text-decoration-color: #7f7f7f\">:</span><a href=\"file:///usr/local/lib/python3.10/dist-packages/nerfstudio/process_data/process_data_utils.py#266\" target=\"_blank\"><span style=\"color: #7f7f7f; text-decoration-color: #7f7f7f\">266</span></a>\n",
              "</pre>\n"
            ]
          },
          "metadata": {}
        },
        {
          "output_type": "display_data",
          "data": {
            "text/plain": [
              "\u001b[2;36m          \u001b[0m\u001b[2;36m \u001b[0mCopying image \u001b[1;36m7\u001b[0m of \u001b[1;36m200\u001b[0m\u001b[33m...\u001b[0m                                                           \u001b]8;id=306879;file:///usr/local/lib/python3.10/dist-packages/nerfstudio/process_data/process_data_utils.py\u001b\\\u001b[2mprocess_data_utils.py\u001b[0m\u001b]8;;\u001b\\\u001b[2m:\u001b[0m\u001b]8;id=125475;file:///usr/local/lib/python3.10/dist-packages/nerfstudio/process_data/process_data_utils.py#266\u001b\\\u001b[2m266\u001b[0m\u001b]8;;\u001b\\\n"
            ],
            "text/html": [
              "<pre style=\"white-space:pre;overflow-x:auto;line-height:normal;font-family:Menlo,'DejaVu Sans Mono',consolas,'Courier New',monospace\"><span style=\"color: #7fbfbf; text-decoration-color: #7fbfbf\">           </span>Copying image <span style=\"color: #008080; text-decoration-color: #008080; font-weight: bold\">7</span> of <span style=\"color: #008080; text-decoration-color: #008080; font-weight: bold\">200</span><span style=\"color: #808000; text-decoration-color: #808000\">...</span>                                                           <a href=\"file:///usr/local/lib/python3.10/dist-packages/nerfstudio/process_data/process_data_utils.py\" target=\"_blank\"><span style=\"color: #7f7f7f; text-decoration-color: #7f7f7f\">process_data_utils.py</span></a><span style=\"color: #7f7f7f; text-decoration-color: #7f7f7f\">:</span><a href=\"file:///usr/local/lib/python3.10/dist-packages/nerfstudio/process_data/process_data_utils.py#266\" target=\"_blank\"><span style=\"color: #7f7f7f; text-decoration-color: #7f7f7f\">266</span></a>\n",
              "</pre>\n"
            ]
          },
          "metadata": {}
        },
        {
          "output_type": "display_data",
          "data": {
            "text/plain": [
              "\u001b[2;36m[11:17:42]\u001b[0m\u001b[2;36m \u001b[0mCopying image \u001b[1;36m8\u001b[0m of \u001b[1;36m200\u001b[0m\u001b[33m...\u001b[0m                                                           \u001b]8;id=224114;file:///usr/local/lib/python3.10/dist-packages/nerfstudio/process_data/process_data_utils.py\u001b\\\u001b[2mprocess_data_utils.py\u001b[0m\u001b]8;;\u001b\\\u001b[2m:\u001b[0m\u001b]8;id=961637;file:///usr/local/lib/python3.10/dist-packages/nerfstudio/process_data/process_data_utils.py#266\u001b\\\u001b[2m266\u001b[0m\u001b]8;;\u001b\\\n"
            ],
            "text/html": [
              "<pre style=\"white-space:pre;overflow-x:auto;line-height:normal;font-family:Menlo,'DejaVu Sans Mono',consolas,'Courier New',monospace\"><span style=\"color: #7fbfbf; text-decoration-color: #7fbfbf\">[11:17:42] </span>Copying image <span style=\"color: #008080; text-decoration-color: #008080; font-weight: bold\">8</span> of <span style=\"color: #008080; text-decoration-color: #008080; font-weight: bold\">200</span><span style=\"color: #808000; text-decoration-color: #808000\">...</span>                                                           <a href=\"file:///usr/local/lib/python3.10/dist-packages/nerfstudio/process_data/process_data_utils.py\" target=\"_blank\"><span style=\"color: #7f7f7f; text-decoration-color: #7f7f7f\">process_data_utils.py</span></a><span style=\"color: #7f7f7f; text-decoration-color: #7f7f7f\">:</span><a href=\"file:///usr/local/lib/python3.10/dist-packages/nerfstudio/process_data/process_data_utils.py#266\" target=\"_blank\"><span style=\"color: #7f7f7f; text-decoration-color: #7f7f7f\">266</span></a>\n",
              "</pre>\n"
            ]
          },
          "metadata": {}
        },
        {
          "output_type": "display_data",
          "data": {
            "text/plain": [
              "\u001b[2;36m          \u001b[0m\u001b[2;36m \u001b[0mCopying image \u001b[1;36m9\u001b[0m of \u001b[1;36m200\u001b[0m\u001b[33m...\u001b[0m                                                           \u001b]8;id=85079;file:///usr/local/lib/python3.10/dist-packages/nerfstudio/process_data/process_data_utils.py\u001b\\\u001b[2mprocess_data_utils.py\u001b[0m\u001b]8;;\u001b\\\u001b[2m:\u001b[0m\u001b]8;id=975619;file:///usr/local/lib/python3.10/dist-packages/nerfstudio/process_data/process_data_utils.py#266\u001b\\\u001b[2m266\u001b[0m\u001b]8;;\u001b\\\n"
            ],
            "text/html": [
              "<pre style=\"white-space:pre;overflow-x:auto;line-height:normal;font-family:Menlo,'DejaVu Sans Mono',consolas,'Courier New',monospace\"><span style=\"color: #7fbfbf; text-decoration-color: #7fbfbf\">           </span>Copying image <span style=\"color: #008080; text-decoration-color: #008080; font-weight: bold\">9</span> of <span style=\"color: #008080; text-decoration-color: #008080; font-weight: bold\">200</span><span style=\"color: #808000; text-decoration-color: #808000\">...</span>                                                           <a href=\"file:///usr/local/lib/python3.10/dist-packages/nerfstudio/process_data/process_data_utils.py\" target=\"_blank\"><span style=\"color: #7f7f7f; text-decoration-color: #7f7f7f\">process_data_utils.py</span></a><span style=\"color: #7f7f7f; text-decoration-color: #7f7f7f\">:</span><a href=\"file:///usr/local/lib/python3.10/dist-packages/nerfstudio/process_data/process_data_utils.py#266\" target=\"_blank\"><span style=\"color: #7f7f7f; text-decoration-color: #7f7f7f\">266</span></a>\n",
              "</pre>\n"
            ]
          },
          "metadata": {}
        },
        {
          "output_type": "display_data",
          "data": {
            "text/plain": [
              "\u001b[2;36m[11:17:43]\u001b[0m\u001b[2;36m \u001b[0mCopying image \u001b[1;36m10\u001b[0m of \u001b[1;36m200\u001b[0m\u001b[33m...\u001b[0m                                                          \u001b]8;id=570429;file:///usr/local/lib/python3.10/dist-packages/nerfstudio/process_data/process_data_utils.py\u001b\\\u001b[2mprocess_data_utils.py\u001b[0m\u001b]8;;\u001b\\\u001b[2m:\u001b[0m\u001b]8;id=5031;file:///usr/local/lib/python3.10/dist-packages/nerfstudio/process_data/process_data_utils.py#266\u001b\\\u001b[2m266\u001b[0m\u001b]8;;\u001b\\\n"
            ],
            "text/html": [
              "<pre style=\"white-space:pre;overflow-x:auto;line-height:normal;font-family:Menlo,'DejaVu Sans Mono',consolas,'Courier New',monospace\"><span style=\"color: #7fbfbf; text-decoration-color: #7fbfbf\">[11:17:43] </span>Copying image <span style=\"color: #008080; text-decoration-color: #008080; font-weight: bold\">10</span> of <span style=\"color: #008080; text-decoration-color: #008080; font-weight: bold\">200</span><span style=\"color: #808000; text-decoration-color: #808000\">...</span>                                                          <a href=\"file:///usr/local/lib/python3.10/dist-packages/nerfstudio/process_data/process_data_utils.py\" target=\"_blank\"><span style=\"color: #7f7f7f; text-decoration-color: #7f7f7f\">process_data_utils.py</span></a><span style=\"color: #7f7f7f; text-decoration-color: #7f7f7f\">:</span><a href=\"file:///usr/local/lib/python3.10/dist-packages/nerfstudio/process_data/process_data_utils.py#266\" target=\"_blank\"><span style=\"color: #7f7f7f; text-decoration-color: #7f7f7f\">266</span></a>\n",
              "</pre>\n"
            ]
          },
          "metadata": {}
        },
        {
          "output_type": "display_data",
          "data": {
            "text/plain": [
              "\u001b[2;36m          \u001b[0m\u001b[2;36m \u001b[0mCopying image \u001b[1;36m11\u001b[0m of \u001b[1;36m200\u001b[0m\u001b[33m...\u001b[0m                                                          \u001b]8;id=586304;file:///usr/local/lib/python3.10/dist-packages/nerfstudio/process_data/process_data_utils.py\u001b\\\u001b[2mprocess_data_utils.py\u001b[0m\u001b]8;;\u001b\\\u001b[2m:\u001b[0m\u001b]8;id=993896;file:///usr/local/lib/python3.10/dist-packages/nerfstudio/process_data/process_data_utils.py#266\u001b\\\u001b[2m266\u001b[0m\u001b]8;;\u001b\\\n"
            ],
            "text/html": [
              "<pre style=\"white-space:pre;overflow-x:auto;line-height:normal;font-family:Menlo,'DejaVu Sans Mono',consolas,'Courier New',monospace\"><span style=\"color: #7fbfbf; text-decoration-color: #7fbfbf\">           </span>Copying image <span style=\"color: #008080; text-decoration-color: #008080; font-weight: bold\">11</span> of <span style=\"color: #008080; text-decoration-color: #008080; font-weight: bold\">200</span><span style=\"color: #808000; text-decoration-color: #808000\">...</span>                                                          <a href=\"file:///usr/local/lib/python3.10/dist-packages/nerfstudio/process_data/process_data_utils.py\" target=\"_blank\"><span style=\"color: #7f7f7f; text-decoration-color: #7f7f7f\">process_data_utils.py</span></a><span style=\"color: #7f7f7f; text-decoration-color: #7f7f7f\">:</span><a href=\"file:///usr/local/lib/python3.10/dist-packages/nerfstudio/process_data/process_data_utils.py#266\" target=\"_blank\"><span style=\"color: #7f7f7f; text-decoration-color: #7f7f7f\">266</span></a>\n",
              "</pre>\n"
            ]
          },
          "metadata": {}
        },
        {
          "output_type": "display_data",
          "data": {
            "text/plain": [
              "\u001b[2;36m[11:17:44]\u001b[0m\u001b[2;36m \u001b[0mCopying image \u001b[1;36m12\u001b[0m of \u001b[1;36m200\u001b[0m\u001b[33m...\u001b[0m                                                          \u001b]8;id=615222;file:///usr/local/lib/python3.10/dist-packages/nerfstudio/process_data/process_data_utils.py\u001b\\\u001b[2mprocess_data_utils.py\u001b[0m\u001b]8;;\u001b\\\u001b[2m:\u001b[0m\u001b]8;id=772088;file:///usr/local/lib/python3.10/dist-packages/nerfstudio/process_data/process_data_utils.py#266\u001b\\\u001b[2m266\u001b[0m\u001b]8;;\u001b\\\n"
            ],
            "text/html": [
              "<pre style=\"white-space:pre;overflow-x:auto;line-height:normal;font-family:Menlo,'DejaVu Sans Mono',consolas,'Courier New',monospace\"><span style=\"color: #7fbfbf; text-decoration-color: #7fbfbf\">[11:17:44] </span>Copying image <span style=\"color: #008080; text-decoration-color: #008080; font-weight: bold\">12</span> of <span style=\"color: #008080; text-decoration-color: #008080; font-weight: bold\">200</span><span style=\"color: #808000; text-decoration-color: #808000\">...</span>                                                          <a href=\"file:///usr/local/lib/python3.10/dist-packages/nerfstudio/process_data/process_data_utils.py\" target=\"_blank\"><span style=\"color: #7f7f7f; text-decoration-color: #7f7f7f\">process_data_utils.py</span></a><span style=\"color: #7f7f7f; text-decoration-color: #7f7f7f\">:</span><a href=\"file:///usr/local/lib/python3.10/dist-packages/nerfstudio/process_data/process_data_utils.py#266\" target=\"_blank\"><span style=\"color: #7f7f7f; text-decoration-color: #7f7f7f\">266</span></a>\n",
              "</pre>\n"
            ]
          },
          "metadata": {}
        },
        {
          "output_type": "display_data",
          "data": {
            "text/plain": [
              "\u001b[2;36m          \u001b[0m\u001b[2;36m \u001b[0mCopying image \u001b[1;36m13\u001b[0m of \u001b[1;36m200\u001b[0m\u001b[33m...\u001b[0m                                                          \u001b]8;id=789437;file:///usr/local/lib/python3.10/dist-packages/nerfstudio/process_data/process_data_utils.py\u001b\\\u001b[2mprocess_data_utils.py\u001b[0m\u001b]8;;\u001b\\\u001b[2m:\u001b[0m\u001b]8;id=806170;file:///usr/local/lib/python3.10/dist-packages/nerfstudio/process_data/process_data_utils.py#266\u001b\\\u001b[2m266\u001b[0m\u001b]8;;\u001b\\\n"
            ],
            "text/html": [
              "<pre style=\"white-space:pre;overflow-x:auto;line-height:normal;font-family:Menlo,'DejaVu Sans Mono',consolas,'Courier New',monospace\"><span style=\"color: #7fbfbf; text-decoration-color: #7fbfbf\">           </span>Copying image <span style=\"color: #008080; text-decoration-color: #008080; font-weight: bold\">13</span> of <span style=\"color: #008080; text-decoration-color: #008080; font-weight: bold\">200</span><span style=\"color: #808000; text-decoration-color: #808000\">...</span>                                                          <a href=\"file:///usr/local/lib/python3.10/dist-packages/nerfstudio/process_data/process_data_utils.py\" target=\"_blank\"><span style=\"color: #7f7f7f; text-decoration-color: #7f7f7f\">process_data_utils.py</span></a><span style=\"color: #7f7f7f; text-decoration-color: #7f7f7f\">:</span><a href=\"file:///usr/local/lib/python3.10/dist-packages/nerfstudio/process_data/process_data_utils.py#266\" target=\"_blank\"><span style=\"color: #7f7f7f; text-decoration-color: #7f7f7f\">266</span></a>\n",
              "</pre>\n"
            ]
          },
          "metadata": {}
        },
        {
          "output_type": "display_data",
          "data": {
            "text/plain": [
              "\u001b[2;36m[11:17:45]\u001b[0m\u001b[2;36m \u001b[0mCopying image \u001b[1;36m14\u001b[0m of \u001b[1;36m200\u001b[0m\u001b[33m...\u001b[0m                                                          \u001b]8;id=757002;file:///usr/local/lib/python3.10/dist-packages/nerfstudio/process_data/process_data_utils.py\u001b\\\u001b[2mprocess_data_utils.py\u001b[0m\u001b]8;;\u001b\\\u001b[2m:\u001b[0m\u001b]8;id=307054;file:///usr/local/lib/python3.10/dist-packages/nerfstudio/process_data/process_data_utils.py#266\u001b\\\u001b[2m266\u001b[0m\u001b]8;;\u001b\\\n"
            ],
            "text/html": [
              "<pre style=\"white-space:pre;overflow-x:auto;line-height:normal;font-family:Menlo,'DejaVu Sans Mono',consolas,'Courier New',monospace\"><span style=\"color: #7fbfbf; text-decoration-color: #7fbfbf\">[11:17:45] </span>Copying image <span style=\"color: #008080; text-decoration-color: #008080; font-weight: bold\">14</span> of <span style=\"color: #008080; text-decoration-color: #008080; font-weight: bold\">200</span><span style=\"color: #808000; text-decoration-color: #808000\">...</span>                                                          <a href=\"file:///usr/local/lib/python3.10/dist-packages/nerfstudio/process_data/process_data_utils.py\" target=\"_blank\"><span style=\"color: #7f7f7f; text-decoration-color: #7f7f7f\">process_data_utils.py</span></a><span style=\"color: #7f7f7f; text-decoration-color: #7f7f7f\">:</span><a href=\"file:///usr/local/lib/python3.10/dist-packages/nerfstudio/process_data/process_data_utils.py#266\" target=\"_blank\"><span style=\"color: #7f7f7f; text-decoration-color: #7f7f7f\">266</span></a>\n",
              "</pre>\n"
            ]
          },
          "metadata": {}
        },
        {
          "output_type": "display_data",
          "data": {
            "text/plain": [
              "\u001b[2;36m[11:17:46]\u001b[0m\u001b[2;36m \u001b[0mCopying image \u001b[1;36m15\u001b[0m of \u001b[1;36m200\u001b[0m\u001b[33m...\u001b[0m                                                          \u001b]8;id=629764;file:///usr/local/lib/python3.10/dist-packages/nerfstudio/process_data/process_data_utils.py\u001b\\\u001b[2mprocess_data_utils.py\u001b[0m\u001b]8;;\u001b\\\u001b[2m:\u001b[0m\u001b]8;id=845644;file:///usr/local/lib/python3.10/dist-packages/nerfstudio/process_data/process_data_utils.py#266\u001b\\\u001b[2m266\u001b[0m\u001b]8;;\u001b\\\n"
            ],
            "text/html": [
              "<pre style=\"white-space:pre;overflow-x:auto;line-height:normal;font-family:Menlo,'DejaVu Sans Mono',consolas,'Courier New',monospace\"><span style=\"color: #7fbfbf; text-decoration-color: #7fbfbf\">[11:17:46] </span>Copying image <span style=\"color: #008080; text-decoration-color: #008080; font-weight: bold\">15</span> of <span style=\"color: #008080; text-decoration-color: #008080; font-weight: bold\">200</span><span style=\"color: #808000; text-decoration-color: #808000\">...</span>                                                          <a href=\"file:///usr/local/lib/python3.10/dist-packages/nerfstudio/process_data/process_data_utils.py\" target=\"_blank\"><span style=\"color: #7f7f7f; text-decoration-color: #7f7f7f\">process_data_utils.py</span></a><span style=\"color: #7f7f7f; text-decoration-color: #7f7f7f\">:</span><a href=\"file:///usr/local/lib/python3.10/dist-packages/nerfstudio/process_data/process_data_utils.py#266\" target=\"_blank\"><span style=\"color: #7f7f7f; text-decoration-color: #7f7f7f\">266</span></a>\n",
              "</pre>\n"
            ]
          },
          "metadata": {}
        },
        {
          "output_type": "display_data",
          "data": {
            "text/plain": [
              "\u001b[2;36m          \u001b[0m\u001b[2;36m \u001b[0mCopying image \u001b[1;36m16\u001b[0m of \u001b[1;36m200\u001b[0m\u001b[33m...\u001b[0m                                                          \u001b]8;id=651093;file:///usr/local/lib/python3.10/dist-packages/nerfstudio/process_data/process_data_utils.py\u001b\\\u001b[2mprocess_data_utils.py\u001b[0m\u001b]8;;\u001b\\\u001b[2m:\u001b[0m\u001b]8;id=251079;file:///usr/local/lib/python3.10/dist-packages/nerfstudio/process_data/process_data_utils.py#266\u001b\\\u001b[2m266\u001b[0m\u001b]8;;\u001b\\\n"
            ],
            "text/html": [
              "<pre style=\"white-space:pre;overflow-x:auto;line-height:normal;font-family:Menlo,'DejaVu Sans Mono',consolas,'Courier New',monospace\"><span style=\"color: #7fbfbf; text-decoration-color: #7fbfbf\">           </span>Copying image <span style=\"color: #008080; text-decoration-color: #008080; font-weight: bold\">16</span> of <span style=\"color: #008080; text-decoration-color: #008080; font-weight: bold\">200</span><span style=\"color: #808000; text-decoration-color: #808000\">...</span>                                                          <a href=\"file:///usr/local/lib/python3.10/dist-packages/nerfstudio/process_data/process_data_utils.py\" target=\"_blank\"><span style=\"color: #7f7f7f; text-decoration-color: #7f7f7f\">process_data_utils.py</span></a><span style=\"color: #7f7f7f; text-decoration-color: #7f7f7f\">:</span><a href=\"file:///usr/local/lib/python3.10/dist-packages/nerfstudio/process_data/process_data_utils.py#266\" target=\"_blank\"><span style=\"color: #7f7f7f; text-decoration-color: #7f7f7f\">266</span></a>\n",
              "</pre>\n"
            ]
          },
          "metadata": {}
        },
        {
          "output_type": "display_data",
          "data": {
            "text/plain": [
              "\u001b[2;36m[11:17:47]\u001b[0m\u001b[2;36m \u001b[0mCopying image \u001b[1;36m17\u001b[0m of \u001b[1;36m200\u001b[0m\u001b[33m...\u001b[0m                                                          \u001b]8;id=367168;file:///usr/local/lib/python3.10/dist-packages/nerfstudio/process_data/process_data_utils.py\u001b\\\u001b[2mprocess_data_utils.py\u001b[0m\u001b]8;;\u001b\\\u001b[2m:\u001b[0m\u001b]8;id=492672;file:///usr/local/lib/python3.10/dist-packages/nerfstudio/process_data/process_data_utils.py#266\u001b\\\u001b[2m266\u001b[0m\u001b]8;;\u001b\\\n"
            ],
            "text/html": [
              "<pre style=\"white-space:pre;overflow-x:auto;line-height:normal;font-family:Menlo,'DejaVu Sans Mono',consolas,'Courier New',monospace\"><span style=\"color: #7fbfbf; text-decoration-color: #7fbfbf\">[11:17:47] </span>Copying image <span style=\"color: #008080; text-decoration-color: #008080; font-weight: bold\">17</span> of <span style=\"color: #008080; text-decoration-color: #008080; font-weight: bold\">200</span><span style=\"color: #808000; text-decoration-color: #808000\">...</span>                                                          <a href=\"file:///usr/local/lib/python3.10/dist-packages/nerfstudio/process_data/process_data_utils.py\" target=\"_blank\"><span style=\"color: #7f7f7f; text-decoration-color: #7f7f7f\">process_data_utils.py</span></a><span style=\"color: #7f7f7f; text-decoration-color: #7f7f7f\">:</span><a href=\"file:///usr/local/lib/python3.10/dist-packages/nerfstudio/process_data/process_data_utils.py#266\" target=\"_blank\"><span style=\"color: #7f7f7f; text-decoration-color: #7f7f7f\">266</span></a>\n",
              "</pre>\n"
            ]
          },
          "metadata": {}
        },
        {
          "output_type": "display_data",
          "data": {
            "text/plain": [
              "\u001b[2;36m          \u001b[0m\u001b[2;36m \u001b[0mCopying image \u001b[1;36m18\u001b[0m of \u001b[1;36m200\u001b[0m\u001b[33m...\u001b[0m                                                          \u001b]8;id=477561;file:///usr/local/lib/python3.10/dist-packages/nerfstudio/process_data/process_data_utils.py\u001b\\\u001b[2mprocess_data_utils.py\u001b[0m\u001b]8;;\u001b\\\u001b[2m:\u001b[0m\u001b]8;id=488934;file:///usr/local/lib/python3.10/dist-packages/nerfstudio/process_data/process_data_utils.py#266\u001b\\\u001b[2m266\u001b[0m\u001b]8;;\u001b\\\n"
            ],
            "text/html": [
              "<pre style=\"white-space:pre;overflow-x:auto;line-height:normal;font-family:Menlo,'DejaVu Sans Mono',consolas,'Courier New',monospace\"><span style=\"color: #7fbfbf; text-decoration-color: #7fbfbf\">           </span>Copying image <span style=\"color: #008080; text-decoration-color: #008080; font-weight: bold\">18</span> of <span style=\"color: #008080; text-decoration-color: #008080; font-weight: bold\">200</span><span style=\"color: #808000; text-decoration-color: #808000\">...</span>                                                          <a href=\"file:///usr/local/lib/python3.10/dist-packages/nerfstudio/process_data/process_data_utils.py\" target=\"_blank\"><span style=\"color: #7f7f7f; text-decoration-color: #7f7f7f\">process_data_utils.py</span></a><span style=\"color: #7f7f7f; text-decoration-color: #7f7f7f\">:</span><a href=\"file:///usr/local/lib/python3.10/dist-packages/nerfstudio/process_data/process_data_utils.py#266\" target=\"_blank\"><span style=\"color: #7f7f7f; text-decoration-color: #7f7f7f\">266</span></a>\n",
              "</pre>\n"
            ]
          },
          "metadata": {}
        },
        {
          "output_type": "display_data",
          "data": {
            "text/plain": [
              "\u001b[2;36m[11:17:48]\u001b[0m\u001b[2;36m \u001b[0mCopying image \u001b[1;36m19\u001b[0m of \u001b[1;36m200\u001b[0m\u001b[33m...\u001b[0m                                                          \u001b]8;id=739932;file:///usr/local/lib/python3.10/dist-packages/nerfstudio/process_data/process_data_utils.py\u001b\\\u001b[2mprocess_data_utils.py\u001b[0m\u001b]8;;\u001b\\\u001b[2m:\u001b[0m\u001b]8;id=752664;file:///usr/local/lib/python3.10/dist-packages/nerfstudio/process_data/process_data_utils.py#266\u001b\\\u001b[2m266\u001b[0m\u001b]8;;\u001b\\\n"
            ],
            "text/html": [
              "<pre style=\"white-space:pre;overflow-x:auto;line-height:normal;font-family:Menlo,'DejaVu Sans Mono',consolas,'Courier New',monospace\"><span style=\"color: #7fbfbf; text-decoration-color: #7fbfbf\">[11:17:48] </span>Copying image <span style=\"color: #008080; text-decoration-color: #008080; font-weight: bold\">19</span> of <span style=\"color: #008080; text-decoration-color: #008080; font-weight: bold\">200</span><span style=\"color: #808000; text-decoration-color: #808000\">...</span>                                                          <a href=\"file:///usr/local/lib/python3.10/dist-packages/nerfstudio/process_data/process_data_utils.py\" target=\"_blank\"><span style=\"color: #7f7f7f; text-decoration-color: #7f7f7f\">process_data_utils.py</span></a><span style=\"color: #7f7f7f; text-decoration-color: #7f7f7f\">:</span><a href=\"file:///usr/local/lib/python3.10/dist-packages/nerfstudio/process_data/process_data_utils.py#266\" target=\"_blank\"><span style=\"color: #7f7f7f; text-decoration-color: #7f7f7f\">266</span></a>\n",
              "</pre>\n"
            ]
          },
          "metadata": {}
        },
        {
          "output_type": "display_data",
          "data": {
            "text/plain": [
              "\u001b[2;36m          \u001b[0m\u001b[2;36m \u001b[0mCopying image \u001b[1;36m20\u001b[0m of \u001b[1;36m200\u001b[0m\u001b[33m...\u001b[0m                                                          \u001b]8;id=928136;file:///usr/local/lib/python3.10/dist-packages/nerfstudio/process_data/process_data_utils.py\u001b\\\u001b[2mprocess_data_utils.py\u001b[0m\u001b]8;;\u001b\\\u001b[2m:\u001b[0m\u001b]8;id=537272;file:///usr/local/lib/python3.10/dist-packages/nerfstudio/process_data/process_data_utils.py#266\u001b\\\u001b[2m266\u001b[0m\u001b]8;;\u001b\\\n"
            ],
            "text/html": [
              "<pre style=\"white-space:pre;overflow-x:auto;line-height:normal;font-family:Menlo,'DejaVu Sans Mono',consolas,'Courier New',monospace\"><span style=\"color: #7fbfbf; text-decoration-color: #7fbfbf\">           </span>Copying image <span style=\"color: #008080; text-decoration-color: #008080; font-weight: bold\">20</span> of <span style=\"color: #008080; text-decoration-color: #008080; font-weight: bold\">200</span><span style=\"color: #808000; text-decoration-color: #808000\">...</span>                                                          <a href=\"file:///usr/local/lib/python3.10/dist-packages/nerfstudio/process_data/process_data_utils.py\" target=\"_blank\"><span style=\"color: #7f7f7f; text-decoration-color: #7f7f7f\">process_data_utils.py</span></a><span style=\"color: #7f7f7f; text-decoration-color: #7f7f7f\">:</span><a href=\"file:///usr/local/lib/python3.10/dist-packages/nerfstudio/process_data/process_data_utils.py#266\" target=\"_blank\"><span style=\"color: #7f7f7f; text-decoration-color: #7f7f7f\">266</span></a>\n",
              "</pre>\n"
            ]
          },
          "metadata": {}
        },
        {
          "output_type": "display_data",
          "data": {
            "text/plain": [
              "\u001b[2;36m[11:17:49]\u001b[0m\u001b[2;36m \u001b[0mCopying image \u001b[1;36m21\u001b[0m of \u001b[1;36m200\u001b[0m\u001b[33m...\u001b[0m                                                          \u001b]8;id=101679;file:///usr/local/lib/python3.10/dist-packages/nerfstudio/process_data/process_data_utils.py\u001b\\\u001b[2mprocess_data_utils.py\u001b[0m\u001b]8;;\u001b\\\u001b[2m:\u001b[0m\u001b]8;id=155870;file:///usr/local/lib/python3.10/dist-packages/nerfstudio/process_data/process_data_utils.py#266\u001b\\\u001b[2m266\u001b[0m\u001b]8;;\u001b\\\n"
            ],
            "text/html": [
              "<pre style=\"white-space:pre;overflow-x:auto;line-height:normal;font-family:Menlo,'DejaVu Sans Mono',consolas,'Courier New',monospace\"><span style=\"color: #7fbfbf; text-decoration-color: #7fbfbf\">[11:17:49] </span>Copying image <span style=\"color: #008080; text-decoration-color: #008080; font-weight: bold\">21</span> of <span style=\"color: #008080; text-decoration-color: #008080; font-weight: bold\">200</span><span style=\"color: #808000; text-decoration-color: #808000\">...</span>                                                          <a href=\"file:///usr/local/lib/python3.10/dist-packages/nerfstudio/process_data/process_data_utils.py\" target=\"_blank\"><span style=\"color: #7f7f7f; text-decoration-color: #7f7f7f\">process_data_utils.py</span></a><span style=\"color: #7f7f7f; text-decoration-color: #7f7f7f\">:</span><a href=\"file:///usr/local/lib/python3.10/dist-packages/nerfstudio/process_data/process_data_utils.py#266\" target=\"_blank\"><span style=\"color: #7f7f7f; text-decoration-color: #7f7f7f\">266</span></a>\n",
              "</pre>\n"
            ]
          },
          "metadata": {}
        },
        {
          "output_type": "display_data",
          "data": {
            "text/plain": [
              "\u001b[2;36m          \u001b[0m\u001b[2;36m \u001b[0mCopying image \u001b[1;36m22\u001b[0m of \u001b[1;36m200\u001b[0m\u001b[33m...\u001b[0m                                                          \u001b]8;id=379664;file:///usr/local/lib/python3.10/dist-packages/nerfstudio/process_data/process_data_utils.py\u001b\\\u001b[2mprocess_data_utils.py\u001b[0m\u001b]8;;\u001b\\\u001b[2m:\u001b[0m\u001b]8;id=780258;file:///usr/local/lib/python3.10/dist-packages/nerfstudio/process_data/process_data_utils.py#266\u001b\\\u001b[2m266\u001b[0m\u001b]8;;\u001b\\\n"
            ],
            "text/html": [
              "<pre style=\"white-space:pre;overflow-x:auto;line-height:normal;font-family:Menlo,'DejaVu Sans Mono',consolas,'Courier New',monospace\"><span style=\"color: #7fbfbf; text-decoration-color: #7fbfbf\">           </span>Copying image <span style=\"color: #008080; text-decoration-color: #008080; font-weight: bold\">22</span> of <span style=\"color: #008080; text-decoration-color: #008080; font-weight: bold\">200</span><span style=\"color: #808000; text-decoration-color: #808000\">...</span>                                                          <a href=\"file:///usr/local/lib/python3.10/dist-packages/nerfstudio/process_data/process_data_utils.py\" target=\"_blank\"><span style=\"color: #7f7f7f; text-decoration-color: #7f7f7f\">process_data_utils.py</span></a><span style=\"color: #7f7f7f; text-decoration-color: #7f7f7f\">:</span><a href=\"file:///usr/local/lib/python3.10/dist-packages/nerfstudio/process_data/process_data_utils.py#266\" target=\"_blank\"><span style=\"color: #7f7f7f; text-decoration-color: #7f7f7f\">266</span></a>\n",
              "</pre>\n"
            ]
          },
          "metadata": {}
        },
        {
          "output_type": "display_data",
          "data": {
            "text/plain": [
              "\u001b[2;36m[11:17:50]\u001b[0m\u001b[2;36m \u001b[0mCopying image \u001b[1;36m23\u001b[0m of \u001b[1;36m200\u001b[0m\u001b[33m...\u001b[0m                                                          \u001b]8;id=994266;file:///usr/local/lib/python3.10/dist-packages/nerfstudio/process_data/process_data_utils.py\u001b\\\u001b[2mprocess_data_utils.py\u001b[0m\u001b]8;;\u001b\\\u001b[2m:\u001b[0m\u001b]8;id=422369;file:///usr/local/lib/python3.10/dist-packages/nerfstudio/process_data/process_data_utils.py#266\u001b\\\u001b[2m266\u001b[0m\u001b]8;;\u001b\\\n"
            ],
            "text/html": [
              "<pre style=\"white-space:pre;overflow-x:auto;line-height:normal;font-family:Menlo,'DejaVu Sans Mono',consolas,'Courier New',monospace\"><span style=\"color: #7fbfbf; text-decoration-color: #7fbfbf\">[11:17:50] </span>Copying image <span style=\"color: #008080; text-decoration-color: #008080; font-weight: bold\">23</span> of <span style=\"color: #008080; text-decoration-color: #008080; font-weight: bold\">200</span><span style=\"color: #808000; text-decoration-color: #808000\">...</span>                                                          <a href=\"file:///usr/local/lib/python3.10/dist-packages/nerfstudio/process_data/process_data_utils.py\" target=\"_blank\"><span style=\"color: #7f7f7f; text-decoration-color: #7f7f7f\">process_data_utils.py</span></a><span style=\"color: #7f7f7f; text-decoration-color: #7f7f7f\">:</span><a href=\"file:///usr/local/lib/python3.10/dist-packages/nerfstudio/process_data/process_data_utils.py#266\" target=\"_blank\"><span style=\"color: #7f7f7f; text-decoration-color: #7f7f7f\">266</span></a>\n",
              "</pre>\n"
            ]
          },
          "metadata": {}
        },
        {
          "output_type": "display_data",
          "data": {
            "text/plain": [
              "\u001b[2;36m          \u001b[0m\u001b[2;36m \u001b[0mCopying image \u001b[1;36m24\u001b[0m of \u001b[1;36m200\u001b[0m\u001b[33m...\u001b[0m                                                          \u001b]8;id=984117;file:///usr/local/lib/python3.10/dist-packages/nerfstudio/process_data/process_data_utils.py\u001b\\\u001b[2mprocess_data_utils.py\u001b[0m\u001b]8;;\u001b\\\u001b[2m:\u001b[0m\u001b]8;id=930462;file:///usr/local/lib/python3.10/dist-packages/nerfstudio/process_data/process_data_utils.py#266\u001b\\\u001b[2m266\u001b[0m\u001b]8;;\u001b\\\n"
            ],
            "text/html": [
              "<pre style=\"white-space:pre;overflow-x:auto;line-height:normal;font-family:Menlo,'DejaVu Sans Mono',consolas,'Courier New',monospace\"><span style=\"color: #7fbfbf; text-decoration-color: #7fbfbf\">           </span>Copying image <span style=\"color: #008080; text-decoration-color: #008080; font-weight: bold\">24</span> of <span style=\"color: #008080; text-decoration-color: #008080; font-weight: bold\">200</span><span style=\"color: #808000; text-decoration-color: #808000\">...</span>                                                          <a href=\"file:///usr/local/lib/python3.10/dist-packages/nerfstudio/process_data/process_data_utils.py\" target=\"_blank\"><span style=\"color: #7f7f7f; text-decoration-color: #7f7f7f\">process_data_utils.py</span></a><span style=\"color: #7f7f7f; text-decoration-color: #7f7f7f\">:</span><a href=\"file:///usr/local/lib/python3.10/dist-packages/nerfstudio/process_data/process_data_utils.py#266\" target=\"_blank\"><span style=\"color: #7f7f7f; text-decoration-color: #7f7f7f\">266</span></a>\n",
              "</pre>\n"
            ]
          },
          "metadata": {}
        },
        {
          "output_type": "display_data",
          "data": {
            "text/plain": [
              "\u001b[2;36m[11:17:51]\u001b[0m\u001b[2;36m \u001b[0mCopying image \u001b[1;36m25\u001b[0m of \u001b[1;36m200\u001b[0m\u001b[33m...\u001b[0m                                                          \u001b]8;id=498556;file:///usr/local/lib/python3.10/dist-packages/nerfstudio/process_data/process_data_utils.py\u001b\\\u001b[2mprocess_data_utils.py\u001b[0m\u001b]8;;\u001b\\\u001b[2m:\u001b[0m\u001b]8;id=565037;file:///usr/local/lib/python3.10/dist-packages/nerfstudio/process_data/process_data_utils.py#266\u001b\\\u001b[2m266\u001b[0m\u001b]8;;\u001b\\\n"
            ],
            "text/html": [
              "<pre style=\"white-space:pre;overflow-x:auto;line-height:normal;font-family:Menlo,'DejaVu Sans Mono',consolas,'Courier New',monospace\"><span style=\"color: #7fbfbf; text-decoration-color: #7fbfbf\">[11:17:51] </span>Copying image <span style=\"color: #008080; text-decoration-color: #008080; font-weight: bold\">25</span> of <span style=\"color: #008080; text-decoration-color: #008080; font-weight: bold\">200</span><span style=\"color: #808000; text-decoration-color: #808000\">...</span>                                                          <a href=\"file:///usr/local/lib/python3.10/dist-packages/nerfstudio/process_data/process_data_utils.py\" target=\"_blank\"><span style=\"color: #7f7f7f; text-decoration-color: #7f7f7f\">process_data_utils.py</span></a><span style=\"color: #7f7f7f; text-decoration-color: #7f7f7f\">:</span><a href=\"file:///usr/local/lib/python3.10/dist-packages/nerfstudio/process_data/process_data_utils.py#266\" target=\"_blank\"><span style=\"color: #7f7f7f; text-decoration-color: #7f7f7f\">266</span></a>\n",
              "</pre>\n"
            ]
          },
          "metadata": {}
        },
        {
          "output_type": "display_data",
          "data": {
            "text/plain": [
              "\u001b[2;36m          \u001b[0m\u001b[2;36m \u001b[0mCopying image \u001b[1;36m26\u001b[0m of \u001b[1;36m200\u001b[0m\u001b[33m...\u001b[0m                                                          \u001b]8;id=127794;file:///usr/local/lib/python3.10/dist-packages/nerfstudio/process_data/process_data_utils.py\u001b\\\u001b[2mprocess_data_utils.py\u001b[0m\u001b]8;;\u001b\\\u001b[2m:\u001b[0m\u001b]8;id=791734;file:///usr/local/lib/python3.10/dist-packages/nerfstudio/process_data/process_data_utils.py#266\u001b\\\u001b[2m266\u001b[0m\u001b]8;;\u001b\\\n"
            ],
            "text/html": [
              "<pre style=\"white-space:pre;overflow-x:auto;line-height:normal;font-family:Menlo,'DejaVu Sans Mono',consolas,'Courier New',monospace\"><span style=\"color: #7fbfbf; text-decoration-color: #7fbfbf\">           </span>Copying image <span style=\"color: #008080; text-decoration-color: #008080; font-weight: bold\">26</span> of <span style=\"color: #008080; text-decoration-color: #008080; font-weight: bold\">200</span><span style=\"color: #808000; text-decoration-color: #808000\">...</span>                                                          <a href=\"file:///usr/local/lib/python3.10/dist-packages/nerfstudio/process_data/process_data_utils.py\" target=\"_blank\"><span style=\"color: #7f7f7f; text-decoration-color: #7f7f7f\">process_data_utils.py</span></a><span style=\"color: #7f7f7f; text-decoration-color: #7f7f7f\">:</span><a href=\"file:///usr/local/lib/python3.10/dist-packages/nerfstudio/process_data/process_data_utils.py#266\" target=\"_blank\"><span style=\"color: #7f7f7f; text-decoration-color: #7f7f7f\">266</span></a>\n",
              "</pre>\n"
            ]
          },
          "metadata": {}
        },
        {
          "output_type": "display_data",
          "data": {
            "text/plain": [
              "\u001b[2;36m[11:17:52]\u001b[0m\u001b[2;36m \u001b[0mCopying image \u001b[1;36m27\u001b[0m of \u001b[1;36m200\u001b[0m\u001b[33m...\u001b[0m                                                          \u001b]8;id=444802;file:///usr/local/lib/python3.10/dist-packages/nerfstudio/process_data/process_data_utils.py\u001b\\\u001b[2mprocess_data_utils.py\u001b[0m\u001b]8;;\u001b\\\u001b[2m:\u001b[0m\u001b]8;id=296449;file:///usr/local/lib/python3.10/dist-packages/nerfstudio/process_data/process_data_utils.py#266\u001b\\\u001b[2m266\u001b[0m\u001b]8;;\u001b\\\n"
            ],
            "text/html": [
              "<pre style=\"white-space:pre;overflow-x:auto;line-height:normal;font-family:Menlo,'DejaVu Sans Mono',consolas,'Courier New',monospace\"><span style=\"color: #7fbfbf; text-decoration-color: #7fbfbf\">[11:17:52] </span>Copying image <span style=\"color: #008080; text-decoration-color: #008080; font-weight: bold\">27</span> of <span style=\"color: #008080; text-decoration-color: #008080; font-weight: bold\">200</span><span style=\"color: #808000; text-decoration-color: #808000\">...</span>                                                          <a href=\"file:///usr/local/lib/python3.10/dist-packages/nerfstudio/process_data/process_data_utils.py\" target=\"_blank\"><span style=\"color: #7f7f7f; text-decoration-color: #7f7f7f\">process_data_utils.py</span></a><span style=\"color: #7f7f7f; text-decoration-color: #7f7f7f\">:</span><a href=\"file:///usr/local/lib/python3.10/dist-packages/nerfstudio/process_data/process_data_utils.py#266\" target=\"_blank\"><span style=\"color: #7f7f7f; text-decoration-color: #7f7f7f\">266</span></a>\n",
              "</pre>\n"
            ]
          },
          "metadata": {}
        },
        {
          "output_type": "display_data",
          "data": {
            "text/plain": [
              "\u001b[2;36m          \u001b[0m\u001b[2;36m \u001b[0mCopying image \u001b[1;36m28\u001b[0m of \u001b[1;36m200\u001b[0m\u001b[33m...\u001b[0m                                                          \u001b]8;id=945727;file:///usr/local/lib/python3.10/dist-packages/nerfstudio/process_data/process_data_utils.py\u001b\\\u001b[2mprocess_data_utils.py\u001b[0m\u001b]8;;\u001b\\\u001b[2m:\u001b[0m\u001b]8;id=470765;file:///usr/local/lib/python3.10/dist-packages/nerfstudio/process_data/process_data_utils.py#266\u001b\\\u001b[2m266\u001b[0m\u001b]8;;\u001b\\\n"
            ],
            "text/html": [
              "<pre style=\"white-space:pre;overflow-x:auto;line-height:normal;font-family:Menlo,'DejaVu Sans Mono',consolas,'Courier New',monospace\"><span style=\"color: #7fbfbf; text-decoration-color: #7fbfbf\">           </span>Copying image <span style=\"color: #008080; text-decoration-color: #008080; font-weight: bold\">28</span> of <span style=\"color: #008080; text-decoration-color: #008080; font-weight: bold\">200</span><span style=\"color: #808000; text-decoration-color: #808000\">...</span>                                                          <a href=\"file:///usr/local/lib/python3.10/dist-packages/nerfstudio/process_data/process_data_utils.py\" target=\"_blank\"><span style=\"color: #7f7f7f; text-decoration-color: #7f7f7f\">process_data_utils.py</span></a><span style=\"color: #7f7f7f; text-decoration-color: #7f7f7f\">:</span><a href=\"file:///usr/local/lib/python3.10/dist-packages/nerfstudio/process_data/process_data_utils.py#266\" target=\"_blank\"><span style=\"color: #7f7f7f; text-decoration-color: #7f7f7f\">266</span></a>\n",
              "</pre>\n"
            ]
          },
          "metadata": {}
        },
        {
          "output_type": "display_data",
          "data": {
            "text/plain": [
              "\u001b[2;36m[11:17:53]\u001b[0m\u001b[2;36m \u001b[0mCopying image \u001b[1;36m29\u001b[0m of \u001b[1;36m200\u001b[0m\u001b[33m...\u001b[0m                                                          \u001b]8;id=766209;file:///usr/local/lib/python3.10/dist-packages/nerfstudio/process_data/process_data_utils.py\u001b\\\u001b[2mprocess_data_utils.py\u001b[0m\u001b]8;;\u001b\\\u001b[2m:\u001b[0m\u001b]8;id=999020;file:///usr/local/lib/python3.10/dist-packages/nerfstudio/process_data/process_data_utils.py#266\u001b\\\u001b[2m266\u001b[0m\u001b]8;;\u001b\\\n"
            ],
            "text/html": [
              "<pre style=\"white-space:pre;overflow-x:auto;line-height:normal;font-family:Menlo,'DejaVu Sans Mono',consolas,'Courier New',monospace\"><span style=\"color: #7fbfbf; text-decoration-color: #7fbfbf\">[11:17:53] </span>Copying image <span style=\"color: #008080; text-decoration-color: #008080; font-weight: bold\">29</span> of <span style=\"color: #008080; text-decoration-color: #008080; font-weight: bold\">200</span><span style=\"color: #808000; text-decoration-color: #808000\">...</span>                                                          <a href=\"file:///usr/local/lib/python3.10/dist-packages/nerfstudio/process_data/process_data_utils.py\" target=\"_blank\"><span style=\"color: #7f7f7f; text-decoration-color: #7f7f7f\">process_data_utils.py</span></a><span style=\"color: #7f7f7f; text-decoration-color: #7f7f7f\">:</span><a href=\"file:///usr/local/lib/python3.10/dist-packages/nerfstudio/process_data/process_data_utils.py#266\" target=\"_blank\"><span style=\"color: #7f7f7f; text-decoration-color: #7f7f7f\">266</span></a>\n",
              "</pre>\n"
            ]
          },
          "metadata": {}
        },
        {
          "output_type": "display_data",
          "data": {
            "text/plain": [
              "\u001b[2;36m          \u001b[0m\u001b[2;36m \u001b[0mCopying image \u001b[1;36m30\u001b[0m of \u001b[1;36m200\u001b[0m\u001b[33m...\u001b[0m                                                          \u001b]8;id=963220;file:///usr/local/lib/python3.10/dist-packages/nerfstudio/process_data/process_data_utils.py\u001b\\\u001b[2mprocess_data_utils.py\u001b[0m\u001b]8;;\u001b\\\u001b[2m:\u001b[0m\u001b]8;id=689356;file:///usr/local/lib/python3.10/dist-packages/nerfstudio/process_data/process_data_utils.py#266\u001b\\\u001b[2m266\u001b[0m\u001b]8;;\u001b\\\n"
            ],
            "text/html": [
              "<pre style=\"white-space:pre;overflow-x:auto;line-height:normal;font-family:Menlo,'DejaVu Sans Mono',consolas,'Courier New',monospace\"><span style=\"color: #7fbfbf; text-decoration-color: #7fbfbf\">           </span>Copying image <span style=\"color: #008080; text-decoration-color: #008080; font-weight: bold\">30</span> of <span style=\"color: #008080; text-decoration-color: #008080; font-weight: bold\">200</span><span style=\"color: #808000; text-decoration-color: #808000\">...</span>                                                          <a href=\"file:///usr/local/lib/python3.10/dist-packages/nerfstudio/process_data/process_data_utils.py\" target=\"_blank\"><span style=\"color: #7f7f7f; text-decoration-color: #7f7f7f\">process_data_utils.py</span></a><span style=\"color: #7f7f7f; text-decoration-color: #7f7f7f\">:</span><a href=\"file:///usr/local/lib/python3.10/dist-packages/nerfstudio/process_data/process_data_utils.py#266\" target=\"_blank\"><span style=\"color: #7f7f7f; text-decoration-color: #7f7f7f\">266</span></a>\n",
              "</pre>\n"
            ]
          },
          "metadata": {}
        },
        {
          "output_type": "display_data",
          "data": {
            "text/plain": [
              "\u001b[2;36m[11:17:54]\u001b[0m\u001b[2;36m \u001b[0mCopying image \u001b[1;36m31\u001b[0m of \u001b[1;36m200\u001b[0m\u001b[33m...\u001b[0m                                                          \u001b]8;id=430778;file:///usr/local/lib/python3.10/dist-packages/nerfstudio/process_data/process_data_utils.py\u001b\\\u001b[2mprocess_data_utils.py\u001b[0m\u001b]8;;\u001b\\\u001b[2m:\u001b[0m\u001b]8;id=578598;file:///usr/local/lib/python3.10/dist-packages/nerfstudio/process_data/process_data_utils.py#266\u001b\\\u001b[2m266\u001b[0m\u001b]8;;\u001b\\\n"
            ],
            "text/html": [
              "<pre style=\"white-space:pre;overflow-x:auto;line-height:normal;font-family:Menlo,'DejaVu Sans Mono',consolas,'Courier New',monospace\"><span style=\"color: #7fbfbf; text-decoration-color: #7fbfbf\">[11:17:54] </span>Copying image <span style=\"color: #008080; text-decoration-color: #008080; font-weight: bold\">31</span> of <span style=\"color: #008080; text-decoration-color: #008080; font-weight: bold\">200</span><span style=\"color: #808000; text-decoration-color: #808000\">...</span>                                                          <a href=\"file:///usr/local/lib/python3.10/dist-packages/nerfstudio/process_data/process_data_utils.py\" target=\"_blank\"><span style=\"color: #7f7f7f; text-decoration-color: #7f7f7f\">process_data_utils.py</span></a><span style=\"color: #7f7f7f; text-decoration-color: #7f7f7f\">:</span><a href=\"file:///usr/local/lib/python3.10/dist-packages/nerfstudio/process_data/process_data_utils.py#266\" target=\"_blank\"><span style=\"color: #7f7f7f; text-decoration-color: #7f7f7f\">266</span></a>\n",
              "</pre>\n"
            ]
          },
          "metadata": {}
        },
        {
          "output_type": "display_data",
          "data": {
            "text/plain": [
              "\u001b[2;36m          \u001b[0m\u001b[2;36m \u001b[0mCopying image \u001b[1;36m32\u001b[0m of \u001b[1;36m200\u001b[0m\u001b[33m...\u001b[0m                                                          \u001b]8;id=240996;file:///usr/local/lib/python3.10/dist-packages/nerfstudio/process_data/process_data_utils.py\u001b\\\u001b[2mprocess_data_utils.py\u001b[0m\u001b]8;;\u001b\\\u001b[2m:\u001b[0m\u001b]8;id=275535;file:///usr/local/lib/python3.10/dist-packages/nerfstudio/process_data/process_data_utils.py#266\u001b\\\u001b[2m266\u001b[0m\u001b]8;;\u001b\\\n"
            ],
            "text/html": [
              "<pre style=\"white-space:pre;overflow-x:auto;line-height:normal;font-family:Menlo,'DejaVu Sans Mono',consolas,'Courier New',monospace\"><span style=\"color: #7fbfbf; text-decoration-color: #7fbfbf\">           </span>Copying image <span style=\"color: #008080; text-decoration-color: #008080; font-weight: bold\">32</span> of <span style=\"color: #008080; text-decoration-color: #008080; font-weight: bold\">200</span><span style=\"color: #808000; text-decoration-color: #808000\">...</span>                                                          <a href=\"file:///usr/local/lib/python3.10/dist-packages/nerfstudio/process_data/process_data_utils.py\" target=\"_blank\"><span style=\"color: #7f7f7f; text-decoration-color: #7f7f7f\">process_data_utils.py</span></a><span style=\"color: #7f7f7f; text-decoration-color: #7f7f7f\">:</span><a href=\"file:///usr/local/lib/python3.10/dist-packages/nerfstudio/process_data/process_data_utils.py#266\" target=\"_blank\"><span style=\"color: #7f7f7f; text-decoration-color: #7f7f7f\">266</span></a>\n",
              "</pre>\n"
            ]
          },
          "metadata": {}
        },
        {
          "output_type": "display_data",
          "data": {
            "text/plain": [
              "\u001b[2;36m[11:17:55]\u001b[0m\u001b[2;36m \u001b[0mCopying image \u001b[1;36m33\u001b[0m of \u001b[1;36m200\u001b[0m\u001b[33m...\u001b[0m                                                          \u001b]8;id=43590;file:///usr/local/lib/python3.10/dist-packages/nerfstudio/process_data/process_data_utils.py\u001b\\\u001b[2mprocess_data_utils.py\u001b[0m\u001b]8;;\u001b\\\u001b[2m:\u001b[0m\u001b]8;id=422024;file:///usr/local/lib/python3.10/dist-packages/nerfstudio/process_data/process_data_utils.py#266\u001b\\\u001b[2m266\u001b[0m\u001b]8;;\u001b\\\n"
            ],
            "text/html": [
              "<pre style=\"white-space:pre;overflow-x:auto;line-height:normal;font-family:Menlo,'DejaVu Sans Mono',consolas,'Courier New',monospace\"><span style=\"color: #7fbfbf; text-decoration-color: #7fbfbf\">[11:17:55] </span>Copying image <span style=\"color: #008080; text-decoration-color: #008080; font-weight: bold\">33</span> of <span style=\"color: #008080; text-decoration-color: #008080; font-weight: bold\">200</span><span style=\"color: #808000; text-decoration-color: #808000\">...</span>                                                          <a href=\"file:///usr/local/lib/python3.10/dist-packages/nerfstudio/process_data/process_data_utils.py\" target=\"_blank\"><span style=\"color: #7f7f7f; text-decoration-color: #7f7f7f\">process_data_utils.py</span></a><span style=\"color: #7f7f7f; text-decoration-color: #7f7f7f\">:</span><a href=\"file:///usr/local/lib/python3.10/dist-packages/nerfstudio/process_data/process_data_utils.py#266\" target=\"_blank\"><span style=\"color: #7f7f7f; text-decoration-color: #7f7f7f\">266</span></a>\n",
              "</pre>\n"
            ]
          },
          "metadata": {}
        },
        {
          "output_type": "display_data",
          "data": {
            "text/plain": [
              "\u001b[2;36m          \u001b[0m\u001b[2;36m \u001b[0mCopying image \u001b[1;36m34\u001b[0m of \u001b[1;36m200\u001b[0m\u001b[33m...\u001b[0m                                                          \u001b]8;id=15821;file:///usr/local/lib/python3.10/dist-packages/nerfstudio/process_data/process_data_utils.py\u001b\\\u001b[2mprocess_data_utils.py\u001b[0m\u001b]8;;\u001b\\\u001b[2m:\u001b[0m\u001b]8;id=991275;file:///usr/local/lib/python3.10/dist-packages/nerfstudio/process_data/process_data_utils.py#266\u001b\\\u001b[2m266\u001b[0m\u001b]8;;\u001b\\\n"
            ],
            "text/html": [
              "<pre style=\"white-space:pre;overflow-x:auto;line-height:normal;font-family:Menlo,'DejaVu Sans Mono',consolas,'Courier New',monospace\"><span style=\"color: #7fbfbf; text-decoration-color: #7fbfbf\">           </span>Copying image <span style=\"color: #008080; text-decoration-color: #008080; font-weight: bold\">34</span> of <span style=\"color: #008080; text-decoration-color: #008080; font-weight: bold\">200</span><span style=\"color: #808000; text-decoration-color: #808000\">...</span>                                                          <a href=\"file:///usr/local/lib/python3.10/dist-packages/nerfstudio/process_data/process_data_utils.py\" target=\"_blank\"><span style=\"color: #7f7f7f; text-decoration-color: #7f7f7f\">process_data_utils.py</span></a><span style=\"color: #7f7f7f; text-decoration-color: #7f7f7f\">:</span><a href=\"file:///usr/local/lib/python3.10/dist-packages/nerfstudio/process_data/process_data_utils.py#266\" target=\"_blank\"><span style=\"color: #7f7f7f; text-decoration-color: #7f7f7f\">266</span></a>\n",
              "</pre>\n"
            ]
          },
          "metadata": {}
        },
        {
          "output_type": "display_data",
          "data": {
            "text/plain": [
              "\u001b[2;36m[11:17:56]\u001b[0m\u001b[2;36m \u001b[0mCopying image \u001b[1;36m35\u001b[0m of \u001b[1;36m200\u001b[0m\u001b[33m...\u001b[0m                                                          \u001b]8;id=369175;file:///usr/local/lib/python3.10/dist-packages/nerfstudio/process_data/process_data_utils.py\u001b\\\u001b[2mprocess_data_utils.py\u001b[0m\u001b]8;;\u001b\\\u001b[2m:\u001b[0m\u001b]8;id=474696;file:///usr/local/lib/python3.10/dist-packages/nerfstudio/process_data/process_data_utils.py#266\u001b\\\u001b[2m266\u001b[0m\u001b]8;;\u001b\\\n"
            ],
            "text/html": [
              "<pre style=\"white-space:pre;overflow-x:auto;line-height:normal;font-family:Menlo,'DejaVu Sans Mono',consolas,'Courier New',monospace\"><span style=\"color: #7fbfbf; text-decoration-color: #7fbfbf\">[11:17:56] </span>Copying image <span style=\"color: #008080; text-decoration-color: #008080; font-weight: bold\">35</span> of <span style=\"color: #008080; text-decoration-color: #008080; font-weight: bold\">200</span><span style=\"color: #808000; text-decoration-color: #808000\">...</span>                                                          <a href=\"file:///usr/local/lib/python3.10/dist-packages/nerfstudio/process_data/process_data_utils.py\" target=\"_blank\"><span style=\"color: #7f7f7f; text-decoration-color: #7f7f7f\">process_data_utils.py</span></a><span style=\"color: #7f7f7f; text-decoration-color: #7f7f7f\">:</span><a href=\"file:///usr/local/lib/python3.10/dist-packages/nerfstudio/process_data/process_data_utils.py#266\" target=\"_blank\"><span style=\"color: #7f7f7f; text-decoration-color: #7f7f7f\">266</span></a>\n",
              "</pre>\n"
            ]
          },
          "metadata": {}
        },
        {
          "output_type": "display_data",
          "data": {
            "text/plain": [
              "\u001b[2;36m          \u001b[0m\u001b[2;36m \u001b[0mCopying image \u001b[1;36m36\u001b[0m of \u001b[1;36m200\u001b[0m\u001b[33m...\u001b[0m                                                          \u001b]8;id=171528;file:///usr/local/lib/python3.10/dist-packages/nerfstudio/process_data/process_data_utils.py\u001b\\\u001b[2mprocess_data_utils.py\u001b[0m\u001b]8;;\u001b\\\u001b[2m:\u001b[0m\u001b]8;id=639934;file:///usr/local/lib/python3.10/dist-packages/nerfstudio/process_data/process_data_utils.py#266\u001b\\\u001b[2m266\u001b[0m\u001b]8;;\u001b\\\n"
            ],
            "text/html": [
              "<pre style=\"white-space:pre;overflow-x:auto;line-height:normal;font-family:Menlo,'DejaVu Sans Mono',consolas,'Courier New',monospace\"><span style=\"color: #7fbfbf; text-decoration-color: #7fbfbf\">           </span>Copying image <span style=\"color: #008080; text-decoration-color: #008080; font-weight: bold\">36</span> of <span style=\"color: #008080; text-decoration-color: #008080; font-weight: bold\">200</span><span style=\"color: #808000; text-decoration-color: #808000\">...</span>                                                          <a href=\"file:///usr/local/lib/python3.10/dist-packages/nerfstudio/process_data/process_data_utils.py\" target=\"_blank\"><span style=\"color: #7f7f7f; text-decoration-color: #7f7f7f\">process_data_utils.py</span></a><span style=\"color: #7f7f7f; text-decoration-color: #7f7f7f\">:</span><a href=\"file:///usr/local/lib/python3.10/dist-packages/nerfstudio/process_data/process_data_utils.py#266\" target=\"_blank\"><span style=\"color: #7f7f7f; text-decoration-color: #7f7f7f\">266</span></a>\n",
              "</pre>\n"
            ]
          },
          "metadata": {}
        },
        {
          "output_type": "display_data",
          "data": {
            "text/plain": [
              "\u001b[2;36m[11:17:57]\u001b[0m\u001b[2;36m \u001b[0mCopying image \u001b[1;36m37\u001b[0m of \u001b[1;36m200\u001b[0m\u001b[33m...\u001b[0m                                                          \u001b]8;id=247201;file:///usr/local/lib/python3.10/dist-packages/nerfstudio/process_data/process_data_utils.py\u001b\\\u001b[2mprocess_data_utils.py\u001b[0m\u001b]8;;\u001b\\\u001b[2m:\u001b[0m\u001b]8;id=680879;file:///usr/local/lib/python3.10/dist-packages/nerfstudio/process_data/process_data_utils.py#266\u001b\\\u001b[2m266\u001b[0m\u001b]8;;\u001b\\\n"
            ],
            "text/html": [
              "<pre style=\"white-space:pre;overflow-x:auto;line-height:normal;font-family:Menlo,'DejaVu Sans Mono',consolas,'Courier New',monospace\"><span style=\"color: #7fbfbf; text-decoration-color: #7fbfbf\">[11:17:57] </span>Copying image <span style=\"color: #008080; text-decoration-color: #008080; font-weight: bold\">37</span> of <span style=\"color: #008080; text-decoration-color: #008080; font-weight: bold\">200</span><span style=\"color: #808000; text-decoration-color: #808000\">...</span>                                                          <a href=\"file:///usr/local/lib/python3.10/dist-packages/nerfstudio/process_data/process_data_utils.py\" target=\"_blank\"><span style=\"color: #7f7f7f; text-decoration-color: #7f7f7f\">process_data_utils.py</span></a><span style=\"color: #7f7f7f; text-decoration-color: #7f7f7f\">:</span><a href=\"file:///usr/local/lib/python3.10/dist-packages/nerfstudio/process_data/process_data_utils.py#266\" target=\"_blank\"><span style=\"color: #7f7f7f; text-decoration-color: #7f7f7f\">266</span></a>\n",
              "</pre>\n"
            ]
          },
          "metadata": {}
        },
        {
          "output_type": "display_data",
          "data": {
            "text/plain": [
              "\u001b[2;36m          \u001b[0m\u001b[2;36m \u001b[0mCopying image \u001b[1;36m38\u001b[0m of \u001b[1;36m200\u001b[0m\u001b[33m...\u001b[0m                                                          \u001b]8;id=626510;file:///usr/local/lib/python3.10/dist-packages/nerfstudio/process_data/process_data_utils.py\u001b\\\u001b[2mprocess_data_utils.py\u001b[0m\u001b]8;;\u001b\\\u001b[2m:\u001b[0m\u001b]8;id=182286;file:///usr/local/lib/python3.10/dist-packages/nerfstudio/process_data/process_data_utils.py#266\u001b\\\u001b[2m266\u001b[0m\u001b]8;;\u001b\\\n"
            ],
            "text/html": [
              "<pre style=\"white-space:pre;overflow-x:auto;line-height:normal;font-family:Menlo,'DejaVu Sans Mono',consolas,'Courier New',monospace\"><span style=\"color: #7fbfbf; text-decoration-color: #7fbfbf\">           </span>Copying image <span style=\"color: #008080; text-decoration-color: #008080; font-weight: bold\">38</span> of <span style=\"color: #008080; text-decoration-color: #008080; font-weight: bold\">200</span><span style=\"color: #808000; text-decoration-color: #808000\">...</span>                                                          <a href=\"file:///usr/local/lib/python3.10/dist-packages/nerfstudio/process_data/process_data_utils.py\" target=\"_blank\"><span style=\"color: #7f7f7f; text-decoration-color: #7f7f7f\">process_data_utils.py</span></a><span style=\"color: #7f7f7f; text-decoration-color: #7f7f7f\">:</span><a href=\"file:///usr/local/lib/python3.10/dist-packages/nerfstudio/process_data/process_data_utils.py#266\" target=\"_blank\"><span style=\"color: #7f7f7f; text-decoration-color: #7f7f7f\">266</span></a>\n",
              "</pre>\n"
            ]
          },
          "metadata": {}
        },
        {
          "output_type": "display_data",
          "data": {
            "text/plain": [
              "\u001b[2;36m[11:17:58]\u001b[0m\u001b[2;36m \u001b[0mCopying image \u001b[1;36m39\u001b[0m of \u001b[1;36m200\u001b[0m\u001b[33m...\u001b[0m                                                          \u001b]8;id=319558;file:///usr/local/lib/python3.10/dist-packages/nerfstudio/process_data/process_data_utils.py\u001b\\\u001b[2mprocess_data_utils.py\u001b[0m\u001b]8;;\u001b\\\u001b[2m:\u001b[0m\u001b]8;id=540226;file:///usr/local/lib/python3.10/dist-packages/nerfstudio/process_data/process_data_utils.py#266\u001b\\\u001b[2m266\u001b[0m\u001b]8;;\u001b\\\n"
            ],
            "text/html": [
              "<pre style=\"white-space:pre;overflow-x:auto;line-height:normal;font-family:Menlo,'DejaVu Sans Mono',consolas,'Courier New',monospace\"><span style=\"color: #7fbfbf; text-decoration-color: #7fbfbf\">[11:17:58] </span>Copying image <span style=\"color: #008080; text-decoration-color: #008080; font-weight: bold\">39</span> of <span style=\"color: #008080; text-decoration-color: #008080; font-weight: bold\">200</span><span style=\"color: #808000; text-decoration-color: #808000\">...</span>                                                          <a href=\"file:///usr/local/lib/python3.10/dist-packages/nerfstudio/process_data/process_data_utils.py\" target=\"_blank\"><span style=\"color: #7f7f7f; text-decoration-color: #7f7f7f\">process_data_utils.py</span></a><span style=\"color: #7f7f7f; text-decoration-color: #7f7f7f\">:</span><a href=\"file:///usr/local/lib/python3.10/dist-packages/nerfstudio/process_data/process_data_utils.py#266\" target=\"_blank\"><span style=\"color: #7f7f7f; text-decoration-color: #7f7f7f\">266</span></a>\n",
              "</pre>\n"
            ]
          },
          "metadata": {}
        },
        {
          "output_type": "display_data",
          "data": {
            "text/plain": [
              "\u001b[2;36m          \u001b[0m\u001b[2;36m \u001b[0mCopying image \u001b[1;36m40\u001b[0m of \u001b[1;36m200\u001b[0m\u001b[33m...\u001b[0m                                                          \u001b]8;id=630460;file:///usr/local/lib/python3.10/dist-packages/nerfstudio/process_data/process_data_utils.py\u001b\\\u001b[2mprocess_data_utils.py\u001b[0m\u001b]8;;\u001b\\\u001b[2m:\u001b[0m\u001b]8;id=837669;file:///usr/local/lib/python3.10/dist-packages/nerfstudio/process_data/process_data_utils.py#266\u001b\\\u001b[2m266\u001b[0m\u001b]8;;\u001b\\\n"
            ],
            "text/html": [
              "<pre style=\"white-space:pre;overflow-x:auto;line-height:normal;font-family:Menlo,'DejaVu Sans Mono',consolas,'Courier New',monospace\"><span style=\"color: #7fbfbf; text-decoration-color: #7fbfbf\">           </span>Copying image <span style=\"color: #008080; text-decoration-color: #008080; font-weight: bold\">40</span> of <span style=\"color: #008080; text-decoration-color: #008080; font-weight: bold\">200</span><span style=\"color: #808000; text-decoration-color: #808000\">...</span>                                                          <a href=\"file:///usr/local/lib/python3.10/dist-packages/nerfstudio/process_data/process_data_utils.py\" target=\"_blank\"><span style=\"color: #7f7f7f; text-decoration-color: #7f7f7f\">process_data_utils.py</span></a><span style=\"color: #7f7f7f; text-decoration-color: #7f7f7f\">:</span><a href=\"file:///usr/local/lib/python3.10/dist-packages/nerfstudio/process_data/process_data_utils.py#266\" target=\"_blank\"><span style=\"color: #7f7f7f; text-decoration-color: #7f7f7f\">266</span></a>\n",
              "</pre>\n"
            ]
          },
          "metadata": {}
        },
        {
          "output_type": "display_data",
          "data": {
            "text/plain": [
              "\u001b[2;36m[11:17:59]\u001b[0m\u001b[2;36m \u001b[0mCopying image \u001b[1;36m41\u001b[0m of \u001b[1;36m200\u001b[0m\u001b[33m...\u001b[0m                                                          \u001b]8;id=279843;file:///usr/local/lib/python3.10/dist-packages/nerfstudio/process_data/process_data_utils.py\u001b\\\u001b[2mprocess_data_utils.py\u001b[0m\u001b]8;;\u001b\\\u001b[2m:\u001b[0m\u001b]8;id=914178;file:///usr/local/lib/python3.10/dist-packages/nerfstudio/process_data/process_data_utils.py#266\u001b\\\u001b[2m266\u001b[0m\u001b]8;;\u001b\\\n"
            ],
            "text/html": [
              "<pre style=\"white-space:pre;overflow-x:auto;line-height:normal;font-family:Menlo,'DejaVu Sans Mono',consolas,'Courier New',monospace\"><span style=\"color: #7fbfbf; text-decoration-color: #7fbfbf\">[11:17:59] </span>Copying image <span style=\"color: #008080; text-decoration-color: #008080; font-weight: bold\">41</span> of <span style=\"color: #008080; text-decoration-color: #008080; font-weight: bold\">200</span><span style=\"color: #808000; text-decoration-color: #808000\">...</span>                                                          <a href=\"file:///usr/local/lib/python3.10/dist-packages/nerfstudio/process_data/process_data_utils.py\" target=\"_blank\"><span style=\"color: #7f7f7f; text-decoration-color: #7f7f7f\">process_data_utils.py</span></a><span style=\"color: #7f7f7f; text-decoration-color: #7f7f7f\">:</span><a href=\"file:///usr/local/lib/python3.10/dist-packages/nerfstudio/process_data/process_data_utils.py#266\" target=\"_blank\"><span style=\"color: #7f7f7f; text-decoration-color: #7f7f7f\">266</span></a>\n",
              "</pre>\n"
            ]
          },
          "metadata": {}
        },
        {
          "output_type": "display_data",
          "data": {
            "text/plain": [
              "\u001b[2;36m[11:18:00]\u001b[0m\u001b[2;36m \u001b[0mCopying image \u001b[1;36m42\u001b[0m of \u001b[1;36m200\u001b[0m\u001b[33m...\u001b[0m                                                          \u001b]8;id=196637;file:///usr/local/lib/python3.10/dist-packages/nerfstudio/process_data/process_data_utils.py\u001b\\\u001b[2mprocess_data_utils.py\u001b[0m\u001b]8;;\u001b\\\u001b[2m:\u001b[0m\u001b]8;id=71301;file:///usr/local/lib/python3.10/dist-packages/nerfstudio/process_data/process_data_utils.py#266\u001b\\\u001b[2m266\u001b[0m\u001b]8;;\u001b\\\n"
            ],
            "text/html": [
              "<pre style=\"white-space:pre;overflow-x:auto;line-height:normal;font-family:Menlo,'DejaVu Sans Mono',consolas,'Courier New',monospace\"><span style=\"color: #7fbfbf; text-decoration-color: #7fbfbf\">[11:18:00] </span>Copying image <span style=\"color: #008080; text-decoration-color: #008080; font-weight: bold\">42</span> of <span style=\"color: #008080; text-decoration-color: #008080; font-weight: bold\">200</span><span style=\"color: #808000; text-decoration-color: #808000\">...</span>                                                          <a href=\"file:///usr/local/lib/python3.10/dist-packages/nerfstudio/process_data/process_data_utils.py\" target=\"_blank\"><span style=\"color: #7f7f7f; text-decoration-color: #7f7f7f\">process_data_utils.py</span></a><span style=\"color: #7f7f7f; text-decoration-color: #7f7f7f\">:</span><a href=\"file:///usr/local/lib/python3.10/dist-packages/nerfstudio/process_data/process_data_utils.py#266\" target=\"_blank\"><span style=\"color: #7f7f7f; text-decoration-color: #7f7f7f\">266</span></a>\n",
              "</pre>\n"
            ]
          },
          "metadata": {}
        },
        {
          "output_type": "display_data",
          "data": {
            "text/plain": [
              "\u001b[2;36m          \u001b[0m\u001b[2;36m \u001b[0mCopying image \u001b[1;36m43\u001b[0m of \u001b[1;36m200\u001b[0m\u001b[33m...\u001b[0m                                                          \u001b]8;id=815943;file:///usr/local/lib/python3.10/dist-packages/nerfstudio/process_data/process_data_utils.py\u001b\\\u001b[2mprocess_data_utils.py\u001b[0m\u001b]8;;\u001b\\\u001b[2m:\u001b[0m\u001b]8;id=227780;file:///usr/local/lib/python3.10/dist-packages/nerfstudio/process_data/process_data_utils.py#266\u001b\\\u001b[2m266\u001b[0m\u001b]8;;\u001b\\\n"
            ],
            "text/html": [
              "<pre style=\"white-space:pre;overflow-x:auto;line-height:normal;font-family:Menlo,'DejaVu Sans Mono',consolas,'Courier New',monospace\"><span style=\"color: #7fbfbf; text-decoration-color: #7fbfbf\">           </span>Copying image <span style=\"color: #008080; text-decoration-color: #008080; font-weight: bold\">43</span> of <span style=\"color: #008080; text-decoration-color: #008080; font-weight: bold\">200</span><span style=\"color: #808000; text-decoration-color: #808000\">...</span>                                                          <a href=\"file:///usr/local/lib/python3.10/dist-packages/nerfstudio/process_data/process_data_utils.py\" target=\"_blank\"><span style=\"color: #7f7f7f; text-decoration-color: #7f7f7f\">process_data_utils.py</span></a><span style=\"color: #7f7f7f; text-decoration-color: #7f7f7f\">:</span><a href=\"file:///usr/local/lib/python3.10/dist-packages/nerfstudio/process_data/process_data_utils.py#266\" target=\"_blank\"><span style=\"color: #7f7f7f; text-decoration-color: #7f7f7f\">266</span></a>\n",
              "</pre>\n"
            ]
          },
          "metadata": {}
        },
        {
          "output_type": "display_data",
          "data": {
            "text/plain": [
              "\u001b[2;36m[11:18:01]\u001b[0m\u001b[2;36m \u001b[0mCopying image \u001b[1;36m44\u001b[0m of \u001b[1;36m200\u001b[0m\u001b[33m...\u001b[0m                                                          \u001b]8;id=949694;file:///usr/local/lib/python3.10/dist-packages/nerfstudio/process_data/process_data_utils.py\u001b\\\u001b[2mprocess_data_utils.py\u001b[0m\u001b]8;;\u001b\\\u001b[2m:\u001b[0m\u001b]8;id=977315;file:///usr/local/lib/python3.10/dist-packages/nerfstudio/process_data/process_data_utils.py#266\u001b\\\u001b[2m266\u001b[0m\u001b]8;;\u001b\\\n"
            ],
            "text/html": [
              "<pre style=\"white-space:pre;overflow-x:auto;line-height:normal;font-family:Menlo,'DejaVu Sans Mono',consolas,'Courier New',monospace\"><span style=\"color: #7fbfbf; text-decoration-color: #7fbfbf\">[11:18:01] </span>Copying image <span style=\"color: #008080; text-decoration-color: #008080; font-weight: bold\">44</span> of <span style=\"color: #008080; text-decoration-color: #008080; font-weight: bold\">200</span><span style=\"color: #808000; text-decoration-color: #808000\">...</span>                                                          <a href=\"file:///usr/local/lib/python3.10/dist-packages/nerfstudio/process_data/process_data_utils.py\" target=\"_blank\"><span style=\"color: #7f7f7f; text-decoration-color: #7f7f7f\">process_data_utils.py</span></a><span style=\"color: #7f7f7f; text-decoration-color: #7f7f7f\">:</span><a href=\"file:///usr/local/lib/python3.10/dist-packages/nerfstudio/process_data/process_data_utils.py#266\" target=\"_blank\"><span style=\"color: #7f7f7f; text-decoration-color: #7f7f7f\">266</span></a>\n",
              "</pre>\n"
            ]
          },
          "metadata": {}
        },
        {
          "output_type": "display_data",
          "data": {
            "text/plain": [
              "\u001b[2;36m          \u001b[0m\u001b[2;36m \u001b[0mCopying image \u001b[1;36m45\u001b[0m of \u001b[1;36m200\u001b[0m\u001b[33m...\u001b[0m                                                          \u001b]8;id=889714;file:///usr/local/lib/python3.10/dist-packages/nerfstudio/process_data/process_data_utils.py\u001b\\\u001b[2mprocess_data_utils.py\u001b[0m\u001b]8;;\u001b\\\u001b[2m:\u001b[0m\u001b]8;id=233360;file:///usr/local/lib/python3.10/dist-packages/nerfstudio/process_data/process_data_utils.py#266\u001b\\\u001b[2m266\u001b[0m\u001b]8;;\u001b\\\n"
            ],
            "text/html": [
              "<pre style=\"white-space:pre;overflow-x:auto;line-height:normal;font-family:Menlo,'DejaVu Sans Mono',consolas,'Courier New',monospace\"><span style=\"color: #7fbfbf; text-decoration-color: #7fbfbf\">           </span>Copying image <span style=\"color: #008080; text-decoration-color: #008080; font-weight: bold\">45</span> of <span style=\"color: #008080; text-decoration-color: #008080; font-weight: bold\">200</span><span style=\"color: #808000; text-decoration-color: #808000\">...</span>                                                          <a href=\"file:///usr/local/lib/python3.10/dist-packages/nerfstudio/process_data/process_data_utils.py\" target=\"_blank\"><span style=\"color: #7f7f7f; text-decoration-color: #7f7f7f\">process_data_utils.py</span></a><span style=\"color: #7f7f7f; text-decoration-color: #7f7f7f\">:</span><a href=\"file:///usr/local/lib/python3.10/dist-packages/nerfstudio/process_data/process_data_utils.py#266\" target=\"_blank\"><span style=\"color: #7f7f7f; text-decoration-color: #7f7f7f\">266</span></a>\n",
              "</pre>\n"
            ]
          },
          "metadata": {}
        },
        {
          "output_type": "display_data",
          "data": {
            "text/plain": [
              "\u001b[2;36m[11:18:02]\u001b[0m\u001b[2;36m \u001b[0mCopying image \u001b[1;36m46\u001b[0m of \u001b[1;36m200\u001b[0m\u001b[33m...\u001b[0m                                                          \u001b]8;id=34378;file:///usr/local/lib/python3.10/dist-packages/nerfstudio/process_data/process_data_utils.py\u001b\\\u001b[2mprocess_data_utils.py\u001b[0m\u001b]8;;\u001b\\\u001b[2m:\u001b[0m\u001b]8;id=486257;file:///usr/local/lib/python3.10/dist-packages/nerfstudio/process_data/process_data_utils.py#266\u001b\\\u001b[2m266\u001b[0m\u001b]8;;\u001b\\\n"
            ],
            "text/html": [
              "<pre style=\"white-space:pre;overflow-x:auto;line-height:normal;font-family:Menlo,'DejaVu Sans Mono',consolas,'Courier New',monospace\"><span style=\"color: #7fbfbf; text-decoration-color: #7fbfbf\">[11:18:02] </span>Copying image <span style=\"color: #008080; text-decoration-color: #008080; font-weight: bold\">46</span> of <span style=\"color: #008080; text-decoration-color: #008080; font-weight: bold\">200</span><span style=\"color: #808000; text-decoration-color: #808000\">...</span>                                                          <a href=\"file:///usr/local/lib/python3.10/dist-packages/nerfstudio/process_data/process_data_utils.py\" target=\"_blank\"><span style=\"color: #7f7f7f; text-decoration-color: #7f7f7f\">process_data_utils.py</span></a><span style=\"color: #7f7f7f; text-decoration-color: #7f7f7f\">:</span><a href=\"file:///usr/local/lib/python3.10/dist-packages/nerfstudio/process_data/process_data_utils.py#266\" target=\"_blank\"><span style=\"color: #7f7f7f; text-decoration-color: #7f7f7f\">266</span></a>\n",
              "</pre>\n"
            ]
          },
          "metadata": {}
        },
        {
          "output_type": "display_data",
          "data": {
            "text/plain": [
              "\u001b[2;36m          \u001b[0m\u001b[2;36m \u001b[0mCopying image \u001b[1;36m47\u001b[0m of \u001b[1;36m200\u001b[0m\u001b[33m...\u001b[0m                                                          \u001b]8;id=905288;file:///usr/local/lib/python3.10/dist-packages/nerfstudio/process_data/process_data_utils.py\u001b\\\u001b[2mprocess_data_utils.py\u001b[0m\u001b]8;;\u001b\\\u001b[2m:\u001b[0m\u001b]8;id=59933;file:///usr/local/lib/python3.10/dist-packages/nerfstudio/process_data/process_data_utils.py#266\u001b\\\u001b[2m266\u001b[0m\u001b]8;;\u001b\\\n"
            ],
            "text/html": [
              "<pre style=\"white-space:pre;overflow-x:auto;line-height:normal;font-family:Menlo,'DejaVu Sans Mono',consolas,'Courier New',monospace\"><span style=\"color: #7fbfbf; text-decoration-color: #7fbfbf\">           </span>Copying image <span style=\"color: #008080; text-decoration-color: #008080; font-weight: bold\">47</span> of <span style=\"color: #008080; text-decoration-color: #008080; font-weight: bold\">200</span><span style=\"color: #808000; text-decoration-color: #808000\">...</span>                                                          <a href=\"file:///usr/local/lib/python3.10/dist-packages/nerfstudio/process_data/process_data_utils.py\" target=\"_blank\"><span style=\"color: #7f7f7f; text-decoration-color: #7f7f7f\">process_data_utils.py</span></a><span style=\"color: #7f7f7f; text-decoration-color: #7f7f7f\">:</span><a href=\"file:///usr/local/lib/python3.10/dist-packages/nerfstudio/process_data/process_data_utils.py#266\" target=\"_blank\"><span style=\"color: #7f7f7f; text-decoration-color: #7f7f7f\">266</span></a>\n",
              "</pre>\n"
            ]
          },
          "metadata": {}
        },
        {
          "output_type": "display_data",
          "data": {
            "text/plain": [
              "\u001b[2;36m[11:18:03]\u001b[0m\u001b[2;36m \u001b[0mCopying image \u001b[1;36m48\u001b[0m of \u001b[1;36m200\u001b[0m\u001b[33m...\u001b[0m                                                          \u001b]8;id=285008;file:///usr/local/lib/python3.10/dist-packages/nerfstudio/process_data/process_data_utils.py\u001b\\\u001b[2mprocess_data_utils.py\u001b[0m\u001b]8;;\u001b\\\u001b[2m:\u001b[0m\u001b]8;id=802807;file:///usr/local/lib/python3.10/dist-packages/nerfstudio/process_data/process_data_utils.py#266\u001b\\\u001b[2m266\u001b[0m\u001b]8;;\u001b\\\n"
            ],
            "text/html": [
              "<pre style=\"white-space:pre;overflow-x:auto;line-height:normal;font-family:Menlo,'DejaVu Sans Mono',consolas,'Courier New',monospace\"><span style=\"color: #7fbfbf; text-decoration-color: #7fbfbf\">[11:18:03] </span>Copying image <span style=\"color: #008080; text-decoration-color: #008080; font-weight: bold\">48</span> of <span style=\"color: #008080; text-decoration-color: #008080; font-weight: bold\">200</span><span style=\"color: #808000; text-decoration-color: #808000\">...</span>                                                          <a href=\"file:///usr/local/lib/python3.10/dist-packages/nerfstudio/process_data/process_data_utils.py\" target=\"_blank\"><span style=\"color: #7f7f7f; text-decoration-color: #7f7f7f\">process_data_utils.py</span></a><span style=\"color: #7f7f7f; text-decoration-color: #7f7f7f\">:</span><a href=\"file:///usr/local/lib/python3.10/dist-packages/nerfstudio/process_data/process_data_utils.py#266\" target=\"_blank\"><span style=\"color: #7f7f7f; text-decoration-color: #7f7f7f\">266</span></a>\n",
              "</pre>\n"
            ]
          },
          "metadata": {}
        },
        {
          "output_type": "display_data",
          "data": {
            "text/plain": [
              "\u001b[2;36m          \u001b[0m\u001b[2;36m \u001b[0mCopying image \u001b[1;36m49\u001b[0m of \u001b[1;36m200\u001b[0m\u001b[33m...\u001b[0m                                                          \u001b]8;id=805525;file:///usr/local/lib/python3.10/dist-packages/nerfstudio/process_data/process_data_utils.py\u001b\\\u001b[2mprocess_data_utils.py\u001b[0m\u001b]8;;\u001b\\\u001b[2m:\u001b[0m\u001b]8;id=29800;file:///usr/local/lib/python3.10/dist-packages/nerfstudio/process_data/process_data_utils.py#266\u001b\\\u001b[2m266\u001b[0m\u001b]8;;\u001b\\\n"
            ],
            "text/html": [
              "<pre style=\"white-space:pre;overflow-x:auto;line-height:normal;font-family:Menlo,'DejaVu Sans Mono',consolas,'Courier New',monospace\"><span style=\"color: #7fbfbf; text-decoration-color: #7fbfbf\">           </span>Copying image <span style=\"color: #008080; text-decoration-color: #008080; font-weight: bold\">49</span> of <span style=\"color: #008080; text-decoration-color: #008080; font-weight: bold\">200</span><span style=\"color: #808000; text-decoration-color: #808000\">...</span>                                                          <a href=\"file:///usr/local/lib/python3.10/dist-packages/nerfstudio/process_data/process_data_utils.py\" target=\"_blank\"><span style=\"color: #7f7f7f; text-decoration-color: #7f7f7f\">process_data_utils.py</span></a><span style=\"color: #7f7f7f; text-decoration-color: #7f7f7f\">:</span><a href=\"file:///usr/local/lib/python3.10/dist-packages/nerfstudio/process_data/process_data_utils.py#266\" target=\"_blank\"><span style=\"color: #7f7f7f; text-decoration-color: #7f7f7f\">266</span></a>\n",
              "</pre>\n"
            ]
          },
          "metadata": {}
        },
        {
          "output_type": "display_data",
          "data": {
            "text/plain": [
              "\u001b[2;36m[11:18:04]\u001b[0m\u001b[2;36m \u001b[0mCopying image \u001b[1;36m50\u001b[0m of \u001b[1;36m200\u001b[0m\u001b[33m...\u001b[0m                                                          \u001b]8;id=138786;file:///usr/local/lib/python3.10/dist-packages/nerfstudio/process_data/process_data_utils.py\u001b\\\u001b[2mprocess_data_utils.py\u001b[0m\u001b]8;;\u001b\\\u001b[2m:\u001b[0m\u001b]8;id=742069;file:///usr/local/lib/python3.10/dist-packages/nerfstudio/process_data/process_data_utils.py#266\u001b\\\u001b[2m266\u001b[0m\u001b]8;;\u001b\\\n"
            ],
            "text/html": [
              "<pre style=\"white-space:pre;overflow-x:auto;line-height:normal;font-family:Menlo,'DejaVu Sans Mono',consolas,'Courier New',monospace\"><span style=\"color: #7fbfbf; text-decoration-color: #7fbfbf\">[11:18:04] </span>Copying image <span style=\"color: #008080; text-decoration-color: #008080; font-weight: bold\">50</span> of <span style=\"color: #008080; text-decoration-color: #008080; font-weight: bold\">200</span><span style=\"color: #808000; text-decoration-color: #808000\">...</span>                                                          <a href=\"file:///usr/local/lib/python3.10/dist-packages/nerfstudio/process_data/process_data_utils.py\" target=\"_blank\"><span style=\"color: #7f7f7f; text-decoration-color: #7f7f7f\">process_data_utils.py</span></a><span style=\"color: #7f7f7f; text-decoration-color: #7f7f7f\">:</span><a href=\"file:///usr/local/lib/python3.10/dist-packages/nerfstudio/process_data/process_data_utils.py#266\" target=\"_blank\"><span style=\"color: #7f7f7f; text-decoration-color: #7f7f7f\">266</span></a>\n",
              "</pre>\n"
            ]
          },
          "metadata": {}
        },
        {
          "output_type": "display_data",
          "data": {
            "text/plain": [
              "\u001b[2;36m          \u001b[0m\u001b[2;36m \u001b[0mCopying image \u001b[1;36m51\u001b[0m of \u001b[1;36m200\u001b[0m\u001b[33m...\u001b[0m                                                          \u001b]8;id=442050;file:///usr/local/lib/python3.10/dist-packages/nerfstudio/process_data/process_data_utils.py\u001b\\\u001b[2mprocess_data_utils.py\u001b[0m\u001b]8;;\u001b\\\u001b[2m:\u001b[0m\u001b]8;id=572030;file:///usr/local/lib/python3.10/dist-packages/nerfstudio/process_data/process_data_utils.py#266\u001b\\\u001b[2m266\u001b[0m\u001b]8;;\u001b\\\n"
            ],
            "text/html": [
              "<pre style=\"white-space:pre;overflow-x:auto;line-height:normal;font-family:Menlo,'DejaVu Sans Mono',consolas,'Courier New',monospace\"><span style=\"color: #7fbfbf; text-decoration-color: #7fbfbf\">           </span>Copying image <span style=\"color: #008080; text-decoration-color: #008080; font-weight: bold\">51</span> of <span style=\"color: #008080; text-decoration-color: #008080; font-weight: bold\">200</span><span style=\"color: #808000; text-decoration-color: #808000\">...</span>                                                          <a href=\"file:///usr/local/lib/python3.10/dist-packages/nerfstudio/process_data/process_data_utils.py\" target=\"_blank\"><span style=\"color: #7f7f7f; text-decoration-color: #7f7f7f\">process_data_utils.py</span></a><span style=\"color: #7f7f7f; text-decoration-color: #7f7f7f\">:</span><a href=\"file:///usr/local/lib/python3.10/dist-packages/nerfstudio/process_data/process_data_utils.py#266\" target=\"_blank\"><span style=\"color: #7f7f7f; text-decoration-color: #7f7f7f\">266</span></a>\n",
              "</pre>\n"
            ]
          },
          "metadata": {}
        },
        {
          "output_type": "display_data",
          "data": {
            "text/plain": [
              "\u001b[2;36m[11:18:05]\u001b[0m\u001b[2;36m \u001b[0mCopying image \u001b[1;36m52\u001b[0m of \u001b[1;36m200\u001b[0m\u001b[33m...\u001b[0m                                                          \u001b]8;id=852138;file:///usr/local/lib/python3.10/dist-packages/nerfstudio/process_data/process_data_utils.py\u001b\\\u001b[2mprocess_data_utils.py\u001b[0m\u001b]8;;\u001b\\\u001b[2m:\u001b[0m\u001b]8;id=788563;file:///usr/local/lib/python3.10/dist-packages/nerfstudio/process_data/process_data_utils.py#266\u001b\\\u001b[2m266\u001b[0m\u001b]8;;\u001b\\\n"
            ],
            "text/html": [
              "<pre style=\"white-space:pre;overflow-x:auto;line-height:normal;font-family:Menlo,'DejaVu Sans Mono',consolas,'Courier New',monospace\"><span style=\"color: #7fbfbf; text-decoration-color: #7fbfbf\">[11:18:05] </span>Copying image <span style=\"color: #008080; text-decoration-color: #008080; font-weight: bold\">52</span> of <span style=\"color: #008080; text-decoration-color: #008080; font-weight: bold\">200</span><span style=\"color: #808000; text-decoration-color: #808000\">...</span>                                                          <a href=\"file:///usr/local/lib/python3.10/dist-packages/nerfstudio/process_data/process_data_utils.py\" target=\"_blank\"><span style=\"color: #7f7f7f; text-decoration-color: #7f7f7f\">process_data_utils.py</span></a><span style=\"color: #7f7f7f; text-decoration-color: #7f7f7f\">:</span><a href=\"file:///usr/local/lib/python3.10/dist-packages/nerfstudio/process_data/process_data_utils.py#266\" target=\"_blank\"><span style=\"color: #7f7f7f; text-decoration-color: #7f7f7f\">266</span></a>\n",
              "</pre>\n"
            ]
          },
          "metadata": {}
        },
        {
          "output_type": "display_data",
          "data": {
            "text/plain": [
              "\u001b[2;36m          \u001b[0m\u001b[2;36m \u001b[0mCopying image \u001b[1;36m53\u001b[0m of \u001b[1;36m200\u001b[0m\u001b[33m...\u001b[0m                                                          \u001b]8;id=559578;file:///usr/local/lib/python3.10/dist-packages/nerfstudio/process_data/process_data_utils.py\u001b\\\u001b[2mprocess_data_utils.py\u001b[0m\u001b]8;;\u001b\\\u001b[2m:\u001b[0m\u001b]8;id=526742;file:///usr/local/lib/python3.10/dist-packages/nerfstudio/process_data/process_data_utils.py#266\u001b\\\u001b[2m266\u001b[0m\u001b]8;;\u001b\\\n"
            ],
            "text/html": [
              "<pre style=\"white-space:pre;overflow-x:auto;line-height:normal;font-family:Menlo,'DejaVu Sans Mono',consolas,'Courier New',monospace\"><span style=\"color: #7fbfbf; text-decoration-color: #7fbfbf\">           </span>Copying image <span style=\"color: #008080; text-decoration-color: #008080; font-weight: bold\">53</span> of <span style=\"color: #008080; text-decoration-color: #008080; font-weight: bold\">200</span><span style=\"color: #808000; text-decoration-color: #808000\">...</span>                                                          <a href=\"file:///usr/local/lib/python3.10/dist-packages/nerfstudio/process_data/process_data_utils.py\" target=\"_blank\"><span style=\"color: #7f7f7f; text-decoration-color: #7f7f7f\">process_data_utils.py</span></a><span style=\"color: #7f7f7f; text-decoration-color: #7f7f7f\">:</span><a href=\"file:///usr/local/lib/python3.10/dist-packages/nerfstudio/process_data/process_data_utils.py#266\" target=\"_blank\"><span style=\"color: #7f7f7f; text-decoration-color: #7f7f7f\">266</span></a>\n",
              "</pre>\n"
            ]
          },
          "metadata": {}
        },
        {
          "output_type": "display_data",
          "data": {
            "text/plain": [
              "\u001b[2;36m[11:18:06]\u001b[0m\u001b[2;36m \u001b[0mCopying image \u001b[1;36m54\u001b[0m of \u001b[1;36m200\u001b[0m\u001b[33m...\u001b[0m                                                          \u001b]8;id=58819;file:///usr/local/lib/python3.10/dist-packages/nerfstudio/process_data/process_data_utils.py\u001b\\\u001b[2mprocess_data_utils.py\u001b[0m\u001b]8;;\u001b\\\u001b[2m:\u001b[0m\u001b]8;id=247635;file:///usr/local/lib/python3.10/dist-packages/nerfstudio/process_data/process_data_utils.py#266\u001b\\\u001b[2m266\u001b[0m\u001b]8;;\u001b\\\n"
            ],
            "text/html": [
              "<pre style=\"white-space:pre;overflow-x:auto;line-height:normal;font-family:Menlo,'DejaVu Sans Mono',consolas,'Courier New',monospace\"><span style=\"color: #7fbfbf; text-decoration-color: #7fbfbf\">[11:18:06] </span>Copying image <span style=\"color: #008080; text-decoration-color: #008080; font-weight: bold\">54</span> of <span style=\"color: #008080; text-decoration-color: #008080; font-weight: bold\">200</span><span style=\"color: #808000; text-decoration-color: #808000\">...</span>                                                          <a href=\"file:///usr/local/lib/python3.10/dist-packages/nerfstudio/process_data/process_data_utils.py\" target=\"_blank\"><span style=\"color: #7f7f7f; text-decoration-color: #7f7f7f\">process_data_utils.py</span></a><span style=\"color: #7f7f7f; text-decoration-color: #7f7f7f\">:</span><a href=\"file:///usr/local/lib/python3.10/dist-packages/nerfstudio/process_data/process_data_utils.py#266\" target=\"_blank\"><span style=\"color: #7f7f7f; text-decoration-color: #7f7f7f\">266</span></a>\n",
              "</pre>\n"
            ]
          },
          "metadata": {}
        },
        {
          "output_type": "display_data",
          "data": {
            "text/plain": [
              "\u001b[2;36m          \u001b[0m\u001b[2;36m \u001b[0mCopying image \u001b[1;36m55\u001b[0m of \u001b[1;36m200\u001b[0m\u001b[33m...\u001b[0m                                                          \u001b]8;id=753584;file:///usr/local/lib/python3.10/dist-packages/nerfstudio/process_data/process_data_utils.py\u001b\\\u001b[2mprocess_data_utils.py\u001b[0m\u001b]8;;\u001b\\\u001b[2m:\u001b[0m\u001b]8;id=3060;file:///usr/local/lib/python3.10/dist-packages/nerfstudio/process_data/process_data_utils.py#266\u001b\\\u001b[2m266\u001b[0m\u001b]8;;\u001b\\\n"
            ],
            "text/html": [
              "<pre style=\"white-space:pre;overflow-x:auto;line-height:normal;font-family:Menlo,'DejaVu Sans Mono',consolas,'Courier New',monospace\"><span style=\"color: #7fbfbf; text-decoration-color: #7fbfbf\">           </span>Copying image <span style=\"color: #008080; text-decoration-color: #008080; font-weight: bold\">55</span> of <span style=\"color: #008080; text-decoration-color: #008080; font-weight: bold\">200</span><span style=\"color: #808000; text-decoration-color: #808000\">...</span>                                                          <a href=\"file:///usr/local/lib/python3.10/dist-packages/nerfstudio/process_data/process_data_utils.py\" target=\"_blank\"><span style=\"color: #7f7f7f; text-decoration-color: #7f7f7f\">process_data_utils.py</span></a><span style=\"color: #7f7f7f; text-decoration-color: #7f7f7f\">:</span><a href=\"file:///usr/local/lib/python3.10/dist-packages/nerfstudio/process_data/process_data_utils.py#266\" target=\"_blank\"><span style=\"color: #7f7f7f; text-decoration-color: #7f7f7f\">266</span></a>\n",
              "</pre>\n"
            ]
          },
          "metadata": {}
        },
        {
          "output_type": "display_data",
          "data": {
            "text/plain": [
              "\u001b[2;36m[11:18:07]\u001b[0m\u001b[2;36m \u001b[0mCopying image \u001b[1;36m56\u001b[0m of \u001b[1;36m200\u001b[0m\u001b[33m...\u001b[0m                                                          \u001b]8;id=359217;file:///usr/local/lib/python3.10/dist-packages/nerfstudio/process_data/process_data_utils.py\u001b\\\u001b[2mprocess_data_utils.py\u001b[0m\u001b]8;;\u001b\\\u001b[2m:\u001b[0m\u001b]8;id=655733;file:///usr/local/lib/python3.10/dist-packages/nerfstudio/process_data/process_data_utils.py#266\u001b\\\u001b[2m266\u001b[0m\u001b]8;;\u001b\\\n"
            ],
            "text/html": [
              "<pre style=\"white-space:pre;overflow-x:auto;line-height:normal;font-family:Menlo,'DejaVu Sans Mono',consolas,'Courier New',monospace\"><span style=\"color: #7fbfbf; text-decoration-color: #7fbfbf\">[11:18:07] </span>Copying image <span style=\"color: #008080; text-decoration-color: #008080; font-weight: bold\">56</span> of <span style=\"color: #008080; text-decoration-color: #008080; font-weight: bold\">200</span><span style=\"color: #808000; text-decoration-color: #808000\">...</span>                                                          <a href=\"file:///usr/local/lib/python3.10/dist-packages/nerfstudio/process_data/process_data_utils.py\" target=\"_blank\"><span style=\"color: #7f7f7f; text-decoration-color: #7f7f7f\">process_data_utils.py</span></a><span style=\"color: #7f7f7f; text-decoration-color: #7f7f7f\">:</span><a href=\"file:///usr/local/lib/python3.10/dist-packages/nerfstudio/process_data/process_data_utils.py#266\" target=\"_blank\"><span style=\"color: #7f7f7f; text-decoration-color: #7f7f7f\">266</span></a>\n",
              "</pre>\n"
            ]
          },
          "metadata": {}
        },
        {
          "output_type": "display_data",
          "data": {
            "text/plain": [
              "\u001b[2;36m[11:18:08]\u001b[0m\u001b[2;36m \u001b[0mCopying image \u001b[1;36m57\u001b[0m of \u001b[1;36m200\u001b[0m\u001b[33m...\u001b[0m                                                          \u001b]8;id=603418;file:///usr/local/lib/python3.10/dist-packages/nerfstudio/process_data/process_data_utils.py\u001b\\\u001b[2mprocess_data_utils.py\u001b[0m\u001b]8;;\u001b\\\u001b[2m:\u001b[0m\u001b]8;id=699731;file:///usr/local/lib/python3.10/dist-packages/nerfstudio/process_data/process_data_utils.py#266\u001b\\\u001b[2m266\u001b[0m\u001b]8;;\u001b\\\n"
            ],
            "text/html": [
              "<pre style=\"white-space:pre;overflow-x:auto;line-height:normal;font-family:Menlo,'DejaVu Sans Mono',consolas,'Courier New',monospace\"><span style=\"color: #7fbfbf; text-decoration-color: #7fbfbf\">[11:18:08] </span>Copying image <span style=\"color: #008080; text-decoration-color: #008080; font-weight: bold\">57</span> of <span style=\"color: #008080; text-decoration-color: #008080; font-weight: bold\">200</span><span style=\"color: #808000; text-decoration-color: #808000\">...</span>                                                          <a href=\"file:///usr/local/lib/python3.10/dist-packages/nerfstudio/process_data/process_data_utils.py\" target=\"_blank\"><span style=\"color: #7f7f7f; text-decoration-color: #7f7f7f\">process_data_utils.py</span></a><span style=\"color: #7f7f7f; text-decoration-color: #7f7f7f\">:</span><a href=\"file:///usr/local/lib/python3.10/dist-packages/nerfstudio/process_data/process_data_utils.py#266\" target=\"_blank\"><span style=\"color: #7f7f7f; text-decoration-color: #7f7f7f\">266</span></a>\n",
              "</pre>\n"
            ]
          },
          "metadata": {}
        },
        {
          "output_type": "display_data",
          "data": {
            "text/plain": [
              "\u001b[2;36m          \u001b[0m\u001b[2;36m \u001b[0mCopying image \u001b[1;36m58\u001b[0m of \u001b[1;36m200\u001b[0m\u001b[33m...\u001b[0m                                                          \u001b]8;id=464380;file:///usr/local/lib/python3.10/dist-packages/nerfstudio/process_data/process_data_utils.py\u001b\\\u001b[2mprocess_data_utils.py\u001b[0m\u001b]8;;\u001b\\\u001b[2m:\u001b[0m\u001b]8;id=575791;file:///usr/local/lib/python3.10/dist-packages/nerfstudio/process_data/process_data_utils.py#266\u001b\\\u001b[2m266\u001b[0m\u001b]8;;\u001b\\\n"
            ],
            "text/html": [
              "<pre style=\"white-space:pre;overflow-x:auto;line-height:normal;font-family:Menlo,'DejaVu Sans Mono',consolas,'Courier New',monospace\"><span style=\"color: #7fbfbf; text-decoration-color: #7fbfbf\">           </span>Copying image <span style=\"color: #008080; text-decoration-color: #008080; font-weight: bold\">58</span> of <span style=\"color: #008080; text-decoration-color: #008080; font-weight: bold\">200</span><span style=\"color: #808000; text-decoration-color: #808000\">...</span>                                                          <a href=\"file:///usr/local/lib/python3.10/dist-packages/nerfstudio/process_data/process_data_utils.py\" target=\"_blank\"><span style=\"color: #7f7f7f; text-decoration-color: #7f7f7f\">process_data_utils.py</span></a><span style=\"color: #7f7f7f; text-decoration-color: #7f7f7f\">:</span><a href=\"file:///usr/local/lib/python3.10/dist-packages/nerfstudio/process_data/process_data_utils.py#266\" target=\"_blank\"><span style=\"color: #7f7f7f; text-decoration-color: #7f7f7f\">266</span></a>\n",
              "</pre>\n"
            ]
          },
          "metadata": {}
        },
        {
          "output_type": "display_data",
          "data": {
            "text/plain": [
              "\u001b[2;36m[11:18:09]\u001b[0m\u001b[2;36m \u001b[0mCopying image \u001b[1;36m59\u001b[0m of \u001b[1;36m200\u001b[0m\u001b[33m...\u001b[0m                                                          \u001b]8;id=477419;file:///usr/local/lib/python3.10/dist-packages/nerfstudio/process_data/process_data_utils.py\u001b\\\u001b[2mprocess_data_utils.py\u001b[0m\u001b]8;;\u001b\\\u001b[2m:\u001b[0m\u001b]8;id=973156;file:///usr/local/lib/python3.10/dist-packages/nerfstudio/process_data/process_data_utils.py#266\u001b\\\u001b[2m266\u001b[0m\u001b]8;;\u001b\\\n"
            ],
            "text/html": [
              "<pre style=\"white-space:pre;overflow-x:auto;line-height:normal;font-family:Menlo,'DejaVu Sans Mono',consolas,'Courier New',monospace\"><span style=\"color: #7fbfbf; text-decoration-color: #7fbfbf\">[11:18:09] </span>Copying image <span style=\"color: #008080; text-decoration-color: #008080; font-weight: bold\">59</span> of <span style=\"color: #008080; text-decoration-color: #008080; font-weight: bold\">200</span><span style=\"color: #808000; text-decoration-color: #808000\">...</span>                                                          <a href=\"file:///usr/local/lib/python3.10/dist-packages/nerfstudio/process_data/process_data_utils.py\" target=\"_blank\"><span style=\"color: #7f7f7f; text-decoration-color: #7f7f7f\">process_data_utils.py</span></a><span style=\"color: #7f7f7f; text-decoration-color: #7f7f7f\">:</span><a href=\"file:///usr/local/lib/python3.10/dist-packages/nerfstudio/process_data/process_data_utils.py#266\" target=\"_blank\"><span style=\"color: #7f7f7f; text-decoration-color: #7f7f7f\">266</span></a>\n",
              "</pre>\n"
            ]
          },
          "metadata": {}
        },
        {
          "output_type": "display_data",
          "data": {
            "text/plain": [
              "\u001b[2;36m[11:18:10]\u001b[0m\u001b[2;36m \u001b[0mCopying image \u001b[1;36m60\u001b[0m of \u001b[1;36m200\u001b[0m\u001b[33m...\u001b[0m                                                          \u001b]8;id=87319;file:///usr/local/lib/python3.10/dist-packages/nerfstudio/process_data/process_data_utils.py\u001b\\\u001b[2mprocess_data_utils.py\u001b[0m\u001b]8;;\u001b\\\u001b[2m:\u001b[0m\u001b]8;id=695951;file:///usr/local/lib/python3.10/dist-packages/nerfstudio/process_data/process_data_utils.py#266\u001b\\\u001b[2m266\u001b[0m\u001b]8;;\u001b\\\n"
            ],
            "text/html": [
              "<pre style=\"white-space:pre;overflow-x:auto;line-height:normal;font-family:Menlo,'DejaVu Sans Mono',consolas,'Courier New',monospace\"><span style=\"color: #7fbfbf; text-decoration-color: #7fbfbf\">[11:18:10] </span>Copying image <span style=\"color: #008080; text-decoration-color: #008080; font-weight: bold\">60</span> of <span style=\"color: #008080; text-decoration-color: #008080; font-weight: bold\">200</span><span style=\"color: #808000; text-decoration-color: #808000\">...</span>                                                          <a href=\"file:///usr/local/lib/python3.10/dist-packages/nerfstudio/process_data/process_data_utils.py\" target=\"_blank\"><span style=\"color: #7f7f7f; text-decoration-color: #7f7f7f\">process_data_utils.py</span></a><span style=\"color: #7f7f7f; text-decoration-color: #7f7f7f\">:</span><a href=\"file:///usr/local/lib/python3.10/dist-packages/nerfstudio/process_data/process_data_utils.py#266\" target=\"_blank\"><span style=\"color: #7f7f7f; text-decoration-color: #7f7f7f\">266</span></a>\n",
              "</pre>\n"
            ]
          },
          "metadata": {}
        },
        {
          "output_type": "display_data",
          "data": {
            "text/plain": [
              "\u001b[2;36m          \u001b[0m\u001b[2;36m \u001b[0mCopying image \u001b[1;36m61\u001b[0m of \u001b[1;36m200\u001b[0m\u001b[33m...\u001b[0m                                                          \u001b]8;id=807507;file:///usr/local/lib/python3.10/dist-packages/nerfstudio/process_data/process_data_utils.py\u001b\\\u001b[2mprocess_data_utils.py\u001b[0m\u001b]8;;\u001b\\\u001b[2m:\u001b[0m\u001b]8;id=465066;file:///usr/local/lib/python3.10/dist-packages/nerfstudio/process_data/process_data_utils.py#266\u001b\\\u001b[2m266\u001b[0m\u001b]8;;\u001b\\\n"
            ],
            "text/html": [
              "<pre style=\"white-space:pre;overflow-x:auto;line-height:normal;font-family:Menlo,'DejaVu Sans Mono',consolas,'Courier New',monospace\"><span style=\"color: #7fbfbf; text-decoration-color: #7fbfbf\">           </span>Copying image <span style=\"color: #008080; text-decoration-color: #008080; font-weight: bold\">61</span> of <span style=\"color: #008080; text-decoration-color: #008080; font-weight: bold\">200</span><span style=\"color: #808000; text-decoration-color: #808000\">...</span>                                                          <a href=\"file:///usr/local/lib/python3.10/dist-packages/nerfstudio/process_data/process_data_utils.py\" target=\"_blank\"><span style=\"color: #7f7f7f; text-decoration-color: #7f7f7f\">process_data_utils.py</span></a><span style=\"color: #7f7f7f; text-decoration-color: #7f7f7f\">:</span><a href=\"file:///usr/local/lib/python3.10/dist-packages/nerfstudio/process_data/process_data_utils.py#266\" target=\"_blank\"><span style=\"color: #7f7f7f; text-decoration-color: #7f7f7f\">266</span></a>\n",
              "</pre>\n"
            ]
          },
          "metadata": {}
        },
        {
          "output_type": "display_data",
          "data": {
            "text/plain": [
              "\u001b[2;36m[11:18:11]\u001b[0m\u001b[2;36m \u001b[0mCopying image \u001b[1;36m62\u001b[0m of \u001b[1;36m200\u001b[0m\u001b[33m...\u001b[0m                                                          \u001b]8;id=377775;file:///usr/local/lib/python3.10/dist-packages/nerfstudio/process_data/process_data_utils.py\u001b\\\u001b[2mprocess_data_utils.py\u001b[0m\u001b]8;;\u001b\\\u001b[2m:\u001b[0m\u001b]8;id=141103;file:///usr/local/lib/python3.10/dist-packages/nerfstudio/process_data/process_data_utils.py#266\u001b\\\u001b[2m266\u001b[0m\u001b]8;;\u001b\\\n"
            ],
            "text/html": [
              "<pre style=\"white-space:pre;overflow-x:auto;line-height:normal;font-family:Menlo,'DejaVu Sans Mono',consolas,'Courier New',monospace\"><span style=\"color: #7fbfbf; text-decoration-color: #7fbfbf\">[11:18:11] </span>Copying image <span style=\"color: #008080; text-decoration-color: #008080; font-weight: bold\">62</span> of <span style=\"color: #008080; text-decoration-color: #008080; font-weight: bold\">200</span><span style=\"color: #808000; text-decoration-color: #808000\">...</span>                                                          <a href=\"file:///usr/local/lib/python3.10/dist-packages/nerfstudio/process_data/process_data_utils.py\" target=\"_blank\"><span style=\"color: #7f7f7f; text-decoration-color: #7f7f7f\">process_data_utils.py</span></a><span style=\"color: #7f7f7f; text-decoration-color: #7f7f7f\">:</span><a href=\"file:///usr/local/lib/python3.10/dist-packages/nerfstudio/process_data/process_data_utils.py#266\" target=\"_blank\"><span style=\"color: #7f7f7f; text-decoration-color: #7f7f7f\">266</span></a>\n",
              "</pre>\n"
            ]
          },
          "metadata": {}
        },
        {
          "output_type": "display_data",
          "data": {
            "text/plain": [
              "\u001b[2;36m          \u001b[0m\u001b[2;36m \u001b[0mCopying image \u001b[1;36m63\u001b[0m of \u001b[1;36m200\u001b[0m\u001b[33m...\u001b[0m                                                          \u001b]8;id=459520;file:///usr/local/lib/python3.10/dist-packages/nerfstudio/process_data/process_data_utils.py\u001b\\\u001b[2mprocess_data_utils.py\u001b[0m\u001b]8;;\u001b\\\u001b[2m:\u001b[0m\u001b]8;id=92851;file:///usr/local/lib/python3.10/dist-packages/nerfstudio/process_data/process_data_utils.py#266\u001b\\\u001b[2m266\u001b[0m\u001b]8;;\u001b\\\n"
            ],
            "text/html": [
              "<pre style=\"white-space:pre;overflow-x:auto;line-height:normal;font-family:Menlo,'DejaVu Sans Mono',consolas,'Courier New',monospace\"><span style=\"color: #7fbfbf; text-decoration-color: #7fbfbf\">           </span>Copying image <span style=\"color: #008080; text-decoration-color: #008080; font-weight: bold\">63</span> of <span style=\"color: #008080; text-decoration-color: #008080; font-weight: bold\">200</span><span style=\"color: #808000; text-decoration-color: #808000\">...</span>                                                          <a href=\"file:///usr/local/lib/python3.10/dist-packages/nerfstudio/process_data/process_data_utils.py\" target=\"_blank\"><span style=\"color: #7f7f7f; text-decoration-color: #7f7f7f\">process_data_utils.py</span></a><span style=\"color: #7f7f7f; text-decoration-color: #7f7f7f\">:</span><a href=\"file:///usr/local/lib/python3.10/dist-packages/nerfstudio/process_data/process_data_utils.py#266\" target=\"_blank\"><span style=\"color: #7f7f7f; text-decoration-color: #7f7f7f\">266</span></a>\n",
              "</pre>\n"
            ]
          },
          "metadata": {}
        },
        {
          "output_type": "display_data",
          "data": {
            "text/plain": [
              "\u001b[2;36m[11:18:12]\u001b[0m\u001b[2;36m \u001b[0mCopying image \u001b[1;36m64\u001b[0m of \u001b[1;36m200\u001b[0m\u001b[33m...\u001b[0m                                                          \u001b]8;id=141409;file:///usr/local/lib/python3.10/dist-packages/nerfstudio/process_data/process_data_utils.py\u001b\\\u001b[2mprocess_data_utils.py\u001b[0m\u001b]8;;\u001b\\\u001b[2m:\u001b[0m\u001b]8;id=592464;file:///usr/local/lib/python3.10/dist-packages/nerfstudio/process_data/process_data_utils.py#266\u001b\\\u001b[2m266\u001b[0m\u001b]8;;\u001b\\\n"
            ],
            "text/html": [
              "<pre style=\"white-space:pre;overflow-x:auto;line-height:normal;font-family:Menlo,'DejaVu Sans Mono',consolas,'Courier New',monospace\"><span style=\"color: #7fbfbf; text-decoration-color: #7fbfbf\">[11:18:12] </span>Copying image <span style=\"color: #008080; text-decoration-color: #008080; font-weight: bold\">64</span> of <span style=\"color: #008080; text-decoration-color: #008080; font-weight: bold\">200</span><span style=\"color: #808000; text-decoration-color: #808000\">...</span>                                                          <a href=\"file:///usr/local/lib/python3.10/dist-packages/nerfstudio/process_data/process_data_utils.py\" target=\"_blank\"><span style=\"color: #7f7f7f; text-decoration-color: #7f7f7f\">process_data_utils.py</span></a><span style=\"color: #7f7f7f; text-decoration-color: #7f7f7f\">:</span><a href=\"file:///usr/local/lib/python3.10/dist-packages/nerfstudio/process_data/process_data_utils.py#266\" target=\"_blank\"><span style=\"color: #7f7f7f; text-decoration-color: #7f7f7f\">266</span></a>\n",
              "</pre>\n"
            ]
          },
          "metadata": {}
        },
        {
          "output_type": "display_data",
          "data": {
            "text/plain": [
              "\u001b[2;36m          \u001b[0m\u001b[2;36m \u001b[0mCopying image \u001b[1;36m65\u001b[0m of \u001b[1;36m200\u001b[0m\u001b[33m...\u001b[0m                                                          \u001b]8;id=861688;file:///usr/local/lib/python3.10/dist-packages/nerfstudio/process_data/process_data_utils.py\u001b\\\u001b[2mprocess_data_utils.py\u001b[0m\u001b]8;;\u001b\\\u001b[2m:\u001b[0m\u001b]8;id=207556;file:///usr/local/lib/python3.10/dist-packages/nerfstudio/process_data/process_data_utils.py#266\u001b\\\u001b[2m266\u001b[0m\u001b]8;;\u001b\\\n"
            ],
            "text/html": [
              "<pre style=\"white-space:pre;overflow-x:auto;line-height:normal;font-family:Menlo,'DejaVu Sans Mono',consolas,'Courier New',monospace\"><span style=\"color: #7fbfbf; text-decoration-color: #7fbfbf\">           </span>Copying image <span style=\"color: #008080; text-decoration-color: #008080; font-weight: bold\">65</span> of <span style=\"color: #008080; text-decoration-color: #008080; font-weight: bold\">200</span><span style=\"color: #808000; text-decoration-color: #808000\">...</span>                                                          <a href=\"file:///usr/local/lib/python3.10/dist-packages/nerfstudio/process_data/process_data_utils.py\" target=\"_blank\"><span style=\"color: #7f7f7f; text-decoration-color: #7f7f7f\">process_data_utils.py</span></a><span style=\"color: #7f7f7f; text-decoration-color: #7f7f7f\">:</span><a href=\"file:///usr/local/lib/python3.10/dist-packages/nerfstudio/process_data/process_data_utils.py#266\" target=\"_blank\"><span style=\"color: #7f7f7f; text-decoration-color: #7f7f7f\">266</span></a>\n",
              "</pre>\n"
            ]
          },
          "metadata": {}
        },
        {
          "output_type": "display_data",
          "data": {
            "text/plain": [
              "\u001b[2;36m[11:18:13]\u001b[0m\u001b[2;36m \u001b[0mCopying image \u001b[1;36m66\u001b[0m of \u001b[1;36m200\u001b[0m\u001b[33m...\u001b[0m                                                          \u001b]8;id=880006;file:///usr/local/lib/python3.10/dist-packages/nerfstudio/process_data/process_data_utils.py\u001b\\\u001b[2mprocess_data_utils.py\u001b[0m\u001b]8;;\u001b\\\u001b[2m:\u001b[0m\u001b]8;id=755992;file:///usr/local/lib/python3.10/dist-packages/nerfstudio/process_data/process_data_utils.py#266\u001b\\\u001b[2m266\u001b[0m\u001b]8;;\u001b\\\n"
            ],
            "text/html": [
              "<pre style=\"white-space:pre;overflow-x:auto;line-height:normal;font-family:Menlo,'DejaVu Sans Mono',consolas,'Courier New',monospace\"><span style=\"color: #7fbfbf; text-decoration-color: #7fbfbf\">[11:18:13] </span>Copying image <span style=\"color: #008080; text-decoration-color: #008080; font-weight: bold\">66</span> of <span style=\"color: #008080; text-decoration-color: #008080; font-weight: bold\">200</span><span style=\"color: #808000; text-decoration-color: #808000\">...</span>                                                          <a href=\"file:///usr/local/lib/python3.10/dist-packages/nerfstudio/process_data/process_data_utils.py\" target=\"_blank\"><span style=\"color: #7f7f7f; text-decoration-color: #7f7f7f\">process_data_utils.py</span></a><span style=\"color: #7f7f7f; text-decoration-color: #7f7f7f\">:</span><a href=\"file:///usr/local/lib/python3.10/dist-packages/nerfstudio/process_data/process_data_utils.py#266\" target=\"_blank\"><span style=\"color: #7f7f7f; text-decoration-color: #7f7f7f\">266</span></a>\n",
              "</pre>\n"
            ]
          },
          "metadata": {}
        },
        {
          "output_type": "display_data",
          "data": {
            "text/plain": [
              "\u001b[2;36m          \u001b[0m\u001b[2;36m \u001b[0mCopying image \u001b[1;36m67\u001b[0m of \u001b[1;36m200\u001b[0m\u001b[33m...\u001b[0m                                                          \u001b]8;id=570176;file:///usr/local/lib/python3.10/dist-packages/nerfstudio/process_data/process_data_utils.py\u001b\\\u001b[2mprocess_data_utils.py\u001b[0m\u001b]8;;\u001b\\\u001b[2m:\u001b[0m\u001b]8;id=123599;file:///usr/local/lib/python3.10/dist-packages/nerfstudio/process_data/process_data_utils.py#266\u001b\\\u001b[2m266\u001b[0m\u001b]8;;\u001b\\\n"
            ],
            "text/html": [
              "<pre style=\"white-space:pre;overflow-x:auto;line-height:normal;font-family:Menlo,'DejaVu Sans Mono',consolas,'Courier New',monospace\"><span style=\"color: #7fbfbf; text-decoration-color: #7fbfbf\">           </span>Copying image <span style=\"color: #008080; text-decoration-color: #008080; font-weight: bold\">67</span> of <span style=\"color: #008080; text-decoration-color: #008080; font-weight: bold\">200</span><span style=\"color: #808000; text-decoration-color: #808000\">...</span>                                                          <a href=\"file:///usr/local/lib/python3.10/dist-packages/nerfstudio/process_data/process_data_utils.py\" target=\"_blank\"><span style=\"color: #7f7f7f; text-decoration-color: #7f7f7f\">process_data_utils.py</span></a><span style=\"color: #7f7f7f; text-decoration-color: #7f7f7f\">:</span><a href=\"file:///usr/local/lib/python3.10/dist-packages/nerfstudio/process_data/process_data_utils.py#266\" target=\"_blank\"><span style=\"color: #7f7f7f; text-decoration-color: #7f7f7f\">266</span></a>\n",
              "</pre>\n"
            ]
          },
          "metadata": {}
        },
        {
          "output_type": "display_data",
          "data": {
            "text/plain": [
              "\u001b[2;36m[11:18:14]\u001b[0m\u001b[2;36m \u001b[0mCopying image \u001b[1;36m68\u001b[0m of \u001b[1;36m200\u001b[0m\u001b[33m...\u001b[0m                                                          \u001b]8;id=690605;file:///usr/local/lib/python3.10/dist-packages/nerfstudio/process_data/process_data_utils.py\u001b\\\u001b[2mprocess_data_utils.py\u001b[0m\u001b]8;;\u001b\\\u001b[2m:\u001b[0m\u001b]8;id=454569;file:///usr/local/lib/python3.10/dist-packages/nerfstudio/process_data/process_data_utils.py#266\u001b\\\u001b[2m266\u001b[0m\u001b]8;;\u001b\\\n"
            ],
            "text/html": [
              "<pre style=\"white-space:pre;overflow-x:auto;line-height:normal;font-family:Menlo,'DejaVu Sans Mono',consolas,'Courier New',monospace\"><span style=\"color: #7fbfbf; text-decoration-color: #7fbfbf\">[11:18:14] </span>Copying image <span style=\"color: #008080; text-decoration-color: #008080; font-weight: bold\">68</span> of <span style=\"color: #008080; text-decoration-color: #008080; font-weight: bold\">200</span><span style=\"color: #808000; text-decoration-color: #808000\">...</span>                                                          <a href=\"file:///usr/local/lib/python3.10/dist-packages/nerfstudio/process_data/process_data_utils.py\" target=\"_blank\"><span style=\"color: #7f7f7f; text-decoration-color: #7f7f7f\">process_data_utils.py</span></a><span style=\"color: #7f7f7f; text-decoration-color: #7f7f7f\">:</span><a href=\"file:///usr/local/lib/python3.10/dist-packages/nerfstudio/process_data/process_data_utils.py#266\" target=\"_blank\"><span style=\"color: #7f7f7f; text-decoration-color: #7f7f7f\">266</span></a>\n",
              "</pre>\n"
            ]
          },
          "metadata": {}
        },
        {
          "output_type": "display_data",
          "data": {
            "text/plain": [
              "\u001b[2;36m          \u001b[0m\u001b[2;36m \u001b[0mCopying image \u001b[1;36m69\u001b[0m of \u001b[1;36m200\u001b[0m\u001b[33m...\u001b[0m                                                          \u001b]8;id=473816;file:///usr/local/lib/python3.10/dist-packages/nerfstudio/process_data/process_data_utils.py\u001b\\\u001b[2mprocess_data_utils.py\u001b[0m\u001b]8;;\u001b\\\u001b[2m:\u001b[0m\u001b]8;id=772330;file:///usr/local/lib/python3.10/dist-packages/nerfstudio/process_data/process_data_utils.py#266\u001b\\\u001b[2m266\u001b[0m\u001b]8;;\u001b\\\n"
            ],
            "text/html": [
              "<pre style=\"white-space:pre;overflow-x:auto;line-height:normal;font-family:Menlo,'DejaVu Sans Mono',consolas,'Courier New',monospace\"><span style=\"color: #7fbfbf; text-decoration-color: #7fbfbf\">           </span>Copying image <span style=\"color: #008080; text-decoration-color: #008080; font-weight: bold\">69</span> of <span style=\"color: #008080; text-decoration-color: #008080; font-weight: bold\">200</span><span style=\"color: #808000; text-decoration-color: #808000\">...</span>                                                          <a href=\"file:///usr/local/lib/python3.10/dist-packages/nerfstudio/process_data/process_data_utils.py\" target=\"_blank\"><span style=\"color: #7f7f7f; text-decoration-color: #7f7f7f\">process_data_utils.py</span></a><span style=\"color: #7f7f7f; text-decoration-color: #7f7f7f\">:</span><a href=\"file:///usr/local/lib/python3.10/dist-packages/nerfstudio/process_data/process_data_utils.py#266\" target=\"_blank\"><span style=\"color: #7f7f7f; text-decoration-color: #7f7f7f\">266</span></a>\n",
              "</pre>\n"
            ]
          },
          "metadata": {}
        },
        {
          "output_type": "display_data",
          "data": {
            "text/plain": [
              "\u001b[2;36m[11:18:15]\u001b[0m\u001b[2;36m \u001b[0mCopying image \u001b[1;36m70\u001b[0m of \u001b[1;36m200\u001b[0m\u001b[33m...\u001b[0m                                                          \u001b]8;id=904789;file:///usr/local/lib/python3.10/dist-packages/nerfstudio/process_data/process_data_utils.py\u001b\\\u001b[2mprocess_data_utils.py\u001b[0m\u001b]8;;\u001b\\\u001b[2m:\u001b[0m\u001b]8;id=195862;file:///usr/local/lib/python3.10/dist-packages/nerfstudio/process_data/process_data_utils.py#266\u001b\\\u001b[2m266\u001b[0m\u001b]8;;\u001b\\\n"
            ],
            "text/html": [
              "<pre style=\"white-space:pre;overflow-x:auto;line-height:normal;font-family:Menlo,'DejaVu Sans Mono',consolas,'Courier New',monospace\"><span style=\"color: #7fbfbf; text-decoration-color: #7fbfbf\">[11:18:15] </span>Copying image <span style=\"color: #008080; text-decoration-color: #008080; font-weight: bold\">70</span> of <span style=\"color: #008080; text-decoration-color: #008080; font-weight: bold\">200</span><span style=\"color: #808000; text-decoration-color: #808000\">...</span>                                                          <a href=\"file:///usr/local/lib/python3.10/dist-packages/nerfstudio/process_data/process_data_utils.py\" target=\"_blank\"><span style=\"color: #7f7f7f; text-decoration-color: #7f7f7f\">process_data_utils.py</span></a><span style=\"color: #7f7f7f; text-decoration-color: #7f7f7f\">:</span><a href=\"file:///usr/local/lib/python3.10/dist-packages/nerfstudio/process_data/process_data_utils.py#266\" target=\"_blank\"><span style=\"color: #7f7f7f; text-decoration-color: #7f7f7f\">266</span></a>\n",
              "</pre>\n"
            ]
          },
          "metadata": {}
        },
        {
          "output_type": "display_data",
          "data": {
            "text/plain": [
              "\u001b[2;36m          \u001b[0m\u001b[2;36m \u001b[0mCopying image \u001b[1;36m71\u001b[0m of \u001b[1;36m200\u001b[0m\u001b[33m...\u001b[0m                                                          \u001b]8;id=883101;file:///usr/local/lib/python3.10/dist-packages/nerfstudio/process_data/process_data_utils.py\u001b\\\u001b[2mprocess_data_utils.py\u001b[0m\u001b]8;;\u001b\\\u001b[2m:\u001b[0m\u001b]8;id=817426;file:///usr/local/lib/python3.10/dist-packages/nerfstudio/process_data/process_data_utils.py#266\u001b\\\u001b[2m266\u001b[0m\u001b]8;;\u001b\\\n"
            ],
            "text/html": [
              "<pre style=\"white-space:pre;overflow-x:auto;line-height:normal;font-family:Menlo,'DejaVu Sans Mono',consolas,'Courier New',monospace\"><span style=\"color: #7fbfbf; text-decoration-color: #7fbfbf\">           </span>Copying image <span style=\"color: #008080; text-decoration-color: #008080; font-weight: bold\">71</span> of <span style=\"color: #008080; text-decoration-color: #008080; font-weight: bold\">200</span><span style=\"color: #808000; text-decoration-color: #808000\">...</span>                                                          <a href=\"file:///usr/local/lib/python3.10/dist-packages/nerfstudio/process_data/process_data_utils.py\" target=\"_blank\"><span style=\"color: #7f7f7f; text-decoration-color: #7f7f7f\">process_data_utils.py</span></a><span style=\"color: #7f7f7f; text-decoration-color: #7f7f7f\">:</span><a href=\"file:///usr/local/lib/python3.10/dist-packages/nerfstudio/process_data/process_data_utils.py#266\" target=\"_blank\"><span style=\"color: #7f7f7f; text-decoration-color: #7f7f7f\">266</span></a>\n",
              "</pre>\n"
            ]
          },
          "metadata": {}
        },
        {
          "output_type": "display_data",
          "data": {
            "text/plain": [
              "\u001b[2;36m[11:18:16]\u001b[0m\u001b[2;36m \u001b[0mCopying image \u001b[1;36m72\u001b[0m of \u001b[1;36m200\u001b[0m\u001b[33m...\u001b[0m                                                          \u001b]8;id=17845;file:///usr/local/lib/python3.10/dist-packages/nerfstudio/process_data/process_data_utils.py\u001b\\\u001b[2mprocess_data_utils.py\u001b[0m\u001b]8;;\u001b\\\u001b[2m:\u001b[0m\u001b]8;id=795254;file:///usr/local/lib/python3.10/dist-packages/nerfstudio/process_data/process_data_utils.py#266\u001b\\\u001b[2m266\u001b[0m\u001b]8;;\u001b\\\n"
            ],
            "text/html": [
              "<pre style=\"white-space:pre;overflow-x:auto;line-height:normal;font-family:Menlo,'DejaVu Sans Mono',consolas,'Courier New',monospace\"><span style=\"color: #7fbfbf; text-decoration-color: #7fbfbf\">[11:18:16] </span>Copying image <span style=\"color: #008080; text-decoration-color: #008080; font-weight: bold\">72</span> of <span style=\"color: #008080; text-decoration-color: #008080; font-weight: bold\">200</span><span style=\"color: #808000; text-decoration-color: #808000\">...</span>                                                          <a href=\"file:///usr/local/lib/python3.10/dist-packages/nerfstudio/process_data/process_data_utils.py\" target=\"_blank\"><span style=\"color: #7f7f7f; text-decoration-color: #7f7f7f\">process_data_utils.py</span></a><span style=\"color: #7f7f7f; text-decoration-color: #7f7f7f\">:</span><a href=\"file:///usr/local/lib/python3.10/dist-packages/nerfstudio/process_data/process_data_utils.py#266\" target=\"_blank\"><span style=\"color: #7f7f7f; text-decoration-color: #7f7f7f\">266</span></a>\n",
              "</pre>\n"
            ]
          },
          "metadata": {}
        },
        {
          "output_type": "display_data",
          "data": {
            "text/plain": [
              "\u001b[2;36m          \u001b[0m\u001b[2;36m \u001b[0mCopying image \u001b[1;36m73\u001b[0m of \u001b[1;36m200\u001b[0m\u001b[33m...\u001b[0m                                                          \u001b]8;id=974969;file:///usr/local/lib/python3.10/dist-packages/nerfstudio/process_data/process_data_utils.py\u001b\\\u001b[2mprocess_data_utils.py\u001b[0m\u001b]8;;\u001b\\\u001b[2m:\u001b[0m\u001b]8;id=346878;file:///usr/local/lib/python3.10/dist-packages/nerfstudio/process_data/process_data_utils.py#266\u001b\\\u001b[2m266\u001b[0m\u001b]8;;\u001b\\\n"
            ],
            "text/html": [
              "<pre style=\"white-space:pre;overflow-x:auto;line-height:normal;font-family:Menlo,'DejaVu Sans Mono',consolas,'Courier New',monospace\"><span style=\"color: #7fbfbf; text-decoration-color: #7fbfbf\">           </span>Copying image <span style=\"color: #008080; text-decoration-color: #008080; font-weight: bold\">73</span> of <span style=\"color: #008080; text-decoration-color: #008080; font-weight: bold\">200</span><span style=\"color: #808000; text-decoration-color: #808000\">...</span>                                                          <a href=\"file:///usr/local/lib/python3.10/dist-packages/nerfstudio/process_data/process_data_utils.py\" target=\"_blank\"><span style=\"color: #7f7f7f; text-decoration-color: #7f7f7f\">process_data_utils.py</span></a><span style=\"color: #7f7f7f; text-decoration-color: #7f7f7f\">:</span><a href=\"file:///usr/local/lib/python3.10/dist-packages/nerfstudio/process_data/process_data_utils.py#266\" target=\"_blank\"><span style=\"color: #7f7f7f; text-decoration-color: #7f7f7f\">266</span></a>\n",
              "</pre>\n"
            ]
          },
          "metadata": {}
        },
        {
          "output_type": "display_data",
          "data": {
            "text/plain": [
              "\u001b[2;36m[11:18:17]\u001b[0m\u001b[2;36m \u001b[0mCopying image \u001b[1;36m74\u001b[0m of \u001b[1;36m200\u001b[0m\u001b[33m...\u001b[0m                                                          \u001b]8;id=382356;file:///usr/local/lib/python3.10/dist-packages/nerfstudio/process_data/process_data_utils.py\u001b\\\u001b[2mprocess_data_utils.py\u001b[0m\u001b]8;;\u001b\\\u001b[2m:\u001b[0m\u001b]8;id=729221;file:///usr/local/lib/python3.10/dist-packages/nerfstudio/process_data/process_data_utils.py#266\u001b\\\u001b[2m266\u001b[0m\u001b]8;;\u001b\\\n"
            ],
            "text/html": [
              "<pre style=\"white-space:pre;overflow-x:auto;line-height:normal;font-family:Menlo,'DejaVu Sans Mono',consolas,'Courier New',monospace\"><span style=\"color: #7fbfbf; text-decoration-color: #7fbfbf\">[11:18:17] </span>Copying image <span style=\"color: #008080; text-decoration-color: #008080; font-weight: bold\">74</span> of <span style=\"color: #008080; text-decoration-color: #008080; font-weight: bold\">200</span><span style=\"color: #808000; text-decoration-color: #808000\">...</span>                                                          <a href=\"file:///usr/local/lib/python3.10/dist-packages/nerfstudio/process_data/process_data_utils.py\" target=\"_blank\"><span style=\"color: #7f7f7f; text-decoration-color: #7f7f7f\">process_data_utils.py</span></a><span style=\"color: #7f7f7f; text-decoration-color: #7f7f7f\">:</span><a href=\"file:///usr/local/lib/python3.10/dist-packages/nerfstudio/process_data/process_data_utils.py#266\" target=\"_blank\"><span style=\"color: #7f7f7f; text-decoration-color: #7f7f7f\">266</span></a>\n",
              "</pre>\n"
            ]
          },
          "metadata": {}
        },
        {
          "output_type": "display_data",
          "data": {
            "text/plain": [
              "\u001b[2;36m          \u001b[0m\u001b[2;36m \u001b[0mCopying image \u001b[1;36m75\u001b[0m of \u001b[1;36m200\u001b[0m\u001b[33m...\u001b[0m                                                          \u001b]8;id=217850;file:///usr/local/lib/python3.10/dist-packages/nerfstudio/process_data/process_data_utils.py\u001b\\\u001b[2mprocess_data_utils.py\u001b[0m\u001b]8;;\u001b\\\u001b[2m:\u001b[0m\u001b]8;id=666620;file:///usr/local/lib/python3.10/dist-packages/nerfstudio/process_data/process_data_utils.py#266\u001b\\\u001b[2m266\u001b[0m\u001b]8;;\u001b\\\n"
            ],
            "text/html": [
              "<pre style=\"white-space:pre;overflow-x:auto;line-height:normal;font-family:Menlo,'DejaVu Sans Mono',consolas,'Courier New',monospace\"><span style=\"color: #7fbfbf; text-decoration-color: #7fbfbf\">           </span>Copying image <span style=\"color: #008080; text-decoration-color: #008080; font-weight: bold\">75</span> of <span style=\"color: #008080; text-decoration-color: #008080; font-weight: bold\">200</span><span style=\"color: #808000; text-decoration-color: #808000\">...</span>                                                          <a href=\"file:///usr/local/lib/python3.10/dist-packages/nerfstudio/process_data/process_data_utils.py\" target=\"_blank\"><span style=\"color: #7f7f7f; text-decoration-color: #7f7f7f\">process_data_utils.py</span></a><span style=\"color: #7f7f7f; text-decoration-color: #7f7f7f\">:</span><a href=\"file:///usr/local/lib/python3.10/dist-packages/nerfstudio/process_data/process_data_utils.py#266\" target=\"_blank\"><span style=\"color: #7f7f7f; text-decoration-color: #7f7f7f\">266</span></a>\n",
              "</pre>\n"
            ]
          },
          "metadata": {}
        },
        {
          "output_type": "display_data",
          "data": {
            "text/plain": [
              "\u001b[2;36m[11:18:18]\u001b[0m\u001b[2;36m \u001b[0mCopying image \u001b[1;36m76\u001b[0m of \u001b[1;36m200\u001b[0m\u001b[33m...\u001b[0m                                                          \u001b]8;id=403740;file:///usr/local/lib/python3.10/dist-packages/nerfstudio/process_data/process_data_utils.py\u001b\\\u001b[2mprocess_data_utils.py\u001b[0m\u001b]8;;\u001b\\\u001b[2m:\u001b[0m\u001b]8;id=269298;file:///usr/local/lib/python3.10/dist-packages/nerfstudio/process_data/process_data_utils.py#266\u001b\\\u001b[2m266\u001b[0m\u001b]8;;\u001b\\\n"
            ],
            "text/html": [
              "<pre style=\"white-space:pre;overflow-x:auto;line-height:normal;font-family:Menlo,'DejaVu Sans Mono',consolas,'Courier New',monospace\"><span style=\"color: #7fbfbf; text-decoration-color: #7fbfbf\">[11:18:18] </span>Copying image <span style=\"color: #008080; text-decoration-color: #008080; font-weight: bold\">76</span> of <span style=\"color: #008080; text-decoration-color: #008080; font-weight: bold\">200</span><span style=\"color: #808000; text-decoration-color: #808000\">...</span>                                                          <a href=\"file:///usr/local/lib/python3.10/dist-packages/nerfstudio/process_data/process_data_utils.py\" target=\"_blank\"><span style=\"color: #7f7f7f; text-decoration-color: #7f7f7f\">process_data_utils.py</span></a><span style=\"color: #7f7f7f; text-decoration-color: #7f7f7f\">:</span><a href=\"file:///usr/local/lib/python3.10/dist-packages/nerfstudio/process_data/process_data_utils.py#266\" target=\"_blank\"><span style=\"color: #7f7f7f; text-decoration-color: #7f7f7f\">266</span></a>\n",
              "</pre>\n"
            ]
          },
          "metadata": {}
        },
        {
          "output_type": "display_data",
          "data": {
            "text/plain": [
              "\u001b[2;36m          \u001b[0m\u001b[2;36m \u001b[0mCopying image \u001b[1;36m77\u001b[0m of \u001b[1;36m200\u001b[0m\u001b[33m...\u001b[0m                                                          \u001b]8;id=996739;file:///usr/local/lib/python3.10/dist-packages/nerfstudio/process_data/process_data_utils.py\u001b\\\u001b[2mprocess_data_utils.py\u001b[0m\u001b]8;;\u001b\\\u001b[2m:\u001b[0m\u001b]8;id=889280;file:///usr/local/lib/python3.10/dist-packages/nerfstudio/process_data/process_data_utils.py#266\u001b\\\u001b[2m266\u001b[0m\u001b]8;;\u001b\\\n"
            ],
            "text/html": [
              "<pre style=\"white-space:pre;overflow-x:auto;line-height:normal;font-family:Menlo,'DejaVu Sans Mono',consolas,'Courier New',monospace\"><span style=\"color: #7fbfbf; text-decoration-color: #7fbfbf\">           </span>Copying image <span style=\"color: #008080; text-decoration-color: #008080; font-weight: bold\">77</span> of <span style=\"color: #008080; text-decoration-color: #008080; font-weight: bold\">200</span><span style=\"color: #808000; text-decoration-color: #808000\">...</span>                                                          <a href=\"file:///usr/local/lib/python3.10/dist-packages/nerfstudio/process_data/process_data_utils.py\" target=\"_blank\"><span style=\"color: #7f7f7f; text-decoration-color: #7f7f7f\">process_data_utils.py</span></a><span style=\"color: #7f7f7f; text-decoration-color: #7f7f7f\">:</span><a href=\"file:///usr/local/lib/python3.10/dist-packages/nerfstudio/process_data/process_data_utils.py#266\" target=\"_blank\"><span style=\"color: #7f7f7f; text-decoration-color: #7f7f7f\">266</span></a>\n",
              "</pre>\n"
            ]
          },
          "metadata": {}
        },
        {
          "output_type": "display_data",
          "data": {
            "text/plain": [
              "\u001b[2;36m[11:18:19]\u001b[0m\u001b[2;36m \u001b[0mCopying image \u001b[1;36m78\u001b[0m of \u001b[1;36m200\u001b[0m\u001b[33m...\u001b[0m                                                          \u001b]8;id=566738;file:///usr/local/lib/python3.10/dist-packages/nerfstudio/process_data/process_data_utils.py\u001b\\\u001b[2mprocess_data_utils.py\u001b[0m\u001b]8;;\u001b\\\u001b[2m:\u001b[0m\u001b]8;id=715237;file:///usr/local/lib/python3.10/dist-packages/nerfstudio/process_data/process_data_utils.py#266\u001b\\\u001b[2m266\u001b[0m\u001b]8;;\u001b\\\n"
            ],
            "text/html": [
              "<pre style=\"white-space:pre;overflow-x:auto;line-height:normal;font-family:Menlo,'DejaVu Sans Mono',consolas,'Courier New',monospace\"><span style=\"color: #7fbfbf; text-decoration-color: #7fbfbf\">[11:18:19] </span>Copying image <span style=\"color: #008080; text-decoration-color: #008080; font-weight: bold\">78</span> of <span style=\"color: #008080; text-decoration-color: #008080; font-weight: bold\">200</span><span style=\"color: #808000; text-decoration-color: #808000\">...</span>                                                          <a href=\"file:///usr/local/lib/python3.10/dist-packages/nerfstudio/process_data/process_data_utils.py\" target=\"_blank\"><span style=\"color: #7f7f7f; text-decoration-color: #7f7f7f\">process_data_utils.py</span></a><span style=\"color: #7f7f7f; text-decoration-color: #7f7f7f\">:</span><a href=\"file:///usr/local/lib/python3.10/dist-packages/nerfstudio/process_data/process_data_utils.py#266\" target=\"_blank\"><span style=\"color: #7f7f7f; text-decoration-color: #7f7f7f\">266</span></a>\n",
              "</pre>\n"
            ]
          },
          "metadata": {}
        },
        {
          "output_type": "display_data",
          "data": {
            "text/plain": [
              "\u001b[2;36m          \u001b[0m\u001b[2;36m \u001b[0mCopying image \u001b[1;36m79\u001b[0m of \u001b[1;36m200\u001b[0m\u001b[33m...\u001b[0m                                                          \u001b]8;id=793372;file:///usr/local/lib/python3.10/dist-packages/nerfstudio/process_data/process_data_utils.py\u001b\\\u001b[2mprocess_data_utils.py\u001b[0m\u001b]8;;\u001b\\\u001b[2m:\u001b[0m\u001b]8;id=820514;file:///usr/local/lib/python3.10/dist-packages/nerfstudio/process_data/process_data_utils.py#266\u001b\\\u001b[2m266\u001b[0m\u001b]8;;\u001b\\\n"
            ],
            "text/html": [
              "<pre style=\"white-space:pre;overflow-x:auto;line-height:normal;font-family:Menlo,'DejaVu Sans Mono',consolas,'Courier New',monospace\"><span style=\"color: #7fbfbf; text-decoration-color: #7fbfbf\">           </span>Copying image <span style=\"color: #008080; text-decoration-color: #008080; font-weight: bold\">79</span> of <span style=\"color: #008080; text-decoration-color: #008080; font-weight: bold\">200</span><span style=\"color: #808000; text-decoration-color: #808000\">...</span>                                                          <a href=\"file:///usr/local/lib/python3.10/dist-packages/nerfstudio/process_data/process_data_utils.py\" target=\"_blank\"><span style=\"color: #7f7f7f; text-decoration-color: #7f7f7f\">process_data_utils.py</span></a><span style=\"color: #7f7f7f; text-decoration-color: #7f7f7f\">:</span><a href=\"file:///usr/local/lib/python3.10/dist-packages/nerfstudio/process_data/process_data_utils.py#266\" target=\"_blank\"><span style=\"color: #7f7f7f; text-decoration-color: #7f7f7f\">266</span></a>\n",
              "</pre>\n"
            ]
          },
          "metadata": {}
        },
        {
          "output_type": "display_data",
          "data": {
            "text/plain": [
              "\u001b[2;36m[11:18:20]\u001b[0m\u001b[2;36m \u001b[0mCopying image \u001b[1;36m80\u001b[0m of \u001b[1;36m200\u001b[0m\u001b[33m...\u001b[0m                                                          \u001b]8;id=673975;file:///usr/local/lib/python3.10/dist-packages/nerfstudio/process_data/process_data_utils.py\u001b\\\u001b[2mprocess_data_utils.py\u001b[0m\u001b]8;;\u001b\\\u001b[2m:\u001b[0m\u001b]8;id=400475;file:///usr/local/lib/python3.10/dist-packages/nerfstudio/process_data/process_data_utils.py#266\u001b\\\u001b[2m266\u001b[0m\u001b]8;;\u001b\\\n"
            ],
            "text/html": [
              "<pre style=\"white-space:pre;overflow-x:auto;line-height:normal;font-family:Menlo,'DejaVu Sans Mono',consolas,'Courier New',monospace\"><span style=\"color: #7fbfbf; text-decoration-color: #7fbfbf\">[11:18:20] </span>Copying image <span style=\"color: #008080; text-decoration-color: #008080; font-weight: bold\">80</span> of <span style=\"color: #008080; text-decoration-color: #008080; font-weight: bold\">200</span><span style=\"color: #808000; text-decoration-color: #808000\">...</span>                                                          <a href=\"file:///usr/local/lib/python3.10/dist-packages/nerfstudio/process_data/process_data_utils.py\" target=\"_blank\"><span style=\"color: #7f7f7f; text-decoration-color: #7f7f7f\">process_data_utils.py</span></a><span style=\"color: #7f7f7f; text-decoration-color: #7f7f7f\">:</span><a href=\"file:///usr/local/lib/python3.10/dist-packages/nerfstudio/process_data/process_data_utils.py#266\" target=\"_blank\"><span style=\"color: #7f7f7f; text-decoration-color: #7f7f7f\">266</span></a>\n",
              "</pre>\n"
            ]
          },
          "metadata": {}
        },
        {
          "output_type": "display_data",
          "data": {
            "text/plain": [
              "\u001b[2;36m          \u001b[0m\u001b[2;36m \u001b[0mCopying image \u001b[1;36m81\u001b[0m of \u001b[1;36m200\u001b[0m\u001b[33m...\u001b[0m                                                          \u001b]8;id=633213;file:///usr/local/lib/python3.10/dist-packages/nerfstudio/process_data/process_data_utils.py\u001b\\\u001b[2mprocess_data_utils.py\u001b[0m\u001b]8;;\u001b\\\u001b[2m:\u001b[0m\u001b]8;id=64818;file:///usr/local/lib/python3.10/dist-packages/nerfstudio/process_data/process_data_utils.py#266\u001b\\\u001b[2m266\u001b[0m\u001b]8;;\u001b\\\n"
            ],
            "text/html": [
              "<pre style=\"white-space:pre;overflow-x:auto;line-height:normal;font-family:Menlo,'DejaVu Sans Mono',consolas,'Courier New',monospace\"><span style=\"color: #7fbfbf; text-decoration-color: #7fbfbf\">           </span>Copying image <span style=\"color: #008080; text-decoration-color: #008080; font-weight: bold\">81</span> of <span style=\"color: #008080; text-decoration-color: #008080; font-weight: bold\">200</span><span style=\"color: #808000; text-decoration-color: #808000\">...</span>                                                          <a href=\"file:///usr/local/lib/python3.10/dist-packages/nerfstudio/process_data/process_data_utils.py\" target=\"_blank\"><span style=\"color: #7f7f7f; text-decoration-color: #7f7f7f\">process_data_utils.py</span></a><span style=\"color: #7f7f7f; text-decoration-color: #7f7f7f\">:</span><a href=\"file:///usr/local/lib/python3.10/dist-packages/nerfstudio/process_data/process_data_utils.py#266\" target=\"_blank\"><span style=\"color: #7f7f7f; text-decoration-color: #7f7f7f\">266</span></a>\n",
              "</pre>\n"
            ]
          },
          "metadata": {}
        },
        {
          "output_type": "display_data",
          "data": {
            "text/plain": [
              "\u001b[2;36m[11:18:21]\u001b[0m\u001b[2;36m \u001b[0mCopying image \u001b[1;36m82\u001b[0m of \u001b[1;36m200\u001b[0m\u001b[33m...\u001b[0m                                                          \u001b]8;id=643529;file:///usr/local/lib/python3.10/dist-packages/nerfstudio/process_data/process_data_utils.py\u001b\\\u001b[2mprocess_data_utils.py\u001b[0m\u001b]8;;\u001b\\\u001b[2m:\u001b[0m\u001b]8;id=227797;file:///usr/local/lib/python3.10/dist-packages/nerfstudio/process_data/process_data_utils.py#266\u001b\\\u001b[2m266\u001b[0m\u001b]8;;\u001b\\\n"
            ],
            "text/html": [
              "<pre style=\"white-space:pre;overflow-x:auto;line-height:normal;font-family:Menlo,'DejaVu Sans Mono',consolas,'Courier New',monospace\"><span style=\"color: #7fbfbf; text-decoration-color: #7fbfbf\">[11:18:21] </span>Copying image <span style=\"color: #008080; text-decoration-color: #008080; font-weight: bold\">82</span> of <span style=\"color: #008080; text-decoration-color: #008080; font-weight: bold\">200</span><span style=\"color: #808000; text-decoration-color: #808000\">...</span>                                                          <a href=\"file:///usr/local/lib/python3.10/dist-packages/nerfstudio/process_data/process_data_utils.py\" target=\"_blank\"><span style=\"color: #7f7f7f; text-decoration-color: #7f7f7f\">process_data_utils.py</span></a><span style=\"color: #7f7f7f; text-decoration-color: #7f7f7f\">:</span><a href=\"file:///usr/local/lib/python3.10/dist-packages/nerfstudio/process_data/process_data_utils.py#266\" target=\"_blank\"><span style=\"color: #7f7f7f; text-decoration-color: #7f7f7f\">266</span></a>\n",
              "</pre>\n"
            ]
          },
          "metadata": {}
        },
        {
          "output_type": "display_data",
          "data": {
            "text/plain": [
              "\u001b[2;36m          \u001b[0m\u001b[2;36m \u001b[0mCopying image \u001b[1;36m83\u001b[0m of \u001b[1;36m200\u001b[0m\u001b[33m...\u001b[0m                                                          \u001b]8;id=132691;file:///usr/local/lib/python3.10/dist-packages/nerfstudio/process_data/process_data_utils.py\u001b\\\u001b[2mprocess_data_utils.py\u001b[0m\u001b]8;;\u001b\\\u001b[2m:\u001b[0m\u001b]8;id=793024;file:///usr/local/lib/python3.10/dist-packages/nerfstudio/process_data/process_data_utils.py#266\u001b\\\u001b[2m266\u001b[0m\u001b]8;;\u001b\\\n"
            ],
            "text/html": [
              "<pre style=\"white-space:pre;overflow-x:auto;line-height:normal;font-family:Menlo,'DejaVu Sans Mono',consolas,'Courier New',monospace\"><span style=\"color: #7fbfbf; text-decoration-color: #7fbfbf\">           </span>Copying image <span style=\"color: #008080; text-decoration-color: #008080; font-weight: bold\">83</span> of <span style=\"color: #008080; text-decoration-color: #008080; font-weight: bold\">200</span><span style=\"color: #808000; text-decoration-color: #808000\">...</span>                                                          <a href=\"file:///usr/local/lib/python3.10/dist-packages/nerfstudio/process_data/process_data_utils.py\" target=\"_blank\"><span style=\"color: #7f7f7f; text-decoration-color: #7f7f7f\">process_data_utils.py</span></a><span style=\"color: #7f7f7f; text-decoration-color: #7f7f7f\">:</span><a href=\"file:///usr/local/lib/python3.10/dist-packages/nerfstudio/process_data/process_data_utils.py#266\" target=\"_blank\"><span style=\"color: #7f7f7f; text-decoration-color: #7f7f7f\">266</span></a>\n",
              "</pre>\n"
            ]
          },
          "metadata": {}
        },
        {
          "output_type": "display_data",
          "data": {
            "text/plain": [
              "\u001b[2;36m[11:18:22]\u001b[0m\u001b[2;36m \u001b[0mCopying image \u001b[1;36m84\u001b[0m of \u001b[1;36m200\u001b[0m\u001b[33m...\u001b[0m                                                          \u001b]8;id=493294;file:///usr/local/lib/python3.10/dist-packages/nerfstudio/process_data/process_data_utils.py\u001b\\\u001b[2mprocess_data_utils.py\u001b[0m\u001b]8;;\u001b\\\u001b[2m:\u001b[0m\u001b]8;id=44796;file:///usr/local/lib/python3.10/dist-packages/nerfstudio/process_data/process_data_utils.py#266\u001b\\\u001b[2m266\u001b[0m\u001b]8;;\u001b\\\n"
            ],
            "text/html": [
              "<pre style=\"white-space:pre;overflow-x:auto;line-height:normal;font-family:Menlo,'DejaVu Sans Mono',consolas,'Courier New',monospace\"><span style=\"color: #7fbfbf; text-decoration-color: #7fbfbf\">[11:18:22] </span>Copying image <span style=\"color: #008080; text-decoration-color: #008080; font-weight: bold\">84</span> of <span style=\"color: #008080; text-decoration-color: #008080; font-weight: bold\">200</span><span style=\"color: #808000; text-decoration-color: #808000\">...</span>                                                          <a href=\"file:///usr/local/lib/python3.10/dist-packages/nerfstudio/process_data/process_data_utils.py\" target=\"_blank\"><span style=\"color: #7f7f7f; text-decoration-color: #7f7f7f\">process_data_utils.py</span></a><span style=\"color: #7f7f7f; text-decoration-color: #7f7f7f\">:</span><a href=\"file:///usr/local/lib/python3.10/dist-packages/nerfstudio/process_data/process_data_utils.py#266\" target=\"_blank\"><span style=\"color: #7f7f7f; text-decoration-color: #7f7f7f\">266</span></a>\n",
              "</pre>\n"
            ]
          },
          "metadata": {}
        },
        {
          "output_type": "display_data",
          "data": {
            "text/plain": [
              "\u001b[2;36m[11:18:23]\u001b[0m\u001b[2;36m \u001b[0mCopying image \u001b[1;36m85\u001b[0m of \u001b[1;36m200\u001b[0m\u001b[33m...\u001b[0m                                                          \u001b]8;id=122890;file:///usr/local/lib/python3.10/dist-packages/nerfstudio/process_data/process_data_utils.py\u001b\\\u001b[2mprocess_data_utils.py\u001b[0m\u001b]8;;\u001b\\\u001b[2m:\u001b[0m\u001b]8;id=776378;file:///usr/local/lib/python3.10/dist-packages/nerfstudio/process_data/process_data_utils.py#266\u001b\\\u001b[2m266\u001b[0m\u001b]8;;\u001b\\\n"
            ],
            "text/html": [
              "<pre style=\"white-space:pre;overflow-x:auto;line-height:normal;font-family:Menlo,'DejaVu Sans Mono',consolas,'Courier New',monospace\"><span style=\"color: #7fbfbf; text-decoration-color: #7fbfbf\">[11:18:23] </span>Copying image <span style=\"color: #008080; text-decoration-color: #008080; font-weight: bold\">85</span> of <span style=\"color: #008080; text-decoration-color: #008080; font-weight: bold\">200</span><span style=\"color: #808000; text-decoration-color: #808000\">...</span>                                                          <a href=\"file:///usr/local/lib/python3.10/dist-packages/nerfstudio/process_data/process_data_utils.py\" target=\"_blank\"><span style=\"color: #7f7f7f; text-decoration-color: #7f7f7f\">process_data_utils.py</span></a><span style=\"color: #7f7f7f; text-decoration-color: #7f7f7f\">:</span><a href=\"file:///usr/local/lib/python3.10/dist-packages/nerfstudio/process_data/process_data_utils.py#266\" target=\"_blank\"><span style=\"color: #7f7f7f; text-decoration-color: #7f7f7f\">266</span></a>\n",
              "</pre>\n"
            ]
          },
          "metadata": {}
        },
        {
          "output_type": "display_data",
          "data": {
            "text/plain": [
              "\u001b[2;36m          \u001b[0m\u001b[2;36m \u001b[0mCopying image \u001b[1;36m86\u001b[0m of \u001b[1;36m200\u001b[0m\u001b[33m...\u001b[0m                                                          \u001b]8;id=589613;file:///usr/local/lib/python3.10/dist-packages/nerfstudio/process_data/process_data_utils.py\u001b\\\u001b[2mprocess_data_utils.py\u001b[0m\u001b]8;;\u001b\\\u001b[2m:\u001b[0m\u001b]8;id=301960;file:///usr/local/lib/python3.10/dist-packages/nerfstudio/process_data/process_data_utils.py#266\u001b\\\u001b[2m266\u001b[0m\u001b]8;;\u001b\\\n"
            ],
            "text/html": [
              "<pre style=\"white-space:pre;overflow-x:auto;line-height:normal;font-family:Menlo,'DejaVu Sans Mono',consolas,'Courier New',monospace\"><span style=\"color: #7fbfbf; text-decoration-color: #7fbfbf\">           </span>Copying image <span style=\"color: #008080; text-decoration-color: #008080; font-weight: bold\">86</span> of <span style=\"color: #008080; text-decoration-color: #008080; font-weight: bold\">200</span><span style=\"color: #808000; text-decoration-color: #808000\">...</span>                                                          <a href=\"file:///usr/local/lib/python3.10/dist-packages/nerfstudio/process_data/process_data_utils.py\" target=\"_blank\"><span style=\"color: #7f7f7f; text-decoration-color: #7f7f7f\">process_data_utils.py</span></a><span style=\"color: #7f7f7f; text-decoration-color: #7f7f7f\">:</span><a href=\"file:///usr/local/lib/python3.10/dist-packages/nerfstudio/process_data/process_data_utils.py#266\" target=\"_blank\"><span style=\"color: #7f7f7f; text-decoration-color: #7f7f7f\">266</span></a>\n",
              "</pre>\n"
            ]
          },
          "metadata": {}
        },
        {
          "output_type": "display_data",
          "data": {
            "text/plain": [
              "\u001b[2;36m[11:18:24]\u001b[0m\u001b[2;36m \u001b[0mCopying image \u001b[1;36m87\u001b[0m of \u001b[1;36m200\u001b[0m\u001b[33m...\u001b[0m                                                          \u001b]8;id=73394;file:///usr/local/lib/python3.10/dist-packages/nerfstudio/process_data/process_data_utils.py\u001b\\\u001b[2mprocess_data_utils.py\u001b[0m\u001b]8;;\u001b\\\u001b[2m:\u001b[0m\u001b]8;id=843877;file:///usr/local/lib/python3.10/dist-packages/nerfstudio/process_data/process_data_utils.py#266\u001b\\\u001b[2m266\u001b[0m\u001b]8;;\u001b\\\n"
            ],
            "text/html": [
              "<pre style=\"white-space:pre;overflow-x:auto;line-height:normal;font-family:Menlo,'DejaVu Sans Mono',consolas,'Courier New',monospace\"><span style=\"color: #7fbfbf; text-decoration-color: #7fbfbf\">[11:18:24] </span>Copying image <span style=\"color: #008080; text-decoration-color: #008080; font-weight: bold\">87</span> of <span style=\"color: #008080; text-decoration-color: #008080; font-weight: bold\">200</span><span style=\"color: #808000; text-decoration-color: #808000\">...</span>                                                          <a href=\"file:///usr/local/lib/python3.10/dist-packages/nerfstudio/process_data/process_data_utils.py\" target=\"_blank\"><span style=\"color: #7f7f7f; text-decoration-color: #7f7f7f\">process_data_utils.py</span></a><span style=\"color: #7f7f7f; text-decoration-color: #7f7f7f\">:</span><a href=\"file:///usr/local/lib/python3.10/dist-packages/nerfstudio/process_data/process_data_utils.py#266\" target=\"_blank\"><span style=\"color: #7f7f7f; text-decoration-color: #7f7f7f\">266</span></a>\n",
              "</pre>\n"
            ]
          },
          "metadata": {}
        },
        {
          "output_type": "display_data",
          "data": {
            "text/plain": [
              "\u001b[2;36m          \u001b[0m\u001b[2;36m \u001b[0mCopying image \u001b[1;36m88\u001b[0m of \u001b[1;36m200\u001b[0m\u001b[33m...\u001b[0m                                                          \u001b]8;id=578164;file:///usr/local/lib/python3.10/dist-packages/nerfstudio/process_data/process_data_utils.py\u001b\\\u001b[2mprocess_data_utils.py\u001b[0m\u001b]8;;\u001b\\\u001b[2m:\u001b[0m\u001b]8;id=329693;file:///usr/local/lib/python3.10/dist-packages/nerfstudio/process_data/process_data_utils.py#266\u001b\\\u001b[2m266\u001b[0m\u001b]8;;\u001b\\\n"
            ],
            "text/html": [
              "<pre style=\"white-space:pre;overflow-x:auto;line-height:normal;font-family:Menlo,'DejaVu Sans Mono',consolas,'Courier New',monospace\"><span style=\"color: #7fbfbf; text-decoration-color: #7fbfbf\">           </span>Copying image <span style=\"color: #008080; text-decoration-color: #008080; font-weight: bold\">88</span> of <span style=\"color: #008080; text-decoration-color: #008080; font-weight: bold\">200</span><span style=\"color: #808000; text-decoration-color: #808000\">...</span>                                                          <a href=\"file:///usr/local/lib/python3.10/dist-packages/nerfstudio/process_data/process_data_utils.py\" target=\"_blank\"><span style=\"color: #7f7f7f; text-decoration-color: #7f7f7f\">process_data_utils.py</span></a><span style=\"color: #7f7f7f; text-decoration-color: #7f7f7f\">:</span><a href=\"file:///usr/local/lib/python3.10/dist-packages/nerfstudio/process_data/process_data_utils.py#266\" target=\"_blank\"><span style=\"color: #7f7f7f; text-decoration-color: #7f7f7f\">266</span></a>\n",
              "</pre>\n"
            ]
          },
          "metadata": {}
        },
        {
          "output_type": "display_data",
          "data": {
            "text/plain": [
              "\u001b[2;36m[11:18:25]\u001b[0m\u001b[2;36m \u001b[0mCopying image \u001b[1;36m89\u001b[0m of \u001b[1;36m200\u001b[0m\u001b[33m...\u001b[0m                                                          \u001b]8;id=225219;file:///usr/local/lib/python3.10/dist-packages/nerfstudio/process_data/process_data_utils.py\u001b\\\u001b[2mprocess_data_utils.py\u001b[0m\u001b]8;;\u001b\\\u001b[2m:\u001b[0m\u001b]8;id=176582;file:///usr/local/lib/python3.10/dist-packages/nerfstudio/process_data/process_data_utils.py#266\u001b\\\u001b[2m266\u001b[0m\u001b]8;;\u001b\\\n"
            ],
            "text/html": [
              "<pre style=\"white-space:pre;overflow-x:auto;line-height:normal;font-family:Menlo,'DejaVu Sans Mono',consolas,'Courier New',monospace\"><span style=\"color: #7fbfbf; text-decoration-color: #7fbfbf\">[11:18:25] </span>Copying image <span style=\"color: #008080; text-decoration-color: #008080; font-weight: bold\">89</span> of <span style=\"color: #008080; text-decoration-color: #008080; font-weight: bold\">200</span><span style=\"color: #808000; text-decoration-color: #808000\">...</span>                                                          <a href=\"file:///usr/local/lib/python3.10/dist-packages/nerfstudio/process_data/process_data_utils.py\" target=\"_blank\"><span style=\"color: #7f7f7f; text-decoration-color: #7f7f7f\">process_data_utils.py</span></a><span style=\"color: #7f7f7f; text-decoration-color: #7f7f7f\">:</span><a href=\"file:///usr/local/lib/python3.10/dist-packages/nerfstudio/process_data/process_data_utils.py#266\" target=\"_blank\"><span style=\"color: #7f7f7f; text-decoration-color: #7f7f7f\">266</span></a>\n",
              "</pre>\n"
            ]
          },
          "metadata": {}
        },
        {
          "output_type": "display_data",
          "data": {
            "text/plain": [
              "\u001b[2;36m          \u001b[0m\u001b[2;36m \u001b[0mCopying image \u001b[1;36m90\u001b[0m of \u001b[1;36m200\u001b[0m\u001b[33m...\u001b[0m                                                          \u001b]8;id=452928;file:///usr/local/lib/python3.10/dist-packages/nerfstudio/process_data/process_data_utils.py\u001b\\\u001b[2mprocess_data_utils.py\u001b[0m\u001b]8;;\u001b\\\u001b[2m:\u001b[0m\u001b]8;id=127058;file:///usr/local/lib/python3.10/dist-packages/nerfstudio/process_data/process_data_utils.py#266\u001b\\\u001b[2m266\u001b[0m\u001b]8;;\u001b\\\n"
            ],
            "text/html": [
              "<pre style=\"white-space:pre;overflow-x:auto;line-height:normal;font-family:Menlo,'DejaVu Sans Mono',consolas,'Courier New',monospace\"><span style=\"color: #7fbfbf; text-decoration-color: #7fbfbf\">           </span>Copying image <span style=\"color: #008080; text-decoration-color: #008080; font-weight: bold\">90</span> of <span style=\"color: #008080; text-decoration-color: #008080; font-weight: bold\">200</span><span style=\"color: #808000; text-decoration-color: #808000\">...</span>                                                          <a href=\"file:///usr/local/lib/python3.10/dist-packages/nerfstudio/process_data/process_data_utils.py\" target=\"_blank\"><span style=\"color: #7f7f7f; text-decoration-color: #7f7f7f\">process_data_utils.py</span></a><span style=\"color: #7f7f7f; text-decoration-color: #7f7f7f\">:</span><a href=\"file:///usr/local/lib/python3.10/dist-packages/nerfstudio/process_data/process_data_utils.py#266\" target=\"_blank\"><span style=\"color: #7f7f7f; text-decoration-color: #7f7f7f\">266</span></a>\n",
              "</pre>\n"
            ]
          },
          "metadata": {}
        },
        {
          "output_type": "display_data",
          "data": {
            "text/plain": [
              "\u001b[2;36m[11:18:26]\u001b[0m\u001b[2;36m \u001b[0mCopying image \u001b[1;36m91\u001b[0m of \u001b[1;36m200\u001b[0m\u001b[33m...\u001b[0m                                                          \u001b]8;id=16187;file:///usr/local/lib/python3.10/dist-packages/nerfstudio/process_data/process_data_utils.py\u001b\\\u001b[2mprocess_data_utils.py\u001b[0m\u001b]8;;\u001b\\\u001b[2m:\u001b[0m\u001b]8;id=711067;file:///usr/local/lib/python3.10/dist-packages/nerfstudio/process_data/process_data_utils.py#266\u001b\\\u001b[2m266\u001b[0m\u001b]8;;\u001b\\\n"
            ],
            "text/html": [
              "<pre style=\"white-space:pre;overflow-x:auto;line-height:normal;font-family:Menlo,'DejaVu Sans Mono',consolas,'Courier New',monospace\"><span style=\"color: #7fbfbf; text-decoration-color: #7fbfbf\">[11:18:26] </span>Copying image <span style=\"color: #008080; text-decoration-color: #008080; font-weight: bold\">91</span> of <span style=\"color: #008080; text-decoration-color: #008080; font-weight: bold\">200</span><span style=\"color: #808000; text-decoration-color: #808000\">...</span>                                                          <a href=\"file:///usr/local/lib/python3.10/dist-packages/nerfstudio/process_data/process_data_utils.py\" target=\"_blank\"><span style=\"color: #7f7f7f; text-decoration-color: #7f7f7f\">process_data_utils.py</span></a><span style=\"color: #7f7f7f; text-decoration-color: #7f7f7f\">:</span><a href=\"file:///usr/local/lib/python3.10/dist-packages/nerfstudio/process_data/process_data_utils.py#266\" target=\"_blank\"><span style=\"color: #7f7f7f; text-decoration-color: #7f7f7f\">266</span></a>\n",
              "</pre>\n"
            ]
          },
          "metadata": {}
        },
        {
          "output_type": "display_data",
          "data": {
            "text/plain": [
              "\u001b[2;36m          \u001b[0m\u001b[2;36m \u001b[0mCopying image \u001b[1;36m92\u001b[0m of \u001b[1;36m200\u001b[0m\u001b[33m...\u001b[0m                                                          \u001b]8;id=129963;file:///usr/local/lib/python3.10/dist-packages/nerfstudio/process_data/process_data_utils.py\u001b\\\u001b[2mprocess_data_utils.py\u001b[0m\u001b]8;;\u001b\\\u001b[2m:\u001b[0m\u001b]8;id=848417;file:///usr/local/lib/python3.10/dist-packages/nerfstudio/process_data/process_data_utils.py#266\u001b\\\u001b[2m266\u001b[0m\u001b]8;;\u001b\\\n"
            ],
            "text/html": [
              "<pre style=\"white-space:pre;overflow-x:auto;line-height:normal;font-family:Menlo,'DejaVu Sans Mono',consolas,'Courier New',monospace\"><span style=\"color: #7fbfbf; text-decoration-color: #7fbfbf\">           </span>Copying image <span style=\"color: #008080; text-decoration-color: #008080; font-weight: bold\">92</span> of <span style=\"color: #008080; text-decoration-color: #008080; font-weight: bold\">200</span><span style=\"color: #808000; text-decoration-color: #808000\">...</span>                                                          <a href=\"file:///usr/local/lib/python3.10/dist-packages/nerfstudio/process_data/process_data_utils.py\" target=\"_blank\"><span style=\"color: #7f7f7f; text-decoration-color: #7f7f7f\">process_data_utils.py</span></a><span style=\"color: #7f7f7f; text-decoration-color: #7f7f7f\">:</span><a href=\"file:///usr/local/lib/python3.10/dist-packages/nerfstudio/process_data/process_data_utils.py#266\" target=\"_blank\"><span style=\"color: #7f7f7f; text-decoration-color: #7f7f7f\">266</span></a>\n",
              "</pre>\n"
            ]
          },
          "metadata": {}
        },
        {
          "output_type": "display_data",
          "data": {
            "text/plain": [
              "\u001b[2;36m[11:18:27]\u001b[0m\u001b[2;36m \u001b[0mCopying image \u001b[1;36m93\u001b[0m of \u001b[1;36m200\u001b[0m\u001b[33m...\u001b[0m                                                          \u001b]8;id=848101;file:///usr/local/lib/python3.10/dist-packages/nerfstudio/process_data/process_data_utils.py\u001b\\\u001b[2mprocess_data_utils.py\u001b[0m\u001b]8;;\u001b\\\u001b[2m:\u001b[0m\u001b]8;id=105855;file:///usr/local/lib/python3.10/dist-packages/nerfstudio/process_data/process_data_utils.py#266\u001b\\\u001b[2m266\u001b[0m\u001b]8;;\u001b\\\n"
            ],
            "text/html": [
              "<pre style=\"white-space:pre;overflow-x:auto;line-height:normal;font-family:Menlo,'DejaVu Sans Mono',consolas,'Courier New',monospace\"><span style=\"color: #7fbfbf; text-decoration-color: #7fbfbf\">[11:18:27] </span>Copying image <span style=\"color: #008080; text-decoration-color: #008080; font-weight: bold\">93</span> of <span style=\"color: #008080; text-decoration-color: #008080; font-weight: bold\">200</span><span style=\"color: #808000; text-decoration-color: #808000\">...</span>                                                          <a href=\"file:///usr/local/lib/python3.10/dist-packages/nerfstudio/process_data/process_data_utils.py\" target=\"_blank\"><span style=\"color: #7f7f7f; text-decoration-color: #7f7f7f\">process_data_utils.py</span></a><span style=\"color: #7f7f7f; text-decoration-color: #7f7f7f\">:</span><a href=\"file:///usr/local/lib/python3.10/dist-packages/nerfstudio/process_data/process_data_utils.py#266\" target=\"_blank\"><span style=\"color: #7f7f7f; text-decoration-color: #7f7f7f\">266</span></a>\n",
              "</pre>\n"
            ]
          },
          "metadata": {}
        },
        {
          "output_type": "display_data",
          "data": {
            "text/plain": [
              "\u001b[2;36m          \u001b[0m\u001b[2;36m \u001b[0mCopying image \u001b[1;36m94\u001b[0m of \u001b[1;36m200\u001b[0m\u001b[33m...\u001b[0m                                                          \u001b]8;id=474495;file:///usr/local/lib/python3.10/dist-packages/nerfstudio/process_data/process_data_utils.py\u001b\\\u001b[2mprocess_data_utils.py\u001b[0m\u001b]8;;\u001b\\\u001b[2m:\u001b[0m\u001b]8;id=296304;file:///usr/local/lib/python3.10/dist-packages/nerfstudio/process_data/process_data_utils.py#266\u001b\\\u001b[2m266\u001b[0m\u001b]8;;\u001b\\\n"
            ],
            "text/html": [
              "<pre style=\"white-space:pre;overflow-x:auto;line-height:normal;font-family:Menlo,'DejaVu Sans Mono',consolas,'Courier New',monospace\"><span style=\"color: #7fbfbf; text-decoration-color: #7fbfbf\">           </span>Copying image <span style=\"color: #008080; text-decoration-color: #008080; font-weight: bold\">94</span> of <span style=\"color: #008080; text-decoration-color: #008080; font-weight: bold\">200</span><span style=\"color: #808000; text-decoration-color: #808000\">...</span>                                                          <a href=\"file:///usr/local/lib/python3.10/dist-packages/nerfstudio/process_data/process_data_utils.py\" target=\"_blank\"><span style=\"color: #7f7f7f; text-decoration-color: #7f7f7f\">process_data_utils.py</span></a><span style=\"color: #7f7f7f; text-decoration-color: #7f7f7f\">:</span><a href=\"file:///usr/local/lib/python3.10/dist-packages/nerfstudio/process_data/process_data_utils.py#266\" target=\"_blank\"><span style=\"color: #7f7f7f; text-decoration-color: #7f7f7f\">266</span></a>\n",
              "</pre>\n"
            ]
          },
          "metadata": {}
        },
        {
          "output_type": "display_data",
          "data": {
            "text/plain": [
              "\u001b[2;36m[11:18:28]\u001b[0m\u001b[2;36m \u001b[0mCopying image \u001b[1;36m95\u001b[0m of \u001b[1;36m200\u001b[0m\u001b[33m...\u001b[0m                                                          \u001b]8;id=352820;file:///usr/local/lib/python3.10/dist-packages/nerfstudio/process_data/process_data_utils.py\u001b\\\u001b[2mprocess_data_utils.py\u001b[0m\u001b]8;;\u001b\\\u001b[2m:\u001b[0m\u001b]8;id=988584;file:///usr/local/lib/python3.10/dist-packages/nerfstudio/process_data/process_data_utils.py#266\u001b\\\u001b[2m266\u001b[0m\u001b]8;;\u001b\\\n"
            ],
            "text/html": [
              "<pre style=\"white-space:pre;overflow-x:auto;line-height:normal;font-family:Menlo,'DejaVu Sans Mono',consolas,'Courier New',monospace\"><span style=\"color: #7fbfbf; text-decoration-color: #7fbfbf\">[11:18:28] </span>Copying image <span style=\"color: #008080; text-decoration-color: #008080; font-weight: bold\">95</span> of <span style=\"color: #008080; text-decoration-color: #008080; font-weight: bold\">200</span><span style=\"color: #808000; text-decoration-color: #808000\">...</span>                                                          <a href=\"file:///usr/local/lib/python3.10/dist-packages/nerfstudio/process_data/process_data_utils.py\" target=\"_blank\"><span style=\"color: #7f7f7f; text-decoration-color: #7f7f7f\">process_data_utils.py</span></a><span style=\"color: #7f7f7f; text-decoration-color: #7f7f7f\">:</span><a href=\"file:///usr/local/lib/python3.10/dist-packages/nerfstudio/process_data/process_data_utils.py#266\" target=\"_blank\"><span style=\"color: #7f7f7f; text-decoration-color: #7f7f7f\">266</span></a>\n",
              "</pre>\n"
            ]
          },
          "metadata": {}
        },
        {
          "output_type": "display_data",
          "data": {
            "text/plain": [
              "\u001b[2;36m[11:18:29]\u001b[0m\u001b[2;36m \u001b[0mCopying image \u001b[1;36m96\u001b[0m of \u001b[1;36m200\u001b[0m\u001b[33m...\u001b[0m                                                          \u001b]8;id=173561;file:///usr/local/lib/python3.10/dist-packages/nerfstudio/process_data/process_data_utils.py\u001b\\\u001b[2mprocess_data_utils.py\u001b[0m\u001b]8;;\u001b\\\u001b[2m:\u001b[0m\u001b]8;id=405161;file:///usr/local/lib/python3.10/dist-packages/nerfstudio/process_data/process_data_utils.py#266\u001b\\\u001b[2m266\u001b[0m\u001b]8;;\u001b\\\n"
            ],
            "text/html": [
              "<pre style=\"white-space:pre;overflow-x:auto;line-height:normal;font-family:Menlo,'DejaVu Sans Mono',consolas,'Courier New',monospace\"><span style=\"color: #7fbfbf; text-decoration-color: #7fbfbf\">[11:18:29] </span>Copying image <span style=\"color: #008080; text-decoration-color: #008080; font-weight: bold\">96</span> of <span style=\"color: #008080; text-decoration-color: #008080; font-weight: bold\">200</span><span style=\"color: #808000; text-decoration-color: #808000\">...</span>                                                          <a href=\"file:///usr/local/lib/python3.10/dist-packages/nerfstudio/process_data/process_data_utils.py\" target=\"_blank\"><span style=\"color: #7f7f7f; text-decoration-color: #7f7f7f\">process_data_utils.py</span></a><span style=\"color: #7f7f7f; text-decoration-color: #7f7f7f\">:</span><a href=\"file:///usr/local/lib/python3.10/dist-packages/nerfstudio/process_data/process_data_utils.py#266\" target=\"_blank\"><span style=\"color: #7f7f7f; text-decoration-color: #7f7f7f\">266</span></a>\n",
              "</pre>\n"
            ]
          },
          "metadata": {}
        },
        {
          "output_type": "display_data",
          "data": {
            "text/plain": [
              "\u001b[2;36m          \u001b[0m\u001b[2;36m \u001b[0mCopying image \u001b[1;36m97\u001b[0m of \u001b[1;36m200\u001b[0m\u001b[33m...\u001b[0m                                                          \u001b]8;id=256959;file:///usr/local/lib/python3.10/dist-packages/nerfstudio/process_data/process_data_utils.py\u001b\\\u001b[2mprocess_data_utils.py\u001b[0m\u001b]8;;\u001b\\\u001b[2m:\u001b[0m\u001b]8;id=957057;file:///usr/local/lib/python3.10/dist-packages/nerfstudio/process_data/process_data_utils.py#266\u001b\\\u001b[2m266\u001b[0m\u001b]8;;\u001b\\\n"
            ],
            "text/html": [
              "<pre style=\"white-space:pre;overflow-x:auto;line-height:normal;font-family:Menlo,'DejaVu Sans Mono',consolas,'Courier New',monospace\"><span style=\"color: #7fbfbf; text-decoration-color: #7fbfbf\">           </span>Copying image <span style=\"color: #008080; text-decoration-color: #008080; font-weight: bold\">97</span> of <span style=\"color: #008080; text-decoration-color: #008080; font-weight: bold\">200</span><span style=\"color: #808000; text-decoration-color: #808000\">...</span>                                                          <a href=\"file:///usr/local/lib/python3.10/dist-packages/nerfstudio/process_data/process_data_utils.py\" target=\"_blank\"><span style=\"color: #7f7f7f; text-decoration-color: #7f7f7f\">process_data_utils.py</span></a><span style=\"color: #7f7f7f; text-decoration-color: #7f7f7f\">:</span><a href=\"file:///usr/local/lib/python3.10/dist-packages/nerfstudio/process_data/process_data_utils.py#266\" target=\"_blank\"><span style=\"color: #7f7f7f; text-decoration-color: #7f7f7f\">266</span></a>\n",
              "</pre>\n"
            ]
          },
          "metadata": {}
        },
        {
          "output_type": "display_data",
          "data": {
            "text/plain": [
              "\u001b[2;36m[11:18:30]\u001b[0m\u001b[2;36m \u001b[0mCopying image \u001b[1;36m98\u001b[0m of \u001b[1;36m200\u001b[0m\u001b[33m...\u001b[0m                                                          \u001b]8;id=386158;file:///usr/local/lib/python3.10/dist-packages/nerfstudio/process_data/process_data_utils.py\u001b\\\u001b[2mprocess_data_utils.py\u001b[0m\u001b]8;;\u001b\\\u001b[2m:\u001b[0m\u001b]8;id=982997;file:///usr/local/lib/python3.10/dist-packages/nerfstudio/process_data/process_data_utils.py#266\u001b\\\u001b[2m266\u001b[0m\u001b]8;;\u001b\\\n"
            ],
            "text/html": [
              "<pre style=\"white-space:pre;overflow-x:auto;line-height:normal;font-family:Menlo,'DejaVu Sans Mono',consolas,'Courier New',monospace\"><span style=\"color: #7fbfbf; text-decoration-color: #7fbfbf\">[11:18:30] </span>Copying image <span style=\"color: #008080; text-decoration-color: #008080; font-weight: bold\">98</span> of <span style=\"color: #008080; text-decoration-color: #008080; font-weight: bold\">200</span><span style=\"color: #808000; text-decoration-color: #808000\">...</span>                                                          <a href=\"file:///usr/local/lib/python3.10/dist-packages/nerfstudio/process_data/process_data_utils.py\" target=\"_blank\"><span style=\"color: #7f7f7f; text-decoration-color: #7f7f7f\">process_data_utils.py</span></a><span style=\"color: #7f7f7f; text-decoration-color: #7f7f7f\">:</span><a href=\"file:///usr/local/lib/python3.10/dist-packages/nerfstudio/process_data/process_data_utils.py#266\" target=\"_blank\"><span style=\"color: #7f7f7f; text-decoration-color: #7f7f7f\">266</span></a>\n",
              "</pre>\n"
            ]
          },
          "metadata": {}
        },
        {
          "output_type": "display_data",
          "data": {
            "text/plain": [
              "\u001b[2;36m          \u001b[0m\u001b[2;36m \u001b[0mCopying image \u001b[1;36m99\u001b[0m of \u001b[1;36m200\u001b[0m\u001b[33m...\u001b[0m                                                          \u001b]8;id=637744;file:///usr/local/lib/python3.10/dist-packages/nerfstudio/process_data/process_data_utils.py\u001b\\\u001b[2mprocess_data_utils.py\u001b[0m\u001b]8;;\u001b\\\u001b[2m:\u001b[0m\u001b]8;id=193457;file:///usr/local/lib/python3.10/dist-packages/nerfstudio/process_data/process_data_utils.py#266\u001b\\\u001b[2m266\u001b[0m\u001b]8;;\u001b\\\n"
            ],
            "text/html": [
              "<pre style=\"white-space:pre;overflow-x:auto;line-height:normal;font-family:Menlo,'DejaVu Sans Mono',consolas,'Courier New',monospace\"><span style=\"color: #7fbfbf; text-decoration-color: #7fbfbf\">           </span>Copying image <span style=\"color: #008080; text-decoration-color: #008080; font-weight: bold\">99</span> of <span style=\"color: #008080; text-decoration-color: #008080; font-weight: bold\">200</span><span style=\"color: #808000; text-decoration-color: #808000\">...</span>                                                          <a href=\"file:///usr/local/lib/python3.10/dist-packages/nerfstudio/process_data/process_data_utils.py\" target=\"_blank\"><span style=\"color: #7f7f7f; text-decoration-color: #7f7f7f\">process_data_utils.py</span></a><span style=\"color: #7f7f7f; text-decoration-color: #7f7f7f\">:</span><a href=\"file:///usr/local/lib/python3.10/dist-packages/nerfstudio/process_data/process_data_utils.py#266\" target=\"_blank\"><span style=\"color: #7f7f7f; text-decoration-color: #7f7f7f\">266</span></a>\n",
              "</pre>\n"
            ]
          },
          "metadata": {}
        },
        {
          "output_type": "display_data",
          "data": {
            "text/plain": [
              "\u001b[2;36m[11:18:31]\u001b[0m\u001b[2;36m \u001b[0mCopying image \u001b[1;36m100\u001b[0m of \u001b[1;36m200\u001b[0m\u001b[33m...\u001b[0m                                                         \u001b]8;id=402380;file:///usr/local/lib/python3.10/dist-packages/nerfstudio/process_data/process_data_utils.py\u001b\\\u001b[2mprocess_data_utils.py\u001b[0m\u001b]8;;\u001b\\\u001b[2m:\u001b[0m\u001b]8;id=696929;file:///usr/local/lib/python3.10/dist-packages/nerfstudio/process_data/process_data_utils.py#266\u001b\\\u001b[2m266\u001b[0m\u001b]8;;\u001b\\\n"
            ],
            "text/html": [
              "<pre style=\"white-space:pre;overflow-x:auto;line-height:normal;font-family:Menlo,'DejaVu Sans Mono',consolas,'Courier New',monospace\"><span style=\"color: #7fbfbf; text-decoration-color: #7fbfbf\">[11:18:31] </span>Copying image <span style=\"color: #008080; text-decoration-color: #008080; font-weight: bold\">100</span> of <span style=\"color: #008080; text-decoration-color: #008080; font-weight: bold\">200</span><span style=\"color: #808000; text-decoration-color: #808000\">...</span>                                                         <a href=\"file:///usr/local/lib/python3.10/dist-packages/nerfstudio/process_data/process_data_utils.py\" target=\"_blank\"><span style=\"color: #7f7f7f; text-decoration-color: #7f7f7f\">process_data_utils.py</span></a><span style=\"color: #7f7f7f; text-decoration-color: #7f7f7f\">:</span><a href=\"file:///usr/local/lib/python3.10/dist-packages/nerfstudio/process_data/process_data_utils.py#266\" target=\"_blank\"><span style=\"color: #7f7f7f; text-decoration-color: #7f7f7f\">266</span></a>\n",
              "</pre>\n"
            ]
          },
          "metadata": {}
        },
        {
          "output_type": "display_data",
          "data": {
            "text/plain": [
              "\u001b[2;36m          \u001b[0m\u001b[2;36m \u001b[0mCopying image \u001b[1;36m101\u001b[0m of \u001b[1;36m200\u001b[0m\u001b[33m...\u001b[0m                                                         \u001b]8;id=985277;file:///usr/local/lib/python3.10/dist-packages/nerfstudio/process_data/process_data_utils.py\u001b\\\u001b[2mprocess_data_utils.py\u001b[0m\u001b]8;;\u001b\\\u001b[2m:\u001b[0m\u001b]8;id=153184;file:///usr/local/lib/python3.10/dist-packages/nerfstudio/process_data/process_data_utils.py#266\u001b\\\u001b[2m266\u001b[0m\u001b]8;;\u001b\\\n"
            ],
            "text/html": [
              "<pre style=\"white-space:pre;overflow-x:auto;line-height:normal;font-family:Menlo,'DejaVu Sans Mono',consolas,'Courier New',monospace\"><span style=\"color: #7fbfbf; text-decoration-color: #7fbfbf\">           </span>Copying image <span style=\"color: #008080; text-decoration-color: #008080; font-weight: bold\">101</span> of <span style=\"color: #008080; text-decoration-color: #008080; font-weight: bold\">200</span><span style=\"color: #808000; text-decoration-color: #808000\">...</span>                                                         <a href=\"file:///usr/local/lib/python3.10/dist-packages/nerfstudio/process_data/process_data_utils.py\" target=\"_blank\"><span style=\"color: #7f7f7f; text-decoration-color: #7f7f7f\">process_data_utils.py</span></a><span style=\"color: #7f7f7f; text-decoration-color: #7f7f7f\">:</span><a href=\"file:///usr/local/lib/python3.10/dist-packages/nerfstudio/process_data/process_data_utils.py#266\" target=\"_blank\"><span style=\"color: #7f7f7f; text-decoration-color: #7f7f7f\">266</span></a>\n",
              "</pre>\n"
            ]
          },
          "metadata": {}
        },
        {
          "output_type": "display_data",
          "data": {
            "text/plain": [
              "\u001b[2;36m[11:18:32]\u001b[0m\u001b[2;36m \u001b[0mCopying image \u001b[1;36m102\u001b[0m of \u001b[1;36m200\u001b[0m\u001b[33m...\u001b[0m                                                         \u001b]8;id=318544;file:///usr/local/lib/python3.10/dist-packages/nerfstudio/process_data/process_data_utils.py\u001b\\\u001b[2mprocess_data_utils.py\u001b[0m\u001b]8;;\u001b\\\u001b[2m:\u001b[0m\u001b]8;id=523259;file:///usr/local/lib/python3.10/dist-packages/nerfstudio/process_data/process_data_utils.py#266\u001b\\\u001b[2m266\u001b[0m\u001b]8;;\u001b\\\n"
            ],
            "text/html": [
              "<pre style=\"white-space:pre;overflow-x:auto;line-height:normal;font-family:Menlo,'DejaVu Sans Mono',consolas,'Courier New',monospace\"><span style=\"color: #7fbfbf; text-decoration-color: #7fbfbf\">[11:18:32] </span>Copying image <span style=\"color: #008080; text-decoration-color: #008080; font-weight: bold\">102</span> of <span style=\"color: #008080; text-decoration-color: #008080; font-weight: bold\">200</span><span style=\"color: #808000; text-decoration-color: #808000\">...</span>                                                         <a href=\"file:///usr/local/lib/python3.10/dist-packages/nerfstudio/process_data/process_data_utils.py\" target=\"_blank\"><span style=\"color: #7f7f7f; text-decoration-color: #7f7f7f\">process_data_utils.py</span></a><span style=\"color: #7f7f7f; text-decoration-color: #7f7f7f\">:</span><a href=\"file:///usr/local/lib/python3.10/dist-packages/nerfstudio/process_data/process_data_utils.py#266\" target=\"_blank\"><span style=\"color: #7f7f7f; text-decoration-color: #7f7f7f\">266</span></a>\n",
              "</pre>\n"
            ]
          },
          "metadata": {}
        },
        {
          "output_type": "display_data",
          "data": {
            "text/plain": [
              "\u001b[2;36m[11:18:33]\u001b[0m\u001b[2;36m \u001b[0mCopying image \u001b[1;36m103\u001b[0m of \u001b[1;36m200\u001b[0m\u001b[33m...\u001b[0m                                                         \u001b]8;id=607208;file:///usr/local/lib/python3.10/dist-packages/nerfstudio/process_data/process_data_utils.py\u001b\\\u001b[2mprocess_data_utils.py\u001b[0m\u001b]8;;\u001b\\\u001b[2m:\u001b[0m\u001b]8;id=610505;file:///usr/local/lib/python3.10/dist-packages/nerfstudio/process_data/process_data_utils.py#266\u001b\\\u001b[2m266\u001b[0m\u001b]8;;\u001b\\\n"
            ],
            "text/html": [
              "<pre style=\"white-space:pre;overflow-x:auto;line-height:normal;font-family:Menlo,'DejaVu Sans Mono',consolas,'Courier New',monospace\"><span style=\"color: #7fbfbf; text-decoration-color: #7fbfbf\">[11:18:33] </span>Copying image <span style=\"color: #008080; text-decoration-color: #008080; font-weight: bold\">103</span> of <span style=\"color: #008080; text-decoration-color: #008080; font-weight: bold\">200</span><span style=\"color: #808000; text-decoration-color: #808000\">...</span>                                                         <a href=\"file:///usr/local/lib/python3.10/dist-packages/nerfstudio/process_data/process_data_utils.py\" target=\"_blank\"><span style=\"color: #7f7f7f; text-decoration-color: #7f7f7f\">process_data_utils.py</span></a><span style=\"color: #7f7f7f; text-decoration-color: #7f7f7f\">:</span><a href=\"file:///usr/local/lib/python3.10/dist-packages/nerfstudio/process_data/process_data_utils.py#266\" target=\"_blank\"><span style=\"color: #7f7f7f; text-decoration-color: #7f7f7f\">266</span></a>\n",
              "</pre>\n"
            ]
          },
          "metadata": {}
        },
        {
          "output_type": "display_data",
          "data": {
            "text/plain": [
              "\u001b[2;36m          \u001b[0m\u001b[2;36m \u001b[0mCopying image \u001b[1;36m104\u001b[0m of \u001b[1;36m200\u001b[0m\u001b[33m...\u001b[0m                                                         \u001b]8;id=936826;file:///usr/local/lib/python3.10/dist-packages/nerfstudio/process_data/process_data_utils.py\u001b\\\u001b[2mprocess_data_utils.py\u001b[0m\u001b]8;;\u001b\\\u001b[2m:\u001b[0m\u001b]8;id=193358;file:///usr/local/lib/python3.10/dist-packages/nerfstudio/process_data/process_data_utils.py#266\u001b\\\u001b[2m266\u001b[0m\u001b]8;;\u001b\\\n"
            ],
            "text/html": [
              "<pre style=\"white-space:pre;overflow-x:auto;line-height:normal;font-family:Menlo,'DejaVu Sans Mono',consolas,'Courier New',monospace\"><span style=\"color: #7fbfbf; text-decoration-color: #7fbfbf\">           </span>Copying image <span style=\"color: #008080; text-decoration-color: #008080; font-weight: bold\">104</span> of <span style=\"color: #008080; text-decoration-color: #008080; font-weight: bold\">200</span><span style=\"color: #808000; text-decoration-color: #808000\">...</span>                                                         <a href=\"file:///usr/local/lib/python3.10/dist-packages/nerfstudio/process_data/process_data_utils.py\" target=\"_blank\"><span style=\"color: #7f7f7f; text-decoration-color: #7f7f7f\">process_data_utils.py</span></a><span style=\"color: #7f7f7f; text-decoration-color: #7f7f7f\">:</span><a href=\"file:///usr/local/lib/python3.10/dist-packages/nerfstudio/process_data/process_data_utils.py#266\" target=\"_blank\"><span style=\"color: #7f7f7f; text-decoration-color: #7f7f7f\">266</span></a>\n",
              "</pre>\n"
            ]
          },
          "metadata": {}
        },
        {
          "output_type": "display_data",
          "data": {
            "text/plain": [
              "\u001b[2;36m[11:18:34]\u001b[0m\u001b[2;36m \u001b[0mCopying image \u001b[1;36m105\u001b[0m of \u001b[1;36m200\u001b[0m\u001b[33m...\u001b[0m                                                         \u001b]8;id=170348;file:///usr/local/lib/python3.10/dist-packages/nerfstudio/process_data/process_data_utils.py\u001b\\\u001b[2mprocess_data_utils.py\u001b[0m\u001b]8;;\u001b\\\u001b[2m:\u001b[0m\u001b]8;id=652662;file:///usr/local/lib/python3.10/dist-packages/nerfstudio/process_data/process_data_utils.py#266\u001b\\\u001b[2m266\u001b[0m\u001b]8;;\u001b\\\n"
            ],
            "text/html": [
              "<pre style=\"white-space:pre;overflow-x:auto;line-height:normal;font-family:Menlo,'DejaVu Sans Mono',consolas,'Courier New',monospace\"><span style=\"color: #7fbfbf; text-decoration-color: #7fbfbf\">[11:18:34] </span>Copying image <span style=\"color: #008080; text-decoration-color: #008080; font-weight: bold\">105</span> of <span style=\"color: #008080; text-decoration-color: #008080; font-weight: bold\">200</span><span style=\"color: #808000; text-decoration-color: #808000\">...</span>                                                         <a href=\"file:///usr/local/lib/python3.10/dist-packages/nerfstudio/process_data/process_data_utils.py\" target=\"_blank\"><span style=\"color: #7f7f7f; text-decoration-color: #7f7f7f\">process_data_utils.py</span></a><span style=\"color: #7f7f7f; text-decoration-color: #7f7f7f\">:</span><a href=\"file:///usr/local/lib/python3.10/dist-packages/nerfstudio/process_data/process_data_utils.py#266\" target=\"_blank\"><span style=\"color: #7f7f7f; text-decoration-color: #7f7f7f\">266</span></a>\n",
              "</pre>\n"
            ]
          },
          "metadata": {}
        },
        {
          "output_type": "display_data",
          "data": {
            "text/plain": [
              "\u001b[2;36m          \u001b[0m\u001b[2;36m \u001b[0mCopying image \u001b[1;36m106\u001b[0m of \u001b[1;36m200\u001b[0m\u001b[33m...\u001b[0m                                                         \u001b]8;id=979129;file:///usr/local/lib/python3.10/dist-packages/nerfstudio/process_data/process_data_utils.py\u001b\\\u001b[2mprocess_data_utils.py\u001b[0m\u001b]8;;\u001b\\\u001b[2m:\u001b[0m\u001b]8;id=729218;file:///usr/local/lib/python3.10/dist-packages/nerfstudio/process_data/process_data_utils.py#266\u001b\\\u001b[2m266\u001b[0m\u001b]8;;\u001b\\\n"
            ],
            "text/html": [
              "<pre style=\"white-space:pre;overflow-x:auto;line-height:normal;font-family:Menlo,'DejaVu Sans Mono',consolas,'Courier New',monospace\"><span style=\"color: #7fbfbf; text-decoration-color: #7fbfbf\">           </span>Copying image <span style=\"color: #008080; text-decoration-color: #008080; font-weight: bold\">106</span> of <span style=\"color: #008080; text-decoration-color: #008080; font-weight: bold\">200</span><span style=\"color: #808000; text-decoration-color: #808000\">...</span>                                                         <a href=\"file:///usr/local/lib/python3.10/dist-packages/nerfstudio/process_data/process_data_utils.py\" target=\"_blank\"><span style=\"color: #7f7f7f; text-decoration-color: #7f7f7f\">process_data_utils.py</span></a><span style=\"color: #7f7f7f; text-decoration-color: #7f7f7f\">:</span><a href=\"file:///usr/local/lib/python3.10/dist-packages/nerfstudio/process_data/process_data_utils.py#266\" target=\"_blank\"><span style=\"color: #7f7f7f; text-decoration-color: #7f7f7f\">266</span></a>\n",
              "</pre>\n"
            ]
          },
          "metadata": {}
        },
        {
          "output_type": "display_data",
          "data": {
            "text/plain": [
              "\u001b[2;36m[11:18:35]\u001b[0m\u001b[2;36m \u001b[0mCopying image \u001b[1;36m107\u001b[0m of \u001b[1;36m200\u001b[0m\u001b[33m...\u001b[0m                                                         \u001b]8;id=63909;file:///usr/local/lib/python3.10/dist-packages/nerfstudio/process_data/process_data_utils.py\u001b\\\u001b[2mprocess_data_utils.py\u001b[0m\u001b]8;;\u001b\\\u001b[2m:\u001b[0m\u001b]8;id=505598;file:///usr/local/lib/python3.10/dist-packages/nerfstudio/process_data/process_data_utils.py#266\u001b\\\u001b[2m266\u001b[0m\u001b]8;;\u001b\\\n"
            ],
            "text/html": [
              "<pre style=\"white-space:pre;overflow-x:auto;line-height:normal;font-family:Menlo,'DejaVu Sans Mono',consolas,'Courier New',monospace\"><span style=\"color: #7fbfbf; text-decoration-color: #7fbfbf\">[11:18:35] </span>Copying image <span style=\"color: #008080; text-decoration-color: #008080; font-weight: bold\">107</span> of <span style=\"color: #008080; text-decoration-color: #008080; font-weight: bold\">200</span><span style=\"color: #808000; text-decoration-color: #808000\">...</span>                                                         <a href=\"file:///usr/local/lib/python3.10/dist-packages/nerfstudio/process_data/process_data_utils.py\" target=\"_blank\"><span style=\"color: #7f7f7f; text-decoration-color: #7f7f7f\">process_data_utils.py</span></a><span style=\"color: #7f7f7f; text-decoration-color: #7f7f7f\">:</span><a href=\"file:///usr/local/lib/python3.10/dist-packages/nerfstudio/process_data/process_data_utils.py#266\" target=\"_blank\"><span style=\"color: #7f7f7f; text-decoration-color: #7f7f7f\">266</span></a>\n",
              "</pre>\n"
            ]
          },
          "metadata": {}
        },
        {
          "output_type": "display_data",
          "data": {
            "text/plain": [
              "\u001b[2;36m          \u001b[0m\u001b[2;36m \u001b[0mCopying image \u001b[1;36m108\u001b[0m of \u001b[1;36m200\u001b[0m\u001b[33m...\u001b[0m                                                         \u001b]8;id=23209;file:///usr/local/lib/python3.10/dist-packages/nerfstudio/process_data/process_data_utils.py\u001b\\\u001b[2mprocess_data_utils.py\u001b[0m\u001b]8;;\u001b\\\u001b[2m:\u001b[0m\u001b]8;id=477940;file:///usr/local/lib/python3.10/dist-packages/nerfstudio/process_data/process_data_utils.py#266\u001b\\\u001b[2m266\u001b[0m\u001b]8;;\u001b\\\n"
            ],
            "text/html": [
              "<pre style=\"white-space:pre;overflow-x:auto;line-height:normal;font-family:Menlo,'DejaVu Sans Mono',consolas,'Courier New',monospace\"><span style=\"color: #7fbfbf; text-decoration-color: #7fbfbf\">           </span>Copying image <span style=\"color: #008080; text-decoration-color: #008080; font-weight: bold\">108</span> of <span style=\"color: #008080; text-decoration-color: #008080; font-weight: bold\">200</span><span style=\"color: #808000; text-decoration-color: #808000\">...</span>                                                         <a href=\"file:///usr/local/lib/python3.10/dist-packages/nerfstudio/process_data/process_data_utils.py\" target=\"_blank\"><span style=\"color: #7f7f7f; text-decoration-color: #7f7f7f\">process_data_utils.py</span></a><span style=\"color: #7f7f7f; text-decoration-color: #7f7f7f\">:</span><a href=\"file:///usr/local/lib/python3.10/dist-packages/nerfstudio/process_data/process_data_utils.py#266\" target=\"_blank\"><span style=\"color: #7f7f7f; text-decoration-color: #7f7f7f\">266</span></a>\n",
              "</pre>\n"
            ]
          },
          "metadata": {}
        },
        {
          "output_type": "display_data",
          "data": {
            "text/plain": [
              "\u001b[2;36m[11:18:36]\u001b[0m\u001b[2;36m \u001b[0mCopying image \u001b[1;36m109\u001b[0m of \u001b[1;36m200\u001b[0m\u001b[33m...\u001b[0m                                                         \u001b]8;id=814271;file:///usr/local/lib/python3.10/dist-packages/nerfstudio/process_data/process_data_utils.py\u001b\\\u001b[2mprocess_data_utils.py\u001b[0m\u001b]8;;\u001b\\\u001b[2m:\u001b[0m\u001b]8;id=785713;file:///usr/local/lib/python3.10/dist-packages/nerfstudio/process_data/process_data_utils.py#266\u001b\\\u001b[2m266\u001b[0m\u001b]8;;\u001b\\\n"
            ],
            "text/html": [
              "<pre style=\"white-space:pre;overflow-x:auto;line-height:normal;font-family:Menlo,'DejaVu Sans Mono',consolas,'Courier New',monospace\"><span style=\"color: #7fbfbf; text-decoration-color: #7fbfbf\">[11:18:36] </span>Copying image <span style=\"color: #008080; text-decoration-color: #008080; font-weight: bold\">109</span> of <span style=\"color: #008080; text-decoration-color: #008080; font-weight: bold\">200</span><span style=\"color: #808000; text-decoration-color: #808000\">...</span>                                                         <a href=\"file:///usr/local/lib/python3.10/dist-packages/nerfstudio/process_data/process_data_utils.py\" target=\"_blank\"><span style=\"color: #7f7f7f; text-decoration-color: #7f7f7f\">process_data_utils.py</span></a><span style=\"color: #7f7f7f; text-decoration-color: #7f7f7f\">:</span><a href=\"file:///usr/local/lib/python3.10/dist-packages/nerfstudio/process_data/process_data_utils.py#266\" target=\"_blank\"><span style=\"color: #7f7f7f; text-decoration-color: #7f7f7f\">266</span></a>\n",
              "</pre>\n"
            ]
          },
          "metadata": {}
        },
        {
          "output_type": "display_data",
          "data": {
            "text/plain": [
              "\u001b[2;36m          \u001b[0m\u001b[2;36m \u001b[0mCopying image \u001b[1;36m110\u001b[0m of \u001b[1;36m200\u001b[0m\u001b[33m...\u001b[0m                                                         \u001b]8;id=640362;file:///usr/local/lib/python3.10/dist-packages/nerfstudio/process_data/process_data_utils.py\u001b\\\u001b[2mprocess_data_utils.py\u001b[0m\u001b]8;;\u001b\\\u001b[2m:\u001b[0m\u001b]8;id=776540;file:///usr/local/lib/python3.10/dist-packages/nerfstudio/process_data/process_data_utils.py#266\u001b\\\u001b[2m266\u001b[0m\u001b]8;;\u001b\\\n"
            ],
            "text/html": [
              "<pre style=\"white-space:pre;overflow-x:auto;line-height:normal;font-family:Menlo,'DejaVu Sans Mono',consolas,'Courier New',monospace\"><span style=\"color: #7fbfbf; text-decoration-color: #7fbfbf\">           </span>Copying image <span style=\"color: #008080; text-decoration-color: #008080; font-weight: bold\">110</span> of <span style=\"color: #008080; text-decoration-color: #008080; font-weight: bold\">200</span><span style=\"color: #808000; text-decoration-color: #808000\">...</span>                                                         <a href=\"file:///usr/local/lib/python3.10/dist-packages/nerfstudio/process_data/process_data_utils.py\" target=\"_blank\"><span style=\"color: #7f7f7f; text-decoration-color: #7f7f7f\">process_data_utils.py</span></a><span style=\"color: #7f7f7f; text-decoration-color: #7f7f7f\">:</span><a href=\"file:///usr/local/lib/python3.10/dist-packages/nerfstudio/process_data/process_data_utils.py#266\" target=\"_blank\"><span style=\"color: #7f7f7f; text-decoration-color: #7f7f7f\">266</span></a>\n",
              "</pre>\n"
            ]
          },
          "metadata": {}
        },
        {
          "output_type": "display_data",
          "data": {
            "text/plain": [
              "\u001b[2;36m[11:18:37]\u001b[0m\u001b[2;36m \u001b[0mCopying image \u001b[1;36m111\u001b[0m of \u001b[1;36m200\u001b[0m\u001b[33m...\u001b[0m                                                         \u001b]8;id=111183;file:///usr/local/lib/python3.10/dist-packages/nerfstudio/process_data/process_data_utils.py\u001b\\\u001b[2mprocess_data_utils.py\u001b[0m\u001b]8;;\u001b\\\u001b[2m:\u001b[0m\u001b]8;id=177550;file:///usr/local/lib/python3.10/dist-packages/nerfstudio/process_data/process_data_utils.py#266\u001b\\\u001b[2m266\u001b[0m\u001b]8;;\u001b\\\n"
            ],
            "text/html": [
              "<pre style=\"white-space:pre;overflow-x:auto;line-height:normal;font-family:Menlo,'DejaVu Sans Mono',consolas,'Courier New',monospace\"><span style=\"color: #7fbfbf; text-decoration-color: #7fbfbf\">[11:18:37] </span>Copying image <span style=\"color: #008080; text-decoration-color: #008080; font-weight: bold\">111</span> of <span style=\"color: #008080; text-decoration-color: #008080; font-weight: bold\">200</span><span style=\"color: #808000; text-decoration-color: #808000\">...</span>                                                         <a href=\"file:///usr/local/lib/python3.10/dist-packages/nerfstudio/process_data/process_data_utils.py\" target=\"_blank\"><span style=\"color: #7f7f7f; text-decoration-color: #7f7f7f\">process_data_utils.py</span></a><span style=\"color: #7f7f7f; text-decoration-color: #7f7f7f\">:</span><a href=\"file:///usr/local/lib/python3.10/dist-packages/nerfstudio/process_data/process_data_utils.py#266\" target=\"_blank\"><span style=\"color: #7f7f7f; text-decoration-color: #7f7f7f\">266</span></a>\n",
              "</pre>\n"
            ]
          },
          "metadata": {}
        },
        {
          "output_type": "display_data",
          "data": {
            "text/plain": [
              "\u001b[2;36m          \u001b[0m\u001b[2;36m \u001b[0mCopying image \u001b[1;36m112\u001b[0m of \u001b[1;36m200\u001b[0m\u001b[33m...\u001b[0m                                                         \u001b]8;id=3777;file:///usr/local/lib/python3.10/dist-packages/nerfstudio/process_data/process_data_utils.py\u001b\\\u001b[2mprocess_data_utils.py\u001b[0m\u001b]8;;\u001b\\\u001b[2m:\u001b[0m\u001b]8;id=941893;file:///usr/local/lib/python3.10/dist-packages/nerfstudio/process_data/process_data_utils.py#266\u001b\\\u001b[2m266\u001b[0m\u001b]8;;\u001b\\\n"
            ],
            "text/html": [
              "<pre style=\"white-space:pre;overflow-x:auto;line-height:normal;font-family:Menlo,'DejaVu Sans Mono',consolas,'Courier New',monospace\"><span style=\"color: #7fbfbf; text-decoration-color: #7fbfbf\">           </span>Copying image <span style=\"color: #008080; text-decoration-color: #008080; font-weight: bold\">112</span> of <span style=\"color: #008080; text-decoration-color: #008080; font-weight: bold\">200</span><span style=\"color: #808000; text-decoration-color: #808000\">...</span>                                                         <a href=\"file:///usr/local/lib/python3.10/dist-packages/nerfstudio/process_data/process_data_utils.py\" target=\"_blank\"><span style=\"color: #7f7f7f; text-decoration-color: #7f7f7f\">process_data_utils.py</span></a><span style=\"color: #7f7f7f; text-decoration-color: #7f7f7f\">:</span><a href=\"file:///usr/local/lib/python3.10/dist-packages/nerfstudio/process_data/process_data_utils.py#266\" target=\"_blank\"><span style=\"color: #7f7f7f; text-decoration-color: #7f7f7f\">266</span></a>\n",
              "</pre>\n"
            ]
          },
          "metadata": {}
        },
        {
          "output_type": "display_data",
          "data": {
            "text/plain": [
              "\u001b[2;36m          \u001b[0m\u001b[2;36m \u001b[0mCopying image \u001b[1;36m113\u001b[0m of \u001b[1;36m200\u001b[0m\u001b[33m...\u001b[0m                                                         \u001b]8;id=717233;file:///usr/local/lib/python3.10/dist-packages/nerfstudio/process_data/process_data_utils.py\u001b\\\u001b[2mprocess_data_utils.py\u001b[0m\u001b]8;;\u001b\\\u001b[2m:\u001b[0m\u001b]8;id=430434;file:///usr/local/lib/python3.10/dist-packages/nerfstudio/process_data/process_data_utils.py#266\u001b\\\u001b[2m266\u001b[0m\u001b]8;;\u001b\\\n"
            ],
            "text/html": [
              "<pre style=\"white-space:pre;overflow-x:auto;line-height:normal;font-family:Menlo,'DejaVu Sans Mono',consolas,'Courier New',monospace\"><span style=\"color: #7fbfbf; text-decoration-color: #7fbfbf\">           </span>Copying image <span style=\"color: #008080; text-decoration-color: #008080; font-weight: bold\">113</span> of <span style=\"color: #008080; text-decoration-color: #008080; font-weight: bold\">200</span><span style=\"color: #808000; text-decoration-color: #808000\">...</span>                                                         <a href=\"file:///usr/local/lib/python3.10/dist-packages/nerfstudio/process_data/process_data_utils.py\" target=\"_blank\"><span style=\"color: #7f7f7f; text-decoration-color: #7f7f7f\">process_data_utils.py</span></a><span style=\"color: #7f7f7f; text-decoration-color: #7f7f7f\">:</span><a href=\"file:///usr/local/lib/python3.10/dist-packages/nerfstudio/process_data/process_data_utils.py#266\" target=\"_blank\"><span style=\"color: #7f7f7f; text-decoration-color: #7f7f7f\">266</span></a>\n",
              "</pre>\n"
            ]
          },
          "metadata": {}
        },
        {
          "output_type": "display_data",
          "data": {
            "text/plain": [
              "\u001b[2;36m[11:18:38]\u001b[0m\u001b[2;36m \u001b[0mCopying image \u001b[1;36m114\u001b[0m of \u001b[1;36m200\u001b[0m\u001b[33m...\u001b[0m                                                         \u001b]8;id=630622;file:///usr/local/lib/python3.10/dist-packages/nerfstudio/process_data/process_data_utils.py\u001b\\\u001b[2mprocess_data_utils.py\u001b[0m\u001b]8;;\u001b\\\u001b[2m:\u001b[0m\u001b]8;id=207319;file:///usr/local/lib/python3.10/dist-packages/nerfstudio/process_data/process_data_utils.py#266\u001b\\\u001b[2m266\u001b[0m\u001b]8;;\u001b\\\n"
            ],
            "text/html": [
              "<pre style=\"white-space:pre;overflow-x:auto;line-height:normal;font-family:Menlo,'DejaVu Sans Mono',consolas,'Courier New',monospace\"><span style=\"color: #7fbfbf; text-decoration-color: #7fbfbf\">[11:18:38] </span>Copying image <span style=\"color: #008080; text-decoration-color: #008080; font-weight: bold\">114</span> of <span style=\"color: #008080; text-decoration-color: #008080; font-weight: bold\">200</span><span style=\"color: #808000; text-decoration-color: #808000\">...</span>                                                         <a href=\"file:///usr/local/lib/python3.10/dist-packages/nerfstudio/process_data/process_data_utils.py\" target=\"_blank\"><span style=\"color: #7f7f7f; text-decoration-color: #7f7f7f\">process_data_utils.py</span></a><span style=\"color: #7f7f7f; text-decoration-color: #7f7f7f\">:</span><a href=\"file:///usr/local/lib/python3.10/dist-packages/nerfstudio/process_data/process_data_utils.py#266\" target=\"_blank\"><span style=\"color: #7f7f7f; text-decoration-color: #7f7f7f\">266</span></a>\n",
              "</pre>\n"
            ]
          },
          "metadata": {}
        },
        {
          "output_type": "display_data",
          "data": {
            "text/plain": [
              "\u001b[2;36m[11:18:39]\u001b[0m\u001b[2;36m \u001b[0mCopying image \u001b[1;36m115\u001b[0m of \u001b[1;36m200\u001b[0m\u001b[33m...\u001b[0m                                                         \u001b]8;id=851397;file:///usr/local/lib/python3.10/dist-packages/nerfstudio/process_data/process_data_utils.py\u001b\\\u001b[2mprocess_data_utils.py\u001b[0m\u001b]8;;\u001b\\\u001b[2m:\u001b[0m\u001b]8;id=265469;file:///usr/local/lib/python3.10/dist-packages/nerfstudio/process_data/process_data_utils.py#266\u001b\\\u001b[2m266\u001b[0m\u001b]8;;\u001b\\\n"
            ],
            "text/html": [
              "<pre style=\"white-space:pre;overflow-x:auto;line-height:normal;font-family:Menlo,'DejaVu Sans Mono',consolas,'Courier New',monospace\"><span style=\"color: #7fbfbf; text-decoration-color: #7fbfbf\">[11:18:39] </span>Copying image <span style=\"color: #008080; text-decoration-color: #008080; font-weight: bold\">115</span> of <span style=\"color: #008080; text-decoration-color: #008080; font-weight: bold\">200</span><span style=\"color: #808000; text-decoration-color: #808000\">...</span>                                                         <a href=\"file:///usr/local/lib/python3.10/dist-packages/nerfstudio/process_data/process_data_utils.py\" target=\"_blank\"><span style=\"color: #7f7f7f; text-decoration-color: #7f7f7f\">process_data_utils.py</span></a><span style=\"color: #7f7f7f; text-decoration-color: #7f7f7f\">:</span><a href=\"file:///usr/local/lib/python3.10/dist-packages/nerfstudio/process_data/process_data_utils.py#266\" target=\"_blank\"><span style=\"color: #7f7f7f; text-decoration-color: #7f7f7f\">266</span></a>\n",
              "</pre>\n"
            ]
          },
          "metadata": {}
        },
        {
          "output_type": "display_data",
          "data": {
            "text/plain": [
              "\u001b[2;36m          \u001b[0m\u001b[2;36m \u001b[0mCopying image \u001b[1;36m116\u001b[0m of \u001b[1;36m200\u001b[0m\u001b[33m...\u001b[0m                                                         \u001b]8;id=799000;file:///usr/local/lib/python3.10/dist-packages/nerfstudio/process_data/process_data_utils.py\u001b\\\u001b[2mprocess_data_utils.py\u001b[0m\u001b]8;;\u001b\\\u001b[2m:\u001b[0m\u001b]8;id=854323;file:///usr/local/lib/python3.10/dist-packages/nerfstudio/process_data/process_data_utils.py#266\u001b\\\u001b[2m266\u001b[0m\u001b]8;;\u001b\\\n"
            ],
            "text/html": [
              "<pre style=\"white-space:pre;overflow-x:auto;line-height:normal;font-family:Menlo,'DejaVu Sans Mono',consolas,'Courier New',monospace\"><span style=\"color: #7fbfbf; text-decoration-color: #7fbfbf\">           </span>Copying image <span style=\"color: #008080; text-decoration-color: #008080; font-weight: bold\">116</span> of <span style=\"color: #008080; text-decoration-color: #008080; font-weight: bold\">200</span><span style=\"color: #808000; text-decoration-color: #808000\">...</span>                                                         <a href=\"file:///usr/local/lib/python3.10/dist-packages/nerfstudio/process_data/process_data_utils.py\" target=\"_blank\"><span style=\"color: #7f7f7f; text-decoration-color: #7f7f7f\">process_data_utils.py</span></a><span style=\"color: #7f7f7f; text-decoration-color: #7f7f7f\">:</span><a href=\"file:///usr/local/lib/python3.10/dist-packages/nerfstudio/process_data/process_data_utils.py#266\" target=\"_blank\"><span style=\"color: #7f7f7f; text-decoration-color: #7f7f7f\">266</span></a>\n",
              "</pre>\n"
            ]
          },
          "metadata": {}
        },
        {
          "output_type": "display_data",
          "data": {
            "text/plain": [
              "\u001b[2;36m[11:18:40]\u001b[0m\u001b[2;36m \u001b[0mCopying image \u001b[1;36m117\u001b[0m of \u001b[1;36m200\u001b[0m\u001b[33m...\u001b[0m                                                         \u001b]8;id=712671;file:///usr/local/lib/python3.10/dist-packages/nerfstudio/process_data/process_data_utils.py\u001b\\\u001b[2mprocess_data_utils.py\u001b[0m\u001b]8;;\u001b\\\u001b[2m:\u001b[0m\u001b]8;id=952709;file:///usr/local/lib/python3.10/dist-packages/nerfstudio/process_data/process_data_utils.py#266\u001b\\\u001b[2m266\u001b[0m\u001b]8;;\u001b\\\n"
            ],
            "text/html": [
              "<pre style=\"white-space:pre;overflow-x:auto;line-height:normal;font-family:Menlo,'DejaVu Sans Mono',consolas,'Courier New',monospace\"><span style=\"color: #7fbfbf; text-decoration-color: #7fbfbf\">[11:18:40] </span>Copying image <span style=\"color: #008080; text-decoration-color: #008080; font-weight: bold\">117</span> of <span style=\"color: #008080; text-decoration-color: #008080; font-weight: bold\">200</span><span style=\"color: #808000; text-decoration-color: #808000\">...</span>                                                         <a href=\"file:///usr/local/lib/python3.10/dist-packages/nerfstudio/process_data/process_data_utils.py\" target=\"_blank\"><span style=\"color: #7f7f7f; text-decoration-color: #7f7f7f\">process_data_utils.py</span></a><span style=\"color: #7f7f7f; text-decoration-color: #7f7f7f\">:</span><a href=\"file:///usr/local/lib/python3.10/dist-packages/nerfstudio/process_data/process_data_utils.py#266\" target=\"_blank\"><span style=\"color: #7f7f7f; text-decoration-color: #7f7f7f\">266</span></a>\n",
              "</pre>\n"
            ]
          },
          "metadata": {}
        },
        {
          "output_type": "display_data",
          "data": {
            "text/plain": [
              "\u001b[2;36m          \u001b[0m\u001b[2;36m \u001b[0mCopying image \u001b[1;36m118\u001b[0m of \u001b[1;36m200\u001b[0m\u001b[33m...\u001b[0m                                                         \u001b]8;id=667156;file:///usr/local/lib/python3.10/dist-packages/nerfstudio/process_data/process_data_utils.py\u001b\\\u001b[2mprocess_data_utils.py\u001b[0m\u001b]8;;\u001b\\\u001b[2m:\u001b[0m\u001b]8;id=494197;file:///usr/local/lib/python3.10/dist-packages/nerfstudio/process_data/process_data_utils.py#266\u001b\\\u001b[2m266\u001b[0m\u001b]8;;\u001b\\\n"
            ],
            "text/html": [
              "<pre style=\"white-space:pre;overflow-x:auto;line-height:normal;font-family:Menlo,'DejaVu Sans Mono',consolas,'Courier New',monospace\"><span style=\"color: #7fbfbf; text-decoration-color: #7fbfbf\">           </span>Copying image <span style=\"color: #008080; text-decoration-color: #008080; font-weight: bold\">118</span> of <span style=\"color: #008080; text-decoration-color: #008080; font-weight: bold\">200</span><span style=\"color: #808000; text-decoration-color: #808000\">...</span>                                                         <a href=\"file:///usr/local/lib/python3.10/dist-packages/nerfstudio/process_data/process_data_utils.py\" target=\"_blank\"><span style=\"color: #7f7f7f; text-decoration-color: #7f7f7f\">process_data_utils.py</span></a><span style=\"color: #7f7f7f; text-decoration-color: #7f7f7f\">:</span><a href=\"file:///usr/local/lib/python3.10/dist-packages/nerfstudio/process_data/process_data_utils.py#266\" target=\"_blank\"><span style=\"color: #7f7f7f; text-decoration-color: #7f7f7f\">266</span></a>\n",
              "</pre>\n"
            ]
          },
          "metadata": {}
        },
        {
          "output_type": "display_data",
          "data": {
            "text/plain": [
              "\u001b[2;36m[11:18:41]\u001b[0m\u001b[2;36m \u001b[0mCopying image \u001b[1;36m119\u001b[0m of \u001b[1;36m200\u001b[0m\u001b[33m...\u001b[0m                                                         \u001b]8;id=437239;file:///usr/local/lib/python3.10/dist-packages/nerfstudio/process_data/process_data_utils.py\u001b\\\u001b[2mprocess_data_utils.py\u001b[0m\u001b]8;;\u001b\\\u001b[2m:\u001b[0m\u001b]8;id=388596;file:///usr/local/lib/python3.10/dist-packages/nerfstudio/process_data/process_data_utils.py#266\u001b\\\u001b[2m266\u001b[0m\u001b]8;;\u001b\\\n"
            ],
            "text/html": [
              "<pre style=\"white-space:pre;overflow-x:auto;line-height:normal;font-family:Menlo,'DejaVu Sans Mono',consolas,'Courier New',monospace\"><span style=\"color: #7fbfbf; text-decoration-color: #7fbfbf\">[11:18:41] </span>Copying image <span style=\"color: #008080; text-decoration-color: #008080; font-weight: bold\">119</span> of <span style=\"color: #008080; text-decoration-color: #008080; font-weight: bold\">200</span><span style=\"color: #808000; text-decoration-color: #808000\">...</span>                                                         <a href=\"file:///usr/local/lib/python3.10/dist-packages/nerfstudio/process_data/process_data_utils.py\" target=\"_blank\"><span style=\"color: #7f7f7f; text-decoration-color: #7f7f7f\">process_data_utils.py</span></a><span style=\"color: #7f7f7f; text-decoration-color: #7f7f7f\">:</span><a href=\"file:///usr/local/lib/python3.10/dist-packages/nerfstudio/process_data/process_data_utils.py#266\" target=\"_blank\"><span style=\"color: #7f7f7f; text-decoration-color: #7f7f7f\">266</span></a>\n",
              "</pre>\n"
            ]
          },
          "metadata": {}
        },
        {
          "output_type": "display_data",
          "data": {
            "text/plain": [
              "\u001b[2;36m          \u001b[0m\u001b[2;36m \u001b[0mCopying image \u001b[1;36m120\u001b[0m of \u001b[1;36m200\u001b[0m\u001b[33m...\u001b[0m                                                         \u001b]8;id=904621;file:///usr/local/lib/python3.10/dist-packages/nerfstudio/process_data/process_data_utils.py\u001b\\\u001b[2mprocess_data_utils.py\u001b[0m\u001b]8;;\u001b\\\u001b[2m:\u001b[0m\u001b]8;id=275601;file:///usr/local/lib/python3.10/dist-packages/nerfstudio/process_data/process_data_utils.py#266\u001b\\\u001b[2m266\u001b[0m\u001b]8;;\u001b\\\n"
            ],
            "text/html": [
              "<pre style=\"white-space:pre;overflow-x:auto;line-height:normal;font-family:Menlo,'DejaVu Sans Mono',consolas,'Courier New',monospace\"><span style=\"color: #7fbfbf; text-decoration-color: #7fbfbf\">           </span>Copying image <span style=\"color: #008080; text-decoration-color: #008080; font-weight: bold\">120</span> of <span style=\"color: #008080; text-decoration-color: #008080; font-weight: bold\">200</span><span style=\"color: #808000; text-decoration-color: #808000\">...</span>                                                         <a href=\"file:///usr/local/lib/python3.10/dist-packages/nerfstudio/process_data/process_data_utils.py\" target=\"_blank\"><span style=\"color: #7f7f7f; text-decoration-color: #7f7f7f\">process_data_utils.py</span></a><span style=\"color: #7f7f7f; text-decoration-color: #7f7f7f\">:</span><a href=\"file:///usr/local/lib/python3.10/dist-packages/nerfstudio/process_data/process_data_utils.py#266\" target=\"_blank\"><span style=\"color: #7f7f7f; text-decoration-color: #7f7f7f\">266</span></a>\n",
              "</pre>\n"
            ]
          },
          "metadata": {}
        },
        {
          "output_type": "display_data",
          "data": {
            "text/plain": [
              "\u001b[2;36m[11:18:42]\u001b[0m\u001b[2;36m \u001b[0mCopying image \u001b[1;36m121\u001b[0m of \u001b[1;36m200\u001b[0m\u001b[33m...\u001b[0m                                                         \u001b]8;id=997030;file:///usr/local/lib/python3.10/dist-packages/nerfstudio/process_data/process_data_utils.py\u001b\\\u001b[2mprocess_data_utils.py\u001b[0m\u001b]8;;\u001b\\\u001b[2m:\u001b[0m\u001b]8;id=38261;file:///usr/local/lib/python3.10/dist-packages/nerfstudio/process_data/process_data_utils.py#266\u001b\\\u001b[2m266\u001b[0m\u001b]8;;\u001b\\\n"
            ],
            "text/html": [
              "<pre style=\"white-space:pre;overflow-x:auto;line-height:normal;font-family:Menlo,'DejaVu Sans Mono',consolas,'Courier New',monospace\"><span style=\"color: #7fbfbf; text-decoration-color: #7fbfbf\">[11:18:42] </span>Copying image <span style=\"color: #008080; text-decoration-color: #008080; font-weight: bold\">121</span> of <span style=\"color: #008080; text-decoration-color: #008080; font-weight: bold\">200</span><span style=\"color: #808000; text-decoration-color: #808000\">...</span>                                                         <a href=\"file:///usr/local/lib/python3.10/dist-packages/nerfstudio/process_data/process_data_utils.py\" target=\"_blank\"><span style=\"color: #7f7f7f; text-decoration-color: #7f7f7f\">process_data_utils.py</span></a><span style=\"color: #7f7f7f; text-decoration-color: #7f7f7f\">:</span><a href=\"file:///usr/local/lib/python3.10/dist-packages/nerfstudio/process_data/process_data_utils.py#266\" target=\"_blank\"><span style=\"color: #7f7f7f; text-decoration-color: #7f7f7f\">266</span></a>\n",
              "</pre>\n"
            ]
          },
          "metadata": {}
        },
        {
          "output_type": "display_data",
          "data": {
            "text/plain": [
              "\u001b[2;36m          \u001b[0m\u001b[2;36m \u001b[0mCopying image \u001b[1;36m122\u001b[0m of \u001b[1;36m200\u001b[0m\u001b[33m...\u001b[0m                                                         \u001b]8;id=880940;file:///usr/local/lib/python3.10/dist-packages/nerfstudio/process_data/process_data_utils.py\u001b\\\u001b[2mprocess_data_utils.py\u001b[0m\u001b]8;;\u001b\\\u001b[2m:\u001b[0m\u001b]8;id=888913;file:///usr/local/lib/python3.10/dist-packages/nerfstudio/process_data/process_data_utils.py#266\u001b\\\u001b[2m266\u001b[0m\u001b]8;;\u001b\\\n"
            ],
            "text/html": [
              "<pre style=\"white-space:pre;overflow-x:auto;line-height:normal;font-family:Menlo,'DejaVu Sans Mono',consolas,'Courier New',monospace\"><span style=\"color: #7fbfbf; text-decoration-color: #7fbfbf\">           </span>Copying image <span style=\"color: #008080; text-decoration-color: #008080; font-weight: bold\">122</span> of <span style=\"color: #008080; text-decoration-color: #008080; font-weight: bold\">200</span><span style=\"color: #808000; text-decoration-color: #808000\">...</span>                                                         <a href=\"file:///usr/local/lib/python3.10/dist-packages/nerfstudio/process_data/process_data_utils.py\" target=\"_blank\"><span style=\"color: #7f7f7f; text-decoration-color: #7f7f7f\">process_data_utils.py</span></a><span style=\"color: #7f7f7f; text-decoration-color: #7f7f7f\">:</span><a href=\"file:///usr/local/lib/python3.10/dist-packages/nerfstudio/process_data/process_data_utils.py#266\" target=\"_blank\"><span style=\"color: #7f7f7f; text-decoration-color: #7f7f7f\">266</span></a>\n",
              "</pre>\n"
            ]
          },
          "metadata": {}
        },
        {
          "output_type": "display_data",
          "data": {
            "text/plain": [
              "\u001b[2;36m[11:18:43]\u001b[0m\u001b[2;36m \u001b[0mCopying image \u001b[1;36m123\u001b[0m of \u001b[1;36m200\u001b[0m\u001b[33m...\u001b[0m                                                         \u001b]8;id=379005;file:///usr/local/lib/python3.10/dist-packages/nerfstudio/process_data/process_data_utils.py\u001b\\\u001b[2mprocess_data_utils.py\u001b[0m\u001b]8;;\u001b\\\u001b[2m:\u001b[0m\u001b]8;id=491909;file:///usr/local/lib/python3.10/dist-packages/nerfstudio/process_data/process_data_utils.py#266\u001b\\\u001b[2m266\u001b[0m\u001b]8;;\u001b\\\n"
            ],
            "text/html": [
              "<pre style=\"white-space:pre;overflow-x:auto;line-height:normal;font-family:Menlo,'DejaVu Sans Mono',consolas,'Courier New',monospace\"><span style=\"color: #7fbfbf; text-decoration-color: #7fbfbf\">[11:18:43] </span>Copying image <span style=\"color: #008080; text-decoration-color: #008080; font-weight: bold\">123</span> of <span style=\"color: #008080; text-decoration-color: #008080; font-weight: bold\">200</span><span style=\"color: #808000; text-decoration-color: #808000\">...</span>                                                         <a href=\"file:///usr/local/lib/python3.10/dist-packages/nerfstudio/process_data/process_data_utils.py\" target=\"_blank\"><span style=\"color: #7f7f7f; text-decoration-color: #7f7f7f\">process_data_utils.py</span></a><span style=\"color: #7f7f7f; text-decoration-color: #7f7f7f\">:</span><a href=\"file:///usr/local/lib/python3.10/dist-packages/nerfstudio/process_data/process_data_utils.py#266\" target=\"_blank\"><span style=\"color: #7f7f7f; text-decoration-color: #7f7f7f\">266</span></a>\n",
              "</pre>\n"
            ]
          },
          "metadata": {}
        },
        {
          "output_type": "display_data",
          "data": {
            "text/plain": [
              "\u001b[2;36m          \u001b[0m\u001b[2;36m \u001b[0mCopying image \u001b[1;36m124\u001b[0m of \u001b[1;36m200\u001b[0m\u001b[33m...\u001b[0m                                                         \u001b]8;id=898360;file:///usr/local/lib/python3.10/dist-packages/nerfstudio/process_data/process_data_utils.py\u001b\\\u001b[2mprocess_data_utils.py\u001b[0m\u001b]8;;\u001b\\\u001b[2m:\u001b[0m\u001b]8;id=349755;file:///usr/local/lib/python3.10/dist-packages/nerfstudio/process_data/process_data_utils.py#266\u001b\\\u001b[2m266\u001b[0m\u001b]8;;\u001b\\\n"
            ],
            "text/html": [
              "<pre style=\"white-space:pre;overflow-x:auto;line-height:normal;font-family:Menlo,'DejaVu Sans Mono',consolas,'Courier New',monospace\"><span style=\"color: #7fbfbf; text-decoration-color: #7fbfbf\">           </span>Copying image <span style=\"color: #008080; text-decoration-color: #008080; font-weight: bold\">124</span> of <span style=\"color: #008080; text-decoration-color: #008080; font-weight: bold\">200</span><span style=\"color: #808000; text-decoration-color: #808000\">...</span>                                                         <a href=\"file:///usr/local/lib/python3.10/dist-packages/nerfstudio/process_data/process_data_utils.py\" target=\"_blank\"><span style=\"color: #7f7f7f; text-decoration-color: #7f7f7f\">process_data_utils.py</span></a><span style=\"color: #7f7f7f; text-decoration-color: #7f7f7f\">:</span><a href=\"file:///usr/local/lib/python3.10/dist-packages/nerfstudio/process_data/process_data_utils.py#266\" target=\"_blank\"><span style=\"color: #7f7f7f; text-decoration-color: #7f7f7f\">266</span></a>\n",
              "</pre>\n"
            ]
          },
          "metadata": {}
        },
        {
          "output_type": "display_data",
          "data": {
            "text/plain": [
              "\u001b[2;36m[11:18:44]\u001b[0m\u001b[2;36m \u001b[0mCopying image \u001b[1;36m125\u001b[0m of \u001b[1;36m200\u001b[0m\u001b[33m...\u001b[0m                                                         \u001b]8;id=340054;file:///usr/local/lib/python3.10/dist-packages/nerfstudio/process_data/process_data_utils.py\u001b\\\u001b[2mprocess_data_utils.py\u001b[0m\u001b]8;;\u001b\\\u001b[2m:\u001b[0m\u001b]8;id=328594;file:///usr/local/lib/python3.10/dist-packages/nerfstudio/process_data/process_data_utils.py#266\u001b\\\u001b[2m266\u001b[0m\u001b]8;;\u001b\\\n"
            ],
            "text/html": [
              "<pre style=\"white-space:pre;overflow-x:auto;line-height:normal;font-family:Menlo,'DejaVu Sans Mono',consolas,'Courier New',monospace\"><span style=\"color: #7fbfbf; text-decoration-color: #7fbfbf\">[11:18:44] </span>Copying image <span style=\"color: #008080; text-decoration-color: #008080; font-weight: bold\">125</span> of <span style=\"color: #008080; text-decoration-color: #008080; font-weight: bold\">200</span><span style=\"color: #808000; text-decoration-color: #808000\">...</span>                                                         <a href=\"file:///usr/local/lib/python3.10/dist-packages/nerfstudio/process_data/process_data_utils.py\" target=\"_blank\"><span style=\"color: #7f7f7f; text-decoration-color: #7f7f7f\">process_data_utils.py</span></a><span style=\"color: #7f7f7f; text-decoration-color: #7f7f7f\">:</span><a href=\"file:///usr/local/lib/python3.10/dist-packages/nerfstudio/process_data/process_data_utils.py#266\" target=\"_blank\"><span style=\"color: #7f7f7f; text-decoration-color: #7f7f7f\">266</span></a>\n",
              "</pre>\n"
            ]
          },
          "metadata": {}
        },
        {
          "output_type": "display_data",
          "data": {
            "text/plain": [
              "\u001b[2;36m          \u001b[0m\u001b[2;36m \u001b[0mCopying image \u001b[1;36m126\u001b[0m of \u001b[1;36m200\u001b[0m\u001b[33m...\u001b[0m                                                         \u001b]8;id=637328;file:///usr/local/lib/python3.10/dist-packages/nerfstudio/process_data/process_data_utils.py\u001b\\\u001b[2mprocess_data_utils.py\u001b[0m\u001b]8;;\u001b\\\u001b[2m:\u001b[0m\u001b]8;id=80574;file:///usr/local/lib/python3.10/dist-packages/nerfstudio/process_data/process_data_utils.py#266\u001b\\\u001b[2m266\u001b[0m\u001b]8;;\u001b\\\n"
            ],
            "text/html": [
              "<pre style=\"white-space:pre;overflow-x:auto;line-height:normal;font-family:Menlo,'DejaVu Sans Mono',consolas,'Courier New',monospace\"><span style=\"color: #7fbfbf; text-decoration-color: #7fbfbf\">           </span>Copying image <span style=\"color: #008080; text-decoration-color: #008080; font-weight: bold\">126</span> of <span style=\"color: #008080; text-decoration-color: #008080; font-weight: bold\">200</span><span style=\"color: #808000; text-decoration-color: #808000\">...</span>                                                         <a href=\"file:///usr/local/lib/python3.10/dist-packages/nerfstudio/process_data/process_data_utils.py\" target=\"_blank\"><span style=\"color: #7f7f7f; text-decoration-color: #7f7f7f\">process_data_utils.py</span></a><span style=\"color: #7f7f7f; text-decoration-color: #7f7f7f\">:</span><a href=\"file:///usr/local/lib/python3.10/dist-packages/nerfstudio/process_data/process_data_utils.py#266\" target=\"_blank\"><span style=\"color: #7f7f7f; text-decoration-color: #7f7f7f\">266</span></a>\n",
              "</pre>\n"
            ]
          },
          "metadata": {}
        },
        {
          "output_type": "display_data",
          "data": {
            "text/plain": [
              "\u001b[2;36m[11:18:45]\u001b[0m\u001b[2;36m \u001b[0mCopying image \u001b[1;36m127\u001b[0m of \u001b[1;36m200\u001b[0m\u001b[33m...\u001b[0m                                                         \u001b]8;id=923446;file:///usr/local/lib/python3.10/dist-packages/nerfstudio/process_data/process_data_utils.py\u001b\\\u001b[2mprocess_data_utils.py\u001b[0m\u001b]8;;\u001b\\\u001b[2m:\u001b[0m\u001b]8;id=555456;file:///usr/local/lib/python3.10/dist-packages/nerfstudio/process_data/process_data_utils.py#266\u001b\\\u001b[2m266\u001b[0m\u001b]8;;\u001b\\\n"
            ],
            "text/html": [
              "<pre style=\"white-space:pre;overflow-x:auto;line-height:normal;font-family:Menlo,'DejaVu Sans Mono',consolas,'Courier New',monospace\"><span style=\"color: #7fbfbf; text-decoration-color: #7fbfbf\">[11:18:45] </span>Copying image <span style=\"color: #008080; text-decoration-color: #008080; font-weight: bold\">127</span> of <span style=\"color: #008080; text-decoration-color: #008080; font-weight: bold\">200</span><span style=\"color: #808000; text-decoration-color: #808000\">...</span>                                                         <a href=\"file:///usr/local/lib/python3.10/dist-packages/nerfstudio/process_data/process_data_utils.py\" target=\"_blank\"><span style=\"color: #7f7f7f; text-decoration-color: #7f7f7f\">process_data_utils.py</span></a><span style=\"color: #7f7f7f; text-decoration-color: #7f7f7f\">:</span><a href=\"file:///usr/local/lib/python3.10/dist-packages/nerfstudio/process_data/process_data_utils.py#266\" target=\"_blank\"><span style=\"color: #7f7f7f; text-decoration-color: #7f7f7f\">266</span></a>\n",
              "</pre>\n"
            ]
          },
          "metadata": {}
        },
        {
          "output_type": "display_data",
          "data": {
            "text/plain": [
              "\u001b[2;36m          \u001b[0m\u001b[2;36m \u001b[0mCopying image \u001b[1;36m128\u001b[0m of \u001b[1;36m200\u001b[0m\u001b[33m...\u001b[0m                                                         \u001b]8;id=322074;file:///usr/local/lib/python3.10/dist-packages/nerfstudio/process_data/process_data_utils.py\u001b\\\u001b[2mprocess_data_utils.py\u001b[0m\u001b]8;;\u001b\\\u001b[2m:\u001b[0m\u001b]8;id=74534;file:///usr/local/lib/python3.10/dist-packages/nerfstudio/process_data/process_data_utils.py#266\u001b\\\u001b[2m266\u001b[0m\u001b]8;;\u001b\\\n"
            ],
            "text/html": [
              "<pre style=\"white-space:pre;overflow-x:auto;line-height:normal;font-family:Menlo,'DejaVu Sans Mono',consolas,'Courier New',monospace\"><span style=\"color: #7fbfbf; text-decoration-color: #7fbfbf\">           </span>Copying image <span style=\"color: #008080; text-decoration-color: #008080; font-weight: bold\">128</span> of <span style=\"color: #008080; text-decoration-color: #008080; font-weight: bold\">200</span><span style=\"color: #808000; text-decoration-color: #808000\">...</span>                                                         <a href=\"file:///usr/local/lib/python3.10/dist-packages/nerfstudio/process_data/process_data_utils.py\" target=\"_blank\"><span style=\"color: #7f7f7f; text-decoration-color: #7f7f7f\">process_data_utils.py</span></a><span style=\"color: #7f7f7f; text-decoration-color: #7f7f7f\">:</span><a href=\"file:///usr/local/lib/python3.10/dist-packages/nerfstudio/process_data/process_data_utils.py#266\" target=\"_blank\"><span style=\"color: #7f7f7f; text-decoration-color: #7f7f7f\">266</span></a>\n",
              "</pre>\n"
            ]
          },
          "metadata": {}
        },
        {
          "output_type": "display_data",
          "data": {
            "text/plain": [
              "\u001b[2;36m[11:18:46]\u001b[0m\u001b[2;36m \u001b[0mCopying image \u001b[1;36m129\u001b[0m of \u001b[1;36m200\u001b[0m\u001b[33m...\u001b[0m                                                         \u001b]8;id=335710;file:///usr/local/lib/python3.10/dist-packages/nerfstudio/process_data/process_data_utils.py\u001b\\\u001b[2mprocess_data_utils.py\u001b[0m\u001b]8;;\u001b\\\u001b[2m:\u001b[0m\u001b]8;id=481164;file:///usr/local/lib/python3.10/dist-packages/nerfstudio/process_data/process_data_utils.py#266\u001b\\\u001b[2m266\u001b[0m\u001b]8;;\u001b\\\n"
            ],
            "text/html": [
              "<pre style=\"white-space:pre;overflow-x:auto;line-height:normal;font-family:Menlo,'DejaVu Sans Mono',consolas,'Courier New',monospace\"><span style=\"color: #7fbfbf; text-decoration-color: #7fbfbf\">[11:18:46] </span>Copying image <span style=\"color: #008080; text-decoration-color: #008080; font-weight: bold\">129</span> of <span style=\"color: #008080; text-decoration-color: #008080; font-weight: bold\">200</span><span style=\"color: #808000; text-decoration-color: #808000\">...</span>                                                         <a href=\"file:///usr/local/lib/python3.10/dist-packages/nerfstudio/process_data/process_data_utils.py\" target=\"_blank\"><span style=\"color: #7f7f7f; text-decoration-color: #7f7f7f\">process_data_utils.py</span></a><span style=\"color: #7f7f7f; text-decoration-color: #7f7f7f\">:</span><a href=\"file:///usr/local/lib/python3.10/dist-packages/nerfstudio/process_data/process_data_utils.py#266\" target=\"_blank\"><span style=\"color: #7f7f7f; text-decoration-color: #7f7f7f\">266</span></a>\n",
              "</pre>\n"
            ]
          },
          "metadata": {}
        },
        {
          "output_type": "display_data",
          "data": {
            "text/plain": [
              "\u001b[2;36m          \u001b[0m\u001b[2;36m \u001b[0mCopying image \u001b[1;36m130\u001b[0m of \u001b[1;36m200\u001b[0m\u001b[33m...\u001b[0m                                                         \u001b]8;id=3428;file:///usr/local/lib/python3.10/dist-packages/nerfstudio/process_data/process_data_utils.py\u001b\\\u001b[2mprocess_data_utils.py\u001b[0m\u001b]8;;\u001b\\\u001b[2m:\u001b[0m\u001b]8;id=441968;file:///usr/local/lib/python3.10/dist-packages/nerfstudio/process_data/process_data_utils.py#266\u001b\\\u001b[2m266\u001b[0m\u001b]8;;\u001b\\\n"
            ],
            "text/html": [
              "<pre style=\"white-space:pre;overflow-x:auto;line-height:normal;font-family:Menlo,'DejaVu Sans Mono',consolas,'Courier New',monospace\"><span style=\"color: #7fbfbf; text-decoration-color: #7fbfbf\">           </span>Copying image <span style=\"color: #008080; text-decoration-color: #008080; font-weight: bold\">130</span> of <span style=\"color: #008080; text-decoration-color: #008080; font-weight: bold\">200</span><span style=\"color: #808000; text-decoration-color: #808000\">...</span>                                                         <a href=\"file:///usr/local/lib/python3.10/dist-packages/nerfstudio/process_data/process_data_utils.py\" target=\"_blank\"><span style=\"color: #7f7f7f; text-decoration-color: #7f7f7f\">process_data_utils.py</span></a><span style=\"color: #7f7f7f; text-decoration-color: #7f7f7f\">:</span><a href=\"file:///usr/local/lib/python3.10/dist-packages/nerfstudio/process_data/process_data_utils.py#266\" target=\"_blank\"><span style=\"color: #7f7f7f; text-decoration-color: #7f7f7f\">266</span></a>\n",
              "</pre>\n"
            ]
          },
          "metadata": {}
        },
        {
          "output_type": "display_data",
          "data": {
            "text/plain": [
              "\u001b[2;36m[11:18:47]\u001b[0m\u001b[2;36m \u001b[0mCopying image \u001b[1;36m131\u001b[0m of \u001b[1;36m200\u001b[0m\u001b[33m...\u001b[0m                                                         \u001b]8;id=560449;file:///usr/local/lib/python3.10/dist-packages/nerfstudio/process_data/process_data_utils.py\u001b\\\u001b[2mprocess_data_utils.py\u001b[0m\u001b]8;;\u001b\\\u001b[2m:\u001b[0m\u001b]8;id=783575;file:///usr/local/lib/python3.10/dist-packages/nerfstudio/process_data/process_data_utils.py#266\u001b\\\u001b[2m266\u001b[0m\u001b]8;;\u001b\\\n"
            ],
            "text/html": [
              "<pre style=\"white-space:pre;overflow-x:auto;line-height:normal;font-family:Menlo,'DejaVu Sans Mono',consolas,'Courier New',monospace\"><span style=\"color: #7fbfbf; text-decoration-color: #7fbfbf\">[11:18:47] </span>Copying image <span style=\"color: #008080; text-decoration-color: #008080; font-weight: bold\">131</span> of <span style=\"color: #008080; text-decoration-color: #008080; font-weight: bold\">200</span><span style=\"color: #808000; text-decoration-color: #808000\">...</span>                                                         <a href=\"file:///usr/local/lib/python3.10/dist-packages/nerfstudio/process_data/process_data_utils.py\" target=\"_blank\"><span style=\"color: #7f7f7f; text-decoration-color: #7f7f7f\">process_data_utils.py</span></a><span style=\"color: #7f7f7f; text-decoration-color: #7f7f7f\">:</span><a href=\"file:///usr/local/lib/python3.10/dist-packages/nerfstudio/process_data/process_data_utils.py#266\" target=\"_blank\"><span style=\"color: #7f7f7f; text-decoration-color: #7f7f7f\">266</span></a>\n",
              "</pre>\n"
            ]
          },
          "metadata": {}
        },
        {
          "output_type": "display_data",
          "data": {
            "text/plain": [
              "\u001b[2;36m          \u001b[0m\u001b[2;36m \u001b[0mCopying image \u001b[1;36m132\u001b[0m of \u001b[1;36m200\u001b[0m\u001b[33m...\u001b[0m                                                         \u001b]8;id=592200;file:///usr/local/lib/python3.10/dist-packages/nerfstudio/process_data/process_data_utils.py\u001b\\\u001b[2mprocess_data_utils.py\u001b[0m\u001b]8;;\u001b\\\u001b[2m:\u001b[0m\u001b]8;id=219047;file:///usr/local/lib/python3.10/dist-packages/nerfstudio/process_data/process_data_utils.py#266\u001b\\\u001b[2m266\u001b[0m\u001b]8;;\u001b\\\n"
            ],
            "text/html": [
              "<pre style=\"white-space:pre;overflow-x:auto;line-height:normal;font-family:Menlo,'DejaVu Sans Mono',consolas,'Courier New',monospace\"><span style=\"color: #7fbfbf; text-decoration-color: #7fbfbf\">           </span>Copying image <span style=\"color: #008080; text-decoration-color: #008080; font-weight: bold\">132</span> of <span style=\"color: #008080; text-decoration-color: #008080; font-weight: bold\">200</span><span style=\"color: #808000; text-decoration-color: #808000\">...</span>                                                         <a href=\"file:///usr/local/lib/python3.10/dist-packages/nerfstudio/process_data/process_data_utils.py\" target=\"_blank\"><span style=\"color: #7f7f7f; text-decoration-color: #7f7f7f\">process_data_utils.py</span></a><span style=\"color: #7f7f7f; text-decoration-color: #7f7f7f\">:</span><a href=\"file:///usr/local/lib/python3.10/dist-packages/nerfstudio/process_data/process_data_utils.py#266\" target=\"_blank\"><span style=\"color: #7f7f7f; text-decoration-color: #7f7f7f\">266</span></a>\n",
              "</pre>\n"
            ]
          },
          "metadata": {}
        },
        {
          "output_type": "display_data",
          "data": {
            "text/plain": [
              "\u001b[2;36m[11:18:48]\u001b[0m\u001b[2;36m \u001b[0mCopying image \u001b[1;36m133\u001b[0m of \u001b[1;36m200\u001b[0m\u001b[33m...\u001b[0m                                                         \u001b]8;id=765119;file:///usr/local/lib/python3.10/dist-packages/nerfstudio/process_data/process_data_utils.py\u001b\\\u001b[2mprocess_data_utils.py\u001b[0m\u001b]8;;\u001b\\\u001b[2m:\u001b[0m\u001b]8;id=406535;file:///usr/local/lib/python3.10/dist-packages/nerfstudio/process_data/process_data_utils.py#266\u001b\\\u001b[2m266\u001b[0m\u001b]8;;\u001b\\\n"
            ],
            "text/html": [
              "<pre style=\"white-space:pre;overflow-x:auto;line-height:normal;font-family:Menlo,'DejaVu Sans Mono',consolas,'Courier New',monospace\"><span style=\"color: #7fbfbf; text-decoration-color: #7fbfbf\">[11:18:48] </span>Copying image <span style=\"color: #008080; text-decoration-color: #008080; font-weight: bold\">133</span> of <span style=\"color: #008080; text-decoration-color: #008080; font-weight: bold\">200</span><span style=\"color: #808000; text-decoration-color: #808000\">...</span>                                                         <a href=\"file:///usr/local/lib/python3.10/dist-packages/nerfstudio/process_data/process_data_utils.py\" target=\"_blank\"><span style=\"color: #7f7f7f; text-decoration-color: #7f7f7f\">process_data_utils.py</span></a><span style=\"color: #7f7f7f; text-decoration-color: #7f7f7f\">:</span><a href=\"file:///usr/local/lib/python3.10/dist-packages/nerfstudio/process_data/process_data_utils.py#266\" target=\"_blank\"><span style=\"color: #7f7f7f; text-decoration-color: #7f7f7f\">266</span></a>\n",
              "</pre>\n"
            ]
          },
          "metadata": {}
        },
        {
          "output_type": "display_data",
          "data": {
            "text/plain": [
              "\u001b[2;36m          \u001b[0m\u001b[2;36m \u001b[0mCopying image \u001b[1;36m134\u001b[0m of \u001b[1;36m200\u001b[0m\u001b[33m...\u001b[0m                                                         \u001b]8;id=739599;file:///usr/local/lib/python3.10/dist-packages/nerfstudio/process_data/process_data_utils.py\u001b\\\u001b[2mprocess_data_utils.py\u001b[0m\u001b]8;;\u001b\\\u001b[2m:\u001b[0m\u001b]8;id=499407;file:///usr/local/lib/python3.10/dist-packages/nerfstudio/process_data/process_data_utils.py#266\u001b\\\u001b[2m266\u001b[0m\u001b]8;;\u001b\\\n"
            ],
            "text/html": [
              "<pre style=\"white-space:pre;overflow-x:auto;line-height:normal;font-family:Menlo,'DejaVu Sans Mono',consolas,'Courier New',monospace\"><span style=\"color: #7fbfbf; text-decoration-color: #7fbfbf\">           </span>Copying image <span style=\"color: #008080; text-decoration-color: #008080; font-weight: bold\">134</span> of <span style=\"color: #008080; text-decoration-color: #008080; font-weight: bold\">200</span><span style=\"color: #808000; text-decoration-color: #808000\">...</span>                                                         <a href=\"file:///usr/local/lib/python3.10/dist-packages/nerfstudio/process_data/process_data_utils.py\" target=\"_blank\"><span style=\"color: #7f7f7f; text-decoration-color: #7f7f7f\">process_data_utils.py</span></a><span style=\"color: #7f7f7f; text-decoration-color: #7f7f7f\">:</span><a href=\"file:///usr/local/lib/python3.10/dist-packages/nerfstudio/process_data/process_data_utils.py#266\" target=\"_blank\"><span style=\"color: #7f7f7f; text-decoration-color: #7f7f7f\">266</span></a>\n",
              "</pre>\n"
            ]
          },
          "metadata": {}
        },
        {
          "output_type": "display_data",
          "data": {
            "text/plain": [
              "\u001b[2;36m[11:18:49]\u001b[0m\u001b[2;36m \u001b[0mCopying image \u001b[1;36m135\u001b[0m of \u001b[1;36m200\u001b[0m\u001b[33m...\u001b[0m                                                         \u001b]8;id=983604;file:///usr/local/lib/python3.10/dist-packages/nerfstudio/process_data/process_data_utils.py\u001b\\\u001b[2mprocess_data_utils.py\u001b[0m\u001b]8;;\u001b\\\u001b[2m:\u001b[0m\u001b]8;id=354427;file:///usr/local/lib/python3.10/dist-packages/nerfstudio/process_data/process_data_utils.py#266\u001b\\\u001b[2m266\u001b[0m\u001b]8;;\u001b\\\n"
            ],
            "text/html": [
              "<pre style=\"white-space:pre;overflow-x:auto;line-height:normal;font-family:Menlo,'DejaVu Sans Mono',consolas,'Courier New',monospace\"><span style=\"color: #7fbfbf; text-decoration-color: #7fbfbf\">[11:18:49] </span>Copying image <span style=\"color: #008080; text-decoration-color: #008080; font-weight: bold\">135</span> of <span style=\"color: #008080; text-decoration-color: #008080; font-weight: bold\">200</span><span style=\"color: #808000; text-decoration-color: #808000\">...</span>                                                         <a href=\"file:///usr/local/lib/python3.10/dist-packages/nerfstudio/process_data/process_data_utils.py\" target=\"_blank\"><span style=\"color: #7f7f7f; text-decoration-color: #7f7f7f\">process_data_utils.py</span></a><span style=\"color: #7f7f7f; text-decoration-color: #7f7f7f\">:</span><a href=\"file:///usr/local/lib/python3.10/dist-packages/nerfstudio/process_data/process_data_utils.py#266\" target=\"_blank\"><span style=\"color: #7f7f7f; text-decoration-color: #7f7f7f\">266</span></a>\n",
              "</pre>\n"
            ]
          },
          "metadata": {}
        },
        {
          "output_type": "display_data",
          "data": {
            "text/plain": [
              "\u001b[2;36m          \u001b[0m\u001b[2;36m \u001b[0mCopying image \u001b[1;36m136\u001b[0m of \u001b[1;36m200\u001b[0m\u001b[33m...\u001b[0m                                                         \u001b]8;id=656492;file:///usr/local/lib/python3.10/dist-packages/nerfstudio/process_data/process_data_utils.py\u001b\\\u001b[2mprocess_data_utils.py\u001b[0m\u001b]8;;\u001b\\\u001b[2m:\u001b[0m\u001b]8;id=14950;file:///usr/local/lib/python3.10/dist-packages/nerfstudio/process_data/process_data_utils.py#266\u001b\\\u001b[2m266\u001b[0m\u001b]8;;\u001b\\\n"
            ],
            "text/html": [
              "<pre style=\"white-space:pre;overflow-x:auto;line-height:normal;font-family:Menlo,'DejaVu Sans Mono',consolas,'Courier New',monospace\"><span style=\"color: #7fbfbf; text-decoration-color: #7fbfbf\">           </span>Copying image <span style=\"color: #008080; text-decoration-color: #008080; font-weight: bold\">136</span> of <span style=\"color: #008080; text-decoration-color: #008080; font-weight: bold\">200</span><span style=\"color: #808000; text-decoration-color: #808000\">...</span>                                                         <a href=\"file:///usr/local/lib/python3.10/dist-packages/nerfstudio/process_data/process_data_utils.py\" target=\"_blank\"><span style=\"color: #7f7f7f; text-decoration-color: #7f7f7f\">process_data_utils.py</span></a><span style=\"color: #7f7f7f; text-decoration-color: #7f7f7f\">:</span><a href=\"file:///usr/local/lib/python3.10/dist-packages/nerfstudio/process_data/process_data_utils.py#266\" target=\"_blank\"><span style=\"color: #7f7f7f; text-decoration-color: #7f7f7f\">266</span></a>\n",
              "</pre>\n"
            ]
          },
          "metadata": {}
        },
        {
          "output_type": "display_data",
          "data": {
            "text/plain": [
              "\u001b[2;36m[11:18:50]\u001b[0m\u001b[2;36m \u001b[0mCopying image \u001b[1;36m137\u001b[0m of \u001b[1;36m200\u001b[0m\u001b[33m...\u001b[0m                                                         \u001b]8;id=408984;file:///usr/local/lib/python3.10/dist-packages/nerfstudio/process_data/process_data_utils.py\u001b\\\u001b[2mprocess_data_utils.py\u001b[0m\u001b]8;;\u001b\\\u001b[2m:\u001b[0m\u001b]8;id=214631;file:///usr/local/lib/python3.10/dist-packages/nerfstudio/process_data/process_data_utils.py#266\u001b\\\u001b[2m266\u001b[0m\u001b]8;;\u001b\\\n"
            ],
            "text/html": [
              "<pre style=\"white-space:pre;overflow-x:auto;line-height:normal;font-family:Menlo,'DejaVu Sans Mono',consolas,'Courier New',monospace\"><span style=\"color: #7fbfbf; text-decoration-color: #7fbfbf\">[11:18:50] </span>Copying image <span style=\"color: #008080; text-decoration-color: #008080; font-weight: bold\">137</span> of <span style=\"color: #008080; text-decoration-color: #008080; font-weight: bold\">200</span><span style=\"color: #808000; text-decoration-color: #808000\">...</span>                                                         <a href=\"file:///usr/local/lib/python3.10/dist-packages/nerfstudio/process_data/process_data_utils.py\" target=\"_blank\"><span style=\"color: #7f7f7f; text-decoration-color: #7f7f7f\">process_data_utils.py</span></a><span style=\"color: #7f7f7f; text-decoration-color: #7f7f7f\">:</span><a href=\"file:///usr/local/lib/python3.10/dist-packages/nerfstudio/process_data/process_data_utils.py#266\" target=\"_blank\"><span style=\"color: #7f7f7f; text-decoration-color: #7f7f7f\">266</span></a>\n",
              "</pre>\n"
            ]
          },
          "metadata": {}
        },
        {
          "output_type": "display_data",
          "data": {
            "text/plain": [
              "\u001b[2;36m          \u001b[0m\u001b[2;36m \u001b[0mCopying image \u001b[1;36m138\u001b[0m of \u001b[1;36m200\u001b[0m\u001b[33m...\u001b[0m                                                         \u001b]8;id=24624;file:///usr/local/lib/python3.10/dist-packages/nerfstudio/process_data/process_data_utils.py\u001b\\\u001b[2mprocess_data_utils.py\u001b[0m\u001b]8;;\u001b\\\u001b[2m:\u001b[0m\u001b]8;id=323349;file:///usr/local/lib/python3.10/dist-packages/nerfstudio/process_data/process_data_utils.py#266\u001b\\\u001b[2m266\u001b[0m\u001b]8;;\u001b\\\n"
            ],
            "text/html": [
              "<pre style=\"white-space:pre;overflow-x:auto;line-height:normal;font-family:Menlo,'DejaVu Sans Mono',consolas,'Courier New',monospace\"><span style=\"color: #7fbfbf; text-decoration-color: #7fbfbf\">           </span>Copying image <span style=\"color: #008080; text-decoration-color: #008080; font-weight: bold\">138</span> of <span style=\"color: #008080; text-decoration-color: #008080; font-weight: bold\">200</span><span style=\"color: #808000; text-decoration-color: #808000\">...</span>                                                         <a href=\"file:///usr/local/lib/python3.10/dist-packages/nerfstudio/process_data/process_data_utils.py\" target=\"_blank\"><span style=\"color: #7f7f7f; text-decoration-color: #7f7f7f\">process_data_utils.py</span></a><span style=\"color: #7f7f7f; text-decoration-color: #7f7f7f\">:</span><a href=\"file:///usr/local/lib/python3.10/dist-packages/nerfstudio/process_data/process_data_utils.py#266\" target=\"_blank\"><span style=\"color: #7f7f7f; text-decoration-color: #7f7f7f\">266</span></a>\n",
              "</pre>\n"
            ]
          },
          "metadata": {}
        },
        {
          "output_type": "display_data",
          "data": {
            "text/plain": [
              "\u001b[2;36m[11:18:51]\u001b[0m\u001b[2;36m \u001b[0mCopying image \u001b[1;36m139\u001b[0m of \u001b[1;36m200\u001b[0m\u001b[33m...\u001b[0m                                                         \u001b]8;id=629666;file:///usr/local/lib/python3.10/dist-packages/nerfstudio/process_data/process_data_utils.py\u001b\\\u001b[2mprocess_data_utils.py\u001b[0m\u001b]8;;\u001b\\\u001b[2m:\u001b[0m\u001b]8;id=934183;file:///usr/local/lib/python3.10/dist-packages/nerfstudio/process_data/process_data_utils.py#266\u001b\\\u001b[2m266\u001b[0m\u001b]8;;\u001b\\\n"
            ],
            "text/html": [
              "<pre style=\"white-space:pre;overflow-x:auto;line-height:normal;font-family:Menlo,'DejaVu Sans Mono',consolas,'Courier New',monospace\"><span style=\"color: #7fbfbf; text-decoration-color: #7fbfbf\">[11:18:51] </span>Copying image <span style=\"color: #008080; text-decoration-color: #008080; font-weight: bold\">139</span> of <span style=\"color: #008080; text-decoration-color: #008080; font-weight: bold\">200</span><span style=\"color: #808000; text-decoration-color: #808000\">...</span>                                                         <a href=\"file:///usr/local/lib/python3.10/dist-packages/nerfstudio/process_data/process_data_utils.py\" target=\"_blank\"><span style=\"color: #7f7f7f; text-decoration-color: #7f7f7f\">process_data_utils.py</span></a><span style=\"color: #7f7f7f; text-decoration-color: #7f7f7f\">:</span><a href=\"file:///usr/local/lib/python3.10/dist-packages/nerfstudio/process_data/process_data_utils.py#266\" target=\"_blank\"><span style=\"color: #7f7f7f; text-decoration-color: #7f7f7f\">266</span></a>\n",
              "</pre>\n"
            ]
          },
          "metadata": {}
        },
        {
          "output_type": "display_data",
          "data": {
            "text/plain": [
              "\u001b[2;36m          \u001b[0m\u001b[2;36m \u001b[0mCopying image \u001b[1;36m140\u001b[0m of \u001b[1;36m200\u001b[0m\u001b[33m...\u001b[0m                                                         \u001b]8;id=314762;file:///usr/local/lib/python3.10/dist-packages/nerfstudio/process_data/process_data_utils.py\u001b\\\u001b[2mprocess_data_utils.py\u001b[0m\u001b]8;;\u001b\\\u001b[2m:\u001b[0m\u001b]8;id=610076;file:///usr/local/lib/python3.10/dist-packages/nerfstudio/process_data/process_data_utils.py#266\u001b\\\u001b[2m266\u001b[0m\u001b]8;;\u001b\\\n"
            ],
            "text/html": [
              "<pre style=\"white-space:pre;overflow-x:auto;line-height:normal;font-family:Menlo,'DejaVu Sans Mono',consolas,'Courier New',monospace\"><span style=\"color: #7fbfbf; text-decoration-color: #7fbfbf\">           </span>Copying image <span style=\"color: #008080; text-decoration-color: #008080; font-weight: bold\">140</span> of <span style=\"color: #008080; text-decoration-color: #008080; font-weight: bold\">200</span><span style=\"color: #808000; text-decoration-color: #808000\">...</span>                                                         <a href=\"file:///usr/local/lib/python3.10/dist-packages/nerfstudio/process_data/process_data_utils.py\" target=\"_blank\"><span style=\"color: #7f7f7f; text-decoration-color: #7f7f7f\">process_data_utils.py</span></a><span style=\"color: #7f7f7f; text-decoration-color: #7f7f7f\">:</span><a href=\"file:///usr/local/lib/python3.10/dist-packages/nerfstudio/process_data/process_data_utils.py#266\" target=\"_blank\"><span style=\"color: #7f7f7f; text-decoration-color: #7f7f7f\">266</span></a>\n",
              "</pre>\n"
            ]
          },
          "metadata": {}
        },
        {
          "output_type": "display_data",
          "data": {
            "text/plain": [
              "\u001b[2;36m[11:18:52]\u001b[0m\u001b[2;36m \u001b[0mCopying image \u001b[1;36m141\u001b[0m of \u001b[1;36m200\u001b[0m\u001b[33m...\u001b[0m                                                         \u001b]8;id=316994;file:///usr/local/lib/python3.10/dist-packages/nerfstudio/process_data/process_data_utils.py\u001b\\\u001b[2mprocess_data_utils.py\u001b[0m\u001b]8;;\u001b\\\u001b[2m:\u001b[0m\u001b]8;id=497571;file:///usr/local/lib/python3.10/dist-packages/nerfstudio/process_data/process_data_utils.py#266\u001b\\\u001b[2m266\u001b[0m\u001b]8;;\u001b\\\n"
            ],
            "text/html": [
              "<pre style=\"white-space:pre;overflow-x:auto;line-height:normal;font-family:Menlo,'DejaVu Sans Mono',consolas,'Courier New',monospace\"><span style=\"color: #7fbfbf; text-decoration-color: #7fbfbf\">[11:18:52] </span>Copying image <span style=\"color: #008080; text-decoration-color: #008080; font-weight: bold\">141</span> of <span style=\"color: #008080; text-decoration-color: #008080; font-weight: bold\">200</span><span style=\"color: #808000; text-decoration-color: #808000\">...</span>                                                         <a href=\"file:///usr/local/lib/python3.10/dist-packages/nerfstudio/process_data/process_data_utils.py\" target=\"_blank\"><span style=\"color: #7f7f7f; text-decoration-color: #7f7f7f\">process_data_utils.py</span></a><span style=\"color: #7f7f7f; text-decoration-color: #7f7f7f\">:</span><a href=\"file:///usr/local/lib/python3.10/dist-packages/nerfstudio/process_data/process_data_utils.py#266\" target=\"_blank\"><span style=\"color: #7f7f7f; text-decoration-color: #7f7f7f\">266</span></a>\n",
              "</pre>\n"
            ]
          },
          "metadata": {}
        },
        {
          "output_type": "display_data",
          "data": {
            "text/plain": [
              "\u001b[2;36m[11:18:53]\u001b[0m\u001b[2;36m \u001b[0mCopying image \u001b[1;36m142\u001b[0m of \u001b[1;36m200\u001b[0m\u001b[33m...\u001b[0m                                                         \u001b]8;id=227399;file:///usr/local/lib/python3.10/dist-packages/nerfstudio/process_data/process_data_utils.py\u001b\\\u001b[2mprocess_data_utils.py\u001b[0m\u001b]8;;\u001b\\\u001b[2m:\u001b[0m\u001b]8;id=511583;file:///usr/local/lib/python3.10/dist-packages/nerfstudio/process_data/process_data_utils.py#266\u001b\\\u001b[2m266\u001b[0m\u001b]8;;\u001b\\\n"
            ],
            "text/html": [
              "<pre style=\"white-space:pre;overflow-x:auto;line-height:normal;font-family:Menlo,'DejaVu Sans Mono',consolas,'Courier New',monospace\"><span style=\"color: #7fbfbf; text-decoration-color: #7fbfbf\">[11:18:53] </span>Copying image <span style=\"color: #008080; text-decoration-color: #008080; font-weight: bold\">142</span> of <span style=\"color: #008080; text-decoration-color: #008080; font-weight: bold\">200</span><span style=\"color: #808000; text-decoration-color: #808000\">...</span>                                                         <a href=\"file:///usr/local/lib/python3.10/dist-packages/nerfstudio/process_data/process_data_utils.py\" target=\"_blank\"><span style=\"color: #7f7f7f; text-decoration-color: #7f7f7f\">process_data_utils.py</span></a><span style=\"color: #7f7f7f; text-decoration-color: #7f7f7f\">:</span><a href=\"file:///usr/local/lib/python3.10/dist-packages/nerfstudio/process_data/process_data_utils.py#266\" target=\"_blank\"><span style=\"color: #7f7f7f; text-decoration-color: #7f7f7f\">266</span></a>\n",
              "</pre>\n"
            ]
          },
          "metadata": {}
        },
        {
          "output_type": "display_data",
          "data": {
            "text/plain": [
              "\u001b[2;36m          \u001b[0m\u001b[2;36m \u001b[0mCopying image \u001b[1;36m143\u001b[0m of \u001b[1;36m200\u001b[0m\u001b[33m...\u001b[0m                                                         \u001b]8;id=705701;file:///usr/local/lib/python3.10/dist-packages/nerfstudio/process_data/process_data_utils.py\u001b\\\u001b[2mprocess_data_utils.py\u001b[0m\u001b]8;;\u001b\\\u001b[2m:\u001b[0m\u001b]8;id=665087;file:///usr/local/lib/python3.10/dist-packages/nerfstudio/process_data/process_data_utils.py#266\u001b\\\u001b[2m266\u001b[0m\u001b]8;;\u001b\\\n"
            ],
            "text/html": [
              "<pre style=\"white-space:pre;overflow-x:auto;line-height:normal;font-family:Menlo,'DejaVu Sans Mono',consolas,'Courier New',monospace\"><span style=\"color: #7fbfbf; text-decoration-color: #7fbfbf\">           </span>Copying image <span style=\"color: #008080; text-decoration-color: #008080; font-weight: bold\">143</span> of <span style=\"color: #008080; text-decoration-color: #008080; font-weight: bold\">200</span><span style=\"color: #808000; text-decoration-color: #808000\">...</span>                                                         <a href=\"file:///usr/local/lib/python3.10/dist-packages/nerfstudio/process_data/process_data_utils.py\" target=\"_blank\"><span style=\"color: #7f7f7f; text-decoration-color: #7f7f7f\">process_data_utils.py</span></a><span style=\"color: #7f7f7f; text-decoration-color: #7f7f7f\">:</span><a href=\"file:///usr/local/lib/python3.10/dist-packages/nerfstudio/process_data/process_data_utils.py#266\" target=\"_blank\"><span style=\"color: #7f7f7f; text-decoration-color: #7f7f7f\">266</span></a>\n",
              "</pre>\n"
            ]
          },
          "metadata": {}
        },
        {
          "output_type": "display_data",
          "data": {
            "text/plain": [
              "\u001b[2;36m[11:18:54]\u001b[0m\u001b[2;36m \u001b[0mCopying image \u001b[1;36m144\u001b[0m of \u001b[1;36m200\u001b[0m\u001b[33m...\u001b[0m                                                         \u001b]8;id=641808;file:///usr/local/lib/python3.10/dist-packages/nerfstudio/process_data/process_data_utils.py\u001b\\\u001b[2mprocess_data_utils.py\u001b[0m\u001b]8;;\u001b\\\u001b[2m:\u001b[0m\u001b]8;id=29835;file:///usr/local/lib/python3.10/dist-packages/nerfstudio/process_data/process_data_utils.py#266\u001b\\\u001b[2m266\u001b[0m\u001b]8;;\u001b\\\n"
            ],
            "text/html": [
              "<pre style=\"white-space:pre;overflow-x:auto;line-height:normal;font-family:Menlo,'DejaVu Sans Mono',consolas,'Courier New',monospace\"><span style=\"color: #7fbfbf; text-decoration-color: #7fbfbf\">[11:18:54] </span>Copying image <span style=\"color: #008080; text-decoration-color: #008080; font-weight: bold\">144</span> of <span style=\"color: #008080; text-decoration-color: #008080; font-weight: bold\">200</span><span style=\"color: #808000; text-decoration-color: #808000\">...</span>                                                         <a href=\"file:///usr/local/lib/python3.10/dist-packages/nerfstudio/process_data/process_data_utils.py\" target=\"_blank\"><span style=\"color: #7f7f7f; text-decoration-color: #7f7f7f\">process_data_utils.py</span></a><span style=\"color: #7f7f7f; text-decoration-color: #7f7f7f\">:</span><a href=\"file:///usr/local/lib/python3.10/dist-packages/nerfstudio/process_data/process_data_utils.py#266\" target=\"_blank\"><span style=\"color: #7f7f7f; text-decoration-color: #7f7f7f\">266</span></a>\n",
              "</pre>\n"
            ]
          },
          "metadata": {}
        },
        {
          "output_type": "display_data",
          "data": {
            "text/plain": [
              "\u001b[2;36m          \u001b[0m\u001b[2;36m \u001b[0mCopying image \u001b[1;36m145\u001b[0m of \u001b[1;36m200\u001b[0m\u001b[33m...\u001b[0m                                                         \u001b]8;id=173414;file:///usr/local/lib/python3.10/dist-packages/nerfstudio/process_data/process_data_utils.py\u001b\\\u001b[2mprocess_data_utils.py\u001b[0m\u001b]8;;\u001b\\\u001b[2m:\u001b[0m\u001b]8;id=218052;file:///usr/local/lib/python3.10/dist-packages/nerfstudio/process_data/process_data_utils.py#266\u001b\\\u001b[2m266\u001b[0m\u001b]8;;\u001b\\\n"
            ],
            "text/html": [
              "<pre style=\"white-space:pre;overflow-x:auto;line-height:normal;font-family:Menlo,'DejaVu Sans Mono',consolas,'Courier New',monospace\"><span style=\"color: #7fbfbf; text-decoration-color: #7fbfbf\">           </span>Copying image <span style=\"color: #008080; text-decoration-color: #008080; font-weight: bold\">145</span> of <span style=\"color: #008080; text-decoration-color: #008080; font-weight: bold\">200</span><span style=\"color: #808000; text-decoration-color: #808000\">...</span>                                                         <a href=\"file:///usr/local/lib/python3.10/dist-packages/nerfstudio/process_data/process_data_utils.py\" target=\"_blank\"><span style=\"color: #7f7f7f; text-decoration-color: #7f7f7f\">process_data_utils.py</span></a><span style=\"color: #7f7f7f; text-decoration-color: #7f7f7f\">:</span><a href=\"file:///usr/local/lib/python3.10/dist-packages/nerfstudio/process_data/process_data_utils.py#266\" target=\"_blank\"><span style=\"color: #7f7f7f; text-decoration-color: #7f7f7f\">266</span></a>\n",
              "</pre>\n"
            ]
          },
          "metadata": {}
        },
        {
          "output_type": "display_data",
          "data": {
            "text/plain": [
              "\u001b[2;36m[11:18:55]\u001b[0m\u001b[2;36m \u001b[0mCopying image \u001b[1;36m146\u001b[0m of \u001b[1;36m200\u001b[0m\u001b[33m...\u001b[0m                                                         \u001b]8;id=304137;file:///usr/local/lib/python3.10/dist-packages/nerfstudio/process_data/process_data_utils.py\u001b\\\u001b[2mprocess_data_utils.py\u001b[0m\u001b]8;;\u001b\\\u001b[2m:\u001b[0m\u001b]8;id=61922;file:///usr/local/lib/python3.10/dist-packages/nerfstudio/process_data/process_data_utils.py#266\u001b\\\u001b[2m266\u001b[0m\u001b]8;;\u001b\\\n"
            ],
            "text/html": [
              "<pre style=\"white-space:pre;overflow-x:auto;line-height:normal;font-family:Menlo,'DejaVu Sans Mono',consolas,'Courier New',monospace\"><span style=\"color: #7fbfbf; text-decoration-color: #7fbfbf\">[11:18:55] </span>Copying image <span style=\"color: #008080; text-decoration-color: #008080; font-weight: bold\">146</span> of <span style=\"color: #008080; text-decoration-color: #008080; font-weight: bold\">200</span><span style=\"color: #808000; text-decoration-color: #808000\">...</span>                                                         <a href=\"file:///usr/local/lib/python3.10/dist-packages/nerfstudio/process_data/process_data_utils.py\" target=\"_blank\"><span style=\"color: #7f7f7f; text-decoration-color: #7f7f7f\">process_data_utils.py</span></a><span style=\"color: #7f7f7f; text-decoration-color: #7f7f7f\">:</span><a href=\"file:///usr/local/lib/python3.10/dist-packages/nerfstudio/process_data/process_data_utils.py#266\" target=\"_blank\"><span style=\"color: #7f7f7f; text-decoration-color: #7f7f7f\">266</span></a>\n",
              "</pre>\n"
            ]
          },
          "metadata": {}
        },
        {
          "output_type": "display_data",
          "data": {
            "text/plain": [
              "\u001b[2;36m          \u001b[0m\u001b[2;36m \u001b[0mCopying image \u001b[1;36m147\u001b[0m of \u001b[1;36m200\u001b[0m\u001b[33m...\u001b[0m                                                         \u001b]8;id=686349;file:///usr/local/lib/python3.10/dist-packages/nerfstudio/process_data/process_data_utils.py\u001b\\\u001b[2mprocess_data_utils.py\u001b[0m\u001b]8;;\u001b\\\u001b[2m:\u001b[0m\u001b]8;id=41354;file:///usr/local/lib/python3.10/dist-packages/nerfstudio/process_data/process_data_utils.py#266\u001b\\\u001b[2m266\u001b[0m\u001b]8;;\u001b\\\n"
            ],
            "text/html": [
              "<pre style=\"white-space:pre;overflow-x:auto;line-height:normal;font-family:Menlo,'DejaVu Sans Mono',consolas,'Courier New',monospace\"><span style=\"color: #7fbfbf; text-decoration-color: #7fbfbf\">           </span>Copying image <span style=\"color: #008080; text-decoration-color: #008080; font-weight: bold\">147</span> of <span style=\"color: #008080; text-decoration-color: #008080; font-weight: bold\">200</span><span style=\"color: #808000; text-decoration-color: #808000\">...</span>                                                         <a href=\"file:///usr/local/lib/python3.10/dist-packages/nerfstudio/process_data/process_data_utils.py\" target=\"_blank\"><span style=\"color: #7f7f7f; text-decoration-color: #7f7f7f\">process_data_utils.py</span></a><span style=\"color: #7f7f7f; text-decoration-color: #7f7f7f\">:</span><a href=\"file:///usr/local/lib/python3.10/dist-packages/nerfstudio/process_data/process_data_utils.py#266\" target=\"_blank\"><span style=\"color: #7f7f7f; text-decoration-color: #7f7f7f\">266</span></a>\n",
              "</pre>\n"
            ]
          },
          "metadata": {}
        },
        {
          "output_type": "display_data",
          "data": {
            "text/plain": [
              "\u001b[2;36m[11:18:56]\u001b[0m\u001b[2;36m \u001b[0mCopying image \u001b[1;36m148\u001b[0m of \u001b[1;36m200\u001b[0m\u001b[33m...\u001b[0m                                                         \u001b]8;id=529584;file:///usr/local/lib/python3.10/dist-packages/nerfstudio/process_data/process_data_utils.py\u001b\\\u001b[2mprocess_data_utils.py\u001b[0m\u001b]8;;\u001b\\\u001b[2m:\u001b[0m\u001b]8;id=992490;file:///usr/local/lib/python3.10/dist-packages/nerfstudio/process_data/process_data_utils.py#266\u001b\\\u001b[2m266\u001b[0m\u001b]8;;\u001b\\\n"
            ],
            "text/html": [
              "<pre style=\"white-space:pre;overflow-x:auto;line-height:normal;font-family:Menlo,'DejaVu Sans Mono',consolas,'Courier New',monospace\"><span style=\"color: #7fbfbf; text-decoration-color: #7fbfbf\">[11:18:56] </span>Copying image <span style=\"color: #008080; text-decoration-color: #008080; font-weight: bold\">148</span> of <span style=\"color: #008080; text-decoration-color: #008080; font-weight: bold\">200</span><span style=\"color: #808000; text-decoration-color: #808000\">...</span>                                                         <a href=\"file:///usr/local/lib/python3.10/dist-packages/nerfstudio/process_data/process_data_utils.py\" target=\"_blank\"><span style=\"color: #7f7f7f; text-decoration-color: #7f7f7f\">process_data_utils.py</span></a><span style=\"color: #7f7f7f; text-decoration-color: #7f7f7f\">:</span><a href=\"file:///usr/local/lib/python3.10/dist-packages/nerfstudio/process_data/process_data_utils.py#266\" target=\"_blank\"><span style=\"color: #7f7f7f; text-decoration-color: #7f7f7f\">266</span></a>\n",
              "</pre>\n"
            ]
          },
          "metadata": {}
        },
        {
          "output_type": "display_data",
          "data": {
            "text/plain": [
              "\u001b[2;36m          \u001b[0m\u001b[2;36m \u001b[0mCopying image \u001b[1;36m149\u001b[0m of \u001b[1;36m200\u001b[0m\u001b[33m...\u001b[0m                                                         \u001b]8;id=120220;file:///usr/local/lib/python3.10/dist-packages/nerfstudio/process_data/process_data_utils.py\u001b\\\u001b[2mprocess_data_utils.py\u001b[0m\u001b]8;;\u001b\\\u001b[2m:\u001b[0m\u001b]8;id=288606;file:///usr/local/lib/python3.10/dist-packages/nerfstudio/process_data/process_data_utils.py#266\u001b\\\u001b[2m266\u001b[0m\u001b]8;;\u001b\\\n"
            ],
            "text/html": [
              "<pre style=\"white-space:pre;overflow-x:auto;line-height:normal;font-family:Menlo,'DejaVu Sans Mono',consolas,'Courier New',monospace\"><span style=\"color: #7fbfbf; text-decoration-color: #7fbfbf\">           </span>Copying image <span style=\"color: #008080; text-decoration-color: #008080; font-weight: bold\">149</span> of <span style=\"color: #008080; text-decoration-color: #008080; font-weight: bold\">200</span><span style=\"color: #808000; text-decoration-color: #808000\">...</span>                                                         <a href=\"file:///usr/local/lib/python3.10/dist-packages/nerfstudio/process_data/process_data_utils.py\" target=\"_blank\"><span style=\"color: #7f7f7f; text-decoration-color: #7f7f7f\">process_data_utils.py</span></a><span style=\"color: #7f7f7f; text-decoration-color: #7f7f7f\">:</span><a href=\"file:///usr/local/lib/python3.10/dist-packages/nerfstudio/process_data/process_data_utils.py#266\" target=\"_blank\"><span style=\"color: #7f7f7f; text-decoration-color: #7f7f7f\">266</span></a>\n",
              "</pre>\n"
            ]
          },
          "metadata": {}
        },
        {
          "output_type": "display_data",
          "data": {
            "text/plain": [
              "\u001b[2;36m[11:18:57]\u001b[0m\u001b[2;36m \u001b[0mCopying image \u001b[1;36m150\u001b[0m of \u001b[1;36m200\u001b[0m\u001b[33m...\u001b[0m                                                         \u001b]8;id=265980;file:///usr/local/lib/python3.10/dist-packages/nerfstudio/process_data/process_data_utils.py\u001b\\\u001b[2mprocess_data_utils.py\u001b[0m\u001b]8;;\u001b\\\u001b[2m:\u001b[0m\u001b]8;id=800272;file:///usr/local/lib/python3.10/dist-packages/nerfstudio/process_data/process_data_utils.py#266\u001b\\\u001b[2m266\u001b[0m\u001b]8;;\u001b\\\n"
            ],
            "text/html": [
              "<pre style=\"white-space:pre;overflow-x:auto;line-height:normal;font-family:Menlo,'DejaVu Sans Mono',consolas,'Courier New',monospace\"><span style=\"color: #7fbfbf; text-decoration-color: #7fbfbf\">[11:18:57] </span>Copying image <span style=\"color: #008080; text-decoration-color: #008080; font-weight: bold\">150</span> of <span style=\"color: #008080; text-decoration-color: #008080; font-weight: bold\">200</span><span style=\"color: #808000; text-decoration-color: #808000\">...</span>                                                         <a href=\"file:///usr/local/lib/python3.10/dist-packages/nerfstudio/process_data/process_data_utils.py\" target=\"_blank\"><span style=\"color: #7f7f7f; text-decoration-color: #7f7f7f\">process_data_utils.py</span></a><span style=\"color: #7f7f7f; text-decoration-color: #7f7f7f\">:</span><a href=\"file:///usr/local/lib/python3.10/dist-packages/nerfstudio/process_data/process_data_utils.py#266\" target=\"_blank\"><span style=\"color: #7f7f7f; text-decoration-color: #7f7f7f\">266</span></a>\n",
              "</pre>\n"
            ]
          },
          "metadata": {}
        },
        {
          "output_type": "display_data",
          "data": {
            "text/plain": [
              "\u001b[2;36m          \u001b[0m\u001b[2;36m \u001b[0mCopying image \u001b[1;36m151\u001b[0m of \u001b[1;36m200\u001b[0m\u001b[33m...\u001b[0m                                                         \u001b]8;id=838876;file:///usr/local/lib/python3.10/dist-packages/nerfstudio/process_data/process_data_utils.py\u001b\\\u001b[2mprocess_data_utils.py\u001b[0m\u001b]8;;\u001b\\\u001b[2m:\u001b[0m\u001b]8;id=716009;file:///usr/local/lib/python3.10/dist-packages/nerfstudio/process_data/process_data_utils.py#266\u001b\\\u001b[2m266\u001b[0m\u001b]8;;\u001b\\\n"
            ],
            "text/html": [
              "<pre style=\"white-space:pre;overflow-x:auto;line-height:normal;font-family:Menlo,'DejaVu Sans Mono',consolas,'Courier New',monospace\"><span style=\"color: #7fbfbf; text-decoration-color: #7fbfbf\">           </span>Copying image <span style=\"color: #008080; text-decoration-color: #008080; font-weight: bold\">151</span> of <span style=\"color: #008080; text-decoration-color: #008080; font-weight: bold\">200</span><span style=\"color: #808000; text-decoration-color: #808000\">...</span>                                                         <a href=\"file:///usr/local/lib/python3.10/dist-packages/nerfstudio/process_data/process_data_utils.py\" target=\"_blank\"><span style=\"color: #7f7f7f; text-decoration-color: #7f7f7f\">process_data_utils.py</span></a><span style=\"color: #7f7f7f; text-decoration-color: #7f7f7f\">:</span><a href=\"file:///usr/local/lib/python3.10/dist-packages/nerfstudio/process_data/process_data_utils.py#266\" target=\"_blank\"><span style=\"color: #7f7f7f; text-decoration-color: #7f7f7f\">266</span></a>\n",
              "</pre>\n"
            ]
          },
          "metadata": {}
        },
        {
          "output_type": "display_data",
          "data": {
            "text/plain": [
              "\u001b[2;36m[11:18:58]\u001b[0m\u001b[2;36m \u001b[0mCopying image \u001b[1;36m152\u001b[0m of \u001b[1;36m200\u001b[0m\u001b[33m...\u001b[0m                                                         \u001b]8;id=483167;file:///usr/local/lib/python3.10/dist-packages/nerfstudio/process_data/process_data_utils.py\u001b\\\u001b[2mprocess_data_utils.py\u001b[0m\u001b]8;;\u001b\\\u001b[2m:\u001b[0m\u001b]8;id=361162;file:///usr/local/lib/python3.10/dist-packages/nerfstudio/process_data/process_data_utils.py#266\u001b\\\u001b[2m266\u001b[0m\u001b]8;;\u001b\\\n"
            ],
            "text/html": [
              "<pre style=\"white-space:pre;overflow-x:auto;line-height:normal;font-family:Menlo,'DejaVu Sans Mono',consolas,'Courier New',monospace\"><span style=\"color: #7fbfbf; text-decoration-color: #7fbfbf\">[11:18:58] </span>Copying image <span style=\"color: #008080; text-decoration-color: #008080; font-weight: bold\">152</span> of <span style=\"color: #008080; text-decoration-color: #008080; font-weight: bold\">200</span><span style=\"color: #808000; text-decoration-color: #808000\">...</span>                                                         <a href=\"file:///usr/local/lib/python3.10/dist-packages/nerfstudio/process_data/process_data_utils.py\" target=\"_blank\"><span style=\"color: #7f7f7f; text-decoration-color: #7f7f7f\">process_data_utils.py</span></a><span style=\"color: #7f7f7f; text-decoration-color: #7f7f7f\">:</span><a href=\"file:///usr/local/lib/python3.10/dist-packages/nerfstudio/process_data/process_data_utils.py#266\" target=\"_blank\"><span style=\"color: #7f7f7f; text-decoration-color: #7f7f7f\">266</span></a>\n",
              "</pre>\n"
            ]
          },
          "metadata": {}
        },
        {
          "output_type": "display_data",
          "data": {
            "text/plain": [
              "\u001b[2;36m          \u001b[0m\u001b[2;36m \u001b[0mCopying image \u001b[1;36m153\u001b[0m of \u001b[1;36m200\u001b[0m\u001b[33m...\u001b[0m                                                         \u001b]8;id=871760;file:///usr/local/lib/python3.10/dist-packages/nerfstudio/process_data/process_data_utils.py\u001b\\\u001b[2mprocess_data_utils.py\u001b[0m\u001b]8;;\u001b\\\u001b[2m:\u001b[0m\u001b]8;id=161997;file:///usr/local/lib/python3.10/dist-packages/nerfstudio/process_data/process_data_utils.py#266\u001b\\\u001b[2m266\u001b[0m\u001b]8;;\u001b\\\n"
            ],
            "text/html": [
              "<pre style=\"white-space:pre;overflow-x:auto;line-height:normal;font-family:Menlo,'DejaVu Sans Mono',consolas,'Courier New',monospace\"><span style=\"color: #7fbfbf; text-decoration-color: #7fbfbf\">           </span>Copying image <span style=\"color: #008080; text-decoration-color: #008080; font-weight: bold\">153</span> of <span style=\"color: #008080; text-decoration-color: #008080; font-weight: bold\">200</span><span style=\"color: #808000; text-decoration-color: #808000\">...</span>                                                         <a href=\"file:///usr/local/lib/python3.10/dist-packages/nerfstudio/process_data/process_data_utils.py\" target=\"_blank\"><span style=\"color: #7f7f7f; text-decoration-color: #7f7f7f\">process_data_utils.py</span></a><span style=\"color: #7f7f7f; text-decoration-color: #7f7f7f\">:</span><a href=\"file:///usr/local/lib/python3.10/dist-packages/nerfstudio/process_data/process_data_utils.py#266\" target=\"_blank\"><span style=\"color: #7f7f7f; text-decoration-color: #7f7f7f\">266</span></a>\n",
              "</pre>\n"
            ]
          },
          "metadata": {}
        },
        {
          "output_type": "display_data",
          "data": {
            "text/plain": [
              "\u001b[2;36m[11:18:59]\u001b[0m\u001b[2;36m \u001b[0mCopying image \u001b[1;36m154\u001b[0m of \u001b[1;36m200\u001b[0m\u001b[33m...\u001b[0m                                                         \u001b]8;id=420356;file:///usr/local/lib/python3.10/dist-packages/nerfstudio/process_data/process_data_utils.py\u001b\\\u001b[2mprocess_data_utils.py\u001b[0m\u001b]8;;\u001b\\\u001b[2m:\u001b[0m\u001b]8;id=288800;file:///usr/local/lib/python3.10/dist-packages/nerfstudio/process_data/process_data_utils.py#266\u001b\\\u001b[2m266\u001b[0m\u001b]8;;\u001b\\\n"
            ],
            "text/html": [
              "<pre style=\"white-space:pre;overflow-x:auto;line-height:normal;font-family:Menlo,'DejaVu Sans Mono',consolas,'Courier New',monospace\"><span style=\"color: #7fbfbf; text-decoration-color: #7fbfbf\">[11:18:59] </span>Copying image <span style=\"color: #008080; text-decoration-color: #008080; font-weight: bold\">154</span> of <span style=\"color: #008080; text-decoration-color: #008080; font-weight: bold\">200</span><span style=\"color: #808000; text-decoration-color: #808000\">...</span>                                                         <a href=\"file:///usr/local/lib/python3.10/dist-packages/nerfstudio/process_data/process_data_utils.py\" target=\"_blank\"><span style=\"color: #7f7f7f; text-decoration-color: #7f7f7f\">process_data_utils.py</span></a><span style=\"color: #7f7f7f; text-decoration-color: #7f7f7f\">:</span><a href=\"file:///usr/local/lib/python3.10/dist-packages/nerfstudio/process_data/process_data_utils.py#266\" target=\"_blank\"><span style=\"color: #7f7f7f; text-decoration-color: #7f7f7f\">266</span></a>\n",
              "</pre>\n"
            ]
          },
          "metadata": {}
        },
        {
          "output_type": "display_data",
          "data": {
            "text/plain": [
              "\u001b[2;36m          \u001b[0m\u001b[2;36m \u001b[0mCopying image \u001b[1;36m155\u001b[0m of \u001b[1;36m200\u001b[0m\u001b[33m...\u001b[0m                                                         \u001b]8;id=818118;file:///usr/local/lib/python3.10/dist-packages/nerfstudio/process_data/process_data_utils.py\u001b\\\u001b[2mprocess_data_utils.py\u001b[0m\u001b]8;;\u001b\\\u001b[2m:\u001b[0m\u001b]8;id=807697;file:///usr/local/lib/python3.10/dist-packages/nerfstudio/process_data/process_data_utils.py#266\u001b\\\u001b[2m266\u001b[0m\u001b]8;;\u001b\\\n"
            ],
            "text/html": [
              "<pre style=\"white-space:pre;overflow-x:auto;line-height:normal;font-family:Menlo,'DejaVu Sans Mono',consolas,'Courier New',monospace\"><span style=\"color: #7fbfbf; text-decoration-color: #7fbfbf\">           </span>Copying image <span style=\"color: #008080; text-decoration-color: #008080; font-weight: bold\">155</span> of <span style=\"color: #008080; text-decoration-color: #008080; font-weight: bold\">200</span><span style=\"color: #808000; text-decoration-color: #808000\">...</span>                                                         <a href=\"file:///usr/local/lib/python3.10/dist-packages/nerfstudio/process_data/process_data_utils.py\" target=\"_blank\"><span style=\"color: #7f7f7f; text-decoration-color: #7f7f7f\">process_data_utils.py</span></a><span style=\"color: #7f7f7f; text-decoration-color: #7f7f7f\">:</span><a href=\"file:///usr/local/lib/python3.10/dist-packages/nerfstudio/process_data/process_data_utils.py#266\" target=\"_blank\"><span style=\"color: #7f7f7f; text-decoration-color: #7f7f7f\">266</span></a>\n",
              "</pre>\n"
            ]
          },
          "metadata": {}
        },
        {
          "output_type": "display_data",
          "data": {
            "text/plain": [
              "\u001b[2;36m          \u001b[0m\u001b[2;36m \u001b[0mCopying image \u001b[1;36m156\u001b[0m of \u001b[1;36m200\u001b[0m\u001b[33m...\u001b[0m                                                         \u001b]8;id=222689;file:///usr/local/lib/python3.10/dist-packages/nerfstudio/process_data/process_data_utils.py\u001b\\\u001b[2mprocess_data_utils.py\u001b[0m\u001b]8;;\u001b\\\u001b[2m:\u001b[0m\u001b]8;id=226956;file:///usr/local/lib/python3.10/dist-packages/nerfstudio/process_data/process_data_utils.py#266\u001b\\\u001b[2m266\u001b[0m\u001b]8;;\u001b\\\n"
            ],
            "text/html": [
              "<pre style=\"white-space:pre;overflow-x:auto;line-height:normal;font-family:Menlo,'DejaVu Sans Mono',consolas,'Courier New',monospace\"><span style=\"color: #7fbfbf; text-decoration-color: #7fbfbf\">           </span>Copying image <span style=\"color: #008080; text-decoration-color: #008080; font-weight: bold\">156</span> of <span style=\"color: #008080; text-decoration-color: #008080; font-weight: bold\">200</span><span style=\"color: #808000; text-decoration-color: #808000\">...</span>                                                         <a href=\"file:///usr/local/lib/python3.10/dist-packages/nerfstudio/process_data/process_data_utils.py\" target=\"_blank\"><span style=\"color: #7f7f7f; text-decoration-color: #7f7f7f\">process_data_utils.py</span></a><span style=\"color: #7f7f7f; text-decoration-color: #7f7f7f\">:</span><a href=\"file:///usr/local/lib/python3.10/dist-packages/nerfstudio/process_data/process_data_utils.py#266\" target=\"_blank\"><span style=\"color: #7f7f7f; text-decoration-color: #7f7f7f\">266</span></a>\n",
              "</pre>\n"
            ]
          },
          "metadata": {}
        },
        {
          "output_type": "display_data",
          "data": {
            "text/plain": [
              "\u001b[2;36m[11:19:00]\u001b[0m\u001b[2;36m \u001b[0mCopying image \u001b[1;36m157\u001b[0m of \u001b[1;36m200\u001b[0m\u001b[33m...\u001b[0m                                                         \u001b]8;id=553345;file:///usr/local/lib/python3.10/dist-packages/nerfstudio/process_data/process_data_utils.py\u001b\\\u001b[2mprocess_data_utils.py\u001b[0m\u001b]8;;\u001b\\\u001b[2m:\u001b[0m\u001b]8;id=539066;file:///usr/local/lib/python3.10/dist-packages/nerfstudio/process_data/process_data_utils.py#266\u001b\\\u001b[2m266\u001b[0m\u001b]8;;\u001b\\\n"
            ],
            "text/html": [
              "<pre style=\"white-space:pre;overflow-x:auto;line-height:normal;font-family:Menlo,'DejaVu Sans Mono',consolas,'Courier New',monospace\"><span style=\"color: #7fbfbf; text-decoration-color: #7fbfbf\">[11:19:00] </span>Copying image <span style=\"color: #008080; text-decoration-color: #008080; font-weight: bold\">157</span> of <span style=\"color: #008080; text-decoration-color: #008080; font-weight: bold\">200</span><span style=\"color: #808000; text-decoration-color: #808000\">...</span>                                                         <a href=\"file:///usr/local/lib/python3.10/dist-packages/nerfstudio/process_data/process_data_utils.py\" target=\"_blank\"><span style=\"color: #7f7f7f; text-decoration-color: #7f7f7f\">process_data_utils.py</span></a><span style=\"color: #7f7f7f; text-decoration-color: #7f7f7f\">:</span><a href=\"file:///usr/local/lib/python3.10/dist-packages/nerfstudio/process_data/process_data_utils.py#266\" target=\"_blank\"><span style=\"color: #7f7f7f; text-decoration-color: #7f7f7f\">266</span></a>\n",
              "</pre>\n"
            ]
          },
          "metadata": {}
        },
        {
          "output_type": "display_data",
          "data": {
            "text/plain": [
              "\u001b[2;36m[11:19:01]\u001b[0m\u001b[2;36m \u001b[0mCopying image \u001b[1;36m158\u001b[0m of \u001b[1;36m200\u001b[0m\u001b[33m...\u001b[0m                                                         \u001b]8;id=893722;file:///usr/local/lib/python3.10/dist-packages/nerfstudio/process_data/process_data_utils.py\u001b\\\u001b[2mprocess_data_utils.py\u001b[0m\u001b]8;;\u001b\\\u001b[2m:\u001b[0m\u001b]8;id=483815;file:///usr/local/lib/python3.10/dist-packages/nerfstudio/process_data/process_data_utils.py#266\u001b\\\u001b[2m266\u001b[0m\u001b]8;;\u001b\\\n"
            ],
            "text/html": [
              "<pre style=\"white-space:pre;overflow-x:auto;line-height:normal;font-family:Menlo,'DejaVu Sans Mono',consolas,'Courier New',monospace\"><span style=\"color: #7fbfbf; text-decoration-color: #7fbfbf\">[11:19:01] </span>Copying image <span style=\"color: #008080; text-decoration-color: #008080; font-weight: bold\">158</span> of <span style=\"color: #008080; text-decoration-color: #008080; font-weight: bold\">200</span><span style=\"color: #808000; text-decoration-color: #808000\">...</span>                                                         <a href=\"file:///usr/local/lib/python3.10/dist-packages/nerfstudio/process_data/process_data_utils.py\" target=\"_blank\"><span style=\"color: #7f7f7f; text-decoration-color: #7f7f7f\">process_data_utils.py</span></a><span style=\"color: #7f7f7f; text-decoration-color: #7f7f7f\">:</span><a href=\"file:///usr/local/lib/python3.10/dist-packages/nerfstudio/process_data/process_data_utils.py#266\" target=\"_blank\"><span style=\"color: #7f7f7f; text-decoration-color: #7f7f7f\">266</span></a>\n",
              "</pre>\n"
            ]
          },
          "metadata": {}
        },
        {
          "output_type": "display_data",
          "data": {
            "text/plain": [
              "\u001b[2;36m          \u001b[0m\u001b[2;36m \u001b[0mCopying image \u001b[1;36m159\u001b[0m of \u001b[1;36m200\u001b[0m\u001b[33m...\u001b[0m                                                         \u001b]8;id=185981;file:///usr/local/lib/python3.10/dist-packages/nerfstudio/process_data/process_data_utils.py\u001b\\\u001b[2mprocess_data_utils.py\u001b[0m\u001b]8;;\u001b\\\u001b[2m:\u001b[0m\u001b]8;id=124484;file:///usr/local/lib/python3.10/dist-packages/nerfstudio/process_data/process_data_utils.py#266\u001b\\\u001b[2m266\u001b[0m\u001b]8;;\u001b\\\n"
            ],
            "text/html": [
              "<pre style=\"white-space:pre;overflow-x:auto;line-height:normal;font-family:Menlo,'DejaVu Sans Mono',consolas,'Courier New',monospace\"><span style=\"color: #7fbfbf; text-decoration-color: #7fbfbf\">           </span>Copying image <span style=\"color: #008080; text-decoration-color: #008080; font-weight: bold\">159</span> of <span style=\"color: #008080; text-decoration-color: #008080; font-weight: bold\">200</span><span style=\"color: #808000; text-decoration-color: #808000\">...</span>                                                         <a href=\"file:///usr/local/lib/python3.10/dist-packages/nerfstudio/process_data/process_data_utils.py\" target=\"_blank\"><span style=\"color: #7f7f7f; text-decoration-color: #7f7f7f\">process_data_utils.py</span></a><span style=\"color: #7f7f7f; text-decoration-color: #7f7f7f\">:</span><a href=\"file:///usr/local/lib/python3.10/dist-packages/nerfstudio/process_data/process_data_utils.py#266\" target=\"_blank\"><span style=\"color: #7f7f7f; text-decoration-color: #7f7f7f\">266</span></a>\n",
              "</pre>\n"
            ]
          },
          "metadata": {}
        },
        {
          "output_type": "display_data",
          "data": {
            "text/plain": [
              "\u001b[2;36m[11:19:02]\u001b[0m\u001b[2;36m \u001b[0mCopying image \u001b[1;36m160\u001b[0m of \u001b[1;36m200\u001b[0m\u001b[33m...\u001b[0m                                                         \u001b]8;id=136590;file:///usr/local/lib/python3.10/dist-packages/nerfstudio/process_data/process_data_utils.py\u001b\\\u001b[2mprocess_data_utils.py\u001b[0m\u001b]8;;\u001b\\\u001b[2m:\u001b[0m\u001b]8;id=988421;file:///usr/local/lib/python3.10/dist-packages/nerfstudio/process_data/process_data_utils.py#266\u001b\\\u001b[2m266\u001b[0m\u001b]8;;\u001b\\\n"
            ],
            "text/html": [
              "<pre style=\"white-space:pre;overflow-x:auto;line-height:normal;font-family:Menlo,'DejaVu Sans Mono',consolas,'Courier New',monospace\"><span style=\"color: #7fbfbf; text-decoration-color: #7fbfbf\">[11:19:02] </span>Copying image <span style=\"color: #008080; text-decoration-color: #008080; font-weight: bold\">160</span> of <span style=\"color: #008080; text-decoration-color: #008080; font-weight: bold\">200</span><span style=\"color: #808000; text-decoration-color: #808000\">...</span>                                                         <a href=\"file:///usr/local/lib/python3.10/dist-packages/nerfstudio/process_data/process_data_utils.py\" target=\"_blank\"><span style=\"color: #7f7f7f; text-decoration-color: #7f7f7f\">process_data_utils.py</span></a><span style=\"color: #7f7f7f; text-decoration-color: #7f7f7f\">:</span><a href=\"file:///usr/local/lib/python3.10/dist-packages/nerfstudio/process_data/process_data_utils.py#266\" target=\"_blank\"><span style=\"color: #7f7f7f; text-decoration-color: #7f7f7f\">266</span></a>\n",
              "</pre>\n"
            ]
          },
          "metadata": {}
        },
        {
          "output_type": "display_data",
          "data": {
            "text/plain": [
              "\u001b[2;36m          \u001b[0m\u001b[2;36m \u001b[0mCopying image \u001b[1;36m161\u001b[0m of \u001b[1;36m200\u001b[0m\u001b[33m...\u001b[0m                                                         \u001b]8;id=733593;file:///usr/local/lib/python3.10/dist-packages/nerfstudio/process_data/process_data_utils.py\u001b\\\u001b[2mprocess_data_utils.py\u001b[0m\u001b]8;;\u001b\\\u001b[2m:\u001b[0m\u001b]8;id=728275;file:///usr/local/lib/python3.10/dist-packages/nerfstudio/process_data/process_data_utils.py#266\u001b\\\u001b[2m266\u001b[0m\u001b]8;;\u001b\\\n"
            ],
            "text/html": [
              "<pre style=\"white-space:pre;overflow-x:auto;line-height:normal;font-family:Menlo,'DejaVu Sans Mono',consolas,'Courier New',monospace\"><span style=\"color: #7fbfbf; text-decoration-color: #7fbfbf\">           </span>Copying image <span style=\"color: #008080; text-decoration-color: #008080; font-weight: bold\">161</span> of <span style=\"color: #008080; text-decoration-color: #008080; font-weight: bold\">200</span><span style=\"color: #808000; text-decoration-color: #808000\">...</span>                                                         <a href=\"file:///usr/local/lib/python3.10/dist-packages/nerfstudio/process_data/process_data_utils.py\" target=\"_blank\"><span style=\"color: #7f7f7f; text-decoration-color: #7f7f7f\">process_data_utils.py</span></a><span style=\"color: #7f7f7f; text-decoration-color: #7f7f7f\">:</span><a href=\"file:///usr/local/lib/python3.10/dist-packages/nerfstudio/process_data/process_data_utils.py#266\" target=\"_blank\"><span style=\"color: #7f7f7f; text-decoration-color: #7f7f7f\">266</span></a>\n",
              "</pre>\n"
            ]
          },
          "metadata": {}
        },
        {
          "output_type": "display_data",
          "data": {
            "text/plain": [
              "\u001b[2;36m[11:19:03]\u001b[0m\u001b[2;36m \u001b[0mCopying image \u001b[1;36m162\u001b[0m of \u001b[1;36m200\u001b[0m\u001b[33m...\u001b[0m                                                         \u001b]8;id=127830;file:///usr/local/lib/python3.10/dist-packages/nerfstudio/process_data/process_data_utils.py\u001b\\\u001b[2mprocess_data_utils.py\u001b[0m\u001b]8;;\u001b\\\u001b[2m:\u001b[0m\u001b]8;id=347331;file:///usr/local/lib/python3.10/dist-packages/nerfstudio/process_data/process_data_utils.py#266\u001b\\\u001b[2m266\u001b[0m\u001b]8;;\u001b\\\n"
            ],
            "text/html": [
              "<pre style=\"white-space:pre;overflow-x:auto;line-height:normal;font-family:Menlo,'DejaVu Sans Mono',consolas,'Courier New',monospace\"><span style=\"color: #7fbfbf; text-decoration-color: #7fbfbf\">[11:19:03] </span>Copying image <span style=\"color: #008080; text-decoration-color: #008080; font-weight: bold\">162</span> of <span style=\"color: #008080; text-decoration-color: #008080; font-weight: bold\">200</span><span style=\"color: #808000; text-decoration-color: #808000\">...</span>                                                         <a href=\"file:///usr/local/lib/python3.10/dist-packages/nerfstudio/process_data/process_data_utils.py\" target=\"_blank\"><span style=\"color: #7f7f7f; text-decoration-color: #7f7f7f\">process_data_utils.py</span></a><span style=\"color: #7f7f7f; text-decoration-color: #7f7f7f\">:</span><a href=\"file:///usr/local/lib/python3.10/dist-packages/nerfstudio/process_data/process_data_utils.py#266\" target=\"_blank\"><span style=\"color: #7f7f7f; text-decoration-color: #7f7f7f\">266</span></a>\n",
              "</pre>\n"
            ]
          },
          "metadata": {}
        },
        {
          "output_type": "display_data",
          "data": {
            "text/plain": [
              "\u001b[2;36m          \u001b[0m\u001b[2;36m \u001b[0mCopying image \u001b[1;36m163\u001b[0m of \u001b[1;36m200\u001b[0m\u001b[33m...\u001b[0m                                                         \u001b]8;id=674921;file:///usr/local/lib/python3.10/dist-packages/nerfstudio/process_data/process_data_utils.py\u001b\\\u001b[2mprocess_data_utils.py\u001b[0m\u001b]8;;\u001b\\\u001b[2m:\u001b[0m\u001b]8;id=568582;file:///usr/local/lib/python3.10/dist-packages/nerfstudio/process_data/process_data_utils.py#266\u001b\\\u001b[2m266\u001b[0m\u001b]8;;\u001b\\\n"
            ],
            "text/html": [
              "<pre style=\"white-space:pre;overflow-x:auto;line-height:normal;font-family:Menlo,'DejaVu Sans Mono',consolas,'Courier New',monospace\"><span style=\"color: #7fbfbf; text-decoration-color: #7fbfbf\">           </span>Copying image <span style=\"color: #008080; text-decoration-color: #008080; font-weight: bold\">163</span> of <span style=\"color: #008080; text-decoration-color: #008080; font-weight: bold\">200</span><span style=\"color: #808000; text-decoration-color: #808000\">...</span>                                                         <a href=\"file:///usr/local/lib/python3.10/dist-packages/nerfstudio/process_data/process_data_utils.py\" target=\"_blank\"><span style=\"color: #7f7f7f; text-decoration-color: #7f7f7f\">process_data_utils.py</span></a><span style=\"color: #7f7f7f; text-decoration-color: #7f7f7f\">:</span><a href=\"file:///usr/local/lib/python3.10/dist-packages/nerfstudio/process_data/process_data_utils.py#266\" target=\"_blank\"><span style=\"color: #7f7f7f; text-decoration-color: #7f7f7f\">266</span></a>\n",
              "</pre>\n"
            ]
          },
          "metadata": {}
        },
        {
          "output_type": "display_data",
          "data": {
            "text/plain": [
              "\u001b[2;36m[11:19:04]\u001b[0m\u001b[2;36m \u001b[0mCopying image \u001b[1;36m164\u001b[0m of \u001b[1;36m200\u001b[0m\u001b[33m...\u001b[0m                                                         \u001b]8;id=334118;file:///usr/local/lib/python3.10/dist-packages/nerfstudio/process_data/process_data_utils.py\u001b\\\u001b[2mprocess_data_utils.py\u001b[0m\u001b]8;;\u001b\\\u001b[2m:\u001b[0m\u001b]8;id=125594;file:///usr/local/lib/python3.10/dist-packages/nerfstudio/process_data/process_data_utils.py#266\u001b\\\u001b[2m266\u001b[0m\u001b]8;;\u001b\\\n"
            ],
            "text/html": [
              "<pre style=\"white-space:pre;overflow-x:auto;line-height:normal;font-family:Menlo,'DejaVu Sans Mono',consolas,'Courier New',monospace\"><span style=\"color: #7fbfbf; text-decoration-color: #7fbfbf\">[11:19:04] </span>Copying image <span style=\"color: #008080; text-decoration-color: #008080; font-weight: bold\">164</span> of <span style=\"color: #008080; text-decoration-color: #008080; font-weight: bold\">200</span><span style=\"color: #808000; text-decoration-color: #808000\">...</span>                                                         <a href=\"file:///usr/local/lib/python3.10/dist-packages/nerfstudio/process_data/process_data_utils.py\" target=\"_blank\"><span style=\"color: #7f7f7f; text-decoration-color: #7f7f7f\">process_data_utils.py</span></a><span style=\"color: #7f7f7f; text-decoration-color: #7f7f7f\">:</span><a href=\"file:///usr/local/lib/python3.10/dist-packages/nerfstudio/process_data/process_data_utils.py#266\" target=\"_blank\"><span style=\"color: #7f7f7f; text-decoration-color: #7f7f7f\">266</span></a>\n",
              "</pre>\n"
            ]
          },
          "metadata": {}
        },
        {
          "output_type": "display_data",
          "data": {
            "text/plain": [
              "\u001b[2;36m          \u001b[0m\u001b[2;36m \u001b[0mCopying image \u001b[1;36m165\u001b[0m of \u001b[1;36m200\u001b[0m\u001b[33m...\u001b[0m                                                         \u001b]8;id=251976;file:///usr/local/lib/python3.10/dist-packages/nerfstudio/process_data/process_data_utils.py\u001b\\\u001b[2mprocess_data_utils.py\u001b[0m\u001b]8;;\u001b\\\u001b[2m:\u001b[0m\u001b]8;id=29941;file:///usr/local/lib/python3.10/dist-packages/nerfstudio/process_data/process_data_utils.py#266\u001b\\\u001b[2m266\u001b[0m\u001b]8;;\u001b\\\n"
            ],
            "text/html": [
              "<pre style=\"white-space:pre;overflow-x:auto;line-height:normal;font-family:Menlo,'DejaVu Sans Mono',consolas,'Courier New',monospace\"><span style=\"color: #7fbfbf; text-decoration-color: #7fbfbf\">           </span>Copying image <span style=\"color: #008080; text-decoration-color: #008080; font-weight: bold\">165</span> of <span style=\"color: #008080; text-decoration-color: #008080; font-weight: bold\">200</span><span style=\"color: #808000; text-decoration-color: #808000\">...</span>                                                         <a href=\"file:///usr/local/lib/python3.10/dist-packages/nerfstudio/process_data/process_data_utils.py\" target=\"_blank\"><span style=\"color: #7f7f7f; text-decoration-color: #7f7f7f\">process_data_utils.py</span></a><span style=\"color: #7f7f7f; text-decoration-color: #7f7f7f\">:</span><a href=\"file:///usr/local/lib/python3.10/dist-packages/nerfstudio/process_data/process_data_utils.py#266\" target=\"_blank\"><span style=\"color: #7f7f7f; text-decoration-color: #7f7f7f\">266</span></a>\n",
              "</pre>\n"
            ]
          },
          "metadata": {}
        },
        {
          "output_type": "display_data",
          "data": {
            "text/plain": [
              "\u001b[2;36m[11:19:05]\u001b[0m\u001b[2;36m \u001b[0mCopying image \u001b[1;36m166\u001b[0m of \u001b[1;36m200\u001b[0m\u001b[33m...\u001b[0m                                                         \u001b]8;id=901452;file:///usr/local/lib/python3.10/dist-packages/nerfstudio/process_data/process_data_utils.py\u001b\\\u001b[2mprocess_data_utils.py\u001b[0m\u001b]8;;\u001b\\\u001b[2m:\u001b[0m\u001b]8;id=566232;file:///usr/local/lib/python3.10/dist-packages/nerfstudio/process_data/process_data_utils.py#266\u001b\\\u001b[2m266\u001b[0m\u001b]8;;\u001b\\\n"
            ],
            "text/html": [
              "<pre style=\"white-space:pre;overflow-x:auto;line-height:normal;font-family:Menlo,'DejaVu Sans Mono',consolas,'Courier New',monospace\"><span style=\"color: #7fbfbf; text-decoration-color: #7fbfbf\">[11:19:05] </span>Copying image <span style=\"color: #008080; text-decoration-color: #008080; font-weight: bold\">166</span> of <span style=\"color: #008080; text-decoration-color: #008080; font-weight: bold\">200</span><span style=\"color: #808000; text-decoration-color: #808000\">...</span>                                                         <a href=\"file:///usr/local/lib/python3.10/dist-packages/nerfstudio/process_data/process_data_utils.py\" target=\"_blank\"><span style=\"color: #7f7f7f; text-decoration-color: #7f7f7f\">process_data_utils.py</span></a><span style=\"color: #7f7f7f; text-decoration-color: #7f7f7f\">:</span><a href=\"file:///usr/local/lib/python3.10/dist-packages/nerfstudio/process_data/process_data_utils.py#266\" target=\"_blank\"><span style=\"color: #7f7f7f; text-decoration-color: #7f7f7f\">266</span></a>\n",
              "</pre>\n"
            ]
          },
          "metadata": {}
        },
        {
          "output_type": "display_data",
          "data": {
            "text/plain": [
              "\u001b[2;36m          \u001b[0m\u001b[2;36m \u001b[0mCopying image \u001b[1;36m167\u001b[0m of \u001b[1;36m200\u001b[0m\u001b[33m...\u001b[0m                                                         \u001b]8;id=767737;file:///usr/local/lib/python3.10/dist-packages/nerfstudio/process_data/process_data_utils.py\u001b\\\u001b[2mprocess_data_utils.py\u001b[0m\u001b]8;;\u001b\\\u001b[2m:\u001b[0m\u001b]8;id=415982;file:///usr/local/lib/python3.10/dist-packages/nerfstudio/process_data/process_data_utils.py#266\u001b\\\u001b[2m266\u001b[0m\u001b]8;;\u001b\\\n"
            ],
            "text/html": [
              "<pre style=\"white-space:pre;overflow-x:auto;line-height:normal;font-family:Menlo,'DejaVu Sans Mono',consolas,'Courier New',monospace\"><span style=\"color: #7fbfbf; text-decoration-color: #7fbfbf\">           </span>Copying image <span style=\"color: #008080; text-decoration-color: #008080; font-weight: bold\">167</span> of <span style=\"color: #008080; text-decoration-color: #008080; font-weight: bold\">200</span><span style=\"color: #808000; text-decoration-color: #808000\">...</span>                                                         <a href=\"file:///usr/local/lib/python3.10/dist-packages/nerfstudio/process_data/process_data_utils.py\" target=\"_blank\"><span style=\"color: #7f7f7f; text-decoration-color: #7f7f7f\">process_data_utils.py</span></a><span style=\"color: #7f7f7f; text-decoration-color: #7f7f7f\">:</span><a href=\"file:///usr/local/lib/python3.10/dist-packages/nerfstudio/process_data/process_data_utils.py#266\" target=\"_blank\"><span style=\"color: #7f7f7f; text-decoration-color: #7f7f7f\">266</span></a>\n",
              "</pre>\n"
            ]
          },
          "metadata": {}
        },
        {
          "output_type": "display_data",
          "data": {
            "text/plain": [
              "\u001b[2;36m          \u001b[0m\u001b[2;36m \u001b[0mCopying image \u001b[1;36m168\u001b[0m of \u001b[1;36m200\u001b[0m\u001b[33m...\u001b[0m                                                         \u001b]8;id=521613;file:///usr/local/lib/python3.10/dist-packages/nerfstudio/process_data/process_data_utils.py\u001b\\\u001b[2mprocess_data_utils.py\u001b[0m\u001b]8;;\u001b\\\u001b[2m:\u001b[0m\u001b]8;id=695376;file:///usr/local/lib/python3.10/dist-packages/nerfstudio/process_data/process_data_utils.py#266\u001b\\\u001b[2m266\u001b[0m\u001b]8;;\u001b\\\n"
            ],
            "text/html": [
              "<pre style=\"white-space:pre;overflow-x:auto;line-height:normal;font-family:Menlo,'DejaVu Sans Mono',consolas,'Courier New',monospace\"><span style=\"color: #7fbfbf; text-decoration-color: #7fbfbf\">           </span>Copying image <span style=\"color: #008080; text-decoration-color: #008080; font-weight: bold\">168</span> of <span style=\"color: #008080; text-decoration-color: #008080; font-weight: bold\">200</span><span style=\"color: #808000; text-decoration-color: #808000\">...</span>                                                         <a href=\"file:///usr/local/lib/python3.10/dist-packages/nerfstudio/process_data/process_data_utils.py\" target=\"_blank\"><span style=\"color: #7f7f7f; text-decoration-color: #7f7f7f\">process_data_utils.py</span></a><span style=\"color: #7f7f7f; text-decoration-color: #7f7f7f\">:</span><a href=\"file:///usr/local/lib/python3.10/dist-packages/nerfstudio/process_data/process_data_utils.py#266\" target=\"_blank\"><span style=\"color: #7f7f7f; text-decoration-color: #7f7f7f\">266</span></a>\n",
              "</pre>\n"
            ]
          },
          "metadata": {}
        },
        {
          "output_type": "display_data",
          "data": {
            "text/plain": [
              "\u001b[2;36m[11:19:06]\u001b[0m\u001b[2;36m \u001b[0mCopying image \u001b[1;36m169\u001b[0m of \u001b[1;36m200\u001b[0m\u001b[33m...\u001b[0m                                                         \u001b]8;id=765354;file:///usr/local/lib/python3.10/dist-packages/nerfstudio/process_data/process_data_utils.py\u001b\\\u001b[2mprocess_data_utils.py\u001b[0m\u001b]8;;\u001b\\\u001b[2m:\u001b[0m\u001b]8;id=547533;file:///usr/local/lib/python3.10/dist-packages/nerfstudio/process_data/process_data_utils.py#266\u001b\\\u001b[2m266\u001b[0m\u001b]8;;\u001b\\\n"
            ],
            "text/html": [
              "<pre style=\"white-space:pre;overflow-x:auto;line-height:normal;font-family:Menlo,'DejaVu Sans Mono',consolas,'Courier New',monospace\"><span style=\"color: #7fbfbf; text-decoration-color: #7fbfbf\">[11:19:06] </span>Copying image <span style=\"color: #008080; text-decoration-color: #008080; font-weight: bold\">169</span> of <span style=\"color: #008080; text-decoration-color: #008080; font-weight: bold\">200</span><span style=\"color: #808000; text-decoration-color: #808000\">...</span>                                                         <a href=\"file:///usr/local/lib/python3.10/dist-packages/nerfstudio/process_data/process_data_utils.py\" target=\"_blank\"><span style=\"color: #7f7f7f; text-decoration-color: #7f7f7f\">process_data_utils.py</span></a><span style=\"color: #7f7f7f; text-decoration-color: #7f7f7f\">:</span><a href=\"file:///usr/local/lib/python3.10/dist-packages/nerfstudio/process_data/process_data_utils.py#266\" target=\"_blank\"><span style=\"color: #7f7f7f; text-decoration-color: #7f7f7f\">266</span></a>\n",
              "</pre>\n"
            ]
          },
          "metadata": {}
        },
        {
          "output_type": "display_data",
          "data": {
            "text/plain": [
              "\u001b[2;36m          \u001b[0m\u001b[2;36m \u001b[0mCopying image \u001b[1;36m170\u001b[0m of \u001b[1;36m200\u001b[0m\u001b[33m...\u001b[0m                                                         \u001b]8;id=407408;file:///usr/local/lib/python3.10/dist-packages/nerfstudio/process_data/process_data_utils.py\u001b\\\u001b[2mprocess_data_utils.py\u001b[0m\u001b]8;;\u001b\\\u001b[2m:\u001b[0m\u001b]8;id=554776;file:///usr/local/lib/python3.10/dist-packages/nerfstudio/process_data/process_data_utils.py#266\u001b\\\u001b[2m266\u001b[0m\u001b]8;;\u001b\\\n"
            ],
            "text/html": [
              "<pre style=\"white-space:pre;overflow-x:auto;line-height:normal;font-family:Menlo,'DejaVu Sans Mono',consolas,'Courier New',monospace\"><span style=\"color: #7fbfbf; text-decoration-color: #7fbfbf\">           </span>Copying image <span style=\"color: #008080; text-decoration-color: #008080; font-weight: bold\">170</span> of <span style=\"color: #008080; text-decoration-color: #008080; font-weight: bold\">200</span><span style=\"color: #808000; text-decoration-color: #808000\">...</span>                                                         <a href=\"file:///usr/local/lib/python3.10/dist-packages/nerfstudio/process_data/process_data_utils.py\" target=\"_blank\"><span style=\"color: #7f7f7f; text-decoration-color: #7f7f7f\">process_data_utils.py</span></a><span style=\"color: #7f7f7f; text-decoration-color: #7f7f7f\">:</span><a href=\"file:///usr/local/lib/python3.10/dist-packages/nerfstudio/process_data/process_data_utils.py#266\" target=\"_blank\"><span style=\"color: #7f7f7f; text-decoration-color: #7f7f7f\">266</span></a>\n",
              "</pre>\n"
            ]
          },
          "metadata": {}
        },
        {
          "output_type": "display_data",
          "data": {
            "text/plain": [
              "\u001b[2;36m[11:19:07]\u001b[0m\u001b[2;36m \u001b[0mCopying image \u001b[1;36m171\u001b[0m of \u001b[1;36m200\u001b[0m\u001b[33m...\u001b[0m                                                         \u001b]8;id=41829;file:///usr/local/lib/python3.10/dist-packages/nerfstudio/process_data/process_data_utils.py\u001b\\\u001b[2mprocess_data_utils.py\u001b[0m\u001b]8;;\u001b\\\u001b[2m:\u001b[0m\u001b]8;id=576686;file:///usr/local/lib/python3.10/dist-packages/nerfstudio/process_data/process_data_utils.py#266\u001b\\\u001b[2m266\u001b[0m\u001b]8;;\u001b\\\n"
            ],
            "text/html": [
              "<pre style=\"white-space:pre;overflow-x:auto;line-height:normal;font-family:Menlo,'DejaVu Sans Mono',consolas,'Courier New',monospace\"><span style=\"color: #7fbfbf; text-decoration-color: #7fbfbf\">[11:19:07] </span>Copying image <span style=\"color: #008080; text-decoration-color: #008080; font-weight: bold\">171</span> of <span style=\"color: #008080; text-decoration-color: #008080; font-weight: bold\">200</span><span style=\"color: #808000; text-decoration-color: #808000\">...</span>                                                         <a href=\"file:///usr/local/lib/python3.10/dist-packages/nerfstudio/process_data/process_data_utils.py\" target=\"_blank\"><span style=\"color: #7f7f7f; text-decoration-color: #7f7f7f\">process_data_utils.py</span></a><span style=\"color: #7f7f7f; text-decoration-color: #7f7f7f\">:</span><a href=\"file:///usr/local/lib/python3.10/dist-packages/nerfstudio/process_data/process_data_utils.py#266\" target=\"_blank\"><span style=\"color: #7f7f7f; text-decoration-color: #7f7f7f\">266</span></a>\n",
              "</pre>\n"
            ]
          },
          "metadata": {}
        },
        {
          "output_type": "display_data",
          "data": {
            "text/plain": [
              "\u001b[2;36m          \u001b[0m\u001b[2;36m \u001b[0mCopying image \u001b[1;36m172\u001b[0m of \u001b[1;36m200\u001b[0m\u001b[33m...\u001b[0m                                                         \u001b]8;id=203084;file:///usr/local/lib/python3.10/dist-packages/nerfstudio/process_data/process_data_utils.py\u001b\\\u001b[2mprocess_data_utils.py\u001b[0m\u001b]8;;\u001b\\\u001b[2m:\u001b[0m\u001b]8;id=950799;file:///usr/local/lib/python3.10/dist-packages/nerfstudio/process_data/process_data_utils.py#266\u001b\\\u001b[2m266\u001b[0m\u001b]8;;\u001b\\\n"
            ],
            "text/html": [
              "<pre style=\"white-space:pre;overflow-x:auto;line-height:normal;font-family:Menlo,'DejaVu Sans Mono',consolas,'Courier New',monospace\"><span style=\"color: #7fbfbf; text-decoration-color: #7fbfbf\">           </span>Copying image <span style=\"color: #008080; text-decoration-color: #008080; font-weight: bold\">172</span> of <span style=\"color: #008080; text-decoration-color: #008080; font-weight: bold\">200</span><span style=\"color: #808000; text-decoration-color: #808000\">...</span>                                                         <a href=\"file:///usr/local/lib/python3.10/dist-packages/nerfstudio/process_data/process_data_utils.py\" target=\"_blank\"><span style=\"color: #7f7f7f; text-decoration-color: #7f7f7f\">process_data_utils.py</span></a><span style=\"color: #7f7f7f; text-decoration-color: #7f7f7f\">:</span><a href=\"file:///usr/local/lib/python3.10/dist-packages/nerfstudio/process_data/process_data_utils.py#266\" target=\"_blank\"><span style=\"color: #7f7f7f; text-decoration-color: #7f7f7f\">266</span></a>\n",
              "</pre>\n"
            ]
          },
          "metadata": {}
        },
        {
          "output_type": "display_data",
          "data": {
            "text/plain": [
              "\u001b[2;36m[11:19:08]\u001b[0m\u001b[2;36m \u001b[0mCopying image \u001b[1;36m173\u001b[0m of \u001b[1;36m200\u001b[0m\u001b[33m...\u001b[0m                                                         \u001b]8;id=822617;file:///usr/local/lib/python3.10/dist-packages/nerfstudio/process_data/process_data_utils.py\u001b\\\u001b[2mprocess_data_utils.py\u001b[0m\u001b]8;;\u001b\\\u001b[2m:\u001b[0m\u001b]8;id=610515;file:///usr/local/lib/python3.10/dist-packages/nerfstudio/process_data/process_data_utils.py#266\u001b\\\u001b[2m266\u001b[0m\u001b]8;;\u001b\\\n"
            ],
            "text/html": [
              "<pre style=\"white-space:pre;overflow-x:auto;line-height:normal;font-family:Menlo,'DejaVu Sans Mono',consolas,'Courier New',monospace\"><span style=\"color: #7fbfbf; text-decoration-color: #7fbfbf\">[11:19:08] </span>Copying image <span style=\"color: #008080; text-decoration-color: #008080; font-weight: bold\">173</span> of <span style=\"color: #008080; text-decoration-color: #008080; font-weight: bold\">200</span><span style=\"color: #808000; text-decoration-color: #808000\">...</span>                                                         <a href=\"file:///usr/local/lib/python3.10/dist-packages/nerfstudio/process_data/process_data_utils.py\" target=\"_blank\"><span style=\"color: #7f7f7f; text-decoration-color: #7f7f7f\">process_data_utils.py</span></a><span style=\"color: #7f7f7f; text-decoration-color: #7f7f7f\">:</span><a href=\"file:///usr/local/lib/python3.10/dist-packages/nerfstudio/process_data/process_data_utils.py#266\" target=\"_blank\"><span style=\"color: #7f7f7f; text-decoration-color: #7f7f7f\">266</span></a>\n",
              "</pre>\n"
            ]
          },
          "metadata": {}
        },
        {
          "output_type": "display_data",
          "data": {
            "text/plain": [
              "\u001b[2;36m          \u001b[0m\u001b[2;36m \u001b[0mCopying image \u001b[1;36m174\u001b[0m of \u001b[1;36m200\u001b[0m\u001b[33m...\u001b[0m                                                         \u001b]8;id=5328;file:///usr/local/lib/python3.10/dist-packages/nerfstudio/process_data/process_data_utils.py\u001b\\\u001b[2mprocess_data_utils.py\u001b[0m\u001b]8;;\u001b\\\u001b[2m:\u001b[0m\u001b]8;id=806678;file:///usr/local/lib/python3.10/dist-packages/nerfstudio/process_data/process_data_utils.py#266\u001b\\\u001b[2m266\u001b[0m\u001b]8;;\u001b\\\n"
            ],
            "text/html": [
              "<pre style=\"white-space:pre;overflow-x:auto;line-height:normal;font-family:Menlo,'DejaVu Sans Mono',consolas,'Courier New',monospace\"><span style=\"color: #7fbfbf; text-decoration-color: #7fbfbf\">           </span>Copying image <span style=\"color: #008080; text-decoration-color: #008080; font-weight: bold\">174</span> of <span style=\"color: #008080; text-decoration-color: #008080; font-weight: bold\">200</span><span style=\"color: #808000; text-decoration-color: #808000\">...</span>                                                         <a href=\"file:///usr/local/lib/python3.10/dist-packages/nerfstudio/process_data/process_data_utils.py\" target=\"_blank\"><span style=\"color: #7f7f7f; text-decoration-color: #7f7f7f\">process_data_utils.py</span></a><span style=\"color: #7f7f7f; text-decoration-color: #7f7f7f\">:</span><a href=\"file:///usr/local/lib/python3.10/dist-packages/nerfstudio/process_data/process_data_utils.py#266\" target=\"_blank\"><span style=\"color: #7f7f7f; text-decoration-color: #7f7f7f\">266</span></a>\n",
              "</pre>\n"
            ]
          },
          "metadata": {}
        },
        {
          "output_type": "display_data",
          "data": {
            "text/plain": [
              "\u001b[2;36m[11:19:09]\u001b[0m\u001b[2;36m \u001b[0mCopying image \u001b[1;36m175\u001b[0m of \u001b[1;36m200\u001b[0m\u001b[33m...\u001b[0m                                                         \u001b]8;id=283811;file:///usr/local/lib/python3.10/dist-packages/nerfstudio/process_data/process_data_utils.py\u001b\\\u001b[2mprocess_data_utils.py\u001b[0m\u001b]8;;\u001b\\\u001b[2m:\u001b[0m\u001b]8;id=895033;file:///usr/local/lib/python3.10/dist-packages/nerfstudio/process_data/process_data_utils.py#266\u001b\\\u001b[2m266\u001b[0m\u001b]8;;\u001b\\\n"
            ],
            "text/html": [
              "<pre style=\"white-space:pre;overflow-x:auto;line-height:normal;font-family:Menlo,'DejaVu Sans Mono',consolas,'Courier New',monospace\"><span style=\"color: #7fbfbf; text-decoration-color: #7fbfbf\">[11:19:09] </span>Copying image <span style=\"color: #008080; text-decoration-color: #008080; font-weight: bold\">175</span> of <span style=\"color: #008080; text-decoration-color: #008080; font-weight: bold\">200</span><span style=\"color: #808000; text-decoration-color: #808000\">...</span>                                                         <a href=\"file:///usr/local/lib/python3.10/dist-packages/nerfstudio/process_data/process_data_utils.py\" target=\"_blank\"><span style=\"color: #7f7f7f; text-decoration-color: #7f7f7f\">process_data_utils.py</span></a><span style=\"color: #7f7f7f; text-decoration-color: #7f7f7f\">:</span><a href=\"file:///usr/local/lib/python3.10/dist-packages/nerfstudio/process_data/process_data_utils.py#266\" target=\"_blank\"><span style=\"color: #7f7f7f; text-decoration-color: #7f7f7f\">266</span></a>\n",
              "</pre>\n"
            ]
          },
          "metadata": {}
        },
        {
          "output_type": "display_data",
          "data": {
            "text/plain": [
              "\u001b[2;36m          \u001b[0m\u001b[2;36m \u001b[0mCopying image \u001b[1;36m176\u001b[0m of \u001b[1;36m200\u001b[0m\u001b[33m...\u001b[0m                                                         \u001b]8;id=237330;file:///usr/local/lib/python3.10/dist-packages/nerfstudio/process_data/process_data_utils.py\u001b\\\u001b[2mprocess_data_utils.py\u001b[0m\u001b]8;;\u001b\\\u001b[2m:\u001b[0m\u001b]8;id=44755;file:///usr/local/lib/python3.10/dist-packages/nerfstudio/process_data/process_data_utils.py#266\u001b\\\u001b[2m266\u001b[0m\u001b]8;;\u001b\\\n"
            ],
            "text/html": [
              "<pre style=\"white-space:pre;overflow-x:auto;line-height:normal;font-family:Menlo,'DejaVu Sans Mono',consolas,'Courier New',monospace\"><span style=\"color: #7fbfbf; text-decoration-color: #7fbfbf\">           </span>Copying image <span style=\"color: #008080; text-decoration-color: #008080; font-weight: bold\">176</span> of <span style=\"color: #008080; text-decoration-color: #008080; font-weight: bold\">200</span><span style=\"color: #808000; text-decoration-color: #808000\">...</span>                                                         <a href=\"file:///usr/local/lib/python3.10/dist-packages/nerfstudio/process_data/process_data_utils.py\" target=\"_blank\"><span style=\"color: #7f7f7f; text-decoration-color: #7f7f7f\">process_data_utils.py</span></a><span style=\"color: #7f7f7f; text-decoration-color: #7f7f7f\">:</span><a href=\"file:///usr/local/lib/python3.10/dist-packages/nerfstudio/process_data/process_data_utils.py#266\" target=\"_blank\"><span style=\"color: #7f7f7f; text-decoration-color: #7f7f7f\">266</span></a>\n",
              "</pre>\n"
            ]
          },
          "metadata": {}
        },
        {
          "output_type": "display_data",
          "data": {
            "text/plain": [
              "\u001b[2;36m[11:19:10]\u001b[0m\u001b[2;36m \u001b[0mCopying image \u001b[1;36m177\u001b[0m of \u001b[1;36m200\u001b[0m\u001b[33m...\u001b[0m                                                         \u001b]8;id=636427;file:///usr/local/lib/python3.10/dist-packages/nerfstudio/process_data/process_data_utils.py\u001b\\\u001b[2mprocess_data_utils.py\u001b[0m\u001b]8;;\u001b\\\u001b[2m:\u001b[0m\u001b]8;id=903108;file:///usr/local/lib/python3.10/dist-packages/nerfstudio/process_data/process_data_utils.py#266\u001b\\\u001b[2m266\u001b[0m\u001b]8;;\u001b\\\n"
            ],
            "text/html": [
              "<pre style=\"white-space:pre;overflow-x:auto;line-height:normal;font-family:Menlo,'DejaVu Sans Mono',consolas,'Courier New',monospace\"><span style=\"color: #7fbfbf; text-decoration-color: #7fbfbf\">[11:19:10] </span>Copying image <span style=\"color: #008080; text-decoration-color: #008080; font-weight: bold\">177</span> of <span style=\"color: #008080; text-decoration-color: #008080; font-weight: bold\">200</span><span style=\"color: #808000; text-decoration-color: #808000\">...</span>                                                         <a href=\"file:///usr/local/lib/python3.10/dist-packages/nerfstudio/process_data/process_data_utils.py\" target=\"_blank\"><span style=\"color: #7f7f7f; text-decoration-color: #7f7f7f\">process_data_utils.py</span></a><span style=\"color: #7f7f7f; text-decoration-color: #7f7f7f\">:</span><a href=\"file:///usr/local/lib/python3.10/dist-packages/nerfstudio/process_data/process_data_utils.py#266\" target=\"_blank\"><span style=\"color: #7f7f7f; text-decoration-color: #7f7f7f\">266</span></a>\n",
              "</pre>\n"
            ]
          },
          "metadata": {}
        },
        {
          "output_type": "display_data",
          "data": {
            "text/plain": [
              "\u001b[2;36m          \u001b[0m\u001b[2;36m \u001b[0mCopying image \u001b[1;36m178\u001b[0m of \u001b[1;36m200\u001b[0m\u001b[33m...\u001b[0m                                                         \u001b]8;id=788456;file:///usr/local/lib/python3.10/dist-packages/nerfstudio/process_data/process_data_utils.py\u001b\\\u001b[2mprocess_data_utils.py\u001b[0m\u001b]8;;\u001b\\\u001b[2m:\u001b[0m\u001b]8;id=901580;file:///usr/local/lib/python3.10/dist-packages/nerfstudio/process_data/process_data_utils.py#266\u001b\\\u001b[2m266\u001b[0m\u001b]8;;\u001b\\\n"
            ],
            "text/html": [
              "<pre style=\"white-space:pre;overflow-x:auto;line-height:normal;font-family:Menlo,'DejaVu Sans Mono',consolas,'Courier New',monospace\"><span style=\"color: #7fbfbf; text-decoration-color: #7fbfbf\">           </span>Copying image <span style=\"color: #008080; text-decoration-color: #008080; font-weight: bold\">178</span> of <span style=\"color: #008080; text-decoration-color: #008080; font-weight: bold\">200</span><span style=\"color: #808000; text-decoration-color: #808000\">...</span>                                                         <a href=\"file:///usr/local/lib/python3.10/dist-packages/nerfstudio/process_data/process_data_utils.py\" target=\"_blank\"><span style=\"color: #7f7f7f; text-decoration-color: #7f7f7f\">process_data_utils.py</span></a><span style=\"color: #7f7f7f; text-decoration-color: #7f7f7f\">:</span><a href=\"file:///usr/local/lib/python3.10/dist-packages/nerfstudio/process_data/process_data_utils.py#266\" target=\"_blank\"><span style=\"color: #7f7f7f; text-decoration-color: #7f7f7f\">266</span></a>\n",
              "</pre>\n"
            ]
          },
          "metadata": {}
        },
        {
          "output_type": "display_data",
          "data": {
            "text/plain": [
              "\u001b[2;36m[11:19:11]\u001b[0m\u001b[2;36m \u001b[0mCopying image \u001b[1;36m179\u001b[0m of \u001b[1;36m200\u001b[0m\u001b[33m...\u001b[0m                                                         \u001b]8;id=26144;file:///usr/local/lib/python3.10/dist-packages/nerfstudio/process_data/process_data_utils.py\u001b\\\u001b[2mprocess_data_utils.py\u001b[0m\u001b]8;;\u001b\\\u001b[2m:\u001b[0m\u001b]8;id=636012;file:///usr/local/lib/python3.10/dist-packages/nerfstudio/process_data/process_data_utils.py#266\u001b\\\u001b[2m266\u001b[0m\u001b]8;;\u001b\\\n"
            ],
            "text/html": [
              "<pre style=\"white-space:pre;overflow-x:auto;line-height:normal;font-family:Menlo,'DejaVu Sans Mono',consolas,'Courier New',monospace\"><span style=\"color: #7fbfbf; text-decoration-color: #7fbfbf\">[11:19:11] </span>Copying image <span style=\"color: #008080; text-decoration-color: #008080; font-weight: bold\">179</span> of <span style=\"color: #008080; text-decoration-color: #008080; font-weight: bold\">200</span><span style=\"color: #808000; text-decoration-color: #808000\">...</span>                                                         <a href=\"file:///usr/local/lib/python3.10/dist-packages/nerfstudio/process_data/process_data_utils.py\" target=\"_blank\"><span style=\"color: #7f7f7f; text-decoration-color: #7f7f7f\">process_data_utils.py</span></a><span style=\"color: #7f7f7f; text-decoration-color: #7f7f7f\">:</span><a href=\"file:///usr/local/lib/python3.10/dist-packages/nerfstudio/process_data/process_data_utils.py#266\" target=\"_blank\"><span style=\"color: #7f7f7f; text-decoration-color: #7f7f7f\">266</span></a>\n",
              "</pre>\n"
            ]
          },
          "metadata": {}
        },
        {
          "output_type": "display_data",
          "data": {
            "text/plain": [
              "\u001b[2;36m          \u001b[0m\u001b[2;36m \u001b[0mCopying image \u001b[1;36m180\u001b[0m of \u001b[1;36m200\u001b[0m\u001b[33m...\u001b[0m                                                         \u001b]8;id=906827;file:///usr/local/lib/python3.10/dist-packages/nerfstudio/process_data/process_data_utils.py\u001b\\\u001b[2mprocess_data_utils.py\u001b[0m\u001b]8;;\u001b\\\u001b[2m:\u001b[0m\u001b]8;id=53189;file:///usr/local/lib/python3.10/dist-packages/nerfstudio/process_data/process_data_utils.py#266\u001b\\\u001b[2m266\u001b[0m\u001b]8;;\u001b\\\n"
            ],
            "text/html": [
              "<pre style=\"white-space:pre;overflow-x:auto;line-height:normal;font-family:Menlo,'DejaVu Sans Mono',consolas,'Courier New',monospace\"><span style=\"color: #7fbfbf; text-decoration-color: #7fbfbf\">           </span>Copying image <span style=\"color: #008080; text-decoration-color: #008080; font-weight: bold\">180</span> of <span style=\"color: #008080; text-decoration-color: #008080; font-weight: bold\">200</span><span style=\"color: #808000; text-decoration-color: #808000\">...</span>                                                         <a href=\"file:///usr/local/lib/python3.10/dist-packages/nerfstudio/process_data/process_data_utils.py\" target=\"_blank\"><span style=\"color: #7f7f7f; text-decoration-color: #7f7f7f\">process_data_utils.py</span></a><span style=\"color: #7f7f7f; text-decoration-color: #7f7f7f\">:</span><a href=\"file:///usr/local/lib/python3.10/dist-packages/nerfstudio/process_data/process_data_utils.py#266\" target=\"_blank\"><span style=\"color: #7f7f7f; text-decoration-color: #7f7f7f\">266</span></a>\n",
              "</pre>\n"
            ]
          },
          "metadata": {}
        },
        {
          "output_type": "display_data",
          "data": {
            "text/plain": [
              "\u001b[2;36m[11:19:12]\u001b[0m\u001b[2;36m \u001b[0mCopying image \u001b[1;36m181\u001b[0m of \u001b[1;36m200\u001b[0m\u001b[33m...\u001b[0m                                                         \u001b]8;id=11167;file:///usr/local/lib/python3.10/dist-packages/nerfstudio/process_data/process_data_utils.py\u001b\\\u001b[2mprocess_data_utils.py\u001b[0m\u001b]8;;\u001b\\\u001b[2m:\u001b[0m\u001b]8;id=598397;file:///usr/local/lib/python3.10/dist-packages/nerfstudio/process_data/process_data_utils.py#266\u001b\\\u001b[2m266\u001b[0m\u001b]8;;\u001b\\\n"
            ],
            "text/html": [
              "<pre style=\"white-space:pre;overflow-x:auto;line-height:normal;font-family:Menlo,'DejaVu Sans Mono',consolas,'Courier New',monospace\"><span style=\"color: #7fbfbf; text-decoration-color: #7fbfbf\">[11:19:12] </span>Copying image <span style=\"color: #008080; text-decoration-color: #008080; font-weight: bold\">181</span> of <span style=\"color: #008080; text-decoration-color: #008080; font-weight: bold\">200</span><span style=\"color: #808000; text-decoration-color: #808000\">...</span>                                                         <a href=\"file:///usr/local/lib/python3.10/dist-packages/nerfstudio/process_data/process_data_utils.py\" target=\"_blank\"><span style=\"color: #7f7f7f; text-decoration-color: #7f7f7f\">process_data_utils.py</span></a><span style=\"color: #7f7f7f; text-decoration-color: #7f7f7f\">:</span><a href=\"file:///usr/local/lib/python3.10/dist-packages/nerfstudio/process_data/process_data_utils.py#266\" target=\"_blank\"><span style=\"color: #7f7f7f; text-decoration-color: #7f7f7f\">266</span></a>\n",
              "</pre>\n"
            ]
          },
          "metadata": {}
        },
        {
          "output_type": "display_data",
          "data": {
            "text/plain": [
              "\u001b[2;36m          \u001b[0m\u001b[2;36m \u001b[0mCopying image \u001b[1;36m182\u001b[0m of \u001b[1;36m200\u001b[0m\u001b[33m...\u001b[0m                                                         \u001b]8;id=164943;file:///usr/local/lib/python3.10/dist-packages/nerfstudio/process_data/process_data_utils.py\u001b\\\u001b[2mprocess_data_utils.py\u001b[0m\u001b]8;;\u001b\\\u001b[2m:\u001b[0m\u001b]8;id=81388;file:///usr/local/lib/python3.10/dist-packages/nerfstudio/process_data/process_data_utils.py#266\u001b\\\u001b[2m266\u001b[0m\u001b]8;;\u001b\\\n"
            ],
            "text/html": [
              "<pre style=\"white-space:pre;overflow-x:auto;line-height:normal;font-family:Menlo,'DejaVu Sans Mono',consolas,'Courier New',monospace\"><span style=\"color: #7fbfbf; text-decoration-color: #7fbfbf\">           </span>Copying image <span style=\"color: #008080; text-decoration-color: #008080; font-weight: bold\">182</span> of <span style=\"color: #008080; text-decoration-color: #008080; font-weight: bold\">200</span><span style=\"color: #808000; text-decoration-color: #808000\">...</span>                                                         <a href=\"file:///usr/local/lib/python3.10/dist-packages/nerfstudio/process_data/process_data_utils.py\" target=\"_blank\"><span style=\"color: #7f7f7f; text-decoration-color: #7f7f7f\">process_data_utils.py</span></a><span style=\"color: #7f7f7f; text-decoration-color: #7f7f7f\">:</span><a href=\"file:///usr/local/lib/python3.10/dist-packages/nerfstudio/process_data/process_data_utils.py#266\" target=\"_blank\"><span style=\"color: #7f7f7f; text-decoration-color: #7f7f7f\">266</span></a>\n",
              "</pre>\n"
            ]
          },
          "metadata": {}
        },
        {
          "output_type": "display_data",
          "data": {
            "text/plain": [
              "\u001b[2;36m[11:19:13]\u001b[0m\u001b[2;36m \u001b[0mCopying image \u001b[1;36m183\u001b[0m of \u001b[1;36m200\u001b[0m\u001b[33m...\u001b[0m                                                         \u001b]8;id=940232;file:///usr/local/lib/python3.10/dist-packages/nerfstudio/process_data/process_data_utils.py\u001b\\\u001b[2mprocess_data_utils.py\u001b[0m\u001b]8;;\u001b\\\u001b[2m:\u001b[0m\u001b]8;id=404534;file:///usr/local/lib/python3.10/dist-packages/nerfstudio/process_data/process_data_utils.py#266\u001b\\\u001b[2m266\u001b[0m\u001b]8;;\u001b\\\n"
            ],
            "text/html": [
              "<pre style=\"white-space:pre;overflow-x:auto;line-height:normal;font-family:Menlo,'DejaVu Sans Mono',consolas,'Courier New',monospace\"><span style=\"color: #7fbfbf; text-decoration-color: #7fbfbf\">[11:19:13] </span>Copying image <span style=\"color: #008080; text-decoration-color: #008080; font-weight: bold\">183</span> of <span style=\"color: #008080; text-decoration-color: #008080; font-weight: bold\">200</span><span style=\"color: #808000; text-decoration-color: #808000\">...</span>                                                         <a href=\"file:///usr/local/lib/python3.10/dist-packages/nerfstudio/process_data/process_data_utils.py\" target=\"_blank\"><span style=\"color: #7f7f7f; text-decoration-color: #7f7f7f\">process_data_utils.py</span></a><span style=\"color: #7f7f7f; text-decoration-color: #7f7f7f\">:</span><a href=\"file:///usr/local/lib/python3.10/dist-packages/nerfstudio/process_data/process_data_utils.py#266\" target=\"_blank\"><span style=\"color: #7f7f7f; text-decoration-color: #7f7f7f\">266</span></a>\n",
              "</pre>\n"
            ]
          },
          "metadata": {}
        },
        {
          "output_type": "display_data",
          "data": {
            "text/plain": [
              "\u001b[2;36m          \u001b[0m\u001b[2;36m \u001b[0mCopying image \u001b[1;36m184\u001b[0m of \u001b[1;36m200\u001b[0m\u001b[33m...\u001b[0m                                                         \u001b]8;id=110907;file:///usr/local/lib/python3.10/dist-packages/nerfstudio/process_data/process_data_utils.py\u001b\\\u001b[2mprocess_data_utils.py\u001b[0m\u001b]8;;\u001b\\\u001b[2m:\u001b[0m\u001b]8;id=13204;file:///usr/local/lib/python3.10/dist-packages/nerfstudio/process_data/process_data_utils.py#266\u001b\\\u001b[2m266\u001b[0m\u001b]8;;\u001b\\\n"
            ],
            "text/html": [
              "<pre style=\"white-space:pre;overflow-x:auto;line-height:normal;font-family:Menlo,'DejaVu Sans Mono',consolas,'Courier New',monospace\"><span style=\"color: #7fbfbf; text-decoration-color: #7fbfbf\">           </span>Copying image <span style=\"color: #008080; text-decoration-color: #008080; font-weight: bold\">184</span> of <span style=\"color: #008080; text-decoration-color: #008080; font-weight: bold\">200</span><span style=\"color: #808000; text-decoration-color: #808000\">...</span>                                                         <a href=\"file:///usr/local/lib/python3.10/dist-packages/nerfstudio/process_data/process_data_utils.py\" target=\"_blank\"><span style=\"color: #7f7f7f; text-decoration-color: #7f7f7f\">process_data_utils.py</span></a><span style=\"color: #7f7f7f; text-decoration-color: #7f7f7f\">:</span><a href=\"file:///usr/local/lib/python3.10/dist-packages/nerfstudio/process_data/process_data_utils.py#266\" target=\"_blank\"><span style=\"color: #7f7f7f; text-decoration-color: #7f7f7f\">266</span></a>\n",
              "</pre>\n"
            ]
          },
          "metadata": {}
        },
        {
          "output_type": "display_data",
          "data": {
            "text/plain": [
              "\u001b[2;36m[11:19:14]\u001b[0m\u001b[2;36m \u001b[0mCopying image \u001b[1;36m185\u001b[0m of \u001b[1;36m200\u001b[0m\u001b[33m...\u001b[0m                                                         \u001b]8;id=689059;file:///usr/local/lib/python3.10/dist-packages/nerfstudio/process_data/process_data_utils.py\u001b\\\u001b[2mprocess_data_utils.py\u001b[0m\u001b]8;;\u001b\\\u001b[2m:\u001b[0m\u001b]8;id=983262;file:///usr/local/lib/python3.10/dist-packages/nerfstudio/process_data/process_data_utils.py#266\u001b\\\u001b[2m266\u001b[0m\u001b]8;;\u001b\\\n"
            ],
            "text/html": [
              "<pre style=\"white-space:pre;overflow-x:auto;line-height:normal;font-family:Menlo,'DejaVu Sans Mono',consolas,'Courier New',monospace\"><span style=\"color: #7fbfbf; text-decoration-color: #7fbfbf\">[11:19:14] </span>Copying image <span style=\"color: #008080; text-decoration-color: #008080; font-weight: bold\">185</span> of <span style=\"color: #008080; text-decoration-color: #008080; font-weight: bold\">200</span><span style=\"color: #808000; text-decoration-color: #808000\">...</span>                                                         <a href=\"file:///usr/local/lib/python3.10/dist-packages/nerfstudio/process_data/process_data_utils.py\" target=\"_blank\"><span style=\"color: #7f7f7f; text-decoration-color: #7f7f7f\">process_data_utils.py</span></a><span style=\"color: #7f7f7f; text-decoration-color: #7f7f7f\">:</span><a href=\"file:///usr/local/lib/python3.10/dist-packages/nerfstudio/process_data/process_data_utils.py#266\" target=\"_blank\"><span style=\"color: #7f7f7f; text-decoration-color: #7f7f7f\">266</span></a>\n",
              "</pre>\n"
            ]
          },
          "metadata": {}
        },
        {
          "output_type": "display_data",
          "data": {
            "text/plain": [
              "\u001b[2;36m          \u001b[0m\u001b[2;36m \u001b[0mCopying image \u001b[1;36m186\u001b[0m of \u001b[1;36m200\u001b[0m\u001b[33m...\u001b[0m                                                         \u001b]8;id=92713;file:///usr/local/lib/python3.10/dist-packages/nerfstudio/process_data/process_data_utils.py\u001b\\\u001b[2mprocess_data_utils.py\u001b[0m\u001b]8;;\u001b\\\u001b[2m:\u001b[0m\u001b]8;id=333547;file:///usr/local/lib/python3.10/dist-packages/nerfstudio/process_data/process_data_utils.py#266\u001b\\\u001b[2m266\u001b[0m\u001b]8;;\u001b\\\n"
            ],
            "text/html": [
              "<pre style=\"white-space:pre;overflow-x:auto;line-height:normal;font-family:Menlo,'DejaVu Sans Mono',consolas,'Courier New',monospace\"><span style=\"color: #7fbfbf; text-decoration-color: #7fbfbf\">           </span>Copying image <span style=\"color: #008080; text-decoration-color: #008080; font-weight: bold\">186</span> of <span style=\"color: #008080; text-decoration-color: #008080; font-weight: bold\">200</span><span style=\"color: #808000; text-decoration-color: #808000\">...</span>                                                         <a href=\"file:///usr/local/lib/python3.10/dist-packages/nerfstudio/process_data/process_data_utils.py\" target=\"_blank\"><span style=\"color: #7f7f7f; text-decoration-color: #7f7f7f\">process_data_utils.py</span></a><span style=\"color: #7f7f7f; text-decoration-color: #7f7f7f\">:</span><a href=\"file:///usr/local/lib/python3.10/dist-packages/nerfstudio/process_data/process_data_utils.py#266\" target=\"_blank\"><span style=\"color: #7f7f7f; text-decoration-color: #7f7f7f\">266</span></a>\n",
              "</pre>\n"
            ]
          },
          "metadata": {}
        },
        {
          "output_type": "display_data",
          "data": {
            "text/plain": [
              "\u001b[2;36m[11:19:15]\u001b[0m\u001b[2;36m \u001b[0mCopying image \u001b[1;36m187\u001b[0m of \u001b[1;36m200\u001b[0m\u001b[33m...\u001b[0m                                                         \u001b]8;id=411151;file:///usr/local/lib/python3.10/dist-packages/nerfstudio/process_data/process_data_utils.py\u001b\\\u001b[2mprocess_data_utils.py\u001b[0m\u001b]8;;\u001b\\\u001b[2m:\u001b[0m\u001b]8;id=270848;file:///usr/local/lib/python3.10/dist-packages/nerfstudio/process_data/process_data_utils.py#266\u001b\\\u001b[2m266\u001b[0m\u001b]8;;\u001b\\\n"
            ],
            "text/html": [
              "<pre style=\"white-space:pre;overflow-x:auto;line-height:normal;font-family:Menlo,'DejaVu Sans Mono',consolas,'Courier New',monospace\"><span style=\"color: #7fbfbf; text-decoration-color: #7fbfbf\">[11:19:15] </span>Copying image <span style=\"color: #008080; text-decoration-color: #008080; font-weight: bold\">187</span> of <span style=\"color: #008080; text-decoration-color: #008080; font-weight: bold\">200</span><span style=\"color: #808000; text-decoration-color: #808000\">...</span>                                                         <a href=\"file:///usr/local/lib/python3.10/dist-packages/nerfstudio/process_data/process_data_utils.py\" target=\"_blank\"><span style=\"color: #7f7f7f; text-decoration-color: #7f7f7f\">process_data_utils.py</span></a><span style=\"color: #7f7f7f; text-decoration-color: #7f7f7f\">:</span><a href=\"file:///usr/local/lib/python3.10/dist-packages/nerfstudio/process_data/process_data_utils.py#266\" target=\"_blank\"><span style=\"color: #7f7f7f; text-decoration-color: #7f7f7f\">266</span></a>\n",
              "</pre>\n"
            ]
          },
          "metadata": {}
        },
        {
          "output_type": "display_data",
          "data": {
            "text/plain": [
              "\u001b[2;36m          \u001b[0m\u001b[2;36m \u001b[0mCopying image \u001b[1;36m188\u001b[0m of \u001b[1;36m200\u001b[0m\u001b[33m...\u001b[0m                                                         \u001b]8;id=784836;file:///usr/local/lib/python3.10/dist-packages/nerfstudio/process_data/process_data_utils.py\u001b\\\u001b[2mprocess_data_utils.py\u001b[0m\u001b]8;;\u001b\\\u001b[2m:\u001b[0m\u001b]8;id=621486;file:///usr/local/lib/python3.10/dist-packages/nerfstudio/process_data/process_data_utils.py#266\u001b\\\u001b[2m266\u001b[0m\u001b]8;;\u001b\\\n"
            ],
            "text/html": [
              "<pre style=\"white-space:pre;overflow-x:auto;line-height:normal;font-family:Menlo,'DejaVu Sans Mono',consolas,'Courier New',monospace\"><span style=\"color: #7fbfbf; text-decoration-color: #7fbfbf\">           </span>Copying image <span style=\"color: #008080; text-decoration-color: #008080; font-weight: bold\">188</span> of <span style=\"color: #008080; text-decoration-color: #008080; font-weight: bold\">200</span><span style=\"color: #808000; text-decoration-color: #808000\">...</span>                                                         <a href=\"file:///usr/local/lib/python3.10/dist-packages/nerfstudio/process_data/process_data_utils.py\" target=\"_blank\"><span style=\"color: #7f7f7f; text-decoration-color: #7f7f7f\">process_data_utils.py</span></a><span style=\"color: #7f7f7f; text-decoration-color: #7f7f7f\">:</span><a href=\"file:///usr/local/lib/python3.10/dist-packages/nerfstudio/process_data/process_data_utils.py#266\" target=\"_blank\"><span style=\"color: #7f7f7f; text-decoration-color: #7f7f7f\">266</span></a>\n",
              "</pre>\n"
            ]
          },
          "metadata": {}
        },
        {
          "output_type": "display_data",
          "data": {
            "text/plain": [
              "\u001b[2;36m[11:19:16]\u001b[0m\u001b[2;36m \u001b[0mCopying image \u001b[1;36m189\u001b[0m of \u001b[1;36m200\u001b[0m\u001b[33m...\u001b[0m                                                         \u001b]8;id=849152;file:///usr/local/lib/python3.10/dist-packages/nerfstudio/process_data/process_data_utils.py\u001b\\\u001b[2mprocess_data_utils.py\u001b[0m\u001b]8;;\u001b\\\u001b[2m:\u001b[0m\u001b]8;id=215793;file:///usr/local/lib/python3.10/dist-packages/nerfstudio/process_data/process_data_utils.py#266\u001b\\\u001b[2m266\u001b[0m\u001b]8;;\u001b\\\n"
            ],
            "text/html": [
              "<pre style=\"white-space:pre;overflow-x:auto;line-height:normal;font-family:Menlo,'DejaVu Sans Mono',consolas,'Courier New',monospace\"><span style=\"color: #7fbfbf; text-decoration-color: #7fbfbf\">[11:19:16] </span>Copying image <span style=\"color: #008080; text-decoration-color: #008080; font-weight: bold\">189</span> of <span style=\"color: #008080; text-decoration-color: #008080; font-weight: bold\">200</span><span style=\"color: #808000; text-decoration-color: #808000\">...</span>                                                         <a href=\"file:///usr/local/lib/python3.10/dist-packages/nerfstudio/process_data/process_data_utils.py\" target=\"_blank\"><span style=\"color: #7f7f7f; text-decoration-color: #7f7f7f\">process_data_utils.py</span></a><span style=\"color: #7f7f7f; text-decoration-color: #7f7f7f\">:</span><a href=\"file:///usr/local/lib/python3.10/dist-packages/nerfstudio/process_data/process_data_utils.py#266\" target=\"_blank\"><span style=\"color: #7f7f7f; text-decoration-color: #7f7f7f\">266</span></a>\n",
              "</pre>\n"
            ]
          },
          "metadata": {}
        },
        {
          "output_type": "display_data",
          "data": {
            "text/plain": [
              "\u001b[2;36m          \u001b[0m\u001b[2;36m \u001b[0mCopying image \u001b[1;36m190\u001b[0m of \u001b[1;36m200\u001b[0m\u001b[33m...\u001b[0m                                                         \u001b]8;id=786591;file:///usr/local/lib/python3.10/dist-packages/nerfstudio/process_data/process_data_utils.py\u001b\\\u001b[2mprocess_data_utils.py\u001b[0m\u001b]8;;\u001b\\\u001b[2m:\u001b[0m\u001b]8;id=524863;file:///usr/local/lib/python3.10/dist-packages/nerfstudio/process_data/process_data_utils.py#266\u001b\\\u001b[2m266\u001b[0m\u001b]8;;\u001b\\\n"
            ],
            "text/html": [
              "<pre style=\"white-space:pre;overflow-x:auto;line-height:normal;font-family:Menlo,'DejaVu Sans Mono',consolas,'Courier New',monospace\"><span style=\"color: #7fbfbf; text-decoration-color: #7fbfbf\">           </span>Copying image <span style=\"color: #008080; text-decoration-color: #008080; font-weight: bold\">190</span> of <span style=\"color: #008080; text-decoration-color: #008080; font-weight: bold\">200</span><span style=\"color: #808000; text-decoration-color: #808000\">...</span>                                                         <a href=\"file:///usr/local/lib/python3.10/dist-packages/nerfstudio/process_data/process_data_utils.py\" target=\"_blank\"><span style=\"color: #7f7f7f; text-decoration-color: #7f7f7f\">process_data_utils.py</span></a><span style=\"color: #7f7f7f; text-decoration-color: #7f7f7f\">:</span><a href=\"file:///usr/local/lib/python3.10/dist-packages/nerfstudio/process_data/process_data_utils.py#266\" target=\"_blank\"><span style=\"color: #7f7f7f; text-decoration-color: #7f7f7f\">266</span></a>\n",
              "</pre>\n"
            ]
          },
          "metadata": {}
        },
        {
          "output_type": "display_data",
          "data": {
            "text/plain": [
              "\u001b[2;36m[11:19:17]\u001b[0m\u001b[2;36m \u001b[0mCopying image \u001b[1;36m191\u001b[0m of \u001b[1;36m200\u001b[0m\u001b[33m...\u001b[0m                                                         \u001b]8;id=818956;file:///usr/local/lib/python3.10/dist-packages/nerfstudio/process_data/process_data_utils.py\u001b\\\u001b[2mprocess_data_utils.py\u001b[0m\u001b]8;;\u001b\\\u001b[2m:\u001b[0m\u001b]8;id=13069;file:///usr/local/lib/python3.10/dist-packages/nerfstudio/process_data/process_data_utils.py#266\u001b\\\u001b[2m266\u001b[0m\u001b]8;;\u001b\\\n"
            ],
            "text/html": [
              "<pre style=\"white-space:pre;overflow-x:auto;line-height:normal;font-family:Menlo,'DejaVu Sans Mono',consolas,'Courier New',monospace\"><span style=\"color: #7fbfbf; text-decoration-color: #7fbfbf\">[11:19:17] </span>Copying image <span style=\"color: #008080; text-decoration-color: #008080; font-weight: bold\">191</span> of <span style=\"color: #008080; text-decoration-color: #008080; font-weight: bold\">200</span><span style=\"color: #808000; text-decoration-color: #808000\">...</span>                                                         <a href=\"file:///usr/local/lib/python3.10/dist-packages/nerfstudio/process_data/process_data_utils.py\" target=\"_blank\"><span style=\"color: #7f7f7f; text-decoration-color: #7f7f7f\">process_data_utils.py</span></a><span style=\"color: #7f7f7f; text-decoration-color: #7f7f7f\">:</span><a href=\"file:///usr/local/lib/python3.10/dist-packages/nerfstudio/process_data/process_data_utils.py#266\" target=\"_blank\"><span style=\"color: #7f7f7f; text-decoration-color: #7f7f7f\">266</span></a>\n",
              "</pre>\n"
            ]
          },
          "metadata": {}
        },
        {
          "output_type": "display_data",
          "data": {
            "text/plain": [
              "\u001b[2;36m          \u001b[0m\u001b[2;36m \u001b[0mCopying image \u001b[1;36m192\u001b[0m of \u001b[1;36m200\u001b[0m\u001b[33m...\u001b[0m                                                         \u001b]8;id=643770;file:///usr/local/lib/python3.10/dist-packages/nerfstudio/process_data/process_data_utils.py\u001b\\\u001b[2mprocess_data_utils.py\u001b[0m\u001b]8;;\u001b\\\u001b[2m:\u001b[0m\u001b]8;id=594643;file:///usr/local/lib/python3.10/dist-packages/nerfstudio/process_data/process_data_utils.py#266\u001b\\\u001b[2m266\u001b[0m\u001b]8;;\u001b\\\n"
            ],
            "text/html": [
              "<pre style=\"white-space:pre;overflow-x:auto;line-height:normal;font-family:Menlo,'DejaVu Sans Mono',consolas,'Courier New',monospace\"><span style=\"color: #7fbfbf; text-decoration-color: #7fbfbf\">           </span>Copying image <span style=\"color: #008080; text-decoration-color: #008080; font-weight: bold\">192</span> of <span style=\"color: #008080; text-decoration-color: #008080; font-weight: bold\">200</span><span style=\"color: #808000; text-decoration-color: #808000\">...</span>                                                         <a href=\"file:///usr/local/lib/python3.10/dist-packages/nerfstudio/process_data/process_data_utils.py\" target=\"_blank\"><span style=\"color: #7f7f7f; text-decoration-color: #7f7f7f\">process_data_utils.py</span></a><span style=\"color: #7f7f7f; text-decoration-color: #7f7f7f\">:</span><a href=\"file:///usr/local/lib/python3.10/dist-packages/nerfstudio/process_data/process_data_utils.py#266\" target=\"_blank\"><span style=\"color: #7f7f7f; text-decoration-color: #7f7f7f\">266</span></a>\n",
              "</pre>\n"
            ]
          },
          "metadata": {}
        },
        {
          "output_type": "display_data",
          "data": {
            "text/plain": [
              "\u001b[2;36m[11:19:18]\u001b[0m\u001b[2;36m \u001b[0mCopying image \u001b[1;36m193\u001b[0m of \u001b[1;36m200\u001b[0m\u001b[33m...\u001b[0m                                                         \u001b]8;id=173578;file:///usr/local/lib/python3.10/dist-packages/nerfstudio/process_data/process_data_utils.py\u001b\\\u001b[2mprocess_data_utils.py\u001b[0m\u001b]8;;\u001b\\\u001b[2m:\u001b[0m\u001b]8;id=313836;file:///usr/local/lib/python3.10/dist-packages/nerfstudio/process_data/process_data_utils.py#266\u001b\\\u001b[2m266\u001b[0m\u001b]8;;\u001b\\\n"
            ],
            "text/html": [
              "<pre style=\"white-space:pre;overflow-x:auto;line-height:normal;font-family:Menlo,'DejaVu Sans Mono',consolas,'Courier New',monospace\"><span style=\"color: #7fbfbf; text-decoration-color: #7fbfbf\">[11:19:18] </span>Copying image <span style=\"color: #008080; text-decoration-color: #008080; font-weight: bold\">193</span> of <span style=\"color: #008080; text-decoration-color: #008080; font-weight: bold\">200</span><span style=\"color: #808000; text-decoration-color: #808000\">...</span>                                                         <a href=\"file:///usr/local/lib/python3.10/dist-packages/nerfstudio/process_data/process_data_utils.py\" target=\"_blank\"><span style=\"color: #7f7f7f; text-decoration-color: #7f7f7f\">process_data_utils.py</span></a><span style=\"color: #7f7f7f; text-decoration-color: #7f7f7f\">:</span><a href=\"file:///usr/local/lib/python3.10/dist-packages/nerfstudio/process_data/process_data_utils.py#266\" target=\"_blank\"><span style=\"color: #7f7f7f; text-decoration-color: #7f7f7f\">266</span></a>\n",
              "</pre>\n"
            ]
          },
          "metadata": {}
        },
        {
          "output_type": "display_data",
          "data": {
            "text/plain": [
              "\u001b[2;36m          \u001b[0m\u001b[2;36m \u001b[0mCopying image \u001b[1;36m194\u001b[0m of \u001b[1;36m200\u001b[0m\u001b[33m...\u001b[0m                                                         \u001b]8;id=41182;file:///usr/local/lib/python3.10/dist-packages/nerfstudio/process_data/process_data_utils.py\u001b\\\u001b[2mprocess_data_utils.py\u001b[0m\u001b]8;;\u001b\\\u001b[2m:\u001b[0m\u001b]8;id=211163;file:///usr/local/lib/python3.10/dist-packages/nerfstudio/process_data/process_data_utils.py#266\u001b\\\u001b[2m266\u001b[0m\u001b]8;;\u001b\\\n"
            ],
            "text/html": [
              "<pre style=\"white-space:pre;overflow-x:auto;line-height:normal;font-family:Menlo,'DejaVu Sans Mono',consolas,'Courier New',monospace\"><span style=\"color: #7fbfbf; text-decoration-color: #7fbfbf\">           </span>Copying image <span style=\"color: #008080; text-decoration-color: #008080; font-weight: bold\">194</span> of <span style=\"color: #008080; text-decoration-color: #008080; font-weight: bold\">200</span><span style=\"color: #808000; text-decoration-color: #808000\">...</span>                                                         <a href=\"file:///usr/local/lib/python3.10/dist-packages/nerfstudio/process_data/process_data_utils.py\" target=\"_blank\"><span style=\"color: #7f7f7f; text-decoration-color: #7f7f7f\">process_data_utils.py</span></a><span style=\"color: #7f7f7f; text-decoration-color: #7f7f7f\">:</span><a href=\"file:///usr/local/lib/python3.10/dist-packages/nerfstudio/process_data/process_data_utils.py#266\" target=\"_blank\"><span style=\"color: #7f7f7f; text-decoration-color: #7f7f7f\">266</span></a>\n",
              "</pre>\n"
            ]
          },
          "metadata": {}
        },
        {
          "output_type": "display_data",
          "data": {
            "text/plain": [
              "\u001b[2;36m[11:19:19]\u001b[0m\u001b[2;36m \u001b[0mCopying image \u001b[1;36m195\u001b[0m of \u001b[1;36m200\u001b[0m\u001b[33m...\u001b[0m                                                         \u001b]8;id=211695;file:///usr/local/lib/python3.10/dist-packages/nerfstudio/process_data/process_data_utils.py\u001b\\\u001b[2mprocess_data_utils.py\u001b[0m\u001b]8;;\u001b\\\u001b[2m:\u001b[0m\u001b]8;id=746652;file:///usr/local/lib/python3.10/dist-packages/nerfstudio/process_data/process_data_utils.py#266\u001b\\\u001b[2m266\u001b[0m\u001b]8;;\u001b\\\n"
            ],
            "text/html": [
              "<pre style=\"white-space:pre;overflow-x:auto;line-height:normal;font-family:Menlo,'DejaVu Sans Mono',consolas,'Courier New',monospace\"><span style=\"color: #7fbfbf; text-decoration-color: #7fbfbf\">[11:19:19] </span>Copying image <span style=\"color: #008080; text-decoration-color: #008080; font-weight: bold\">195</span> of <span style=\"color: #008080; text-decoration-color: #008080; font-weight: bold\">200</span><span style=\"color: #808000; text-decoration-color: #808000\">...</span>                                                         <a href=\"file:///usr/local/lib/python3.10/dist-packages/nerfstudio/process_data/process_data_utils.py\" target=\"_blank\"><span style=\"color: #7f7f7f; text-decoration-color: #7f7f7f\">process_data_utils.py</span></a><span style=\"color: #7f7f7f; text-decoration-color: #7f7f7f\">:</span><a href=\"file:///usr/local/lib/python3.10/dist-packages/nerfstudio/process_data/process_data_utils.py#266\" target=\"_blank\"><span style=\"color: #7f7f7f; text-decoration-color: #7f7f7f\">266</span></a>\n",
              "</pre>\n"
            ]
          },
          "metadata": {}
        },
        {
          "output_type": "display_data",
          "data": {
            "text/plain": [
              "\u001b[2;36m          \u001b[0m\u001b[2;36m \u001b[0mCopying image \u001b[1;36m196\u001b[0m of \u001b[1;36m200\u001b[0m\u001b[33m...\u001b[0m                                                         \u001b]8;id=179424;file:///usr/local/lib/python3.10/dist-packages/nerfstudio/process_data/process_data_utils.py\u001b\\\u001b[2mprocess_data_utils.py\u001b[0m\u001b]8;;\u001b\\\u001b[2m:\u001b[0m\u001b]8;id=182818;file:///usr/local/lib/python3.10/dist-packages/nerfstudio/process_data/process_data_utils.py#266\u001b\\\u001b[2m266\u001b[0m\u001b]8;;\u001b\\\n"
            ],
            "text/html": [
              "<pre style=\"white-space:pre;overflow-x:auto;line-height:normal;font-family:Menlo,'DejaVu Sans Mono',consolas,'Courier New',monospace\"><span style=\"color: #7fbfbf; text-decoration-color: #7fbfbf\">           </span>Copying image <span style=\"color: #008080; text-decoration-color: #008080; font-weight: bold\">196</span> of <span style=\"color: #008080; text-decoration-color: #008080; font-weight: bold\">200</span><span style=\"color: #808000; text-decoration-color: #808000\">...</span>                                                         <a href=\"file:///usr/local/lib/python3.10/dist-packages/nerfstudio/process_data/process_data_utils.py\" target=\"_blank\"><span style=\"color: #7f7f7f; text-decoration-color: #7f7f7f\">process_data_utils.py</span></a><span style=\"color: #7f7f7f; text-decoration-color: #7f7f7f\">:</span><a href=\"file:///usr/local/lib/python3.10/dist-packages/nerfstudio/process_data/process_data_utils.py#266\" target=\"_blank\"><span style=\"color: #7f7f7f; text-decoration-color: #7f7f7f\">266</span></a>\n",
              "</pre>\n"
            ]
          },
          "metadata": {}
        },
        {
          "output_type": "display_data",
          "data": {
            "text/plain": [
              "\u001b[2;36m[11:19:20]\u001b[0m\u001b[2;36m \u001b[0mCopying image \u001b[1;36m197\u001b[0m of \u001b[1;36m200\u001b[0m\u001b[33m...\u001b[0m                                                         \u001b]8;id=631266;file:///usr/local/lib/python3.10/dist-packages/nerfstudio/process_data/process_data_utils.py\u001b\\\u001b[2mprocess_data_utils.py\u001b[0m\u001b]8;;\u001b\\\u001b[2m:\u001b[0m\u001b]8;id=817628;file:///usr/local/lib/python3.10/dist-packages/nerfstudio/process_data/process_data_utils.py#266\u001b\\\u001b[2m266\u001b[0m\u001b]8;;\u001b\\\n"
            ],
            "text/html": [
              "<pre style=\"white-space:pre;overflow-x:auto;line-height:normal;font-family:Menlo,'DejaVu Sans Mono',consolas,'Courier New',monospace\"><span style=\"color: #7fbfbf; text-decoration-color: #7fbfbf\">[11:19:20] </span>Copying image <span style=\"color: #008080; text-decoration-color: #008080; font-weight: bold\">197</span> of <span style=\"color: #008080; text-decoration-color: #008080; font-weight: bold\">200</span><span style=\"color: #808000; text-decoration-color: #808000\">...</span>                                                         <a href=\"file:///usr/local/lib/python3.10/dist-packages/nerfstudio/process_data/process_data_utils.py\" target=\"_blank\"><span style=\"color: #7f7f7f; text-decoration-color: #7f7f7f\">process_data_utils.py</span></a><span style=\"color: #7f7f7f; text-decoration-color: #7f7f7f\">:</span><a href=\"file:///usr/local/lib/python3.10/dist-packages/nerfstudio/process_data/process_data_utils.py#266\" target=\"_blank\"><span style=\"color: #7f7f7f; text-decoration-color: #7f7f7f\">266</span></a>\n",
              "</pre>\n"
            ]
          },
          "metadata": {}
        },
        {
          "output_type": "display_data",
          "data": {
            "text/plain": [
              "\u001b[2;36m          \u001b[0m\u001b[2;36m \u001b[0mCopying image \u001b[1;36m198\u001b[0m of \u001b[1;36m200\u001b[0m\u001b[33m...\u001b[0m                                                         \u001b]8;id=685420;file:///usr/local/lib/python3.10/dist-packages/nerfstudio/process_data/process_data_utils.py\u001b\\\u001b[2mprocess_data_utils.py\u001b[0m\u001b]8;;\u001b\\\u001b[2m:\u001b[0m\u001b]8;id=407711;file:///usr/local/lib/python3.10/dist-packages/nerfstudio/process_data/process_data_utils.py#266\u001b\\\u001b[2m266\u001b[0m\u001b]8;;\u001b\\\n"
            ],
            "text/html": [
              "<pre style=\"white-space:pre;overflow-x:auto;line-height:normal;font-family:Menlo,'DejaVu Sans Mono',consolas,'Courier New',monospace\"><span style=\"color: #7fbfbf; text-decoration-color: #7fbfbf\">           </span>Copying image <span style=\"color: #008080; text-decoration-color: #008080; font-weight: bold\">198</span> of <span style=\"color: #008080; text-decoration-color: #008080; font-weight: bold\">200</span><span style=\"color: #808000; text-decoration-color: #808000\">...</span>                                                         <a href=\"file:///usr/local/lib/python3.10/dist-packages/nerfstudio/process_data/process_data_utils.py\" target=\"_blank\"><span style=\"color: #7f7f7f; text-decoration-color: #7f7f7f\">process_data_utils.py</span></a><span style=\"color: #7f7f7f; text-decoration-color: #7f7f7f\">:</span><a href=\"file:///usr/local/lib/python3.10/dist-packages/nerfstudio/process_data/process_data_utils.py#266\" target=\"_blank\"><span style=\"color: #7f7f7f; text-decoration-color: #7f7f7f\">266</span></a>\n",
              "</pre>\n"
            ]
          },
          "metadata": {}
        },
        {
          "output_type": "display_data",
          "data": {
            "text/plain": [
              "\u001b[2;36m[11:19:21]\u001b[0m\u001b[2;36m \u001b[0mCopying image \u001b[1;36m199\u001b[0m of \u001b[1;36m200\u001b[0m\u001b[33m...\u001b[0m                                                         \u001b]8;id=274744;file:///usr/local/lib/python3.10/dist-packages/nerfstudio/process_data/process_data_utils.py\u001b\\\u001b[2mprocess_data_utils.py\u001b[0m\u001b]8;;\u001b\\\u001b[2m:\u001b[0m\u001b]8;id=735802;file:///usr/local/lib/python3.10/dist-packages/nerfstudio/process_data/process_data_utils.py#266\u001b\\\u001b[2m266\u001b[0m\u001b]8;;\u001b\\\n"
            ],
            "text/html": [
              "<pre style=\"white-space:pre;overflow-x:auto;line-height:normal;font-family:Menlo,'DejaVu Sans Mono',consolas,'Courier New',monospace\"><span style=\"color: #7fbfbf; text-decoration-color: #7fbfbf\">[11:19:21] </span>Copying image <span style=\"color: #008080; text-decoration-color: #008080; font-weight: bold\">199</span> of <span style=\"color: #008080; text-decoration-color: #008080; font-weight: bold\">200</span><span style=\"color: #808000; text-decoration-color: #808000\">...</span>                                                         <a href=\"file:///usr/local/lib/python3.10/dist-packages/nerfstudio/process_data/process_data_utils.py\" target=\"_blank\"><span style=\"color: #7f7f7f; text-decoration-color: #7f7f7f\">process_data_utils.py</span></a><span style=\"color: #7f7f7f; text-decoration-color: #7f7f7f\">:</span><a href=\"file:///usr/local/lib/python3.10/dist-packages/nerfstudio/process_data/process_data_utils.py#266\" target=\"_blank\"><span style=\"color: #7f7f7f; text-decoration-color: #7f7f7f\">266</span></a>\n",
              "</pre>\n"
            ]
          },
          "metadata": {}
        },
        {
          "output_type": "display_data",
          "data": {
            "text/plain": [
              "\u001b[2;36m          \u001b[0m\u001b[2;36m \u001b[0mCopying image \u001b[1;36m200\u001b[0m of \u001b[1;36m200\u001b[0m\u001b[33m...\u001b[0m                                                         \u001b]8;id=189392;file:///usr/local/lib/python3.10/dist-packages/nerfstudio/process_data/process_data_utils.py\u001b\\\u001b[2mprocess_data_utils.py\u001b[0m\u001b]8;;\u001b\\\u001b[2m:\u001b[0m\u001b]8;id=199705;file:///usr/local/lib/python3.10/dist-packages/nerfstudio/process_data/process_data_utils.py#266\u001b\\\u001b[2m266\u001b[0m\u001b]8;;\u001b\\\n"
            ],
            "text/html": [
              "<pre style=\"white-space:pre;overflow-x:auto;line-height:normal;font-family:Menlo,'DejaVu Sans Mono',consolas,'Courier New',monospace\"><span style=\"color: #7fbfbf; text-decoration-color: #7fbfbf\">           </span>Copying image <span style=\"color: #008080; text-decoration-color: #008080; font-weight: bold\">200</span> of <span style=\"color: #008080; text-decoration-color: #008080; font-weight: bold\">200</span><span style=\"color: #808000; text-decoration-color: #808000\">...</span>                                                         <a href=\"file:///usr/local/lib/python3.10/dist-packages/nerfstudio/process_data/process_data_utils.py\" target=\"_blank\"><span style=\"color: #7f7f7f; text-decoration-color: #7f7f7f\">process_data_utils.py</span></a><span style=\"color: #7f7f7f; text-decoration-color: #7f7f7f\">:</span><a href=\"file:///usr/local/lib/python3.10/dist-packages/nerfstudio/process_data/process_data_utils.py#266\" target=\"_blank\"><span style=\"color: #7f7f7f; text-decoration-color: #7f7f7f\">266</span></a>\n",
              "</pre>\n"
            ]
          },
          "metadata": {}
        },
        {
          "output_type": "display_data",
          "data": {
            "text/plain": [
              "\u001b[2;36m[11:19:22]\u001b[0m\u001b[2;36m \u001b[0m\u001b[33m...\u001b[0m ffmpeg -y -noautorotate -i                                                      \u001b]8;id=984544;file:///usr/local/lib/python3.10/dist-packages/nerfstudio/process_data/process_data_utils.py\u001b\\\u001b[2mprocess_data_utils.py\u001b[0m\u001b]8;;\u001b\\\u001b[2m:\u001b[0m\u001b]8;id=396692;file:///usr/local/lib/python3.10/dist-packages/nerfstudio/process_data/process_data_utils.py#334\u001b\\\u001b[2m334\u001b[0m\u001b]8;;\u001b\\\n",
              "\u001b[2;36m           \u001b[0m\u001b[32m\"/content/gdrive/MyDrive/Uni/adl4vc/nerf_segmentation/data/nerfstudio_/replica_offi\u001b[0m \u001b[2m                         \u001b[0m\n",
              "\u001b[2;36m           \u001b[0m\u001b[32mce0/images/frame_%05d.jpg\"\u001b[0m  -filter_complex                                         \u001b[2m                         \u001b[0m\n",
              "\u001b[2;36m           \u001b[0m\u001b[32m\"\u001b[0m\u001b[32m[\u001b[0m\u001b[32m0:v\u001b[0m\u001b[32m]\u001b[0m\u001b[32msplit\u001b[0m\u001b[32m=\u001b[0m\u001b[32m4\u001b[0m\u001b[32m;\u001b[0m\u001b[32mscale\u001b[0m\u001b[32m=\u001b[0m\u001b[32miw\u001b[0m\u001b[32m/1:ih/1\u001b[0m\u001b[32m;\u001b[0m\u001b[32mscale\u001b[0m\u001b[32m=\u001b[0m\u001b[32miw\u001b[0m\u001b[32m/2:ih/2\u001b[0m\u001b[32m;\u001b[0m\u001b[32mscale\u001b[0m\u001b[32m=\u001b[0m\u001b[32miw\u001b[0m\u001b[32m/4:ih/4\u001b[0m\u001b[32m;\u001b[0m\u001b[32mscale\u001b[0m\u001b[32m=\u001b[0m\u001b[32miw\u001b[0m\u001b[32m/8:ih/8\u001b[0m\u001b[32m\"\u001b[0m -map \u001b[2m                         \u001b[0m\n",
              "\u001b[2;36m           \u001b[0m\u001b[32m\"\u001b[0m\u001b[32m\"\u001b[0m -q:v \u001b[1;36m2\u001b[0m                                                                           \u001b[2m                         \u001b[0m\n",
              "\u001b[2;36m           \u001b[0m\u001b[32m\"/content/gdrive/MyDrive/Uni/adl4vc/nerf_segmentation/data/nerfstudio_/replica_offi\u001b[0m \u001b[2m                         \u001b[0m\n",
              "\u001b[2;36m           \u001b[0m\u001b[32mce0/images/frame_%05d.jpg\"\u001b[0m -map \u001b[32m\"\u001b[0m\u001b[32m\"\u001b[0m -q:v \u001b[1;36m2\u001b[0m                                           \u001b[2m                         \u001b[0m\n",
              "\u001b[2;36m           \u001b[0m\u001b[32m\"/content/gdrive/MyDrive/Uni/adl4vc/nerf_segmentation/data/nerfstudio_/replica_offi\u001b[0m \u001b[2m                         \u001b[0m\n",
              "\u001b[2;36m           \u001b[0m\u001b[32mce0/images_2/frame_%05d.jpg\"\u001b[0m -map \u001b[32m\"\u001b[0m\u001b[32m\"\u001b[0m -q:v \u001b[1;36m2\u001b[0m                                         \u001b[2m                         \u001b[0m\n",
              "\u001b[2;36m           \u001b[0m\u001b[32m\"/content/gdrive/MyDrive/Uni/adl4vc/nerf_segmentation/data/nerfstudio_/replica_offi\u001b[0m \u001b[2m                         \u001b[0m\n",
              "\u001b[2;36m           \u001b[0m\u001b[32mce0/images_4/frame_%05d.jpg\"\u001b[0m -map \u001b[32m\"\u001b[0m\u001b[32m\"\u001b[0m -q:v \u001b[1;36m2\u001b[0m                                         \u001b[2m                         \u001b[0m\n",
              "\u001b[2;36m           \u001b[0m\u001b[32m\"/content/gdrive/MyDrive/Uni/adl4vc/nerf_segmentation/data/nerfstudio_/replica_offi\u001b[0m \u001b[2m                         \u001b[0m\n",
              "\u001b[2;36m           \u001b[0m\u001b[32mce0/images_8/frame_%05d.jpg\"\u001b[0m                                                        \u001b[2m                         \u001b[0m\n"
            ],
            "text/html": [
              "<pre style=\"white-space:pre;overflow-x:auto;line-height:normal;font-family:Menlo,'DejaVu Sans Mono',consolas,'Courier New',monospace\"><span style=\"color: #7fbfbf; text-decoration-color: #7fbfbf\">[11:19:22] </span><span style=\"color: #808000; text-decoration-color: #808000\">...</span> ffmpeg -y -noautorotate -i                                                      <a href=\"file:///usr/local/lib/python3.10/dist-packages/nerfstudio/process_data/process_data_utils.py\" target=\"_blank\"><span style=\"color: #7f7f7f; text-decoration-color: #7f7f7f\">process_data_utils.py</span></a><span style=\"color: #7f7f7f; text-decoration-color: #7f7f7f\">:</span><a href=\"file:///usr/local/lib/python3.10/dist-packages/nerfstudio/process_data/process_data_utils.py#334\" target=\"_blank\"><span style=\"color: #7f7f7f; text-decoration-color: #7f7f7f\">334</span></a>\n",
              "<span style=\"color: #7fbfbf; text-decoration-color: #7fbfbf\">           </span><span style=\"color: #008000; text-decoration-color: #008000\">\"/content/gdrive/MyDrive/Uni/adl4vc/nerf_segmentation/data/nerfstudio_/replica_offi</span> <span style=\"color: #7f7f7f; text-decoration-color: #7f7f7f\">                         </span>\n",
              "<span style=\"color: #7fbfbf; text-decoration-color: #7fbfbf\">           </span><span style=\"color: #008000; text-decoration-color: #008000\">ce0/images/frame_%05d.jpg\"</span>  -filter_complex                                         <span style=\"color: #7f7f7f; text-decoration-color: #7f7f7f\">                         </span>\n",
              "<span style=\"color: #7fbfbf; text-decoration-color: #7fbfbf\">           </span><span style=\"color: #008000; text-decoration-color: #008000\">\"[0:v]split=4;scale=iw/1:ih/1;scale=iw/2:ih/2;scale=iw/4:ih/4;scale=iw/8:ih/8\"</span> -map <span style=\"color: #7f7f7f; text-decoration-color: #7f7f7f\">                         </span>\n",
              "<span style=\"color: #7fbfbf; text-decoration-color: #7fbfbf\">           </span><span style=\"color: #008000; text-decoration-color: #008000\">\"\"</span> -q:v <span style=\"color: #008080; text-decoration-color: #008080; font-weight: bold\">2</span>                                                                           <span style=\"color: #7f7f7f; text-decoration-color: #7f7f7f\">                         </span>\n",
              "<span style=\"color: #7fbfbf; text-decoration-color: #7fbfbf\">           </span><span style=\"color: #008000; text-decoration-color: #008000\">\"/content/gdrive/MyDrive/Uni/adl4vc/nerf_segmentation/data/nerfstudio_/replica_offi</span> <span style=\"color: #7f7f7f; text-decoration-color: #7f7f7f\">                         </span>\n",
              "<span style=\"color: #7fbfbf; text-decoration-color: #7fbfbf\">           </span><span style=\"color: #008000; text-decoration-color: #008000\">ce0/images/frame_%05d.jpg\"</span> -map <span style=\"color: #008000; text-decoration-color: #008000\">\"\"</span> -q:v <span style=\"color: #008080; text-decoration-color: #008080; font-weight: bold\">2</span>                                           <span style=\"color: #7f7f7f; text-decoration-color: #7f7f7f\">                         </span>\n",
              "<span style=\"color: #7fbfbf; text-decoration-color: #7fbfbf\">           </span><span style=\"color: #008000; text-decoration-color: #008000\">\"/content/gdrive/MyDrive/Uni/adl4vc/nerf_segmentation/data/nerfstudio_/replica_offi</span> <span style=\"color: #7f7f7f; text-decoration-color: #7f7f7f\">                         </span>\n",
              "<span style=\"color: #7fbfbf; text-decoration-color: #7fbfbf\">           </span><span style=\"color: #008000; text-decoration-color: #008000\">ce0/images_2/frame_%05d.jpg\"</span> -map <span style=\"color: #008000; text-decoration-color: #008000\">\"\"</span> -q:v <span style=\"color: #008080; text-decoration-color: #008080; font-weight: bold\">2</span>                                         <span style=\"color: #7f7f7f; text-decoration-color: #7f7f7f\">                         </span>\n",
              "<span style=\"color: #7fbfbf; text-decoration-color: #7fbfbf\">           </span><span style=\"color: #008000; text-decoration-color: #008000\">\"/content/gdrive/MyDrive/Uni/adl4vc/nerf_segmentation/data/nerfstudio_/replica_offi</span> <span style=\"color: #7f7f7f; text-decoration-color: #7f7f7f\">                         </span>\n",
              "<span style=\"color: #7fbfbf; text-decoration-color: #7fbfbf\">           </span><span style=\"color: #008000; text-decoration-color: #008000\">ce0/images_4/frame_%05d.jpg\"</span> -map <span style=\"color: #008000; text-decoration-color: #008000\">\"\"</span> -q:v <span style=\"color: #008080; text-decoration-color: #008080; font-weight: bold\">2</span>                                         <span style=\"color: #7f7f7f; text-decoration-color: #7f7f7f\">                         </span>\n",
              "<span style=\"color: #7fbfbf; text-decoration-color: #7fbfbf\">           </span><span style=\"color: #008000; text-decoration-color: #008000\">\"/content/gdrive/MyDrive/Uni/adl4vc/nerf_segmentation/data/nerfstudio_/replica_offi</span> <span style=\"color: #7f7f7f; text-decoration-color: #7f7f7f\">                         </span>\n",
              "<span style=\"color: #7fbfbf; text-decoration-color: #7fbfbf\">           </span><span style=\"color: #008000; text-decoration-color: #008000\">ce0/images_8/frame_%05d.jpg\"</span>                                                        <span style=\"color: #7f7f7f; text-decoration-color: #7f7f7f\">                         </span>\n",
              "</pre>\n"
            ]
          },
          "metadata": {}
        },
        {
          "output_type": "display_data",
          "data": {
            "text/plain": [
              "\u001b[2;36m[11:19:35]\u001b[0m\u001b[2;36m \u001b[0m\u001b[1;32m🎉 Done copying images with prefix \u001b[0m\u001b[1;32m'frame_'\u001b[0m\u001b[1;32m.\u001b[0m                                        \u001b]8;id=454115;file:///usr/local/lib/python3.10/dist-packages/nerfstudio/process_data/process_data_utils.py\u001b\\\u001b[2mprocess_data_utils.py\u001b[0m\u001b]8;;\u001b\\\u001b[2m:\u001b[0m\u001b]8;id=379432;file:///usr/local/lib/python3.10/dist-packages/nerfstudio/process_data/process_data_utils.py#340\u001b\\\u001b[2m340\u001b[0m\u001b]8;;\u001b\\\n"
            ],
            "text/html": [
              "<pre style=\"white-space:pre;overflow-x:auto;line-height:normal;font-family:Menlo,'DejaVu Sans Mono',consolas,'Courier New',monospace\"><span style=\"color: #7fbfbf; text-decoration-color: #7fbfbf\">[11:19:35] </span><span style=\"color: #008000; text-decoration-color: #008000; font-weight: bold\">🎉 Done copying images with prefix </span><span style=\"color: #008000; text-decoration-color: #008000; font-weight: bold\">'frame_'</span><span style=\"color: #008000; text-decoration-color: #008000; font-weight: bold\">.</span>                                        <a href=\"file:///usr/local/lib/python3.10/dist-packages/nerfstudio/process_data/process_data_utils.py\" target=\"_blank\"><span style=\"color: #7f7f7f; text-decoration-color: #7f7f7f\">process_data_utils.py</span></a><span style=\"color: #7f7f7f; text-decoration-color: #7f7f7f\">:</span><a href=\"file:///usr/local/lib/python3.10/dist-packages/nerfstudio/process_data/process_data_utils.py#340\" target=\"_blank\"><span style=\"color: #7f7f7f; text-decoration-color: #7f7f7f\">340</span></a>\n",
              "</pre>\n"
            ]
          },
          "metadata": {}
        },
        {
          "output_type": "stream",
          "name": "stdout",
          "text": [
            "\n",
            "************************************************************************\n",
            "1) Start local server:\n",
            "    cd /content/gdrive/MyDrive/Uni/adl4vc/nerf_segmentation/example_arrows; python -m http.server 6008\n",
            "2) Open in browser:\n",
            "    http://localhost:6008\n",
            "************************************************************************\n"
          ]
        }
      ]
    },
    {
      "cell_type": "code",
      "source": [
        "output_dir = '/content/gdrive/MyDrive/Uni/adl4vc/nerf_segmentation/data/nerfstudio_/replica_office0'\n",
        "visualize_lerf_trajector(Path(output_dir))"
      ],
      "metadata": {
        "colab": {
          "base_uri": "https://localhost:8080/"
        },
        "id": "Xy2nwUCF4D5s",
        "outputId": "ab77f5fe-121a-41ea-b974-b155d568ec0a"
      },
      "execution_count": 15,
      "outputs": [
        {
          "output_type": "stream",
          "name": "stdout",
          "text": [
            "\n",
            "************************************************************************\n",
            "1) Start local server:\n",
            "    cd /content/gdrive/MyDrive/Uni/adl4vc/nerf_segmentation/data/nerfstudio_/replica_office0/visualization; python -m http.server 6008\n",
            "2) Open in browser:\n",
            "    http://localhost:6008\n",
            "************************************************************************\n"
          ]
        }
      ]
    },
    {
      "cell_type": "markdown",
      "source": [
        "# Visualizing LERF Dataset\n",
        "\n",
        "The following command will generate a lerf visualization. This is saved in the stated directory. I havent figured out how to access a \"local google colab server\" from the colab notebook but to visualize it you can just download the \"visualisation\" subdir and execute the commands in you local terminal"
      ],
      "metadata": {
        "id": "Hy43EljhqMv4"
      }
    },
    {
      "cell_type": "markdown",
      "source": [
        "Download the LERF Dataset from: https://drive.google.com/drive/folders/1vh0mSl7v29yaGsxleadcj-LCZOE_WEWB"
      ],
      "metadata": {
        "id": "W0Z4ld2AuNVA"
      }
    },
    {
      "cell_type": "code",
      "source": [
        "lerf_dir = '/content/gdrive/MyDrive/Uni/adl4vc/nerf_segmentation/data/lerf/bouquet'\n",
        "visualize_lerf_trajector(Path(lerf_dir))"
      ],
      "metadata": {
        "colab": {
          "base_uri": "https://localhost:8080/"
        },
        "id": "GSbJI18vnWKL",
        "outputId": "7f20e3ec-a7b8-4d42-ae18-7973b51c1366"
      },
      "execution_count": 11,
      "outputs": [
        {
          "output_type": "stream",
          "name": "stdout",
          "text": [
            "\n",
            "************************************************************************\n",
            "1) Start local server:\n",
            "    cd /content/gdrive/MyDrive/Uni/adl4vc/nerf_segmentation/data/lerf/bouquet/visualization; python -m http.server 6008\n",
            "2) Open in browser:\n",
            "    http://localhost:6008\n",
            "************************************************************************\n"
          ]
        }
      ]
    },
    {
      "cell_type": "markdown",
      "source": [
        "This is the attempt to access the visualisation in colab, doesnt work unfortunately"
      ],
      "metadata": {
        "id": "KMRpeNjctu38"
      }
    },
    {
      "cell_type": "code",
      "source": [
        "!cd /content/gdrive/MyDrive/Uni/adl4vc/nerf_segmentation/data/lerf/bouquet/visualization && python -m http.server 6008"
      ],
      "metadata": {
        "colab": {
          "base_uri": "https://localhost:8080/"
        },
        "id": "YWmHZMD-oPnm",
        "outputId": "8f3a1ad8-367f-4687-839e-7aa0f34ed172"
      },
      "execution_count": 12,
      "outputs": [
        {
          "output_type": "stream",
          "name": "stdout",
          "text": [
            "Serving HTTP on 0.0.0.0 port 6008 (http://0.0.0.0:6008/) ...\n",
            "\n",
            "Keyboard interrupt received, exiting.\n",
            "^C\n"
          ]
        }
      ]
    },
    {
      "cell_type": "markdown",
      "source": [
        "http://localhost:6008/"
      ],
      "metadata": {
        "id": "TgYQPs7z2R8Z"
      }
    }
  ],
  "metadata": {
    "language_info": {
      "name": "python"
    },
    "colab": {
      "provenance": [],
      "gpuType": "T4",
      "include_colab_link": true
    },
    "kernelspec": {
      "name": "python3",
      "display_name": "Python 3"
    },
    "accelerator": "GPU"
  },
  "nbformat": 4,
  "nbformat_minor": 0
}